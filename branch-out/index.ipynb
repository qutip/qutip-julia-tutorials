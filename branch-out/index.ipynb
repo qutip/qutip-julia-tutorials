{
  "cells": [
    {
      "cell_type": "markdown",
      "metadata": {},
      "source": [
        "# Tutorials for Quantum Toolbox in `Julia`\n",
        "\n",
        "This website contains our collection of tutorials for introducing and\n",
        "demonstrating features of Quantum Toolbox in `Julia`. Going through\n",
        "these tutorials should be a good way to get familiarized with the\n",
        "software. If you are new to scientific computing with `Julia`, you might\n",
        "also find it useful to have a look at the [Julia tutorials\n",
        "website](https://julialang.org/learning/tutorials/).\n",
        "\n",
        "You can find the tutorials of our packages from the navbar on top, or\n",
        "the following links:\n",
        "\n",
        "| Package | Tutorials | GitHub Repository | Documentation |\n",
        "|:-----------:|:-------------:|:-----------------------:|:------------------:|\n",
        "| `QuantumToolbox.jl` | [link](QuantumToolbox.jl/toc.html) | [link](https://github.com/qutip/QuantumToolbox.jl) | [link](https://qutip.org/QuantumToolbox.jl/) |\n",
        "| `HierarchicalEOM.jl` | [link](HierarchicalEOM.jl/toc.html) | [link](https://github.com/qutip/HierarchicalEOM.jl) | [link](https://qutip.org/HierarchicalEOM.jl/) |"
      ],
      "id": "8bcd99d3-13e0-4c76-aebb-08e4dfdd289d"
    }
  ],
  "nbformat": 4,
  "nbformat_minor": 5,
  "metadata": {
    "kernelspec": {
      "display_name": "Python 3",
      "language": "python",
      "name": "python3"
    }
  }
}