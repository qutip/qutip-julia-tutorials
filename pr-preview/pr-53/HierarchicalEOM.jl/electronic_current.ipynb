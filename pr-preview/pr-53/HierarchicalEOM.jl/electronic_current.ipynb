{
  "cells": [
    {
      "cell_type": "markdown",
      "metadata": {},
      "source": [
        "# Electronic Current\n",
        "\n",
        "Yi-Te Huang  \n",
        "2025-08-18\n",
        "\n",
        "Inspirations taken from [qutip\n",
        "documentation](https://qutip.org/documentation.html).\n",
        "\n",
        "## Introduction\n",
        "\n",
        "In this example, we demonstrate how to compute an environmental\n",
        "observable: the electronic current. For further detailed discussions of\n",
        "calculating the electronic current using\n",
        "[`HierarchicalEOM.jl`](https://github.com/qutip/HierarchicalEOM.jl), we\n",
        "recommend to read the article (Huang et al. 2023).\n",
        "\n",
        "## Hamiltonian\n",
        "\n",
        "We consider a single-level charge system coupled to two \\[left (L) and\n",
        "right (R)\\] fermionic reservoirs ($\\textrm{f}$). The total Hamiltonian\n",
        "is given by $H_{\\textrm{T}}=H_\\textrm{s}+H_\\textrm{f}+H_\\textrm{sf}$,\n",
        "where each terms takes the form\n",
        "\n",
        "$$\n",
        "\\begin{aligned}\n",
        "H_{\\textrm{s}}  &= \\epsilon d^\\dagger d,\\\\\n",
        "H_{\\textrm{f}}  &=\\sum_{\\alpha=\\textrm{L},\\textrm{R}}\\sum_{k}\\epsilon_{\\alpha,k}c_{\\alpha,k}^{\\dagger}c_{\\alpha,k},\\\\\n",
        "H_{\\textrm{sf}} &=\\sum_{\\alpha=\\textrm{L},\\textrm{R}}\\sum_{k}g_{\\alpha,k}c_{\\alpha,k}^{\\dagger}d + g_{\\alpha,k}^* d^{\\dagger}c_{\\alpha,k}.\n",
        "\\end{aligned}\n",
        "$$\n",
        "\n",
        "Here, $d$ $(d^\\dagger)$ annihilates (creates) an electron in the system\n",
        "and $\\epsilon$ is the energy of the electron. Furthermore,\n",
        "$c_{\\alpha,k}$ $(c_{\\alpha,k}^{\\dagger})$ annihilates (creates) an\n",
        "electron in the state $k$ (with energy $\\epsilon_{\\alpha,k}$) of the\n",
        "$\\alpha$-th reservoir.\n",
        "\n",
        "Now, we need to build the system Hamiltonian and initial state with the\n",
        "package\n",
        "[`QuantumToolbox.jl`](https://github.com/qutip/QuantumToolbox.jl) to\n",
        "construct the operators."
      ],
      "id": "37a83910-88d7-4363-abae-183dc74c8ffb"
    },
    {
      "cell_type": "code",
      "execution_count": 1,
      "metadata": {},
      "outputs": [],
      "source": [
        "using HierarchicalEOM  # this automatically loads `QuantumToolbox`\n",
        "using CairoMakie       # for plotting results\n",
        "\n",
        "CairoMakie.activate!(type = \"svg\")"
      ],
      "id": "2"
    },
    {
      "cell_type": "code",
      "execution_count": 1,
      "metadata": {},
      "outputs": [],
      "source": [
        "d = destroy(2) # annihilation operator of the system electron\n",
        "\n",
        "# The system Hamiltonian\n",
        "ϵ = 1.0 # site energy\n",
        "Hsys = ϵ * d' * d\n",
        "\n",
        "# System initial state\n",
        "ψ0 = basis(2, 0);"
      ],
      "id": "4"
    },
    {
      "cell_type": "markdown",
      "metadata": {},
      "source": [
        "## Construct bath objects\n",
        "\n",
        "We assume the fermionic reservoir to have a [Lorentzian-shaped spectral\n",
        "density](https://qutip.org/HierarchicalEOM.jl/stable/bath_fermion/Fermion_Lorentz/#doc-Fermion-Lorentz),\n",
        "and we utilize the Padé decomposition. Furthermore, the spectral\n",
        "densities depend on the following physical parameters:\n",
        "\n",
        "-   the coupling strength $\\Gamma$ between system and reservoirs\n",
        "-   the band-width $W$\n",
        "-   the product of the Boltzmann constant $k$ and the absolute\n",
        "    temperature $T$ : $kT$\n",
        "-   the chemical potential $\\mu$\n",
        "-   the total number of exponentials for the reservoir $2(N + 1)$"
      ],
      "id": "1bb03294-4f70-423e-ac14-0793c73c0cc3"
    },
    {
      "cell_type": "code",
      "execution_count": 1,
      "metadata": {},
      "outputs": [
        {
          "output_type": "display_data",
          "metadata": {},
          "data": {
            "text/plain": [
              "2-element Vector{FermionBath}:\n",
              " HierarchicalEOM.FermionBath object with 6 terms.\n",
              "\n",
              " HierarchicalEOM.FermionBath object with 6 terms."
            ]
          }
        }
      ],
      "source": [
        "Γ = 0.01\n",
        "W = 1\n",
        "kT = 0.025851991\n",
        "μL =  1.0 # Left  bath\n",
        "μR = -1.0 # Right bath\n",
        "N = 2\n",
        "bath_L = Fermion_Lorentz_Pade(d, Γ, μL, W, kT, N)\n",
        "bath_R = Fermion_Lorentz_Pade(d, Γ, μR, W, kT, N)\n",
        "baths = [bath_L, bath_R]"
      ],
      "id": "6"
    },
    {
      "cell_type": "markdown",
      "metadata": {},
      "source": [
        "## Construct HEOMLS matrix"
      ],
      "id": "5dba68e9-bf57-493b-92bf-a69475a150bc"
    },
    {
      "cell_type": "code",
      "execution_count": 1,
      "metadata": {},
      "outputs": [
        {
          "output_type": "stream",
          "name": "stdout",
          "text": [
            "Preparing block matrices for HEOM Liouvillian superoperator (using 4 threads)...\n",
            "Progress: [                              ]   0.1% --- Elapsed Time: 0h 00m 01s (ETA: 0h 26m 25s)Progress: [==============================] 100.0% --- Elapsed Time: 0h 00m 01s (ETA: 0h 00m 00s)\n",
            "Constructing matrix...[DONE]"
          ]
        },
        {
          "output_type": "display_data",
          "metadata": {},
          "data": {
            "text/plain": [
              "Fermion type HEOMLS matrix acting on even-parity ADOs\n",
              "system dims = [2]\n",
              "number of ADOs N = 1586\n",
              "data =\n",
              "MatrixOperator(6344 × 6344)"
            ]
          }
        }
      ],
      "source": [
        "tier = 5\n",
        "M = M_Fermion(Hsys, tier, baths)"
      ],
      "id": "8"
    },
    {
      "cell_type": "markdown",
      "metadata": {},
      "source": [
        "## Solve time evolution of ADOs"
      ],
      "id": "9b54243c-8b23-41cc-b390-75267f8e008e"
    },
    {
      "cell_type": "code",
      "execution_count": 1,
      "metadata": {},
      "outputs": [
        {
          "output_type": "stream",
          "name": "stdout",
          "text": [
            "Solving time evolution for ADOs by Ordinary Differential Equations method...\n",
            "Progress: [                              ]   0.5% --- Elapsed Time: 0h 00m 02s (ETA: 0h 06m 40s)Progress: [==============================] 100.0% --- Elapsed Time: 0h 00m 02s (ETA: 0h 00m 00s)"
          ]
        },
        {
          "output_type": "display_data",
          "metadata": {},
          "data": {
            "text/plain": [
              "201-element Vector{ADOs}:\n",
              " 1586 Auxiliary Density Operators with even-parity and (system) dims = [2]\n",
              "\n",
              " 1586 Auxiliary Density Operators with even-parity and (system) dims = [2]\n",
              "\n",
              " 1586 Auxiliary Density Operators with even-parity and (system) dims = [2]\n",
              "\n",
              " 1586 Auxiliary Density Operators with even-parity and (system) dims = [2]\n",
              "\n",
              " 1586 Auxiliary Density Operators with even-parity and (system) dims = [2]\n",
              "\n",
              " 1586 Auxiliary Density Operators with even-parity and (system) dims = [2]\n",
              "\n",
              " 1586 Auxiliary Density Operators with even-parity and (system) dims = [2]\n",
              "\n",
              " 1586 Auxiliary Density Operators with even-parity and (system) dims = [2]\n",
              "\n",
              " 1586 Auxiliary Density Operators with even-parity and (system) dims = [2]\n",
              "\n",
              " 1586 Auxiliary Density Operators with even-parity and (system) dims = [2]\n",
              "\n",
              " ⋮\n",
              " 1586 Auxiliary Density Operators with even-parity and (system) dims = [2]\n",
              "\n",
              " 1586 Auxiliary Density Operators with even-parity and (system) dims = [2]\n",
              "\n",
              " 1586 Auxiliary Density Operators with even-parity and (system) dims = [2]\n",
              "\n",
              " 1586 Auxiliary Density Operators with even-parity and (system) dims = [2]\n",
              "\n",
              " 1586 Auxiliary Density Operators with even-parity and (system) dims = [2]\n",
              "\n",
              " 1586 Auxiliary Density Operators with even-parity and (system) dims = [2]\n",
              "\n",
              " 1586 Auxiliary Density Operators with even-parity and (system) dims = [2]\n",
              "\n",
              " 1586 Auxiliary Density Operators with even-parity and (system) dims = [2]\n",
              "\n",
              " 1586 Auxiliary Density Operators with even-parity and (system) dims = [2]"
            ]
          }
        }
      ],
      "source": [
        "tlist = 0:0.5:100\n",
        "ados_evolution = HEOMsolve(M, ψ0, tlist).ados"
      ],
      "id": "10"
    },
    {
      "cell_type": "markdown",
      "metadata": {},
      "source": [
        "## Solve stationary state of ADOs"
      ],
      "id": "381ebc37-344a-4347-bdf7-76521fa1e088"
    },
    {
      "cell_type": "code",
      "execution_count": 1,
      "metadata": {},
      "outputs": [
        {
          "output_type": "stream",
          "name": "stdout",
          "text": [
            "Solving steady state for ADOs by linear-solve method...\n",
            "Calculating left preconditioner with ilu...[DONE]\n",
            "Solving linear problem...[DONE]"
          ]
        },
        {
          "output_type": "display_data",
          "metadata": {},
          "data": {
            "text/plain": [
              "1586 Auxiliary Density Operators with even-parity and (system) dims = [2]"
            ]
          }
        }
      ],
      "source": [
        "ados_steady = steadystate(M)"
      ],
      "id": "12"
    },
    {
      "cell_type": "markdown",
      "metadata": {},
      "source": [
        "## Calculate current\n",
        "\n",
        "Within the influence functional approach, the expectation value of the\n",
        "electronic current from the $\\alpha$-fermionic bath into the system can\n",
        "be written in terms of the first-level-fermionic ($n=1$) auxiliary\n",
        "density operators, namely\n",
        "\n",
        "$$\n",
        "\\langle I_\\alpha(t) \\rangle =(-e) \\frac{d\\langle \\mathcal{N}_\\alpha\\rangle}{dt}=i e \\sum_{q\\in\\textbf{q}}(-1)^{\\delta_{\\nu,-}} ~\\textrm{Tr}\\left[d^{\\bar{\\nu}}\\rho^{(0,1,+)}_{\\vert \\textbf{q}}(t)\\right],\n",
        "$$\n",
        "\n",
        "where $e$ represents the value of the elementary charge, and\n",
        "$\\mathcal{N}_\\alpha=\\sum_k c^\\dagger_{\\alpha,k}c_{\\alpha,k}$ is the\n",
        "occupation number operator for the $\\alpha$-fermionic bath.\n",
        "\n",
        "Given an ADOs, we provide a function which calculates the current from\n",
        "the $\\alpha$-fermionic bath into the system with the help of [Hierarchy\n",
        "Dictionary](https://qutip.org/HierarchicalEOM.jl/stable/hierarchy_dictionary/#doc-Hierarchy-Dictionary)."
      ],
      "id": "09eb520e-4409-4c7e-982d-2fb92ccb1e2e"
    },
    {
      "cell_type": "code",
      "execution_count": 1,
      "metadata": {},
      "outputs": [
        {
          "output_type": "display_data",
          "metadata": {},
          "data": {
            "text/plain": [
              "Ic (generic function with 1 method)"
            ]
          }
        }
      ],
      "source": [
        "# `bathIdx`:  \n",
        "# - 1 means 1st bath (bath_L)\n",
        "# - 2 means 2nd bath (bath_R)\n",
        "function Ic(ados, M::M_Fermion, bathIdx::Int)\n",
        "    # the hierarchy dictionary\n",
        "    HDict = M.hierarchy\n",
        "\n",
        "    # we need all the indices of ADOs for the first level\n",
        "    idx_list = HDict.lvl2idx[1]\n",
        "    I = 0.0im\n",
        "    for idx in idx_list\n",
        "        ρ1 = ados[idx]  # 1st-level ADO\n",
        "\n",
        "        # find the corresponding bath index (α) and exponent term index (k)\n",
        "        nvec = HDict.idx2nvec[idx]\n",
        "        for (α, k, _) in getIndexEnsemble(nvec, HDict.bathPtr)\n",
        "            if α == bathIdx\n",
        "                exponent = M.bath[α][k]\n",
        "                if exponent.types == \"fA\"     # fermion-absorption\n",
        "                    I += tr(exponent.op' * ρ1)\n",
        "                elseif exponent.types == \"fE\" # fermion-emission\n",
        "                    I -= tr(exponent.op' * ρ1)\n",
        "                end\n",
        "                break\n",
        "            end\n",
        "        end\n",
        "    end\n",
        "\n",
        "    eV_to_Joule = 1.60218E-19  # unit conversion\n",
        "\n",
        "    # (e / ħ) * I  [change unit to μA] \n",
        "    return 1.519270639695384E15 * real(1im * I) * eV_to_Joule * 1E6\n",
        "end"
      ],
      "id": "14"
    },
    {
      "cell_type": "markdown",
      "metadata": {},
      "source": [
        "## steady current"
      ],
      "id": "42d83755-039c-47b1-ab06-2a1de658fb39"
    },
    {
      "cell_type": "code",
      "execution_count": 1,
      "metadata": {},
      "outputs": [
        {
          "output_type": "display_data",
          "metadata": {},
          "data": {
            "text/plain": [
              "201-element Vector{Float64}:\n",
              " -0.04632854328418656\n",
              " -0.04632854328418656\n",
              " -0.04632854328418656\n",
              " -0.04632854328418656\n",
              " -0.04632854328418656\n",
              " -0.04632854328418656\n",
              " -0.04632854328418656\n",
              " -0.04632854328418656\n",
              " -0.04632854328418656\n",
              " -0.04632854328418656\n",
              "  ⋮\n",
              " -0.04632854328418656\n",
              " -0.04632854328418656\n",
              " -0.04632854328418656\n",
              " -0.04632854328418656\n",
              " -0.04632854328418656\n",
              " -0.04632854328418656\n",
              " -0.04632854328418656\n",
              " -0.04632854328418656\n",
              " -0.04632854328418656"
            ]
          }
        }
      ],
      "source": [
        "Is_L = ones(length(tlist)) .* Ic(ados_steady, M, 1)\n",
        "Is_R = ones(length(tlist)) .* Ic(ados_steady, M, 2)"
      ],
      "id": "16"
    },
    {
      "cell_type": "markdown",
      "metadata": {},
      "source": [
        "## time evolution current"
      ],
      "id": "a3602da9-b745-4b42-9939-5183edcda0ee"
    },
    {
      "cell_type": "code",
      "execution_count": 1,
      "metadata": {},
      "outputs": [],
      "source": [
        "Ie_L = []\n",
        "Ie_R = []\n",
        "for ados in ados_evolution\n",
        "    push!(Ie_L, Ic(ados, M, 1))\n",
        "    push!(Ie_R, Ic(ados, M, 2))\n",
        "end"
      ],
      "id": "18"
    },
    {
      "cell_type": "markdown",
      "metadata": {},
      "source": [
        "plot the result"
      ],
      "id": "8bc6f385-0729-49f9-a7e8-e70ae0cec61d"
    },
    {
      "cell_type": "code",
      "execution_count": 1,
      "metadata": {},
      "outputs": [
        {
          "output_type": "display_data",
          "metadata": {},
          "data": {
            "image/svg+xml": "PD94bWwgdmVyc2lvbj0iMS4wIiBlbmNvZGluZz0iVVRGLTgiPz4KPHN2ZyB4bWxucz0iaHR0cDov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\nNSAiLz4KPC9zdmc+Cg==\n"
          }
        }
      ],
      "source": [
        "fig = Figure()\n",
        "ax = Axis(fig[1, 1], xlabel = \"time\", ylabel = \"Current\")\n",
        "lines!(ax, tlist, Ie_L, label = \"Bath L\", color = :blue, linestyle = :solid)\n",
        "lines!(ax, tlist, Ie_R, label = \"Bath R\", color = :red, linestyle = :solid)\n",
        "lines!(ax, tlist, Is_L, label = \"Bath L (Steady State)\", color = :blue, linestyle = :dash)\n",
        "lines!(ax, tlist, Is_R, label = \"Bath R (Steady State)\", color = :red, linestyle = :dash)\n",
        "\n",
        "axislegend(ax, position = :rt)\n",
        "\n",
        "fig"
      ],
      "id": "20"
    },
    {
      "cell_type": "markdown",
      "metadata": {},
      "source": [
        "## Version Information"
      ],
      "id": "ce8bad9b-326a-4d29-85d2-950fbf202096"
    },
    {
      "cell_type": "code",
      "execution_count": 1,
      "metadata": {},
      "outputs": [],
      "source": [
        "HierarchicalEOM.versioninfo()"
      ],
      "id": "22"
    },
    {
      "cell_type": "markdown",
      "metadata": {},
      "source": [
        "Huang, Yi-Te, Po-Chen Kuo, Neill Lambert, Mauro Cirio, Simon Cross,\n",
        "Shen-Liang Yang, Franco Nori, and Yueh-Nan Chen. 2023. “An Efficient\n",
        "Julia Framework for Hierarchical Equations of Motion in Open Quantum\n",
        "Systems.” *Communications Physics* 6 (1): 313.\n",
        "<https://doi.org/10.1038/s42005-023-01427-2>."
      ],
      "id": "a4aa9642-4f97-4e71-b6b0-f394d60cc893"
    }
  ],
  "nbformat": 4,
  "nbformat_minor": 5,
  "metadata": {
    "kernel_info": {
      "name": "julia"
    },
    "kernelspec": {
      "name": "julia",
      "display_name": "Julia",
      "language": "julia"
    },
    "language_info": {
      "name": "julia",
      "codemirror_mode": "julia",
      "version": "1.11.6"
    }
  }
}