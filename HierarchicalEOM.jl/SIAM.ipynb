{
  "cells": [
    {
      "cell_type": "markdown",
      "metadata": {},
      "source": [
        "# Single-impurity Anderson model\n",
        "\n",
        "Yi-Te Huang  \n",
        "2025-06-09\n",
        "\n",
        "## Introduction\n",
        "\n",
        "The investigation of the Kondo effect in single-impurity Anderson model\n",
        "is crucial as it serves both as a valuable testing ground for the\n",
        "theories of the Kondo effect and has the potential to lead to a better\n",
        "understanding of this intrinsic many-body phenomena. For further\n",
        "detailed discussions of this model (under different parameters) using\n",
        "[`HierarchicalEOM.jl`](https://github.com/qutip/HierarchicalEOM.jl), we\n",
        "recommend to read the article (Huang et al. 2023).\n",
        "\n",
        "## Hamiltonian\n",
        "\n",
        "We consider a single-level electronic system \\[which can be populated by\n",
        "a spin-up ($\\uparrow$) or spin-down ($\\downarrow$) electron\\] coupled to\n",
        "a fermionic reservoir ($\\textrm{f}$). The total Hamiltonian is given by\n",
        "$H_{\\textrm{T}}=H_\\textrm{s}+H_\\textrm{f}+H_\\textrm{sf}$, where each\n",
        "terms takes the form\n",
        "\n",
        "$$\n",
        "\\begin{aligned}\n",
        "H_{\\textrm{s}}  &= \\epsilon \\left(d^\\dagger_\\uparrow d_\\uparrow + d^\\dagger_\\downarrow d_\\downarrow \\right) + U\\left(d^\\dagger_\\uparrow d_\\uparrow d^\\dagger_\\downarrow d_\\downarrow\\right),\\\\\n",
        "H_{\\textrm{f}}  &=\\sum_{\\sigma=\\uparrow,\\downarrow}\\sum_{k}\\epsilon_{\\sigma,k}c_{\\sigma,k}^{\\dagger}c_{\\sigma,k},\\\\\n",
        "H_{\\textrm{sf}} &=\\sum_{\\sigma=\\uparrow,\\downarrow}\\sum_{k}g_{k}c_{\\sigma,k}^{\\dagger}d_{\\sigma} + g_{k}^*d_{\\sigma}^{\\dagger}c_{\\sigma,k}.\n",
        "\\end{aligned}\n",
        "$$\n",
        "\n",
        "Here, $d_\\uparrow$ $(d_\\downarrow)$ annihilates a spin-up (spin-down)\n",
        "electron in the system, $\\epsilon$ is the energy of the electron, and\n",
        "$U$ is the Coulomb repulsion energy for double occupation. Furthermore,\n",
        "$c_{\\sigma,k}$ $(c_{\\sigma,k}^{\\dagger})$ annihilates (creates) an\n",
        "electron in the state $k$ (with energy $\\epsilon_{\\sigma,k}$) of the\n",
        "reservoir.\n",
        "\n",
        "Now, we need to build the system Hamiltonian and initial state with the\n",
        "package\n",
        "[`QuantumToolbox.jl`](https://github.com/qutip/QuantumToolbox.jl) to\n",
        "construct the operators."
      ],
      "id": "db8cc444-aeb7-47e0-aa9d-c28b2e593377"
    },
    {
      "cell_type": "code",
      "execution_count": 1,
      "metadata": {},
      "outputs": [],
      "source": [
        "using HierarchicalEOM  # this automatically loads `QuantumToolbox`\n",
        "using CairoMakie       # for plotting results\n",
        "\n",
        "CairoMakie.activate!(type = \"svg\")"
      ],
      "id": "2"
    },
    {
      "cell_type": "code",
      "execution_count": 1,
      "metadata": {},
      "outputs": [
        {
          "output_type": "display_data",
          "metadata": {},
          "data": {
            "text/plain": [
              "\n",
              "Quantum Object:   type=Operator()   dims=[2, 2]   size=(4, 4)   ishermitian=true\n",
              "4×4 SparseArrays.SparseMatrixCSC{ComplexF64, Int64} with 2 stored entries:\n",
              "     ⋅           ⋅           ⋅          ⋅    \n",
              "     ⋅      -5.0+0.0im       ⋅          ⋅    \n",
              "     ⋅           ⋅      -5.0+0.0im      ⋅    \n",
              "     ⋅           ⋅           ⋅          ⋅    "
            ]
          }
        }
      ],
      "source": [
        "ϵ = -5\n",
        "U = 10\n",
        "σm = sigmam() # σ-\n",
        "σz = sigmaz() # σz\n",
        "II = qeye(2)  # identity matrix\n",
        "\n",
        "# construct the annihilation operator for both spin-up and spin-down\n",
        "# (utilize Jordan–Wigner transformation)\n",
        "d_up = tensor(σm, II)\n",
        "d_dn = tensor(-1 * σz, σm)\n",
        "Hsys = ϵ * (d_up' * d_up + d_dn' * d_dn) + U * (d_up' * d_up * d_dn' * d_dn)"
      ],
      "id": "4"
    },
    {
      "cell_type": "markdown",
      "metadata": {},
      "source": [
        "## Construct bath objects\n",
        "\n",
        "We assume the fermionic reservoir to have a [Lorentzian-shaped spectral\n",
        "density](https://qutip.org/HierarchicalEOM.jl/stable/bath_fermion/Fermion_Lorentz/#doc-Fermion-Lorentz),\n",
        "and we utilize the Padé decomposition. Furthermore, the spectral\n",
        "densities depend on the following physical parameters:\n",
        "\n",
        "-   the coupling strength $\\Gamma$ between system and reservoirs\n",
        "-   the band-width $W$\n",
        "-   the product of the Boltzmann constant $k$ and the absolute\n",
        "    temperature $T$ : $kT$\n",
        "-   the chemical potential $\\mu$\n",
        "-   the total number of exponentials for the reservoir $2(N + 1)$"
      ],
      "id": "dfa61356-9111-4d21-aa3a-03536aa7301d"
    },
    {
      "cell_type": "code",
      "execution_count": 1,
      "metadata": {},
      "outputs": [
        {
          "output_type": "display_data",
          "metadata": {},
          "data": {
            "text/plain": [
              "2-element Vector{FermionBath}:\n",
              " HierarchicalEOM.FermionBath object with 12 terms.\n",
              "\n",
              " HierarchicalEOM.FermionBath object with 12 terms."
            ]
          }
        }
      ],
      "source": [
        "Γ = 2\n",
        "μ = 0\n",
        "W = 10\n",
        "kT = 0.5\n",
        "N = 5\n",
        "bath_up = Fermion_Lorentz_Pade(d_up, Γ, μ, W, kT, N)\n",
        "bath_dn = Fermion_Lorentz_Pade(d_dn, Γ, μ, W, kT, N)\n",
        "bath_list = [bath_up, bath_dn]"
      ],
      "id": "6"
    },
    {
      "cell_type": "markdown",
      "metadata": {},
      "source": [
        "## Construct HEOMLS matrix"
      ],
      "id": "97deb424-6825-4318-bd72-d0ac32d74f3a"
    },
    {
      "cell_type": "code",
      "execution_count": 1,
      "metadata": {},
      "outputs": [
        {
          "output_type": "stream",
          "name": "stdout",
          "text": [
            "Preparing block matrices for HEOM Liouvillian superoperator (using 4 threads)...\n",
            "Progress: [                              ]   0.0% --- Elapsed Time: 0h 00m 01s (ETA: 0h 38m 44s)Progress: [==============================] 100.0% --- Elapsed Time: 0h 00m 01s (ETA: 0h 00m 00s)\n",
            "Constructing matrix...[DONE]\n",
            "Preparing block matrices for HEOM Liouvillian superoperator (using 4 threads)...\n",
            "Progress: [==============================] 100.0% --- Elapsed Time: 0h 00m 00s (ETA: 0h 00m 00s)\n",
            "Constructing matrix...[DONE]"
          ]
        },
        {
          "output_type": "display_data",
          "metadata": {},
          "data": {
            "text/plain": [
              "Fermion type HEOMLS matrix acting on odd-parity ADOs\n",
              "system dims = [2, 2]\n",
              "number of ADOs N = 2325\n",
              "data =\n",
              "MatrixOperator(37200 × 37200)"
            ]
          }
        }
      ],
      "source": [
        "tier = 3\n",
        "M_even = M_Fermion(Hsys, tier, bath_list)\n",
        "M_odd = M_Fermion(Hsys, tier, bath_list, ODD)"
      ],
      "id": "8"
    },
    {
      "cell_type": "markdown",
      "metadata": {},
      "source": [
        "## Solve stationary state of ADOs"
      ],
      "id": "bcb2ff3b-490f-438e-a3c5-794a5ae3f243"
    },
    {
      "cell_type": "code",
      "execution_count": 1,
      "metadata": {},
      "outputs": [
        {
          "output_type": "stream",
          "name": "stdout",
          "text": [
            "Solving steady state for ADOs by linear-solve method...\n",
            "Calculating left preconditioner with ilu...[DONE]\n",
            "Solving linear problem...[DONE]"
          ]
        },
        {
          "output_type": "display_data",
          "metadata": {},
          "data": {
            "text/plain": [
              "2325 Auxiliary Density Operators with even-parity and (system) dims = [2, 2]"
            ]
          }
        }
      ],
      "source": [
        "ados_s = steadystate(M_even)"
      ],
      "id": "10"
    },
    {
      "cell_type": "markdown",
      "metadata": {},
      "source": [
        "## Calculate density of states (DOS)"
      ],
      "id": "918db9c1-7612-46f3-96ba-9f29d83b7762"
    },
    {
      "cell_type": "code",
      "execution_count": 1,
      "metadata": {},
      "outputs": [
        {
          "output_type": "stream",
          "name": "stdout",
          "text": [
            "Calculating density of states in frequency domain...\n",
            "Progress: [==========                    ]  33.3% --- Elapsed Time: 0h 00m 01s (ETA: 0h 00m 02s)Progress: [=====================         ]  71.4% --- Elapsed Time: 0h 00m 02s (ETA: 0h 00m 00s)Progress: [==============================] 100.0% --- Elapsed Time: 0h 00m 02s (ETA: 0h 00m 00s)\n",
            "[DONE]"
          ]
        },
        {
          "output_type": "display_data",
          "metadata": {},
          "data": {
            "text/plain": [
              "21-element Vector{Float64}:\n",
              " 0.02434162065287433\n",
              " 0.04465552042386106\n",
              " 0.09077144051563167\n",
              " 0.19298880556747883\n",
              " 0.29351536894468416\n",
              " 0.2336710798590972\n",
              " 0.15864674406912216\n",
              " 0.12379877950505998\n",
              " 0.11772111509217288\n",
              " 0.1452430370473492\n",
              " ⋮\n",
              " 0.11772111509218791\n",
              " 0.12379877950509523\n",
              " 0.1586467440691224\n",
              " 0.23367107985903765\n",
              " 0.2935153689446749\n",
              " 0.1929888055674517\n",
              " 0.09077144051560802\n",
              " 0.0446555204238425\n",
              " 0.024341620652870988"
            ]
          }
        }
      ],
      "source": [
        "ωlist = -10:1:10\n",
        "dos = DensityOfStates(M_odd, ados_s, d_up, ωlist)"
      ],
      "id": "12"
    },
    {
      "cell_type": "markdown",
      "metadata": {},
      "source": [
        "plot the results"
      ],
      "id": "5eea43c2-abb3-408f-a9e4-44a493b36106"
    },
    {
      "cell_type": "code",
      "execution_count": 1,
      "metadata": {},
      "outputs": [
        {
          "output_type": "display_data",
          "metadata": {},
          "data": {
            "image/svg+xml": "PD94bWwgdmVyc2lvbj0iMS4wIiBlbmNvZGluZz0iVVRGLTgiPz4KPHN2ZyB4bWxucz0iaHR0cDov\nL3d3dy53My5vcmcvMjAwMC9zdmciIHhtbG5zOnhsaW5rPSJodHRwOi8vd3d3LnczLm9yZy8xOTk5\nL3hsaW5rIiB3aWR0aD0iODE2IiBoZWlnaHQ9IjM4NCIgdmlld0JveD0iMCAwIDgxNiAzODQiPgo8\nZGVmcz4KPGc+CjxnIGlkPSJnbHlwaC0wLTAtZmY1YzU2MTEiPgo8cGF0aCBkPSJNIDguNDUzMTI1\nIC01LjIwMzEyNSBDIDguNDUzMTI1IC01LjU3ODEyNSA4LjM5MDYyNSAtNS44NzUgOC4xNzE4NzUg\nLTYuMDYyNSBDIDguMDkzNzUgLTYuMTQwNjI1IDcuOTg0Mzc1IC02LjE4NzUgNy44NTkzNzUgLTYu\nMTg3NSBDIDcuNjg3NSAtNi4xODc1IDcuNSAtNi4xMDkzNzUgNy4zNTkzNzUgLTUuOTY4NzUgQyA3\nLjIzNDM3NSAtNS44MjgxMjUgNy4xNzE4NzUgLTUuNjcxODc1IDcuMTcxODc1IC01LjUxNTYyNSBD\nIDcuMTcxODc1IC01LjM3NSA3LjIxODc1IC01LjI2NTYyNSA3LjMyODEyNSAtNS4xNzE4NzUgQyA3\nLjY3MTg3NSAtNC44NTkzNzUgNy44NTkzNzUgLTQuNDIxODc1IDcuODU5Mzc1IC0zLjkzNzUgQyA3\nLjg1OTM3NSAtMy43NjU2MjUgNy44NDM3NSAtMy41NzgxMjUgNy43OTY4NzUgLTMuNDIxODc1IEMg\nNy40Njg3NSAtMi4xNDA2MjUgNi42NTYyNSAtMC44NTkzNzUgNS41NjI1IC0wLjg1OTM3NSBDIDQu\nNzgxMjUgLTAuODU5Mzc1IDQuMzEyNSAtMS4zOTA2MjUgNC4xODc1IC0yLjEwOTM3NSBDIDQuMzc1\nIC0yLjUgNC41MTU2MjUgLTIuOTIxODc1IDQuNjA5Mzc1IC0zLjM0Mzc1IEMgNC42NDA2MjUgLTMu\nNDY4NzUgNC42NTYyNSAtMy41OTM3NSA0LjY1NjI1IC0zLjcwMzEyNSBDIDQuNjU2MjUgLTMuOTIx\nODc1IDQuNTkzNzUgLTQuMDc4MTI1IDQuMzkwNjI1IC00LjA3ODEyNSBDIDQuMTI1IC00LjA3ODEy\nNSAzLjk4NDM3NSAtMy43MTg3NSAzLjkyMTg3NSAtMy40MjE4NzUgQyAzLjgxMjUgLTIuOTg0Mzc1\nIDMuNzUgLTIuNTYyNSAzLjczNDM3NSAtMi4xNTYyNSBDIDMuMjgxMjUgLTEuNDA2MjUgMi42MDkz\nNzUgLTAuODU5Mzc1IDEuODI4MTI1IC0wLjg1OTM3NSBDIDAuOTg0Mzc1IC0wLjg1OTM3NSAwLjYw\nOTM3NSAtMS41NDY4NzUgMC42MDkzNzUgLTIuNDM3NSBDIDAuNjA5Mzc1IC0yLjcxODc1IDAuNjU2\nMjUgLTMuMDMxMjUgMC43MzQzNzUgLTMuMzQzNzUgQyAwLjkzNzUgLTQuMTg3NSAxLjQzNzUgLTQu\nOTY4NzUgMS45Njg3NSAtNS43MTg3NSBDIDIuMDE1NjI1IC01Ljc2NTYyNSAyLjA0Njg3NSAtNS44\nNDM3NSAyLjA0Njg3NSAtNS44OTA2MjUgQyAyLjA0Njg3NSAtNS45ODQzNzUgMS45ODQzNzUgLTYu\nMDQ2ODc1IDEuOTIxODc1IC02LjA5Mzc1IEMgMS44NzUgLTYuMTI1IDEuODI4MTI1IC02LjEyNSAx\nLjc5Njg3NSAtNi4xMjUgQyAxLjcwMzEyNSAtNi4xMjUgMS42MDkzNzUgLTYuMDc4MTI1IDEuNTQ2\nODc1IC01Ljk4NDM3NSBDIDAuOTY4NzUgLTUuMTg3NSAwLjYwOTM3NSAtNC4yOTY4NzUgMC4zOTA2\nMjUgLTMuNDIxODc1IEMgMC4yNSAtMi44OTA2MjUgMC4xODc1IC0yLjM0Mzc1IDAuMTg3NSAtMS44\nNDM3NSBDIDAuMTg3NSAtMC43MTg3NSAwLjU5Mzc1IDAuMTU2MjUgMS42NTYyNSAwLjE1NjI1IEMg\nMi41MzEyNSAwLjE1NjI1IDMuMjY1NjI1IC0wLjQ2ODc1IDMuNzk2ODc1IC0xLjMyODEyNSBDIDMu\nOTUzMTI1IC0wLjQ2ODc1IDQuNDM3NSAwLjE1NjI1IDUuMzc1IDAuMTU2MjUgQyA2LjgyODEyNSAw\nLjE1NjI1IDcuNzE4NzUgLTEuNjU2MjUgOC4xNDA2MjUgLTMuMzQzNzUgQyA4LjI4MTI1IC0zLjk1\nMzEyNSA4LjQ1MzEyNSAtNC42NDA2MjUgOC40NTMxMjUgLTUuMjAzMTI1IFogTSA4LjQ1MzEyNSAt\nNS4yMDMxMjUgIi8+CjwvZz4KPGcgaWQ9ImdseXBoLTEtMC1mZjVjNTYxMSI+CjxwYXRoIGQ9Ik0g\nNy4yMTg3NSAtMy4wMzEyNSBDIDcuMjE4NzUgLTMuMDMxMjUgMC45NTMxMjUgLTMuMDMxMjUgMC45\nNTMxMjUgLTMuMDMxMjUgQyAwLjk1MzEyNSAtMy4wMzEyNSAwLjk1MzEyNSAtMy45Njg3NSAwLjk1\nMzEyNSAtMy45Njg3NSBDIDAuOTUzMTI1IC0zLjk2ODc1IDcuMjE4NzUgLTMuOTY4NzUgNy4yMTg3\nNSAtMy45Njg3NSBDIDcuMjE4NzUgLTMuOTY4NzUgNy4yMTg3NSAtMy4wMzEyNSA3LjIxODc1IC0z\nLjAzMTI1IFogTSA3LjIxODc1IC0zLjAzMTI1ICIvPgo8L2c+CjxnIGlkPSJnbHlwaC0yLTAtZmY1\nYzU2MTEiPgo8cGF0aCBkPSJNIDQuODU5Mzc1IDAgQyA0Ljg1OTM3NSAwIDMuNjI1IDAgMy42MjUg\nMCBDIDMuNjI1IDAgMy42MjUgLTcuMDYyNSAzLjYyNSAtNy4wNjI1IEMgMy42MjUgLTcuMDYyNSAx\nLjQyMTg3NSAtNy4wNjI1IDEuNDIxODc1IC03LjA2MjUgQyAxLjQyMTg3NSAtNy4wNjI1IDEuNDIx\nODc1IC03Ljk1MzEyNSAxLjQyMTg3NSAtNy45NTMxMjUgQyAzLjMyODEyNSAtOC4xODc1IDMuNjA5\nMzc1IC04LjQwNjI1IDQuMDQ2ODc1IC05LjkyMTg3NSBDIDQuMDQ2ODc1IC05LjkyMTg3NSA0Ljg1\nOTM3NSAtOS45MjE4NzUgNC44NTkzNzUgLTkuOTIxODc1IEMgNC44NTkzNzUgLTkuOTIxODc1IDQu\nODU5Mzc1IDAgNC44NTkzNzUgMCBaIE0gNC44NTkzNzUgMCAiLz4KPC9nPgo8ZyBpZD0iZ2x5cGgt\nMi0xLWZmNWM1NjExIj4KPHBhdGggZD0iTSA3LjE4NzUgLTMuMjk2ODc1IEMgNy4xODc1IC0xLjE4\nNzUgNS43ODEyNSAwLjIwMzEyNSAzLjc4MTI1IDAuMjAzMTI1IEMgMi4wMTU2MjUgMC4yMDMxMjUg\nMC44OTA2MjUgLTAuNTc4MTI1IDAuNDg0Mzc1IC0yLjU0Njg3NSBDIDAuNDg0Mzc1IC0yLjU0Njg3\nNSAxLjcxODc1IC0yLjU0Njg3NSAxLjcxODc1IC0yLjU0Njg3NSBDIDIuMDE1NjI1IC0xLjQyMTg3\nNSAyLjY3MTg3NSAtMC44NzUgMy43NSAtMC44NzUgQyA1LjA5Mzc1IC0wLjg3NSA1LjkyMTg3NSAt\nMS42ODc1IDUuOTIxODc1IC0zLjEyNSBDIDUuOTIxODc1IC00LjU5Mzc1IDUuMDc4MTI1IC01LjQ1\nMzEyNSAzLjc1IC01LjQ1MzEyNSBDIDIuOTg0Mzc1IC01LjQ1MzEyNSAyLjUgLTUuMjAzMTI1IDEu\nOTM3NSAtNC41MTU2MjUgQyAxLjkzNzUgLTQuNTE1NjI1IDAuNzk2ODc1IC00LjUxNTYyNSAwLjc5\nNjg3NSAtNC41MTU2MjUgQyAwLjc5Njg3NSAtNC41MTU2MjUgMS41NDY4NzUgLTkuNzE4NzUgMS41\nNDY4NzUgLTkuNzE4NzUgQyAxLjU0Njg3NSAtOS43MTg3NSA2LjY1NjI1IC05LjcxODc1IDYuNjU2\nMjUgLTkuNzE4NzUgQyA2LjY1NjI1IC05LjcxODc1IDYuNjU2MjUgLTguNSA2LjY1NjI1IC04LjUg\nQyA2LjY1NjI1IC04LjUgMi41MzEyNSAtOC41IDIuNTMxMjUgLTguNSBDIDIuNTMxMjUgLTguNSAy\nLjE0MDYyNSAtNS45Mzc1IDIuMTQwNjI1IC01LjkzNzUgQyAyLjcxODc1IC02LjM1OTM3NSAzLjI4\nMTI1IC02LjUzMTI1IDMuOTY4NzUgLTYuNTMxMjUgQyA1Ljg3NSAtNi41MzEyNSA3LjE4NzUgLTUu\nMjUgNy4xODc1IC0zLjI5Njg3NSBaIE0gNy4xODc1IC0zLjI5Njg3NSAiLz4KPC9nPgo8ZyBpZD0i\nZ2x5cGgtMi0yLWZmNWM1NjExIj4KPHBhdGggZD0iTSA3LjA5Mzc1IC00Ljc4MTI1IEMgNy4wOTM3\nNSAtMS41MTU2MjUgNS45NTMxMjUgMC4yMDMxMjUgMy44NDM3NSAwLjIwMzEyNSBDIDEuNzE4NzUg\nMC4yMDMxMjUgMC42MDkzNzUgLTEuNTE1NjI1IDAuNjA5Mzc1IC00Ljg1OTM3NSBDIDAuNjA5Mzc1\nIC04LjE4NzUgMS43MDMxMjUgLTkuOTIxODc1IDMuODQzNzUgLTkuOTIxODc1IEMgNiAtOS45MjE4\nNzUgNy4wOTM3NSAtOC4yMTg3NSA3LjA5Mzc1IC00Ljc4MTI1IFogTSA1Ljg0Mzc1IC00Ljg5MDYy\nNSBDIDUuODQzNzUgLTcuNTQ2ODc1IDUuMTg3NSAtOC44MjgxMjUgMy44NDM3NSAtOC44MjgxMjUg\nQyAyLjUxNTYyNSAtOC44MjgxMjUgMS44NTkzNzUgLTcuNTYyNSAxLjg1OTM3NSAtNC44NDM3NSBD\nIDEuODU5Mzc1IC0yLjEyNSAyLjUxNTYyNSAtMC44MTI1IDMuODI4MTI1IC0wLjgxMjUgQyA1LjE4\nNzUgLTAuODEyNSA1Ljg0Mzc1IC0yLjA3ODEyNSA1Ljg0Mzc1IC00Ljg5MDYyNSBaIE0gNS44NDM3\nNSAtNC44OTA2MjUgIi8+CjwvZz4KPGcgaWQ9ImdseXBoLTItMy1mZjVjNTYxMSI+CjxwYXRoIGQ9\nIk0gMi42NzE4NzUgMCBDIDIuNjcxODc1IDAgMS4yMTg3NSAwIDEuMjE4NzUgMCBDIDEuMjE4NzUg\nMCAxLjIxODc1IC0xLjQ1MzEyNSAxLjIxODc1IC0xLjQ1MzEyNSBDIDEuMjE4NzUgLTEuNDUzMTI1\nIDIuNjcxODc1IC0xLjQ1MzEyNSAyLjY3MTg3NSAtMS40NTMxMjUgQyAyLjY3MTg3NSAtMS40NTMx\nMjUgMi42NzE4NzUgMCAyLjY3MTg3NSAwIFogTSAyLjY3MTg3NSAwICIvPgo8L2c+CjxnIGlkPSJn\nbHlwaC0zLTAtZmY1YzU2MTEiPgo8cGF0aCBkPSJNIDcuMDkzNzUgLTQuNzgxMjUgQyA3LjA5Mzc1\nIC0xLjUxNTYyNSA1Ljk1MzEyNSAwLjIwMzEyNSAzLjg0Mzc1IDAuMjAzMTI1IEMgMS43MTg3NSAw\nLjIwMzEyNSAwLjYwOTM3NSAtMS41MTU2MjUgMC42MDkzNzUgLTQuODU5Mzc1IEMgMC42MDkzNzUg\nLTguMTg3NSAxLjcwMzEyNSAtOS45MjE4NzUgMy44NDM3NSAtOS45MjE4NzUgQyA2IC05LjkyMTg3\nNSA3LjA5Mzc1IC04LjIxODc1IDcuMDkzNzUgLTQuNzgxMjUgWiBNIDUuODQzNzUgLTQuODkwNjI1\nIEMgNS44NDM3NSAtNy41NDY4NzUgNS4xODc1IC04LjgyODEyNSAzLjg0Mzc1IC04LjgyODEyNSBD\nIDIuNTE1NjI1IC04LjgyODEyNSAxLjg1OTM3NSAtNy41NjI1IDEuODU5Mzc1IC00Ljg0Mzc1IEMg\nMS44NTkzNzUgLTIuMTI1IDIuNTE1NjI1IC0wLjgxMjUgMy44MjgxMjUgLTAuODEyNSBDIDUuMTg3\nNSAtMC44MTI1IDUuODQzNzUgLTIuMDc4MTI1IDUuODQzNzUgLTQuODkwNjI1IFogTSA1Ljg0Mzc1\nIC00Ljg5MDYyNSAiLz4KPC9nPgo8ZyBpZD0iZ2x5cGgtNC0wLWZmNWM1NjExIj4KPHBhdGggZD0i\nTSA3LjIxODc1IC0zLjAzMTI1IEMgNy4yMTg3NSAtMy4wMzEyNSAwLjk1MzEyNSAtMy4wMzEyNSAw\nLjk1MzEyNSAtMy4wMzEyNSBDIDAuOTUzMTI1IC0zLjAzMTI1IDAuOTUzMTI1IC0zLjk2ODc1IDAu\nOTUzMTI1IC0zLjk2ODc1IEMgMC45NTMxMjUgLTMuOTY4NzUgNy4yMTg3NSAtMy45Njg3NSA3LjIx\nODc1IC0zLjk2ODc1IEMgNy4yMTg3NSAtMy45Njg3NSA3LjIxODc1IC0zLjAzMTI1IDcuMjE4NzUg\nLTMuMDMxMjUgWiBNIDcuMjE4NzUgLTMuMDMxMjUgIi8+CjwvZz4KPGcgaWQ9ImdseXBoLTUtMC1m\nZjVjNTYxMSI+CjxwYXRoIGQ9Ik0gNy4wOTM3NSAtNC43ODEyNSBDIDcuMDkzNzUgLTEuNTE1NjI1\nIDUuOTUzMTI1IDAuMjAzMTI1IDMuODQzNzUgMC4yMDMxMjUgQyAxLjcxODc1IDAuMjAzMTI1IDAu\nNjA5Mzc1IC0xLjUxNTYyNSAwLjYwOTM3NSAtNC44NTkzNzUgQyAwLjYwOTM3NSAtOC4xODc1IDEu\nNzAzMTI1IC05LjkyMTg3NSAzLjg0Mzc1IC05LjkyMTg3NSBDIDYgLTkuOTIxODc1IDcuMDkzNzUg\nLTguMjE4NzUgNy4wOTM3NSAtNC43ODEyNSBaIE0gNS44NDM3NSAtNC44OTA2MjUgQyA1Ljg0Mzc1\nIC03LjU0Njg3NSA1LjE4NzUgLTguODI4MTI1IDMuODQzNzUgLTguODI4MTI1IEMgMi41MTU2MjUg\nLTguODI4MTI1IDEuODU5Mzc1IC03LjU2MjUgMS44NTkzNzUgLTQuODQzNzUgQyAxLjg1OTM3NSAt\nMi4xMjUgMi41MTU2MjUgLTAuODEyNSAzLjgyODEyNSAtMC44MTI1IEMgNS4xODc1IC0wLjgxMjUg\nNS44NDM3NSAtMi4wNzgxMjUgNS44NDM3NSAtNC44OTA2MjUgWiBNIDUuODQzNzUgLTQuODkwNjI1\nICIvPgo8L2c+CjxnIGlkPSJnbHlwaC02LTAtZmY1YzU2MTEiPgo8cGF0aCBkPSJNIDcuMDkzNzUg\nLTQuNzgxMjUgQyA3LjA5Mzc1IC0xLjUxNTYyNSA1Ljk1MzEyNSAwLjIwMzEyNSAzLjg0Mzc1IDAu\nMjAzMTI1IEMgMS43MTg3NSAwLjIwMzEyNSAwLjYwOTM3NSAtMS41MTU2MjUgMC42MDkzNzUgLTQu\nODU5Mzc1IEMgMC42MDkzNzUgLTguMTg3NSAxLjcwMzEyNSAtOS45MjE4NzUgMy44NDM3NSAtOS45\nMjE4NzUgQyA2IC05LjkyMTg3NSA3LjA5Mzc1IC04LjIxODc1IDcuMDkzNzUgLTQuNzgxMjUgWiBN\nIDUuODQzNzUgLTQuODkwNjI1IEMgNS44NDM3NSAtNy41NDY4NzUgNS4xODc1IC04LjgyODEyNSAz\nLjg0Mzc1IC04LjgyODEyNSBDIDIuNTE1NjI1IC04LjgyODEyNSAxLjg1OTM3NSAtNy41NjI1IDEu\nODU5Mzc1IC00Ljg0Mzc1IEMgMS44NTkzNzUgLTIuMTI1IDIuNTE1NjI1IC0wLjgxMjUgMy44Mjgx\nMjUgLTAuODEyNSBDIDUuMTg3NSAtMC44MTI1IDUuODQzNzUgLTIuMDc4MTI1IDUuODQzNzUgLTQu\nODkwNjI1IFogTSA1Ljg0Mzc1IC00Ljg5MDYyNSAiLz4KPC9nPgo8ZyBpZD0iZ2x5cGgtNy0wLWZm\nNWM1NjExIj4KPHBhdGggZD0iTSA0Ljg1OTM3NSAwIEMgNC44NTkzNzUgMCAzLjYyNSAwIDMuNjI1\nIDAgQyAzLjYyNSAwIDMuNjI1IC03LjA2MjUgMy42MjUgLTcuMDYyNSBDIDMuNjI1IC03LjA2MjUg\nMS40MjE4NzUgLTcuMDYyNSAxLjQyMTg3NSAtNy4wNjI1IEMgMS40MjE4NzUgLTcuMDYyNSAxLjQy\nMTg3NSAtNy45NTMxMjUgMS40MjE4NzUgLTcuOTUzMTI1IEMgMy4zMjgxMjUgLTguMTg3NSAzLjYw\nOTM3NSAtOC40MDYyNSA0LjA0Njg3NSAtOS45MjE4NzUgQyA0LjA0Njg3NSAtOS45MjE4NzUgNC44\nNTkzNzUgLTkuOTIxODc1IDQuODU5Mzc1IC05LjkyMTg3NSBDIDQuODU5Mzc1IC05LjkyMTg3NSA0\nLjg1OTM3NSAwIDQuODU5Mzc1IDAgWiBNIDQuODU5Mzc1IDAgIi8+CjwvZz4KPGcgaWQ9ImdseXBo\nLTgtMC1mZjVjNTYxMSI+CjxwYXRoIGQ9Ik0gNy4wOTM3NSAtNC43ODEyNSBDIDcuMDkzNzUgLTEu\nNTE1NjI1IDUuOTUzMTI1IDAuMjAzMTI1IDMuODQzNzUgMC4yMDMxMjUgQyAxLjcxODc1IDAuMjAz\nMTI1IDAuNjA5Mzc1IC0xLjUxNTYyNSAwLjYwOTM3NSAtNC44NTkzNzUgQyAwLjYwOTM3NSAtOC4x\nODc1IDEuNzAzMTI1IC05LjkyMTg3NSAzLjg0Mzc1IC05LjkyMTg3NSBDIDYgLTkuOTIxODc1IDcu\nMDkzNzUgLTguMjE4NzUgNy4wOTM3NSAtNC43ODEyNSBaIE0gNS44NDM3NSAtNC44OTA2MjUgQyA1\nLjg0Mzc1IC03LjU0Njg3NSA1LjE4NzUgLTguODI4MTI1IDMuODQzNzUgLTguODI4MTI1IEMgMi41\nMTU2MjUgLTguODI4MTI1IDEuODU5Mzc1IC03LjU2MjUgMS44NTkzNzUgLTQuODQzNzUgQyAxLjg1\nOTM3NSAtMi4xMjUgMi41MTU2MjUgLTAuODEyNSAzLjgyODEyNSAtMC44MTI1IEMgNS4xODc1IC0w\nLjgxMjUgNS44NDM3NSAtMi4wNzgxMjUgNS44NDM3NSAtNC44OTA2MjUgWiBNIDUuODQzNzUgLTQu\nODkwNjI1ICIvPgo8L2c+CjxnIGlkPSJnbHlwaC05LTAtZmY1YzU2MTEiPgo8cGF0aCBkPSJNIDIu\nNjcxODc1IDAgQyAyLjY3MTg3NSAwIDEuMjE4NzUgMCAxLjIxODc1IDAgQyAxLjIxODc1IDAgMS4y\nMTg3NSAtMS40NTMxMjUgMS4yMTg3NSAtMS40NTMxMjUgQyAxLjIxODc1IC0xLjQ1MzEyNSAyLjY3\nMTg3NSAtMS40NTMxMjUgMi42NzE4NzUgLTEuNDUzMTI1IEMgMi42NzE4NzUgLTEuNDUzMTI1IDIu\nNjcxODc1IDAgMi42NzE4NzUgMCBaIE0gMi42NzE4NzUgMCAiLz4KPC9nPgo8ZyBpZD0iZ2x5cGgt\nMTAtMC1mZjVjNTYxMSI+CjxwYXRoIGQ9Ik0gNy4xNTYyNSAtNy4wMTU2MjUgQyA3LjE1NjI1IC01\nLjc5Njg3NSA2LjQzNzUgLTQuNzY1NjI1IDUuMDQ2ODc1IC00LjAxNTYyNSBDIDUuMDQ2ODc1IC00\nLjAxNTYyNSAzLjY1NjI1IC0zLjI2NTYyNSAzLjY1NjI1IC0zLjI2NTYyNSBDIDIuNDM3NSAtMi41\nNDY4NzUgMS45ODQzNzUgLTIuMDMxMjUgMS44NTkzNzUgLTEuMjE4NzUgQyAxLjg1OTM3NSAtMS4y\nMTg3NSA3LjA3ODEyNSAtMS4yMTg3NSA3LjA3ODEyNSAtMS4yMTg3NSBDIDcuMDc4MTI1IC0xLjIx\nODc1IDcuMDc4MTI1IDAgNy4wNzgxMjUgMCBDIDcuMDc4MTI1IDAgMC40Njg3NSAwIDAuNDY4NzUg\nMCBDIDAuNTkzNzUgLTIuMTg3NSAxLjE4NzUgLTMuMTI1IDMuMjY1NjI1IC00LjI5Njg3NSBDIDMu\nMjY1NjI1IC00LjI5Njg3NSA0LjU0Njg3NSAtNS4wMzEyNSA0LjU0Njg3NSAtNS4wMzEyNSBDIDUu\nNDM3NSAtNS41MzEyNSA1Ljg5MDYyNSAtNi4yMDMxMjUgNS44OTA2MjUgLTYuOTg0Mzc1IEMgNS44\nOTA2MjUgLTguMDQ2ODc1IDUuMDQ2ODc1IC04Ljg0Mzc1IDMuOTM3NSAtOC44NDM3NSBDIDIuNzE4\nNzUgLTguODQzNzUgMi4wMzEyNSAtOC4xNDA2MjUgMS45Mzc1IC02LjQ4NDM3NSBDIDEuOTM3NSAt\nNi40ODQzNzUgMC43MDMxMjUgLTYuNDg0Mzc1IDAuNzAzMTI1IC02LjQ4NDM3NSBDIDAuNzY1NjI1\nIC04Ljg5MDYyNSAxLjk1MzEyNSAtOS45MjE4NzUgMy45Njg3NSAtOS45MjE4NzUgQyA1Ljg1OTM3\nNSAtOS45MjE4NzUgNy4xNTYyNSAtOC42ODc1IDcuMTU2MjUgLTcuMDE1NjI1IFogTSA3LjE1NjI1\nIC03LjAxNTYyNSAiLz4KPC9nPgo8ZyBpZD0iZ2x5cGgtMTEtMC1mZjVjNTYxMSI+CjxwYXRoIGQ9\nIk0gNy4wOTM3NSAtNC43ODEyNSBDIDcuMDkzNzUgLTEuNTE1NjI1IDUuOTUzMTI1IDAuMjAzMTI1\nIDMuODQzNzUgMC4yMDMxMjUgQyAxLjcxODc1IDAuMjAzMTI1IDAuNjA5Mzc1IC0xLjUxNTYyNSAw\nLjYwOTM3NSAtNC44NTkzNzUgQyAwLjYwOTM3NSAtOC4xODc1IDEuNzAzMTI1IC05LjkyMTg3NSAz\nLjg0Mzc1IC05LjkyMTg3NSBDIDYgLTkuOTIxODc1IDcuMDkzNzUgLTguMjE4NzUgNy4wOTM3NSAt\nNC43ODEyNSBaIE0gNS44NDM3NSAtNC44OTA2MjUgQyA1Ljg0Mzc1IC03LjU0Njg3NSA1LjE4NzUg\nLTguODI4MTI1IDMuODQzNzUgLTguODI4MTI1IEMgMi41MTU2MjUgLTguODI4MTI1IDEuODU5Mzc1\nIC03LjU2MjUgMS44NTkzNzUgLTQuODQzNzUgQyAxLjg1OTM3NSAtMi4xMjUgMi41MTU2MjUgLTAu\nODEyNSAzLjgyODEyNSAtMC44MTI1IEMgNS4xODc1IC0wLjgxMjUgNS44NDM3NSAtMi4wNzgxMjUg\nNS44NDM3NSAtNC44OTA2MjUgWiBNIDUuODQzNzUgLTQuODkwNjI1ICIvPgo8L2c+CjxnIGlkPSJn\nbHlwaC0xMi0wLWZmNWM1NjExIj4KPHBhdGggZD0iTSAyLjY3MTg3NSAwIEMgMi42NzE4NzUgMCAx\nLjIxODc1IDAgMS4yMTg3NSAwIEMgMS4yMTg3NSAwIDEuMjE4NzUgLTEuNDUzMTI1IDEuMjE4NzUg\nLTEuNDUzMTI1IEMgMS4yMTg3NSAtMS40NTMxMjUgMi42NzE4NzUgLTEuNDUzMTI1IDIuNjcxODc1\nIC0xLjQ1MzEyNSBDIDIuNjcxODc1IC0xLjQ1MzEyNSAyLjY3MTg3NSAwIDIuNjcxODc1IDAgWiBN\nIDIuNjcxODc1IDAgIi8+CjwvZz4KPGcgaWQ9ImdseXBoLTEzLTAtZmY1YzU2MTEiPgo8cGF0aCBk\nPSJNIDcuMDc4MTI1IC0yLjg5MDYyNSBDIDcuMDc4MTI1IC0xLjAxNTYyNSA1Ljc2NTYyNSAwLjIw\nMzEyNSAzLjcxODc1IDAuMjAzMTI1IEMgMS42ODc1IDAuMjAzMTI1IDAuNjA5Mzc1IC0wLjc4MTI1\nIDAuNDUzMTI1IC0zIEMgMC40NTMxMjUgLTMgMS42ODc1IC0zIDEuNjg3NSAtMyBDIDEuNzY1NjI1\nIC0xLjU0Njg3NSAyLjQyMTg3NSAtMC44NzUgMy43NjU2MjUgLTAuODc1IEMgNS4wNDY4NzUgLTAu\nODc1IDUuODI4MTI1IC0xLjYyNSA1LjgyODEyNSAtMi44NzUgQyA1LjgyODEyNSAtMy45Njg3NSA1\nLjEyNSAtNC42MjUgMy43NjU2MjUgLTQuNjI1IEMgMy43NjU2MjUgLTQuNjI1IDMuMDkzNzUgLTQu\nNjI1IDMuMDkzNzUgLTQuNjI1IEMgMy4wOTM3NSAtNC42MjUgMy4wOTM3NSAtNS42NTYyNSAzLjA5\nMzc1IC01LjY1NjI1IEMgNS4wNjI1IC01LjY1NjI1IDUuNTMxMjUgLTYuMDkzNzUgNS41MzEyNSAt\nNy4xNTYyNSBDIDUuNTMxMjUgLTguMjAzMTI1IDQuODc1IC04Ljg0Mzc1IDMuNzgxMjUgLTguODQz\nNzUgQyAyLjUxNTYyNSAtOC44NDM3NSAxLjkyMTg3NSAtOC4xODc1IDEuODkwNjI1IC02LjcxODc1\nIEMgMS44OTA2MjUgLTYuNzE4NzUgMC42NTYyNSAtNi43MTg3NSAwLjY1NjI1IC02LjcxODc1IEMg\nMC43MDMxMjUgLTguODI4MTI1IDEuNzY1NjI1IC05LjkyMTg3NSAzLjc2NTYyNSAtOS45MjE4NzUg\nQyA1LjY1NjI1IC05LjkyMTg3NSA2Ljc5Njg3NSAtOC45MDYyNSA2Ljc5Njg3NSAtNy4yMDMxMjUg\nQyA2Ljc5Njg3NSAtNi4yMDMxMjUgNi4zMjgxMjUgLTUuNTYyNSA1LjQwNjI1IC01LjE4NzUgQyA2\nLjU5Mzc1IC00Ljc4MTI1IDcuMDc4MTI1IC00LjA5Mzc1IDcuMDc4MTI1IC0yLjg5MDYyNSBaIE0g\nNy4wNzgxMjUgLTIuODkwNjI1ICIvPgo8L2c+CjwvZz4KPC9kZWZzPgo8cmVjdCB4PSItODEuNiIg\neT0iLTM4LjQiIHdpZHRoPSI5NzkuMiIgaGVpZ2h0PSI0NjAuOCIgZmlsbD0icmdiKDEwMCUsIDEw\nMCUsIDEwMCUpIiBmaWxsLW9wYWNpdHk9IjEiLz4KPHBhdGggZmlsbC1ydWxlPSJub256ZXJvIiBm\naWxsPSJyZ2IoMTAwJSwgMTAwJSwgMTAwJSkiIGZpbGwtb3BhY2l0eT0iMSIgZD0iTSA0NCAzMjgg\nTCA4MDAgMzI4IEwgODAwIDE2IEwgNDQgMTYgWiBNIDQ0IDMyOCAiLz4KPHBhdGggZmlsbD0ibm9u\nZSIgc3Ryb2tlLXdpZHRoPSIxIiBzdHJva2UtbGluZWNhcD0iYnV0dCIgc3Ryb2tlLWxpbmVqb2lu\nPSJtaXRlciIgc3Ryb2tlPSJyZ2IoMCUsIDAlLCAwJSkiIHN0cm9rZS1vcGFjaXR5PSIwLjEyIiBz\ndHJva2UtbWl0ZXJsaW1pdD0iMS4xNTQ3MDEiIGQ9Ik0gNzguMzYzMjgxIDMyOCBMIDc4LjM2MzI4\nMSAxNiAiLz4KPHBhdGggZmlsbD0ibm9uZSIgc3Ryb2tlLXdpZHRoPSIxIiBzdHJva2UtbGluZWNh\ncD0iYnV0dCIgc3Ryb2tlLWxpbmVqb2luPSJtaXRlciIgc3Ryb2tlPSJyZ2IoMCUsIDAlLCAwJSki\nIHN0cm9rZS1vcGFjaXR5PSIwLjEyIiBzdHJva2UtbWl0ZXJsaW1pdD0iMS4xNTQ3MDEiIGQ9Ik0g\nMjUwLjE4MzU5NCAzMjggTCAyNTAuMTgzNTk0IDE2ICIvPgo8cGF0aCBmaWxsPSJub25lIiBzdHJv\na2Utd2lkdGg9IjEiIHN0cm9rZS1saW5lY2FwPSJidXR0IiBzdHJva2UtbGluZWpvaW49Im1pdGVy\nIiBzdHJva2U9InJnYigwJSwgMCUsIDAlKSIgc3Ryb2tlLW9wYWNpdHk9IjAuMTIiIHN0cm9rZS1t\naXRlcmxpbWl0PSIxLjE1NDcwMSIgZD0iTSA0MjIgMzI4IEwgNDIyIDE2ICIvPgo8cGF0aCBmaWxs\nPSJub25lIiBzdHJva2Utd2lkdGg9IjEiIHN0cm9rZS1saW5lY2FwPSJidXR0IiBzdHJva2UtbGlu\nZWpvaW49Im1pdGVyIiBzdHJva2U9InJnYigwJSwgMCUsIDAlKSIgc3Ryb2tlLW9wYWNpdHk9IjAu\nMTIiIHN0cm9rZS1taXRlcmxpbWl0PSIxLjE1NDcwMSIgZD0iTSA1OTMuODE2NDA2IDMyOCBMIDU5\nMy44MTY0MDYgMTYgIi8+CjxwYXRoIGZpbGw9Im5vbmUiIHN0cm9rZS13aWR0aD0iMSIgc3Ryb2tl\nLWxpbmVjYXA9ImJ1dHQiIHN0cm9rZS1saW5lam9pbj0ibWl0ZXIiIHN0cm9rZT0icmdiKDAlLCAw\nJSwgMCUpIiBzdHJva2Utb3BhY2l0eT0iMC4xMiIgc3Ryb2tlLW1pdGVybGltaXQ9IjEuMTU0NzAx\nIiBkPSJNIDc2NS42MzY3MTkgMzI4IEwgNzY1LjYzNjcxOSAxNiAiLz4KPHBhdGggZmlsbD0ibm9u\nZSIgc3Ryb2tlLXdpZHRoPSIxIiBzdHJva2UtbGluZWNhcD0iYnV0dCIgc3Ryb2tlLWxpbmVqb2lu\nPSJtaXRlciIgc3Ryb2tlPSJyZ2IoMCUsIDAlLCAwJSkiIHN0cm9rZS1vcGFjaXR5PSIwLjEyIiBz\ndHJva2UtbWl0ZXJsaW1pdD0iMS4xNTQ3MDEiIGQ9Ik0gNDQgMjM0LjA5Mzc1IEwgODAwIDIzNC4w\nOTM3NSAiLz4KPHBhdGggZmlsbD0ibm9uZSIgc3Ryb2tlLXdpZHRoPSIxIiBzdHJva2UtbGluZWNh\ncD0iYnV0dCIgc3Ryb2tlLWxpbmVqb2luPSJtaXRlciIgc3Ryb2tlPSJyZ2IoMCUsIDAlLCAwJSki\nIHN0cm9rZS1vcGFjaXR5PSIwLjEyIiBzdHJva2UtbWl0ZXJsaW1pdD0iMS4xNTQ3MDEiIGQ9Ik0g\nNDQgMTI4LjcyMjY1NiBMIDgwMCAxMjguNzIyNjU2ICIvPgo8cGF0aCBmaWxsPSJub25lIiBzdHJv\na2Utd2lkdGg9IjEiIHN0cm9rZS1saW5lY2FwPSJidXR0IiBzdHJva2UtbGluZWpvaW49Im1pdGVy\nIiBzdHJva2U9InJnYigwJSwgMCUsIDAlKSIgc3Ryb2tlLW9wYWNpdHk9IjAuMTIiIHN0cm9rZS1t\naXRlcmxpbWl0PSIxLjE1NDcwMSIgZD0iTSA0NCAyMy4zNDc2NTYgTCA4MDAgMjMuMzQ3NjU2ICIv\nPgo8ZyBmaWxsPSJyZ2IoMCUsIDAlLCAwJSkiIGZpbGwtb3BhY2l0eT0iMSI+Cjx1c2UgeGxpbms6\naHJlZj0iI2dseXBoLTAtMC1mZjVjNTYxMSIgeD0iNDE3LjY0NiIgeT0iMzY2LjU5NCIvPgo8L2c+\nCjxnIGZpbGw9InJnYigwJSwgMCUsIDAlKSIgZmlsbC1vcGFjaXR5PSIxIj4KPHVzZSB4bGluazpo\ncmVmPSIjZ2x5cGgtMS0wLWZmNWM1NjExIiB4PSI2Ni40OTE2NCIgeT0iMzQ5LjI1OCIvPgo8L2c+\nCjxnIGZpbGw9InJnYigwJSwgMCUsIDAlKSIgZmlsbC1vcGFjaXR5PSIxIj4KPHVzZSB4bGluazpo\ncmVmPSIjZ2x5cGgtMi0wLWZmNWM1NjExIiB4PSI3NC42Njc2NCIgeT0iMzQ5LjI1OCIvPgo8L2c+\nCjxnIGZpbGw9InJnYigwJSwgMCUsIDAlKSIgZmlsbC1vcGFjaXR5PSIxIj4KPHVzZSB4bGluazpo\ncmVmPSIjZ2x5cGgtMy0wLWZmNWM1NjExIiB4PSI4Mi40NTE2MzkiIHk9IjM0OS4yNTgiLz4KPC9n\nPgo8ZyBmaWxsPSJyZ2IoMCUsIDAlLCAwJSkiIGZpbGwtb3BhY2l0eT0iMSI+Cjx1c2UgeGxpbms6\naHJlZj0iI2dseXBoLTQtMC1mZjVjNTYxMSIgeD0iMjQyLjIwMTgyNCIgeT0iMzQ5LjI1OCIvPgo8\nL2c+CjxnIGZpbGw9InJnYigwJSwgMCUsIDAlKSIgZmlsbC1vcGFjaXR5PSIxIj4KPHVzZSB4bGlu\nazpocmVmPSIjZ2x5cGgtMi0xLWZmNWM1NjExIiB4PSIyNTAuMzc3ODI0IiB5PSIzNDkuMjU4Ii8+\nCjwvZz4KPGcgZmlsbD0icmdiKDAlLCAwJSwgMCUpIiBmaWxsLW9wYWNpdHk9IjEiPgo8dXNlIHhs\naW5rOmhyZWY9IiNnbHlwaC01LTAtZmY1YzU2MTEiIHg9IjQxOC4xMDgiIHk9IjM0OS4yNTgiLz4K\nPC9nPgo8ZyBmaWxsPSJyZ2IoMCUsIDAlLCAwJSkiIGZpbGwtb3BhY2l0eT0iMSI+Cjx1c2UgeGxp\nbms6aHJlZj0iI2dseXBoLTItMS1mZjVjNTYxMSIgeD0iNTg5LjkyNjE3NiIgeT0iMzQ5LjI1OCIv\nPgo8L2c+CjxnIGZpbGw9InJnYigwJSwgMCUsIDAlKSIgZmlsbC1vcGFjaXR5PSIxIj4KPHVzZSB4\nbGluazpocmVmPSIjZ2x5cGgtMi0wLWZmNWM1NjExIiB4PSI3NTcuODUyMzUzIiB5PSIzNDkuMjU4\nIi8+CjwvZz4KPGcgZmlsbD0icmdiKDAlLCAwJSwgMCUpIiBmaWxsLW9wYWNpdHk9IjEiPgo8dXNl\nIHhsaW5rOmhyZWY9IiNnbHlwaC0yLTItZmY1YzU2MTEiIHg9Ijc2NS42MzYzNTMiIHk9IjM0OS4y\nNTgiLz4KPC9nPgo8ZyBmaWxsPSJyZ2IoMCUsIDAlLCAwJSkiIGZpbGwtb3BhY2l0eT0iMSI+Cjx1\nc2UgeGxpbms6aHJlZj0iI2dseXBoLTYtMC1mZjVjNTYxMSIgeD0iMTQuNTQwMDAxIiB5PSIyMzku\nMTk3Njk2Ii8+CjwvZz4KPGcgZmlsbD0icmdiKDAlLCAwJSwgMCUpIiBmaWxsLW9wYWNpdHk9IjEi\nPgo8dXNlIHhsaW5rOmhyZWY9IiNnbHlwaC0yLTMtZmY1YzU2MTEiIHg9IjIyLjMyNDAwMSIgeT0i\nMjM5LjE5NzY5NiIvPgo8L2c+CjxnIGZpbGw9InJnYigwJSwgMCUsIDAlKSIgZmlsbC1vcGFjaXR5\nPSIxIj4KPHVzZSB4bGluazpocmVmPSIjZ2x5cGgtNy0wLWZmNWM1NjExIiB4PSIyNi4yMTYwMDEi\nIHk9IjIzOS4xOTc2OTYiLz4KPC9nPgo8ZyBmaWxsPSJyZ2IoMCUsIDAlLCAwJSkiIGZpbGwtb3Bh\nY2l0eT0iMSI+Cjx1c2UgeGxpbms6aHJlZj0iI2dseXBoLTgtMC1mZjVjNTYxMSIgeD0iMTQuNTQw\nMDAxIiB5PSIxMzMuODI0NzQxIi8+CjwvZz4KPGcgZmlsbD0icmdiKDAlLCAwJSwgMCUpIiBmaWxs\nLW9wYWNpdHk9IjEiPgo8dXNlIHhsaW5rOmhyZWY9IiNnbHlwaC05LTAtZmY1YzU2MTEiIHg9IjIy\nLjMyNDAwMSIgeT0iMTMzLjgyNDc0MSIvPgo8L2c+CjxnIGZpbGw9InJnYigwJSwgMCUsIDAlKSIg\nZmlsbC1vcGFjaXR5PSIxIj4KPHVzZSB4bGluazpocmVmPSIjZ2x5cGgtMTAtMC1mZjVjNTYxMSIg\neD0iMjYuMjE2MDAxIiB5PSIxMzMuODI0NzQxIi8+CjwvZz4KPGcgZmlsbD0icmdiKDAlLCAwJSwg\nMCUpIiBmaWxsLW9wYWNpdHk9IjEiPgo8dXNlIHhsaW5rOmhyZWY9IiNnbHlwaC0xMS0wLWZmNWM1\nNjExIiB4PSIxNC41NDAwMDEiIHk9IjI4LjQ1MTc4NiIvPgo8L2c+CjxnIGZpbGw9InJnYigwJSwg\nMCUsIDAlKSIgZmlsbC1vcGFjaXR5PSIxIj4KPHVzZSB4bGluazpocmVmPSIjZ2x5cGgtMTItMC1m\nZjVjNTYxMSIgeD0iMjIuMzI0MDAxIiB5PSIyOC40NTE3ODYiLz4KPC9nPgo8ZyBmaWxsPSJyZ2Io\nMCUsIDAlLCAwJSkiIGZpbGwtb3BhY2l0eT0iMSI+Cjx1c2UgeGxpbms6aHJlZj0iI2dseXBoLTEz\nLTAtZmY1YzU2MTEiIHg9IjI2LjIxNjAwMSIgeT0iMjguNDUxNzg2Ii8+CjwvZz4KPHBhdGggZmls\nbD0ibm9uZSIgc3Ryb2tlLXdpZHRoPSIxLjUiIHN0cm9rZS1saW5lY2FwPSJidXR0IiBzdHJva2Ut\nbGluZWpvaW49Im1pdGVyIiBzdHJva2U9InJnYigwJSwgNDQuNzA1ODgzJSwgNjkuODAzOTIzJSki\nIHN0cm9rZS1vcGFjaXR5PSIxIiBzdHJva2UtbWl0ZXJsaW1pdD0iMiIgZD0iTSA3OC4zNjMyODEg\nMzEzLjgxNjQwNiBMIDExMi43MjY1NjIgMjkyLjQxNDA2MiBMIDE0Ny4wODk4NDQgMjQzLjgyMDMx\nMiBMIDE4MS40NTMxMjUgMTM2LjEwOTM3NSBMIDIxNS44MTY0MDYgMzAuMTgzNTk0IEwgMjUwLjE4\nMzU5NCA5My4yNDIxODggTCAyODQuNTQ2ODc1IDE3Mi4yOTY4NzUgTCAzMTguOTEwMTU2IDIwOS4w\nMTU2MjUgTCAzNTMuMjczNDM4IDIxNS40MjE4NzUgTCAzODcuNjM2NzE5IDE4Ni40MjE4NzUgTCA0\nMjIgMTMzLjYxNzE4OCBMIDQ1Ni4zNjMyODEgMTg2LjQyMTg3NSBMIDQ5MC43MjY1NjIgMjE1LjQy\nMTg3NSBMIDUyNS4wODk4NDQgMjA5LjAxNTYyNSBMIDU1OS40NTMxMjUgMTcyLjI5Njg3NSBMIDU5\nMy44MTY0MDYgOTMuMjQyMTg4IEwgNjI4LjE4MzU5NCAzMC4xODM1OTQgTCA2NjIuNTQ2ODc1IDEz\nNi4xMDkzNzUgTCA2OTYuOTEwMTU2IDI0My44MjAzMTIgTCA3MzEuMjczNDM4IDI5Mi40MTQwNjIg\nTCA3NjUuNjM2NzE5IDMxMy44MTY0MDYgIi8+CjxwYXRoIGZpbGw9Im5vbmUiIHN0cm9rZS13aWR0\naD0iMSIgc3Ryb2tlLWxpbmVjYXA9ImJ1dHQiIHN0cm9rZS1saW5lam9pbj0ibWl0ZXIiIHN0cm9r\nZT0icmdiKDAlLCAwJSwgMCUpIiBzdHJva2Utb3BhY2l0eT0iMSIgc3Ryb2tlLW1pdGVybGltaXQ9\nIjEuMTU0NzAxIiBkPSJNIDc4LjM2MzI4MSAzMjguNSBMIDc4LjM2MzI4MSAzMzMuNSAiLz4KPHBh\ndGggZmlsbD0ibm9uZSIgc3Ryb2tlLXdpZHRoPSIxIiBzdHJva2UtbGluZWNhcD0iYnV0dCIgc3Ry\nb2tlLWxpbmVqb2luPSJtaXRlciIgc3Ryb2tlPSJyZ2IoMCUsIDAlLCAwJSkiIHN0cm9rZS1vcGFj\naXR5PSIxIiBzdHJva2UtbWl0ZXJsaW1pdD0iMS4xNTQ3MDEiIGQ9Ik0gMjUwLjE4MzU5NCAzMjgu\nNSBMIDI1MC4xODM1OTQgMzMzLjUgIi8+CjxwYXRoIGZpbGw9Im5vbmUiIHN0cm9rZS13aWR0aD0i\nMSIgc3Ryb2tlLWxpbmVjYXA9ImJ1dHQiIHN0cm9rZS1saW5lam9pbj0ibWl0ZXIiIHN0cm9rZT0i\ncmdiKDAlLCAwJSwgMCUpIiBzdHJva2Utb3BhY2l0eT0iMSIgc3Ryb2tlLW1pdGVybGltaXQ9IjEu\nMTU0NzAxIiBkPSJNIDQyMiAzMjguNSBMIDQyMiAzMzMuNSAiLz4KPHBhdGggZmlsbD0ibm9uZSIg\nc3Ryb2tlLXdpZHRoPSIxIiBzdHJva2UtbGluZWNhcD0iYnV0dCIgc3Ryb2tlLWxpbmVqb2luPSJt\naXRlciIgc3Ryb2tlPSJyZ2IoMCUsIDAlLCAwJSkiIHN0cm9rZS1vcGFjaXR5PSIxIiBzdHJva2Ut\nbWl0ZXJsaW1pdD0iMS4xNTQ3MDEiIGQ9Ik0gNTkzLjgxNjQwNiAzMjguNSBMIDU5My44MTY0MDYg\nMzMzLjUgIi8+CjxwYXRoIGZpbGw9Im5vbmUiIHN0cm9rZS13aWR0aD0iMSIgc3Ryb2tlLWxpbmVj\nYXA9ImJ1dHQiIHN0cm9rZS1saW5lam9pbj0ibWl0ZXIiIHN0cm9rZT0icmdiKDAlLCAwJSwgMCUp\nIiBzdHJva2Utb3BhY2l0eT0iMSIgc3Ryb2tlLW1pdGVybGltaXQ9IjEuMTU0NzAxIiBkPSJNIDc2\nNS42MzY3MTkgMzI4LjUgTCA3NjUuNjM2NzE5IDMzMy41ICIvPgo8cGF0aCBmaWxsPSJub25lIiBz\ndHJva2Utd2lkdGg9IjEiIHN0cm9rZS1saW5lY2FwPSJidXR0IiBzdHJva2UtbGluZWpvaW49Im1p\ndGVyIiBzdHJva2U9InJnYigwJSwgMCUsIDAlKSIgc3Ryb2tlLW9wYWNpdHk9IjEiIHN0cm9rZS1t\naXRlcmxpbWl0PSIxLjE1NDcwMSIgZD0iTSA0My41IDIzNC4wOTM3NSBMIDM4LjUgMjM0LjA5Mzc1\nICIvPgo8cGF0aCBmaWxsPSJub25lIiBzdHJva2Utd2lkdGg9IjEiIHN0cm9rZS1saW5lY2FwPSJi\ndXR0IiBzdHJva2UtbGluZWpvaW49Im1pdGVyIiBzdHJva2U9InJnYigwJSwgMCUsIDAlKSIgc3Ry\nb2tlLW9wYWNpdHk9IjEiIHN0cm9rZS1taXRlcmxpbWl0PSIxLjE1NDcwMSIgZD0iTSA0My41IDEy\nOC43MjI2NTYgTCAzOC41IDEyOC43MjI2NTYgIi8+CjxwYXRoIGZpbGw9Im5vbmUiIHN0cm9rZS13\naWR0aD0iMSIgc3Ryb2tlLWxpbmVjYXA9ImJ1dHQiIHN0cm9rZS1saW5lam9pbj0ibWl0ZXIiIHN0\ncm9rZT0icmdiKDAlLCAwJSwgMCUpIiBzdHJva2Utb3BhY2l0eT0iMSIgc3Ryb2tlLW1pdGVybGlt\naXQ9IjEuMTU0NzAxIiBkPSJNIDQzLjUgMjMuMzQ3NjU2IEwgMzguNSAyMy4zNDc2NTYgIi8+Cjxw\nYXRoIGZpbGw9Im5vbmUiIHN0cm9rZS13aWR0aD0iMSIgc3Ryb2tlLWxpbmVjYXA9ImJ1dHQiIHN0\ncm9rZS1saW5lam9pbj0ibWl0ZXIiIHN0cm9rZT0icmdiKDAlLCAwJSwgMCUpIiBzdHJva2Utb3Bh\nY2l0eT0iMSIgc3Ryb2tlLW1pdGVybGltaXQ9IjEuMTU0NzAxIiBkPSJNIDQzLjUgMzI4IEwgODAw\nLjUgMzI4ICIvPgo8cGF0aCBmaWxsPSJub25lIiBzdHJva2Utd2lkdGg9IjEiIHN0cm9rZS1saW5l\nY2FwPSJidXR0IiBzdHJva2UtbGluZWpvaW49Im1pdGVyIiBzdHJva2U9InJnYigwJSwgMCUsIDAl\nKSIgc3Ryb2tlLW9wYWNpdHk9IjEiIHN0cm9rZS1taXRlcmxpbWl0PSIxLjE1NDcwMSIgZD0iTSA0\nNCAzMjguNSBMIDQ0IDE1LjUgIi8+CjxwYXRoIGZpbGw9Im5vbmUiIHN0cm9rZS13aWR0aD0iMSIg\nc3Ryb2tlLWxpbmVjYXA9ImJ1dHQiIHN0cm9rZS1saW5lam9pbj0ibWl0ZXIiIHN0cm9rZT0icmdi\nKDAlLCAwJSwgMCUpIiBzdHJva2Utb3BhY2l0eT0iMSIgc3Ryb2tlLW1pdGVybGltaXQ9IjEuMTU0\nNzAxIiBkPSJNIDQzLjUgMTYgTCA4MDAuNSAxNiAiLz4KPHBhdGggZmlsbD0ibm9uZSIgc3Ryb2tl\nLXdpZHRoPSIxIiBzdHJva2UtbGluZWNhcD0iYnV0dCIgc3Ryb2tlLWxpbmVqb2luPSJtaXRlciIg\nc3Ryb2tlPSJyZ2IoMCUsIDAlLCAwJSkiIHN0cm9rZS1vcGFjaXR5PSIxIiBzdHJva2UtbWl0ZXJs\naW1pdD0iMS4xNTQ3MDEiIGQ9Ik0gODAwIDMyOC41IEwgODAwIDE1LjUgIi8+Cjwvc3ZnPgo=\n"
          }
        }
      ],
      "source": [
        "fig = Figure()\n",
        "ax = Axis(fig[1, 1], xlabel = L\"\\omega\")\n",
        "lines!(ax, ωlist, dos)\n",
        "\n",
        "fig"
      ],
      "id": "14"
    },
    {
      "cell_type": "markdown",
      "metadata": {},
      "source": [
        "## Version Information"
      ],
      "id": "172e5868-6bf3-481d-a073-3ad3a8217c67"
    },
    {
      "cell_type": "code",
      "execution_count": 1,
      "metadata": {},
      "outputs": [],
      "source": [
        "HierarchicalEOM.versioninfo()"
      ],
      "id": "16"
    },
    {
      "cell_type": "markdown",
      "metadata": {},
      "source": [
        "Huang, Yi-Te, Po-Chen Kuo, Neill Lambert, Mauro Cirio, Simon Cross,\n",
        "Shen-Liang Yang, Franco Nori, and Yueh-Nan Chen. 2023. “An Efficient\n",
        "Julia Framework for Hierarchical Equations of Motion in Open Quantum\n",
        "Systems.” *Communications Physics* 6 (1): 313.\n",
        "<https://doi.org/10.1038/s42005-023-01427-2>."
      ],
      "id": "d1d5cc41-47ba-461e-a144-a10d60af4c20"
    }
  ],
  "nbformat": 4,
  "nbformat_minor": 5,
  "metadata": {
    "kernel_info": {
      "name": "julia"
    },
    "kernelspec": {
      "name": "julia",
      "display_name": "Julia",
      "language": "julia"
    },
    "language_info": {
      "name": "julia",
      "codemirror_mode": "julia",
      "version": "1.11.5"
    }
  }
}