{
  "cells": [
    {
      "cell_type": "markdown",
      "metadata": {},
      "source": [
        "# Tutorials for `HierarchicalEOM.jl`\n",
        "\n",
        "The following tutorials demonstrate and introduce specific functionality\n",
        "of `HierarchicalEOM.jl`.\n",
        "\n",
        "### Examples"
      ],
      "id": "3c5562eb-92a0-4f9f-99ef-43f6dab0cba2"
    }
  ],
  "nbformat": 4,
  "nbformat_minor": 5,
  "metadata": {
    "kernelspec": {
      "display_name": "Python 3",
      "language": "python",
      "name": "python3"
    }
  }
}