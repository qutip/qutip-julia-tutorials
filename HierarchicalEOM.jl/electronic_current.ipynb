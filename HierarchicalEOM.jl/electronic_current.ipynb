{
  "cells": [
    {
      "cell_type": "markdown",
      "metadata": {},
      "source": [
        "# Electronic Current\n",
        "\n",
        "Yi-Te Huang  \n",
        "2025-06-09\n",
        "\n",
        "Inspirations taken from [qutip\n",
        "documentation](https://qutip.org/documentation.html).\n",
        "\n",
        "## Introduction\n",
        "\n",
        "In this example, we demonstrate how to compute an environmental\n",
        "observable: the electronic current. For further detailed discussions of\n",
        "calculating the electronic current using\n",
        "[`HierarchicalEOM.jl`](https://github.com/qutip/HierarchicalEOM.jl), we\n",
        "recommend to read the article (Huang et al. 2023).\n",
        "\n",
        "## Hamiltonian\n",
        "\n",
        "We consider a single-level charge system coupled to two \\[left (L) and\n",
        "right (R)\\] fermionic reservoirs ($\\textrm{f}$). The total Hamiltonian\n",
        "is given by $H_{\\textrm{T}}=H_\\textrm{s}+H_\\textrm{f}+H_\\textrm{sf}$,\n",
        "where each terms takes the form\n",
        "\n",
        "$$\n",
        "\\begin{aligned}\n",
        "H_{\\textrm{s}}  &= \\epsilon d^\\dagger d,\\\\\n",
        "H_{\\textrm{f}}  &=\\sum_{\\alpha=\\textrm{L},\\textrm{R}}\\sum_{k}\\epsilon_{\\alpha,k}c_{\\alpha,k}^{\\dagger}c_{\\alpha,k},\\\\\n",
        "H_{\\textrm{sf}} &=\\sum_{\\alpha=\\textrm{L},\\textrm{R}}\\sum_{k}g_{\\alpha,k}c_{\\alpha,k}^{\\dagger}d + g_{\\alpha,k}^* d^{\\dagger}c_{\\alpha,k}.\n",
        "\\end{aligned}\n",
        "$$\n",
        "\n",
        "Here, $d$ $(d^\\dagger)$ annihilates (creates) an electron in the system\n",
        "and $\\epsilon$ is the energy of the electron. Furthermore,\n",
        "$c_{\\alpha,k}$ $(c_{\\alpha,k}^{\\dagger})$ annihilates (creates) an\n",
        "electron in the state $k$ (with energy $\\epsilon_{\\alpha,k}$) of the\n",
        "$\\alpha$-th reservoir.\n",
        "\n",
        "Now, we need to build the system Hamiltonian and initial state with the\n",
        "package\n",
        "[`QuantumToolbox.jl`](https://github.com/qutip/QuantumToolbox.jl) to\n",
        "construct the operators."
      ],
      "id": "fee5e61f-5a33-4215-a192-7c9631d8ecf3"
    },
    {
      "cell_type": "code",
      "execution_count": 1,
      "metadata": {},
      "outputs": [],
      "source": [
        "using HierarchicalEOM  # this automatically loads `QuantumToolbox`\n",
        "using CairoMakie       # for plotting results\n",
        "\n",
        "CairoMakie.activate!(type = \"svg\")"
      ],
      "id": "2"
    },
    {
      "cell_type": "code",
      "execution_count": 1,
      "metadata": {},
      "outputs": [],
      "source": [
        "d = destroy(2) # annihilation operator of the system electron\n",
        "\n",
        "# The system Hamiltonian\n",
        "ϵ = 1.0 # site energy\n",
        "Hsys = ϵ * d' * d\n",
        "\n",
        "# System initial state\n",
        "ψ0 = basis(2, 0);"
      ],
      "id": "4"
    },
    {
      "cell_type": "markdown",
      "metadata": {},
      "source": [
        "## Construct bath objects\n",
        "\n",
        "We assume the fermionic reservoir to have a [Lorentzian-shaped spectral\n",
        "density](https://qutip.org/HierarchicalEOM.jl/stable/bath_fermion/Fermion_Lorentz/#doc-Fermion-Lorentz),\n",
        "and we utilize the Padé decomposition. Furthermore, the spectral\n",
        "densities depend on the following physical parameters:\n",
        "\n",
        "-   the coupling strength $\\Gamma$ between system and reservoirs\n",
        "-   the band-width $W$\n",
        "-   the product of the Boltzmann constant $k$ and the absolute\n",
        "    temperature $T$ : $kT$\n",
        "-   the chemical potential $\\mu$\n",
        "-   the total number of exponentials for the reservoir $2(N + 1)$"
      ],
      "id": "8075b5e8-bca1-48af-a97c-5b19076e0e30"
    },
    {
      "cell_type": "code",
      "execution_count": 1,
      "metadata": {},
      "outputs": [
        {
          "output_type": "display_data",
          "metadata": {},
          "data": {
            "text/plain": [
              "2-element Vector{FermionBath}:\n",
              " HierarchicalEOM.FermionBath object with 6 terms.\n",
              "\n",
              " HierarchicalEOM.FermionBath object with 6 terms."
            ]
          }
        }
      ],
      "source": [
        "Γ = 0.01\n",
        "W = 1\n",
        "kT = 0.025851991\n",
        "μL =  1.0 # Left  bath\n",
        "μR = -1.0 # Right bath\n",
        "N = 2\n",
        "bath_L = Fermion_Lorentz_Pade(d, Γ, μL, W, kT, N)\n",
        "bath_R = Fermion_Lorentz_Pade(d, Γ, μR, W, kT, N)\n",
        "baths = [bath_L, bath_R]"
      ],
      "id": "6"
    },
    {
      "cell_type": "markdown",
      "metadata": {},
      "source": [
        "## Construct HEOMLS matrix"
      ],
      "id": "d136249c-b252-4760-af85-1573fa459bba"
    },
    {
      "cell_type": "code",
      "execution_count": 1,
      "metadata": {},
      "outputs": [
        {
          "output_type": "stream",
          "name": "stdout",
          "text": [
            "Preparing block matrices for HEOM Liouvillian superoperator (using 4 threads)...\n",
            "Progress: [                              ]   0.1% --- Elapsed Time: 0h 00m 01s (ETA: 0h 26m 25s)Progress: [==============================] 100.0% --- Elapsed Time: 0h 00m 01s (ETA: 0h 00m 00s)\n",
            "Constructing matrix...[DONE]"
          ]
        },
        {
          "output_type": "display_data",
          "metadata": {},
          "data": {
            "text/plain": [
              "Fermion type HEOMLS matrix acting on even-parity ADOs\n",
              "system dims = [2]\n",
              "number of ADOs N = 1586\n",
              "data =\n",
              "MatrixOperator(6344 × 6344)"
            ]
          }
        }
      ],
      "source": [
        "tier = 5\n",
        "M = M_Fermion(Hsys, tier, baths)"
      ],
      "id": "8"
    },
    {
      "cell_type": "markdown",
      "metadata": {},
      "source": [
        "## Solve time evolution of ADOs"
      ],
      "id": "c1144887-e376-4efe-9a82-218d31b4afe5"
    },
    {
      "cell_type": "code",
      "execution_count": 1,
      "metadata": {},
      "outputs": [
        {
          "output_type": "stream",
          "name": "stdout",
          "text": [
            "Solving time evolution for ADOs by Ordinary Differential Equations method...\n",
            "Progress: [                              ]   0.5% --- Elapsed Time: 0h 00m 02s (ETA: 0h 06m 40s)Progress: [==============================] 100.0% --- Elapsed Time: 0h 00m 02s (ETA: 0h 00m 00s)"
          ]
        },
        {
          "output_type": "display_data",
          "metadata": {},
          "data": {
            "text/plain": [
              "201-element Vector{ADOs}:\n",
              " 1586 Auxiliary Density Operators with even-parity and (system) dims = [2]\n",
              "\n",
              " 1586 Auxiliary Density Operators with even-parity and (system) dims = [2]\n",
              "\n",
              " 1586 Auxiliary Density Operators with even-parity and (system) dims = [2]\n",
              "\n",
              " 1586 Auxiliary Density Operators with even-parity and (system) dims = [2]\n",
              "\n",
              " 1586 Auxiliary Density Operators with even-parity and (system) dims = [2]\n",
              "\n",
              " 1586 Auxiliary Density Operators with even-parity and (system) dims = [2]\n",
              "\n",
              " 1586 Auxiliary Density Operators with even-parity and (system) dims = [2]\n",
              "\n",
              " 1586 Auxiliary Density Operators with even-parity and (system) dims = [2]\n",
              "\n",
              " 1586 Auxiliary Density Operators with even-parity and (system) dims = [2]\n",
              "\n",
              " 1586 Auxiliary Density Operators with even-parity and (system) dims = [2]\n",
              "\n",
              " ⋮\n",
              " 1586 Auxiliary Density Operators with even-parity and (system) dims = [2]\n",
              "\n",
              " 1586 Auxiliary Density Operators with even-parity and (system) dims = [2]\n",
              "\n",
              " 1586 Auxiliary Density Operators with even-parity and (system) dims = [2]\n",
              "\n",
              " 1586 Auxiliary Density Operators with even-parity and (system) dims = [2]\n",
              "\n",
              " 1586 Auxiliary Density Operators with even-parity and (system) dims = [2]\n",
              "\n",
              " 1586 Auxiliary Density Operators with even-parity and (system) dims = [2]\n",
              "\n",
              " 1586 Auxiliary Density Operators with even-parity and (system) dims = [2]\n",
              "\n",
              " 1586 Auxiliary Density Operators with even-parity and (system) dims = [2]\n",
              "\n",
              " 1586 Auxiliary Density Operators with even-parity and (system) dims = [2]"
            ]
          }
        }
      ],
      "source": [
        "tlist = 0:0.5:100\n",
        "ados_evolution = HEOMsolve(M, ψ0, tlist).ados"
      ],
      "id": "10"
    },
    {
      "cell_type": "markdown",
      "metadata": {},
      "source": [
        "## Solve stationary state of ADOs"
      ],
      "id": "bfe41ab9-625c-45f9-88fa-cd1e76f7d5ab"
    },
    {
      "cell_type": "code",
      "execution_count": 1,
      "metadata": {},
      "outputs": [
        {
          "output_type": "stream",
          "name": "stdout",
          "text": [
            "Solving steady state for ADOs by linear-solve method...\n",
            "Calculating left preconditioner with ilu...[DONE]\n",
            "Solving linear problem...[DONE]"
          ]
        },
        {
          "output_type": "display_data",
          "metadata": {},
          "data": {
            "text/plain": [
              "1586 Auxiliary Density Operators with even-parity and (system) dims = [2]"
            ]
          }
        }
      ],
      "source": [
        "ados_steady = steadystate(M)"
      ],
      "id": "12"
    },
    {
      "cell_type": "markdown",
      "metadata": {},
      "source": [
        "## Calculate current\n",
        "\n",
        "Within the influence functional approach, the expectation value of the\n",
        "electronic current from the $\\alpha$-fermionic bath into the system can\n",
        "be written in terms of the first-level-fermionic ($n=1$) auxiliary\n",
        "density operators, namely\n",
        "\n",
        "$$\n",
        "\\langle I_\\alpha(t) \\rangle =(-e) \\frac{d\\langle \\mathcal{N}_\\alpha\\rangle}{dt}=i e \\sum_{q\\in\\textbf{q}}(-1)^{\\delta_{\\nu,-}} ~\\textrm{Tr}\\left[d^{\\bar{\\nu}}\\rho^{(0,1,+)}_{\\vert \\textbf{q}}(t)\\right],\n",
        "$$\n",
        "\n",
        "where $e$ represents the value of the elementary charge, and\n",
        "$\\mathcal{N}_\\alpha=\\sum_k c^\\dagger_{\\alpha,k}c_{\\alpha,k}$ is the\n",
        "occupation number operator for the $\\alpha$-fermionic bath.\n",
        "\n",
        "Given an ADOs, we provide a function which calculates the current from\n",
        "the $\\alpha$-fermionic bath into the system with the help of [Hierarchy\n",
        "Dictionary](https://qutip.org/HierarchicalEOM.jl/stable/hierarchy_dictionary/#doc-Hierarchy-Dictionary)."
      ],
      "id": "9b50396a-630b-43de-ab47-6d494748079e"
    },
    {
      "cell_type": "code",
      "execution_count": 1,
      "metadata": {},
      "outputs": [
        {
          "output_type": "display_data",
          "metadata": {},
          "data": {
            "text/plain": [
              "Ic (generic function with 1 method)"
            ]
          }
        }
      ],
      "source": [
        "# `bathIdx`:  \n",
        "# - 1 means 1st bath (bath_L)\n",
        "# - 2 means 2nd bath (bath_R)\n",
        "function Ic(ados, M::M_Fermion, bathIdx::Int)\n",
        "    # the hierarchy dictionary\n",
        "    HDict = M.hierarchy\n",
        "\n",
        "    # we need all the indices of ADOs for the first level\n",
        "    idx_list = HDict.lvl2idx[1]\n",
        "    I = 0.0im\n",
        "    for idx in idx_list\n",
        "        ρ1 = ados[idx]  # 1st-level ADO\n",
        "\n",
        "        # find the corresponding bath index (α) and exponent term index (k)\n",
        "        nvec = HDict.idx2nvec[idx]\n",
        "        for (α, k, _) in getIndexEnsemble(nvec, HDict.bathPtr)\n",
        "            if α == bathIdx\n",
        "                exponent = M.bath[α][k]\n",
        "                if exponent.types == \"fA\"     # fermion-absorption\n",
        "                    I += tr(exponent.op' * ρ1)\n",
        "                elseif exponent.types == \"fE\" # fermion-emission\n",
        "                    I -= tr(exponent.op' * ρ1)\n",
        "                end\n",
        "                break\n",
        "            end\n",
        "        end\n",
        "    end\n",
        "\n",
        "    eV_to_Joule = 1.60218E-19  # unit conversion\n",
        "\n",
        "    # (e / ħ) * I  [change unit to μA] \n",
        "    return 1.519270639695384E15 * real(1im * I) * eV_to_Joule * 1E6\n",
        "end"
      ],
      "id": "14"
    },
    {
      "cell_type": "markdown",
      "metadata": {},
      "source": [
        "## steady current"
      ],
      "id": "2b52e99b-a386-4504-85d0-af09d85a5952"
    },
    {
      "cell_type": "code",
      "execution_count": 1,
      "metadata": {},
      "outputs": [
        {
          "output_type": "display_data",
          "metadata": {},
          "data": {
            "text/plain": [
              "201-element Vector{Float64}:\n",
              " -0.04632854331412763\n",
              " -0.04632854331412763\n",
              " -0.04632854331412763\n",
              " -0.04632854331412763\n",
              " -0.04632854331412763\n",
              " -0.04632854331412763\n",
              " -0.04632854331412763\n",
              " -0.04632854331412763\n",
              " -0.04632854331412763\n",
              " -0.04632854331412763\n",
              "  ⋮\n",
              " -0.04632854331412763\n",
              " -0.04632854331412763\n",
              " -0.04632854331412763\n",
              " -0.04632854331412763\n",
              " -0.04632854331412763\n",
              " -0.04632854331412763\n",
              " -0.04632854331412763\n",
              " -0.04632854331412763\n",
              " -0.04632854331412763"
            ]
          }
        }
      ],
      "source": [
        "Is_L = ones(length(tlist)) .* Ic(ados_steady, M, 1)\n",
        "Is_R = ones(length(tlist)) .* Ic(ados_steady, M, 2)"
      ],
      "id": "16"
    },
    {
      "cell_type": "markdown",
      "metadata": {},
      "source": [
        "## time evolution current"
      ],
      "id": "c21eb9c2-6a31-4ed6-9107-bca2a2b22fdc"
    },
    {
      "cell_type": "code",
      "execution_count": 1,
      "metadata": {},
      "outputs": [],
      "source": [
        "Ie_L = []\n",
        "Ie_R = []\n",
        "for ados in ados_evolution\n",
        "    push!(Ie_L, Ic(ados, M, 1))\n",
        "    push!(Ie_R, Ic(ados, M, 2))\n",
        "end"
      ],
      "id": "18"
    },
    {
      "cell_type": "markdown",
      "metadata": {},
      "source": [
        "plot the result"
      ],
      "id": "b74364c1-b474-46f0-b008-eb5c7f9f973d"
    },
    {
      "cell_type": "code",
      "execution_count": 1,
      "metadata": {},
      "outputs": [
        {
          "output_type": "display_data",
          "metadata": {},
          "data": {
            "image/svg+xml": "PD94bWwgdmVyc2lvbj0iMS4wIiBlbmNvZGluZz0iVVRGLTgiPz4KPHN2ZyB4bWxucz0iaHR0cDov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\nNSAiLz4KPC9zdmc+Cg==\n"
          }
        }
      ],
      "source": [
        "fig = Figure()\n",
        "ax = Axis(fig[1, 1], xlabel = \"time\", ylabel = \"Current\")\n",
        "lines!(ax, tlist, Ie_L, label = \"Bath L\", color = :blue, linestyle = :solid)\n",
        "lines!(ax, tlist, Ie_R, label = \"Bath R\", color = :red, linestyle = :solid)\n",
        "lines!(ax, tlist, Is_L, label = \"Bath L (Steady State)\", color = :blue, linestyle = :dash)\n",
        "lines!(ax, tlist, Is_R, label = \"Bath R (Steady State)\", color = :red, linestyle = :dash)\n",
        "\n",
        "axislegend(ax, position = :rt)\n",
        "\n",
        "fig"
      ],
      "id": "20"
    },
    {
      "cell_type": "markdown",
      "metadata": {},
      "source": [
        "## Version Information"
      ],
      "id": "7aed347d-699f-4c27-afa1-068986eae497"
    },
    {
      "cell_type": "code",
      "execution_count": 1,
      "metadata": {},
      "outputs": [],
      "source": [
        "HierarchicalEOM.versioninfo()"
      ],
      "id": "22"
    },
    {
      "cell_type": "markdown",
      "metadata": {},
      "source": [
        "Huang, Yi-Te, Po-Chen Kuo, Neill Lambert, Mauro Cirio, Simon Cross,\n",
        "Shen-Liang Yang, Franco Nori, and Yueh-Nan Chen. 2023. “An Efficient\n",
        "Julia Framework for Hierarchical Equations of Motion in Open Quantum\n",
        "Systems.” *Communications Physics* 6 (1): 313.\n",
        "<https://doi.org/10.1038/s42005-023-01427-2>."
      ],
      "id": "955e0392-860e-4fbe-9d6a-9e1cbe77e361"
    }
  ],
  "nbformat": 4,
  "nbformat_minor": 5,
  "metadata": {
    "kernel_info": {
      "name": "julia"
    },
    "kernelspec": {
      "name": "julia",
      "display_name": "Julia",
      "language": "julia"
    },
    "language_info": {
      "name": "julia",
      "codemirror_mode": "julia",
      "version": "1.11.5"
    }
  }
}