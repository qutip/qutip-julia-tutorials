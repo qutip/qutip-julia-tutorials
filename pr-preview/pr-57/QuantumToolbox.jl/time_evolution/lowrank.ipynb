{
  "cells": [
    {
      "cell_type": "markdown",
      "metadata": {},
      "source": [
        "# Low rank master equation\n",
        "\n",
        "Luca Gravina  \n",
        "2025-09-29\n",
        "\n",
        "## Introduction\n",
        "\n",
        "In this tutorial we will demonstrate how to solve the master equation\n",
        "without the quadratic overhead associated with the full manipulation of\n",
        "the density matrix. For a detailed explanation of the method, we\n",
        "recommend to read the Ref. (Gravina and Savona 2024).\n",
        "\n",
        "The proposed approach is based on the realization that many quantum\n",
        "systems, particularly those with low entropy, can be effectively\n",
        "represented by a density matrix of significantly lower rank than what\n",
        "the whole Hilbert space would require. This reduction is achieved by\n",
        "focusing on a subset of states that capture the essential structure of\n",
        "the statistical ensemble characterizing the mixed quantum state, thereby\n",
        "reducing computational complexity while maintaining the exactness of the\n",
        "method.\n",
        "\n",
        "### Low-rank master equations\n",
        "\n",
        "We consider a decomposition of the density matrix of the form $$\n",
        "    \\hat\\rho(t) = \\sum_{i,j=1}^{M(t)} B_{i,j}(t) | \\varphi_i(t) \\rangle \\langle \\varphi_j(t) |.\n",
        "$$ The states $\\{|\\varphi_k(t)\\rangle\\,;\\,k=1,\\ldots,M(t)\\}$ spanning\n",
        "the low-rank manifold, can in turn be decomposed as $$\n",
        "    |\\varphi_k(t)\\rangle = \\sum_{\\alpha=1}^{N} z_{\\alpha,k}(t) |e_\\alpha\\rangle,\n",
        "$$ where $\\{|e_\\alpha\\rangle\\,;\\,\\alpha=1,\\ldots,N\\}$ is a fixed basis\n",
        "of the Hilbert space, and $z_{\\alpha,k}(t)$ are the time-dependent\n",
        "coefficients.\n",
        "\n",
        "The coefficients $B_{i,j}(t)$ are collected in the matrix $B(t)$, and\n",
        "the coefficients $z_{\\alpha,k}(t)$ are collected in the matrix $z(t)$.\n",
        "\n",
        "In (Gravina and Savona 2024) all coefficients $B_{i,j}(t)$ and\n",
        "$z_{\\alpha,k}(t)$ are taken to be variational parameters. The evolution\n",
        "equation for the density matrix is consequently mapped onto a set of\n",
        "differential equations for such parameters via the time-dependent\n",
        "variational principle (TDVP).\n",
        "\n",
        "The TDVP ensures a dynamical adjustment of the variational states,\n",
        "guaranteeing the optimal set of states is selected at all times to best\n",
        "approximate the dissipative evolution. This allows for a significant\n",
        "reduction in computational complexity as the number of states $M(t)$\n",
        "necessary to accurately capture the dynamics of the system is as small\n",
        "as can be, hopefully much smaller than the full Hilbert space dimension\n",
        "$N$.\n",
        "\n",
        "## Low-rank dynamics of the transverse field Heisenberg model\n",
        "\n",
        "In this example we consider the dynamics of the transverse field Ising\n",
        "model (TFIM) on a 2x3 lattice. We start by importing the packages"
      ],
      "id": "eb909bdf-8b1d-43be-959b-06221e43b63e"
    },
    {
      "cell_type": "code",
      "execution_count": 1,
      "metadata": {},
      "outputs": [],
      "source": [
        "using QuantumToolbox\n",
        "using LinearAlgebra\n",
        "using CairoMakie\n",
        "\n",
        "CairoMakie.activate!(type = \"svg\")"
      ],
      "id": "2"
    },
    {
      "cell_type": "markdown",
      "metadata": {},
      "source": [
        "We define the lattice with dimensions `Nx = 2` and `Ny = 3` and use the\n",
        "`Lattice` class to generate the lattice."
      ],
      "id": "48ddca0b-316b-4596-8b06-cf8b99ae2642"
    },
    {
      "cell_type": "code",
      "execution_count": 1,
      "metadata": {},
      "outputs": [
        {
          "output_type": "display_data",
          "metadata": {},
          "data": {
            "text/plain": [
              "Lattice{Int64, LinearIndices{2, Tuple{Base.OneTo{Int64}, Base.OneTo{Int64}}}, CartesianIndices{2, Tuple{Base.OneTo{Int64}, Base.OneTo{Int64}}}}(2, 3, 6, [1 3 5; 2 4 6], CartesianIndices((2, 3)))"
            ]
          }
        }
      ],
      "source": [
        "Nx, Ny = 2, 3\n",
        "latt = Lattice(Nx = Nx, Ny = Ny)"
      ],
      "id": "4"
    },
    {
      "cell_type": "markdown",
      "metadata": {},
      "source": [
        "The Hamiltonian of the TFIM reads $$\n",
        "H = J_x \\sum_{\\langle i,j \\rangle} \\sigma_i^x \\sigma_j^x + J_y \\sum_{\\langle i,j \\rangle} \\sigma_i^y \\sigma_j^y + J_z \\sum_{\\langle i,j \\rangle} \\sigma_i^z \\sigma_j^z + h_x \\sum_i \\sigma_i^x,\n",
        "$$ where \\$ \\_i^{x,y,z} \\$ are the Pauli matrices acting on site \\$ i \\$\n",
        "and \\$ i,j \\$ denotes nearest neighbors. The collapse operators are\n",
        "given by $$\n",
        "c_i = \\sqrt{\\gamma} \\sigma_i^-,\n",
        "$$ where \\$ \\_i^- \\$ is the lowering operator acting on site \\$ i\\$. The\n",
        "many-body operators are constructed using"
      ],
      "id": "640959b0-2176-48fd-8134-487af2b13d4e"
    },
    {
      "cell_type": "code",
      "execution_count": 1,
      "metadata": {},
      "outputs": [],
      "source": [
        "Jx = 0.9\n",
        "Jy = 1.04\n",
        "Jz = 1.0\n",
        "hx = 0.0\n",
        "γ = 1\n",
        "\n",
        "Sx = mapreduce(i->multisite_operator(latt, i => sigmax()), +, 1:latt.N)\n",
        "Sy = mapreduce(i->multisite_operator(latt, i => sigmay()), +, 1:latt.N)\n",
        "Sz = mapreduce(i->multisite_operator(latt, i => sigmaz()), +, 1:latt.N)\n",
        "\n",
        "SFxx = sum([multisite_operator(latt, i => sigmax()) * multisite_operator(latt, j => sigmax()) for i in 1:latt.N for j in 1:latt.N])\n",
        "\n",
        "H, c_ops = DissipativeIsing(Jx, Jy, Jz, hx, 0., 0., γ, latt; boundary_condition=:periodic_bc, order=1)\n",
        "e_ops = (Sx, Sy, Sz, SFxx)\n",
        "\n",
        "tl = LinRange(0, 10, 100);"
      ],
      "id": "6"
    },
    {
      "cell_type": "markdown",
      "metadata": {},
      "source": [
        "### Constructing the low-rank basis\n",
        "\n",
        "We proceed by constructing the low-rank basis. `N_cut` is the dimension\n",
        "of the Hilbert space of each mode, and `N_modes` is the number of modes\n",
        "(or spins). We consider an initial low-rank basis with `M = Nx * Ny + 1`\n",
        "states.\n",
        "\n",
        "We first define the lr-space dimensions"
      ],
      "id": "64c5f482-fc73-4dea-bfb2-a2bea1dfd66c"
    },
    {
      "cell_type": "code",
      "execution_count": 1,
      "metadata": {},
      "outputs": [],
      "source": [
        "N_cut = 2 # Number of states of each mode\n",
        "N_modes = latt.N  # Number of modes\n",
        "N = N_cut^N_modes # Total number of states\n",
        "\n",
        "M = latt.N + 1; # Number of states in the LR basis"
      ],
      "id": "8"
    },
    {
      "cell_type": "markdown",
      "metadata": {},
      "source": [
        "Since we will take as initial state for our dynamics the pure state with\n",
        "all spins pointing up, the initial low-rank basis must include at least\n",
        "this state."
      ],
      "id": "d58c559e-2fe1-4de7-8206-96c6da4f9156"
    },
    {
      "cell_type": "code",
      "execution_count": 1,
      "metadata": {},
      "outputs": [
        {
          "output_type": "display_data",
          "metadata": {},
          "data": {
            "text/plain": [
              "\n",
              "Quantum Object:   type=Ket()   dims=[2, 2, 2, 2, 2, 2]   size=(64,)\n",
              "64-element Vector{ComplexF64}:\n",
              " 0.0 + 0.0im\n",
              " 0.0 + 0.0im\n",
              " 0.0 + 0.0im\n",
              " 0.0 + 0.0im\n",
              " 0.0 + 0.0im\n",
              " 0.0 + 0.0im\n",
              " 0.0 + 0.0im\n",
              " 0.0 + 0.0im\n",
              " 0.0 + 0.0im\n",
              " 0.0 + 0.0im\n",
              "     ⋮\n",
              " 0.0 + 0.0im\n",
              " 0.0 + 0.0im\n",
              " 0.0 + 0.0im\n",
              " 0.0 + 0.0im\n",
              " 0.0 + 0.0im\n",
              " 0.0 + 0.0im\n",
              " 0.0 + 0.0im\n",
              " 0.0 + 0.0im\n",
              " 1.0 + 0.0im"
            ]
          }
        }
      ],
      "source": [
        "ϕ = Vector{QuantumObject{Ket,Dimensions{M - 1,NTuple{M - 1,Space}},Vector{ComplexF64}}}(undef, M)\n",
        "ϕ[1] = kron(fill(basis(2, 1), N_modes)...)"
      ],
      "id": "10"
    },
    {
      "cell_type": "markdown",
      "metadata": {},
      "source": [
        "The remaining `M-1` states are taken as those with minimal Hamming\n",
        "distance from the latter state, that is those we obtain by flipping the\n",
        "spin of a single site with respect to the completely polarized state."
      ],
      "id": "6a132c20-5fa6-496d-914c-2ba98d23a200"
    },
    {
      "cell_type": "code",
      "execution_count": 1,
      "metadata": {},
      "outputs": [],
      "source": [
        "i = 1\n",
        "for j in 1:N_modes\n",
        "    global i += 1\n",
        "    i <= M && (ϕ[i] = multisite_operator(latt, j=>sigmap()) * ϕ[1])\n",
        "end\n",
        "\n",
        "for k in 1:N_modes-1\n",
        "    for l in k+1:N_modes\n",
        "        global i += 1\n",
        "        i <= M && (ϕ[i] = multisite_operator(latt, k=>sigmap(), l=>sigmap()) * ϕ[1])\n",
        "    end\n",
        "end"
      ],
      "id": "12"
    },
    {
      "cell_type": "markdown",
      "metadata": {},
      "source": [
        "At this point the vector of states `ϕ` contains the full representation\n",
        "of our low-rank states. These coefficients comprise matrix `z`.\n",
        "\n",
        "The matrix `B`, on the other hand, contains the populations and\n",
        "coherences with which each of the low-rank states contributes to the\n",
        "density matrix. We initialize it so that only the first state is\n",
        "populated, and all other states are unpopulated.\n",
        "\n",
        "We also compute the full density matrix `ρ` from the low-rank\n",
        "representation. Of course this defeats the purpose of the low-rank\n",
        "representation. We use it here for illustrative purposes to show that\n",
        "the low-rank predictions match the exact dynamics."
      ],
      "id": "7e24835d-8cb8-4b3d-82c5-b1d51d6275fa"
    },
    {
      "cell_type": "code",
      "execution_count": 1,
      "metadata": {},
      "outputs": [],
      "source": [
        "z = hcat(get_data.(ϕ)...)\n",
        "B = Matrix(Diagonal([1 + 0im; zeros(M - 1)]))\n",
        "S = z' * z # Overlap matrix\n",
        "B = B / tr(S * B) # Normalize B\n",
        "\n",
        "ρ = QuantumObject(z * B * z', dims = ntuple(i->N_cut, Val(N_modes))); # Full density matrix"
      ],
      "id": "14"
    },
    {
      "cell_type": "markdown",
      "metadata": {},
      "source": [
        "### Full evolution\n",
        "\n",
        "We now compare the results of the low-rank evolution with the full\n",
        "evolution. We first evolve the system using the `mesolve` function"
      ],
      "id": "11e629c0-08dd-4519-ad3b-b267fc3fd603"
    },
    {
      "cell_type": "code",
      "execution_count": 1,
      "metadata": {},
      "outputs": [
        {
          "output_type": "stream",
          "name": "stdout",
          "text": [
            "Progress: [==============================] 100.0% --- Elapsed Time: 0h 00m 00s (ETA: 0h 00m 00s)"
          ]
        }
      ],
      "source": [
        "sol_me = mesolve(H, ρ, tl, c_ops; e_ops = [e_ops...])\n",
        "Strue = entropy_vn(sol_me.states[end], base=2) / latt.N;"
      ],
      "id": "16"
    },
    {
      "cell_type": "markdown",
      "metadata": {},
      "source": [
        "### Low Rank evolution\n",
        "\n",
        "The `lr_mesolve` function allows to conveniently keep track of\n",
        "non-linear functionals of the density matrix during the evolution\n",
        "without ever computing the full density matrix and without the need to\n",
        "store `z` and `B` at each time step. To do so we define the functionals\n",
        "of the density matrix that we want to keep track of and that will be\n",
        "evaluated at each time step.\n",
        "\n",
        "We compute the purity $$\n",
        "P = \\mathrm{Tr}(\\rho^2),\n",
        "$$ the von Neumann entropy $$\n",
        "S = -\\mathrm{Tr}(\\rho \\log_2(\\rho)),\n",
        "$$ and the trace $$\n",
        "\\mathrm{Tr}(\\rho).\n",
        "$$\n",
        "\n",
        "To maximize efficiency and minimize memory allocations we make use of\n",
        "preallocated variables stores in the `parameters` constructor of the\n",
        "solver."
      ],
      "id": "03742d02-1ffe-458f-a2e1-d0396252a16c"
    },
    {
      "cell_type": "code",
      "execution_count": 1,
      "metadata": {},
      "outputs": [],
      "source": [
        "function f_purity(p, z, B)\n",
        "    N = p.N\n",
        "    M = p.M\n",
        "    S = p.S\n",
        "    T = p.temp_MM\n",
        "\n",
        "    mul!(T, S, B)\n",
        "    return tr(T^2)\n",
        "end\n",
        "\n",
        "function f_trace(p, z, B)\n",
        "    N = p.N\n",
        "    M = p.M\n",
        "    S = p.S\n",
        "    T = p.temp_MM\n",
        "\n",
        "    mul!(T, S, B)\n",
        "    return tr(T)\n",
        "end\n",
        "\n",
        "function f_entropy(p, z, B)\n",
        "    C = p.A0\n",
        "    σ = p.Bi\n",
        "\n",
        "    mul!(C, z, sqrt(B))\n",
        "    mul!(σ, C', C)\n",
        "    return entropy_vn(Qobj(Hermitian(σ), type=Operator()), base=2)\n",
        "end;"
      ],
      "id": "18"
    },
    {
      "cell_type": "markdown",
      "metadata": {},
      "source": [
        "A critical aspect of the LR truncation is the possibility to dynamically\n",
        "adjust the dimension of the basis throughout the system’s evolution\n",
        "$M=M(t)$. This adaptability is essential for accommodating changes in\n",
        "the system’s entropy over time.\n",
        "\n",
        "To adapt the dimension of the low-rank basis, we look at a control\n",
        "parameter $\\chi$ that is positively correlated with the entropy of the\n",
        "system and provides a measure of the quality of the low-rank\n",
        "approximation. When $\\chi$ exceeds a certain threshold, the dimension of\n",
        "the low-rank basis is increased by one.\n",
        "\n",
        "The options below specify how the dimension of the low-rank basis is\n",
        "adjusted during the evolution."
      ],
      "id": "f78f852c-a2db-48ee-9a63-e8451b247551"
    },
    {
      "cell_type": "code",
      "execution_count": 1,
      "metadata": {},
      "outputs": [],
      "source": [
        "opt = (err_max = 1e-3, p0 = 0.0, atol_inv = 1e-6, adj_condition = \"variational\", Δt = 0.0);"
      ],
      "id": "20"
    },
    {
      "cell_type": "markdown",
      "metadata": {},
      "source": [
        "`err_max` is the maximum error allowed in the time evolution of the\n",
        "density matrix.\n",
        "\n",
        "`p0` is the initial population with which the new state is added to the\n",
        "basis after crossing the threshold.\n",
        "\n",
        "`adj_condition = \"variational\"` selects one of three possible\n",
        "definitions for the control quantity `chi`. Specifically, the selected\n",
        "option consists in the leakage from the variational manifold and is\n",
        "defined as $$\n",
        "\\chi = \\operatorname{Tr}(S^{-1} L).\n",
        "$$\n",
        "\n",
        "Finally, `Δt` specifies the checkpointing interval by which the\n",
        "simulation is rewinded upon the basis expansion.\n",
        "\n",
        "Not directly related to the basis expansion, but still important for the\n",
        "stability of the algorithm, are the options `atol_inv` (the tolerance\n",
        "for the inverse of the overlap matrix) and `alg` (the ODE solver).\n",
        "\n",
        "We now launch the evolution using the `lr_mesolve` function"
      ],
      "id": "438343ab-b691-4d55-89ba-693e87e8edc4"
    },
    {
      "cell_type": "code",
      "execution_count": 1,
      "metadata": {},
      "outputs": [
        {
          "output_type": "stream",
          "name": "stdout",
          "text": [
            "Progress: 2%Progress: 3%Progress: 4%Progress: 5%Progress: 6%Progress: 7%Progress: 8%Progress: 9%Progress: 10%Progress: 11%Progress: 12%Progress: 13%Progress: 14%Progress: 15%Progress: 16%Progress: 17%Progress: 18%Progress: 19%Progress: 20%Progress: 21%Progress: 22%Progress: 23%Progress: 24%Progress: 25%Progress: 26%Progress: 27%Progress: 28%Progress: 29%Progress: 30%Progress: 31%Progress: 32%Progress: 33%Progress: 34%Progress: 35%Progress: 36%Progress: 37%Progress: 38%Progress: 39%Progress: 40%Progress: 41%Progress: 42%Progress: 43%Progress: 44%Progress: 45%Progress: 46%Progress: 47%Progress: 48%Progress: 49%Progress: 50%Progress: 51%Progress: 52%Progress: 53%Progress: 54%Progress: 55%Progress: 56%Progress: 57%Progress: 58%Progress: 59%Progress: 60%Progress: 61%Progress: 62%Progress: 63%Progress: 64%Progress: 65%Progress: 66%Progress: 67%Progress: 68%Progress: 69%Progress: 70%Progress: 71%Progress: 72%Progress: 73%Progress: 74%Progress: 75%Progress: 76%Progress: 77%Progress: 78%Progress: 79%Progress: 80%Progress: 81%Progress: 82%Progress: 83%Progress: 84%Progress: 85%Progress: 86%Progress: 87%Progress: 88%Progress: 89%Progress: 90%Progress: 91%Progress: 92%Progress: 93%Progress: 94%Progress: 95%Progress: 96%Progress: 97%Progress: 98%Progress: 99%Progress: 100%"
          ]
        }
      ],
      "source": [
        "sol_lr = lr_mesolve(H, z, B, tl, c_ops; e_ops = e_ops, f_ops = (f_purity, f_entropy, f_trace), opt = opt);"
      ],
      "id": "22"
    },
    {
      "cell_type": "markdown",
      "metadata": {},
      "source": [
        "We can now compare the results of the low-rank evolution with the full\n",
        "evolution."
      ],
      "id": "8f0370e6-e0b8-45df-8479-4eee86d4a1b2"
    },
    {
      "cell_type": "code",
      "execution_count": 1,
      "metadata": {},
      "outputs": [
        {
          "output_type": "display_data",
          "metadata": {},
          "data": {
            "image/svg+xml": "PD94bWwgdmVyc2lvbj0iMS4wIiBlbmNvZGluZz0iVVRGLTgiPz4KPHN2ZyB4bWxucz0iaHR0cDov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\nMSIgZD0iTSA4ODQgMzM2LjUgTCA4ODQgMTUuNSAiLz4KPC9zdmc+Cg==\n"
          }
        }
      ],
      "source": [
        "m_me = real(sol_me.expect[3, :]) / Nx / Ny\n",
        "m_lr = real(sol_lr.expect[3, :]) / Nx / Ny\n",
        "\n",
        "fig = Figure(size = (900, 400), fontsize = 15)\n",
        "ax = Axis(fig[1, 1], xlabel = L\"\\gamma t\", ylabel = L\"M_{z}\", xlabelsize = 20, ylabelsize = 20)\n",
        "lines!(ax, tl, m_lr, label = L\"LR $[M=M(t)]$\", linewidth = 2)\n",
        "lines!(ax, tl, m_me, label = \"Fock\", linewidth = 2, linestyle = :dash)\n",
        "axislegend(ax, position = :rb)\n",
        "\n",
        "ax2 = Axis(fig[1, 2], xlabel = L\"\\gamma t\", ylabel = \"Value\", xlabelsize = 20, ylabelsize = 20)\n",
        "lines!(ax2, tl, 1 .- real(sol_lr.fexpect[1, :]), label = L\"$1-P$\", linewidth = 2)\n",
        "lines!(\n",
        "    ax2,\n",
        "    tl,\n",
        "    1 .- real(sol_lr.fexpect[3, :]),\n",
        "    label = L\"$1-\\mathrm{Tr}(\\rho)$\",\n",
        "    linewidth = 2,\n",
        "    linestyle = :dash,\n",
        "    color = :orange,\n",
        ")\n",
        "lines!(ax2, tl, real(sol_lr.fexpect[2, :]) / Nx / Ny, color = :blue, label = L\"S\", linewidth = 2)\n",
        "hlines!(ax2, [Strue], color = :blue, linestyle = :dash, linewidth = 2, label = L\"S^{\\,\\mathrm{true}}_{\\mathrm{ss}}\")\n",
        "axislegend(ax2, position = :rb)\n",
        "\n",
        "fig"
      ],
      "id": "24"
    },
    {
      "cell_type": "markdown",
      "metadata": {},
      "source": [
        "## Version Information"
      ],
      "id": "ef0d2e28-060e-485e-9687-9cff2c4fa28c"
    },
    {
      "cell_type": "code",
      "execution_count": 1,
      "metadata": {},
      "outputs": [
        {
          "output_type": "stream",
          "name": "stdout",
          "text": [
            "\n",
            " QuantumToolbox.jl: Quantum Toolbox in Julia\n",
            "≡≡≡≡≡≡≡≡≡≡≡≡≡≡≡≡≡≡≡≡≡≡≡≡≡≡≡≡≡≡≡≡≡≡≡≡≡≡≡≡≡≡≡≡≡\n",
            "Copyright © QuTiP team 2022 and later.\n",
            "Current admin team:\n",
            "    Alberto Mercurio and Yi-Te Huang\n",
            "\n",
            "Package information:\n",
            "====================================\n",
            "Julia              Ver. 1.11.7\n",
            "QuantumToolbox     Ver. 0.34.1\n",
            "SciMLOperators     Ver. 1.7.2\n",
            "LinearSolve        Ver. 3.28.0\n",
            "OrdinaryDiffEqCore Ver. 1.34.0\n",
            "\n",
            "System information:\n",
            "====================================\n",
            "OS       : Linux (x86_64-linux-gnu)\n",
            "CPU      : 4 × Intel(R) Xeon(R) Platinum 8370C CPU @ 2.80GHz\n",
            "Memory   : 15.62 GB\n",
            "WORD_SIZE: 64\n",
            "LIBM     : libopenlibm\n",
            "LLVM     : libLLVM-16.0.6 (ORCJIT, icelake-server)\n",
            "BLAS     : libopenblas64_.so (ilp64)\n",
            "Threads  : 4 (on 4 virtual cores)\n"
          ]
        }
      ],
      "source": [
        "QuantumToolbox.versioninfo()"
      ],
      "id": "26"
    },
    {
      "cell_type": "markdown",
      "metadata": {},
      "source": [
        "Gravina, Luca, and Vincenzo Savona. 2024. “<span class=\"nocase\">Adaptive\n",
        "variational low-rank dynamics for open quantum systems</span>.” *Phys.\n",
        "Rev. Res.* 6 (April): 023072.\n",
        "<https://doi.org/10.1103/PhysRevResearch.6.023072>."
      ],
      "id": "85782311-f31e-4bf7-868b-44ec3c704218"
    }
  ],
  "nbformat": 4,
  "nbformat_minor": 5,
  "metadata": {
    "kernel_info": {
      "name": "julia"
    },
    "kernelspec": {
      "name": "julia",
      "display_name": "Julia",
      "language": "julia"
    },
    "language_info": {
      "name": "julia",
      "codemirror_mode": "julia",
      "version": "1.11.7"
    }
  }
}