{
  "cells": [
    {
      "cell_type": "markdown",
      "metadata": {},
      "source": [
        "# Tutorials for `HierarchicalEOM.jl`\n",
        "\n",
        "The following tutorials demonstrate and introduce specific functionality\n",
        "of `HierarchicalEOM.jl`.\n",
        "\n",
        "### Examples"
      ],
      "id": "31fc31e2-159f-46fe-885d-f8e40363688f"
    }
  ],
  "nbformat": 4,
  "nbformat_minor": 5,
  "metadata": {
    "kernelspec": {
      "display_name": "Python 3",
      "language": "python",
      "name": "python3"
    }
  }
}