{
  "cells": [
    {
      "cell_type": "markdown",
      "metadata": {},
      "source": [
        "# Tutorials for `HierarchicalEOM.jl`\n",
        "\n",
        "The following tutorials demonstrate and introduce specific functionality\n",
        "of `HierarchicalEOM.jl`.\n",
        "\n",
        "### Examples"
      ],
      "id": "1b3a7bd3-e5cc-4985-a23f-1b630d85c52e"
    }
  ],
  "nbformat": 4,
  "nbformat_minor": 5,
  "metadata": {
    "kernelspec": {
      "display_name": "Python 3",
      "language": "python",
      "name": "python3"
    }
  }
}