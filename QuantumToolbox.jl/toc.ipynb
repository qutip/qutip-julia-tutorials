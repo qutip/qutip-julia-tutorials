{
  "cells": [
    {
      "cell_type": "markdown",
      "metadata": {},
      "source": [
        "# Tutorials for `QuantumToolbox.jl`\n",
        "\n",
        "The following tutorials demonstrate and introduce specific functionality\n",
        "of `QuantumToolbox.jl`.\n",
        "\n",
        "### Time Evolution"
      ],
      "id": "f64890d9-8c79-42b9-ad29-df1ee34d84be"
    }
  ],
  "nbformat": 4,
  "nbformat_minor": 5,
  "metadata": {
    "kernelspec": {
      "display_name": "Python 3",
      "language": "python",
      "name": "python3"
    }
  }
}