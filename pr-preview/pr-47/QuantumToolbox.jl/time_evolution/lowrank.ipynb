{
  "cells": [
    {
      "cell_type": "markdown",
      "metadata": {},
      "source": [
        "# Low rank master equation\n",
        "\n",
        "Luca Gravina  \n",
        "2025-07-15\n",
        "\n",
        "## Introduction\n",
        "\n",
        "In this tutorial we will demonstrate how to solve the master equation\n",
        "without the quadratic overhead associated with the full manipulation of\n",
        "the density matrix. For a detailed explanation of the method, we\n",
        "recommend to read the Ref. (Gravina and Savona 2024).\n",
        "\n",
        "The proposed approach is based on the realization that many quantum\n",
        "systems, particularly those with low entropy, can be effectively\n",
        "represented by a density matrix of significantly lower rank than what\n",
        "the whole Hilbert space would require. This reduction is achieved by\n",
        "focusing on a subset of states that capture the essential structure of\n",
        "the statistical ensemble characterizing the mixed quantum state, thereby\n",
        "reducing computational complexity while maintaining the exactness of the\n",
        "method.\n",
        "\n",
        "### Low-rank master equations\n",
        "\n",
        "We consider a decomposition of the density matrix of the form $$\n",
        "    \\hat\\rho(t) = \\sum_{i,j=1}^{M(t)} B_{i,j}(t) | \\varphi_i(t) \\rangle \\langle \\varphi_j(t) |.\n",
        "$$ The states $\\{|\\varphi_k(t)\\rangle\\,;\\,k=1,\\ldots,M(t)\\}$ spanning\n",
        "the low-rank manifold, can in turn be decomposed as $$\n",
        "    |\\varphi_k(t)\\rangle = \\sum_{\\alpha=1}^{N} z_{\\alpha,k}(t) |e_\\alpha\\rangle,\n",
        "$$ where $\\{|e_\\alpha\\rangle\\,;\\,\\alpha=1,\\ldots,N\\}$ is a fixed basis\n",
        "of the Hilbert space, and $z_{\\alpha,k}(t)$ are the time-dependent\n",
        "coefficients.\n",
        "\n",
        "The coefficients $B_{i,j}(t)$ are collected in the matrix $B(t)$, and\n",
        "the coefficients $z_{\\alpha,k}(t)$ are collected in the matrix $z(t)$.\n",
        "\n",
        "In (Gravina and Savona 2024) all coefficients $B_{i,j}(t)$ and\n",
        "$z_{\\alpha,k}(t)$ are taken to be variational parameters. The evolution\n",
        "equation for the density matrix is consequently mapped onto a set of\n",
        "differential equations for such parameters via the time-dependent\n",
        "variational principle (TDVP).\n",
        "\n",
        "The TDVP ensures a dynamical adjustment of the variational states,\n",
        "guaranteeing the optimal set of states is selected at all times to best\n",
        "approximate the dissipative evolution. This allows for a significant\n",
        "reduction in computational complexity as the number of states $M(t)$\n",
        "necessary to accurately capture the dynamics of the system is as small\n",
        "as can be, hopefully much smaller than the full Hilbert space dimension\n",
        "$N$.\n",
        "\n",
        "## Low-rank dynamics of the transverse field Heisenberg model\n",
        "\n",
        "In this example we consider the dynamics of the transverse field Ising\n",
        "model (TFIM) on a 2x3 lattice. We start by importing the packages"
      ],
      "id": "6b1f0893-17ca-4674-8ab8-602ec67a17fc"
    },
    {
      "cell_type": "code",
      "execution_count": 1,
      "metadata": {},
      "outputs": [],
      "source": [
        "using QuantumToolbox\n",
        "using LinearAlgebra\n",
        "using CairoMakie\n",
        "\n",
        "CairoMakie.activate!(type = \"svg\")"
      ],
      "id": "2"
    },
    {
      "cell_type": "markdown",
      "metadata": {},
      "source": [
        "We define the lattice with dimensions `Nx = 2` and `Ny = 3` and use the\n",
        "`Lattice` class to generate the lattice."
      ],
      "id": "9860ad3c-2af0-4400-85fe-2fea71c6b559"
    },
    {
      "cell_type": "code",
      "execution_count": 1,
      "metadata": {},
      "outputs": [
        {
          "output_type": "display_data",
          "metadata": {},
          "data": {
            "text/plain": [
              "Lattice{Int64, LinearIndices{2, Tuple{Base.OneTo{Int64}, Base.OneTo{Int64}}}, CartesianIndices{2, Tuple{Base.OneTo{Int64}, Base.OneTo{Int64}}}}(2, 3, 6, [1 3 5; 2 4 6], CartesianIndices((2, 3)))"
            ]
          }
        }
      ],
      "source": [
        "Nx, Ny = 2, 3\n",
        "latt = Lattice(Nx = Nx, Ny = Ny)"
      ],
      "id": "4"
    },
    {
      "cell_type": "markdown",
      "metadata": {},
      "source": [
        "The Hamiltonian of the TFIM reads $$\n",
        "H = J_x \\sum_{\\langle i,j \\rangle} \\sigma_i^x \\sigma_j^x + J_y \\sum_{\\langle i,j \\rangle} \\sigma_i^y \\sigma_j^y + J_z \\sum_{\\langle i,j \\rangle} \\sigma_i^z \\sigma_j^z + h_x \\sum_i \\sigma_i^x,\n",
        "$$ where \\$ \\_i^{x,y,z} \\$ are the Pauli matrices acting on site \\$ i \\$\n",
        "and \\$ i,j \\$ denotes nearest neighbors. The collapse operators are\n",
        "given by $$\n",
        "c_i = \\sqrt{\\gamma} \\sigma_i^-,\n",
        "$$ where \\$ \\_i^- \\$ is the lowering operator acting on site \\$ i\\$. The\n",
        "many-body operators are constructed using"
      ],
      "id": "1e713258-2537-4992-86fe-f058c686e59e"
    },
    {
      "cell_type": "code",
      "execution_count": 1,
      "metadata": {},
      "outputs": [],
      "source": [
        "Jx = 0.9\n",
        "Jy = 1.04\n",
        "Jz = 1.0\n",
        "hx = 0.0\n",
        "γ = 1\n",
        "\n",
        "Sx = mapreduce(i->multisite_operator(latt, i => sigmax()), +, 1:latt.N)\n",
        "Sy = mapreduce(i->multisite_operator(latt, i => sigmay()), +, 1:latt.N)\n",
        "Sz = mapreduce(i->multisite_operator(latt, i => sigmaz()), +, 1:latt.N)\n",
        "\n",
        "SFxx = sum([multisite_operator(latt, i => sigmax()) * multisite_operator(latt, j => sigmax()) for i in 1:latt.N for j in 1:latt.N])\n",
        "\n",
        "H, c_ops = DissipativeIsing(Jx, Jy, Jz, hx, 0., 0., γ, latt; boundary_condition=:periodic_bc, order=1)\n",
        "e_ops = (Sx, Sy, Sz, SFxx)\n",
        "\n",
        "tl = LinRange(0, 10, 100);"
      ],
      "id": "6"
    },
    {
      "cell_type": "markdown",
      "metadata": {},
      "source": [
        "### Constructing the low-rank basis\n",
        "\n",
        "We proceed by constructing the low-rank basis. `N_cut` is the dimension\n",
        "of the Hilbert space of each mode, and `N_modes` is the number of modes\n",
        "(or spins). We consider an initial low-rank basis with `M = Nx * Ny + 1`\n",
        "states.\n",
        "\n",
        "We first define the lr-space dimensions"
      ],
      "id": "415f6c40-1e75-4517-acac-24c223bda967"
    },
    {
      "cell_type": "code",
      "execution_count": 1,
      "metadata": {},
      "outputs": [],
      "source": [
        "N_cut = 2 # Number of states of each mode\n",
        "N_modes = latt.N  # Number of modes\n",
        "N = N_cut^N_modes # Total number of states\n",
        "\n",
        "M = latt.N + 1; # Number of states in the LR basis"
      ],
      "id": "8"
    },
    {
      "cell_type": "markdown",
      "metadata": {},
      "source": [
        "Since we will take as initial state for our dynamics the pure state with\n",
        "all spins pointing up, the initial low-rank basis must include at least\n",
        "this state."
      ],
      "id": "7251eac4-4ffe-4a96-a879-bce6461732db"
    },
    {
      "cell_type": "code",
      "execution_count": 1,
      "metadata": {},
      "outputs": [
        {
          "output_type": "display_data",
          "metadata": {},
          "data": {
            "text/plain": [
              "\n",
              "Quantum Object:   type=Ket()   dims=[2, 2, 2, 2, 2, 2]   size=(64,)\n",
              "64-element Vector{ComplexF64}:\n",
              " 0.0 + 0.0im\n",
              " 0.0 + 0.0im\n",
              " 0.0 + 0.0im\n",
              " 0.0 + 0.0im\n",
              " 0.0 + 0.0im\n",
              " 0.0 + 0.0im\n",
              " 0.0 + 0.0im\n",
              " 0.0 + 0.0im\n",
              " 0.0 + 0.0im\n",
              " 0.0 + 0.0im\n",
              "     ⋮\n",
              " 0.0 + 0.0im\n",
              " 0.0 + 0.0im\n",
              " 0.0 + 0.0im\n",
              " 0.0 + 0.0im\n",
              " 0.0 + 0.0im\n",
              " 0.0 + 0.0im\n",
              " 0.0 + 0.0im\n",
              " 0.0 + 0.0im\n",
              " 1.0 + 0.0im"
            ]
          }
        }
      ],
      "source": [
        "ϕ = Vector{QuantumObject{Ket,Dimensions{M - 1,NTuple{M - 1,Space}},Vector{ComplexF64}}}(undef, M)\n",
        "ϕ[1] = kron(fill(basis(2, 1), N_modes)...)"
      ],
      "id": "10"
    },
    {
      "cell_type": "markdown",
      "metadata": {},
      "source": [
        "The remaining `M-1` states are taken as those with minimal Hamming\n",
        "distance from the latter state, that is those we obtain by flipping the\n",
        "spin of a single site with respect to the completely polarized state."
      ],
      "id": "1b06faa8-60c6-43c4-959f-75c8ab580f07"
    },
    {
      "cell_type": "code",
      "execution_count": 1,
      "metadata": {},
      "outputs": [],
      "source": [
        "i = 1\n",
        "for j in 1:N_modes\n",
        "    global i += 1\n",
        "    i <= M && (ϕ[i] = multisite_operator(latt, j=>sigmap()) * ϕ[1])\n",
        "end\n",
        "\n",
        "for k in 1:N_modes-1\n",
        "    for l in k+1:N_modes\n",
        "        global i += 1\n",
        "        i <= M && (ϕ[i] = multisite_operator(latt, k=>sigmap(), l=>sigmap()) * ϕ[1])\n",
        "    end\n",
        "end"
      ],
      "id": "12"
    },
    {
      "cell_type": "markdown",
      "metadata": {},
      "source": [
        "At this point the vector of states `ϕ` contains the full representation\n",
        "of our low-rank states. These coefficients comprise matrix `z`.\n",
        "\n",
        "The matrix `B`, on the other hand, contains the populations and\n",
        "coherences with which each of the low-rank states contributes to the\n",
        "density matrix. We initialize it so that only the first state is\n",
        "populated, and all other states are unpopulated.\n",
        "\n",
        "We also compute the full density matrix `ρ` from the low-rank\n",
        "representation. Of course this defeats the purpose of the low-rank\n",
        "representation. We use it here for illustrative purposes to show that\n",
        "the low-rank predictions match the exact dynamics."
      ],
      "id": "91bd1139-cfa7-45aa-9366-b24abca7e3ac"
    },
    {
      "cell_type": "code",
      "execution_count": 1,
      "metadata": {},
      "outputs": [],
      "source": [
        "z = hcat(get_data.(ϕ)...)\n",
        "B = Matrix(Diagonal([1 + 0im; zeros(M - 1)]))\n",
        "S = z' * z # Overlap matrix\n",
        "B = B / tr(S * B) # Normalize B\n",
        "\n",
        "ρ = QuantumObject(z * B * z', dims = ntuple(i->N_cut, Val(N_modes))); # Full density matrix"
      ],
      "id": "14"
    },
    {
      "cell_type": "markdown",
      "metadata": {},
      "source": [
        "### Full evolution\n",
        "\n",
        "We now compare the results of the low-rank evolution with the full\n",
        "evolution. We first evolve the system using the `mesolve` function"
      ],
      "id": "6fdf970a-1a25-42ef-8e3c-f7bdd39e7f68"
    },
    {
      "cell_type": "code",
      "execution_count": 1,
      "metadata": {},
      "outputs": [
        {
          "output_type": "stream",
          "name": "stdout",
          "text": [
            "Progress: [==============================] 100.0% --- Elapsed Time: 0h 00m 00s (ETA: 0h 00m 00s)"
          ]
        }
      ],
      "source": [
        "sol_me = mesolve(H, ρ, tl, c_ops; e_ops = [e_ops...])\n",
        "Strue = entropy_vn(sol_me.states[end], base=2) / latt.N;"
      ],
      "id": "16"
    },
    {
      "cell_type": "markdown",
      "metadata": {},
      "source": [
        "### Low Rank evolution\n",
        "\n",
        "The `lr_mesolve` function allows to conveniently keep track of\n",
        "non-linear functionals of the density matrix during the evolution\n",
        "without ever computing the full density matrix and without the need to\n",
        "store `z` and `B` at each time step. To do so we define the functionals\n",
        "of the density matrix that we want to keep track of and that will be\n",
        "evaluated at each time step.\n",
        "\n",
        "We compute the purity $$\n",
        "P = \\mathrm{Tr}(\\rho^2),\n",
        "$$ the von Neumann entropy $$\n",
        "S = -\\mathrm{Tr}(\\rho \\log_2(\\rho)),\n",
        "$$ and the trace $$\n",
        "\\mathrm{Tr}(\\rho).\n",
        "$$\n",
        "\n",
        "To maximize efficiency and minimize memory allocations we make use of\n",
        "preallocated variables stores in the `parameters` constructor of the\n",
        "solver."
      ],
      "id": "e2fa2871-e507-46e9-a62f-dae04de64953"
    },
    {
      "cell_type": "code",
      "execution_count": 1,
      "metadata": {},
      "outputs": [],
      "source": [
        "function f_purity(p, z, B)\n",
        "    N = p.N\n",
        "    M = p.M\n",
        "    S = p.S\n",
        "    T = p.temp_MM\n",
        "\n",
        "    mul!(T, S, B)\n",
        "    return tr(T^2)\n",
        "end\n",
        "\n",
        "function f_trace(p, z, B)\n",
        "    N = p.N\n",
        "    M = p.M\n",
        "    S = p.S\n",
        "    T = p.temp_MM\n",
        "\n",
        "    mul!(T, S, B)\n",
        "    return tr(T)\n",
        "end\n",
        "\n",
        "function f_entropy(p, z, B)\n",
        "    C = p.A0\n",
        "    σ = p.Bi\n",
        "\n",
        "    mul!(C, z, sqrt(B))\n",
        "    mul!(σ, C', C)\n",
        "    return entropy_vn(Qobj(Hermitian(σ), type=Operator()), base=2)\n",
        "end;"
      ],
      "id": "18"
    },
    {
      "cell_type": "markdown",
      "metadata": {},
      "source": [
        "A critical aspect of the LR truncation is the possibility to dynamically\n",
        "adjust the dimension of the basis throughout the system’s evolution\n",
        "$M=M(t)$. This adaptability is essential for accommodating changes in\n",
        "the system’s entropy over time.\n",
        "\n",
        "To adapt the dimension of the low-rank basis, we look at a control\n",
        "parameter $\\chi$ that is positively correlated with the entropy of the\n",
        "system and provides a measure of the quality of the low-rank\n",
        "approximation. When $\\chi$ exceeds a certain threshold, the dimension of\n",
        "the low-rank basis is increased by one.\n",
        "\n",
        "The options below specify how the dimension of the low-rank basis is\n",
        "adjusted during the evolution."
      ],
      "id": "ca2cbd5b-f189-499c-8415-eb4934006aeb"
    },
    {
      "cell_type": "code",
      "execution_count": 1,
      "metadata": {},
      "outputs": [],
      "source": [
        "opt = (err_max = 1e-3, p0 = 0.0, atol_inv = 1e-6, adj_condition = \"variational\", Δt = 0.0);"
      ],
      "id": "20"
    },
    {
      "cell_type": "markdown",
      "metadata": {},
      "source": [
        "`err_max` is the maximum error allowed in the time evolution of the\n",
        "density matrix.\n",
        "\n",
        "`p0` is the initial population with which the new state is added to the\n",
        "basis after crossing the threshold.\n",
        "\n",
        "`adj_condition = \"variational\"` selects one of three possible\n",
        "definitions for the control quantity `chi`. Specifically, the selected\n",
        "option consists in the leakage from the variational manifold and is\n",
        "defined as $$\n",
        "\\chi = \\operatorname{Tr}(S^{-1} L).\n",
        "$$\n",
        "\n",
        "Finally, `Δt` specifies the checkpointing interval by which the\n",
        "simulation is rewinded upon the basis expansion.\n",
        "\n",
        "Not directly related to the basis expansion, but still important for the\n",
        "stability of the algorithm, are the options `atol_inv` (the tolerance\n",
        "for the inverse of the overlap matrix) and `alg` (the ODE solver).\n",
        "\n",
        "We now launch the evolution using the `lr_mesolve` function"
      ],
      "id": "fb8b7ad9-68e8-4d0e-8a3a-c773ba757515"
    },
    {
      "cell_type": "code",
      "execution_count": 1,
      "metadata": {},
      "outputs": [
        {
          "output_type": "stream",
          "name": "stdout",
          "text": [
            "Progress: 2%Progress: 3%Progress: 4%Progress: 5%Progress: 6%Progress: 7%Progress: 8%Progress: 9%Progress: 10%Progress: 11%Progress: 12%Progress: 13%Progress: 14%Progress: 15%Progress: 16%Progress: 17%Progress: 18%Progress: 19%Progress: 20%Progress: 21%Progress: 22%Progress: 23%Progress: 24%Progress: 25%Progress: 26%Progress: 27%Progress: 28%Progress: 29%Progress: 30%Progress: 31%Progress: 32%Progress: 33%Progress: 34%Progress: 35%Progress: 36%Progress: 37%Progress: 38%Progress: 39%Progress: 40%Progress: 41%Progress: 42%Progress: 43%Progress: 44%Progress: 45%Progress: 46%Progress: 47%Progress: 48%Progress: 49%Progress: 50%Progress: 51%Progress: 52%Progress: 53%Progress: 54%Progress: 55%Progress: 56%Progress: 57%Progress: 58%Progress: 59%Progress: 60%Progress: 61%Progress: 62%Progress: 63%Progress: 64%Progress: 65%Progress: 66%Progress: 67%Progress: 68%Progress: 69%Progress: 70%Progress: 71%Progress: 72%Progress: 73%Progress: 74%Progress: 75%Progress: 76%Progress: 77%Progress: 78%Progress: 79%Progress: 80%Progress: 81%Progress: 82%Progress: 83%Progress: 84%Progress: 85%Progress: 86%Progress: 87%Progress: 88%Progress: 89%Progress: 90%Progress: 91%Progress: 92%Progress: 93%Progress: 94%Progress: 95%Progress: 96%Progress: 97%Progress: 98%Progress: 99%Progress: 100%"
          ]
        }
      ],
      "source": [
        "sol_lr = lr_mesolve(H, z, B, tl, c_ops; e_ops = e_ops, f_ops = (f_purity, f_entropy, f_trace), opt = opt);"
      ],
      "id": "22"
    },
    {
      "cell_type": "markdown",
      "metadata": {},
      "source": [
        "We can now compare the results of the low-rank evolution with the full\n",
        "evolution."
      ],
      "id": "6825775f-3b24-4b0d-8a81-51d2a11f185a"
    },
    {
      "cell_type": "code",
      "execution_count": 1,
      "metadata": {},
      "outputs": [
        {
          "output_type": "display_data",
          "metadata": {},
          "data": {
            "image/svg+xml": "PD94bWwgdmVyc2lvbj0iMS4wIiBlbmNvZGluZz0iVVRGLTgiPz4KPHN2ZyB4bWxucz0iaHR0cDov\nL3d3dy53My5vcmcvMjAwMC9zdmciIHhtbG5zOnhsaW5rPSJodHRwOi8vd3d3LnczLm9yZy8xOTk5\nL3hsaW5rIiB3aWR0aD0iOTAwIiBoZWlnaHQ9IjQwMCIgdmlld0JveD0iMCAwIDkwMCA0MDAiPgo8\nZGVmcz4KPGc+CjxnIGlkPSJnbHlwaC0wLTAtMWJhMjhlNmYiPgo8cGF0aCBkPSJNIDEwLjg1OTM3\nNSAtOC40MjE4NzUgQyAxMC44NTkzNzUgLTguNjI1IDEwLjYyNSAtOC42MjUgMTAuNjI1IC04LjYy\nNSBDIDEwLjU2MjUgLTguNjI1IDEwLjQzNzUgLTguNjI1IDEwLjM3NSAtOC40ODQzNzUgQyA5LjM0\nMzc1IC02LjU3ODEyNSA4LjU0Njg3NSAtNC41NzgxMjUgNy43MzQzNzUgLTIuNTYyNSBDIDcuNzE4\nNzUgLTMuMTg3NSA3LjcwMzEyNSAtNC43MDMxMjUgNi45MjE4NzUgLTYuNjQwNjI1IEMgNi40Mzc1\nIC03Ljg1OTM3NSA1LjY0MDYyNSAtOC44NDM3NSA0LjI2NTYyNSAtOC44NDM3NSBDIDEuNzY1NjI1\nIC04Ljg0Mzc1IDAuMzU5Mzc1IC01Ljc5Njg3NSAwLjM1OTM3NSAtNS4xODc1IEMgMC4zNTkzNzUg\nLTQuOTg0Mzc1IDAuNTQ2ODc1IC00Ljk4NDM3NSAwLjczNDM3NSAtNC45ODQzNzUgTCAwLjgxMjUg\nLTUuMDc4MTI1IEMgMS41OTM3NSAtNy4zNzUgMy43ODEyNSAtNy40MDYyNSA0IC03LjQwNjI1IEMg\nNy4wMTU2MjUgLTcuNDA2MjUgNy4yMzQzNzUgLTMuOTA2MjUgNy4yMzQzNzUgLTIuMzEyNSBDIDcu\nMjM0Mzc1IC0xLjA5Mzc1IDcuMTQwNjI1IC0wLjc2NTYyNSA3IC0wLjM1OTM3NSBDIDYuNTYyNSAx\nLjA5Mzc1IDUuOTUzMTI1IDMuNDIxODc1IDUuOTUzMTI1IDMuOTM3NSBDIDUuOTUzMTI1IDQuMTU2\nMjUgNi4wNjI1IDQuMjk2ODc1IDYuMjE4NzUgNC4yOTY4NzUgQyA2LjQ4NDM3NSA0LjI5Njg3NSA2\nLjY0MDYyNSAzLjg1OTM3NSA2Ljg1OTM3NSAzLjA5Mzc1IEMgNy4zMTI1IDEuNDIxODc1IDcuNTE1\nNjI1IDAuMjgxMjUgNy41OTM3NSAtMC4zNDM3NSBDIDcuNjQwNjI1IC0wLjU5Mzc1IDcuNjg3NSAt\nMC44NTkzNzUgNy43NjU2MjUgLTEuMTI1IEMgOC40MDYyNSAtMy4wOTM3NSA5LjY4NzUgLTYuMDc4\nMTI1IDEwLjQ4NDM3NSAtNy42NTYyNSBDIDEwLjYyNSAtNy45MDYyNSAxMC44NTkzNzUgLTguMzQz\nNzUgMTAuODU5Mzc1IC04LjQyMTg3NSBaIE0gMTAuODU5Mzc1IC04LjQyMTg3NSAiLz4KPC9nPgo8\nZyBpZD0iZ2x5cGgtMS0wLTFiYTI4ZTZmIj4KPHBhdGggZD0iTSA3LjEyNSAtMi44NTkzNzUgQyA3\nLjEyNSAtMy4wNjI1IDYuOTUzMTI1IC0zLjA2MjUgNi44MTI1IC0zLjA2MjUgQyA2LjU3ODEyNSAt\nMy4wNjI1IDYuNTc4MTI1IC0zLjA0Njg3NSA2LjQyMTg3NSAtMi42ODc1IEMgNi4wNjI1IC0xLjcx\nODc1IDUuMjY1NjI1IC0wLjIxODc1IDQuMTI1IC0wLjIxODc1IEMgMy41NzgxMjUgLTAuMjE4NzUg\nMy41NzgxMjUgLTAuNzE4NzUgMy41NzgxMjUgLTEuMDQ2ODc1IEMgMy41NzgxMjUgLTEuMTg3NSAz\nLjU3ODEyNSAtMS41IDMuNzE4NzUgLTIuMDYyNSBMIDUuMjAzMTI1IC04IEwgNi45MDYyNSAtOCBD\nIDcuMjM0Mzc1IC04IDcuNDUzMTI1IC04IDcuNDUzMTI1IC04LjM3NSBDIDcuNDUzMTI1IC04LjYy\nNSA3LjI4MTI1IC04LjYyNSA2Ljk1MzEyNSAtOC42MjUgTCA1LjM1OTM3NSAtOC42MjUgTCA2LjA5\nMzc1IC0xMS41NzgxMjUgQyA2LjE4NzUgLTExLjg1OTM3NSA2LjE4NzUgLTExLjkwNjI1IDYuMTg3\nNSAtMTIgQyA2LjE4NzUgLTEyLjQyMTg3NSA1Ljg0Mzc1IC0xMi41MTU2MjUgNS42NDA2MjUgLTEy\nLjUxNTYyNSBDIDUuMTQwNjI1IC0xMi41MTU2MjUgNC45Mzc1IC0xMi4wOTM3NSA0Ljg1OTM3NSAt\nMTEuNzk2ODc1IEwgNC4wNzgxMjUgLTguNjI1IEwgMi4zNzUgLTguNjI1IEMgMi4wNDY4NzUgLTgu\nNjI1IDEuODEyNSAtOC42MjUgMS44MTI1IC04LjIzNDM3NSBDIDEuODEyNSAtOCAyIC04IDIuMzEy\nNSAtOCBMIDMuOTIxODc1IC04IEwgMi40ODQzNzUgLTIuMjY1NjI1IEMgMi40NTMxMjUgLTIuMTg3\nNSAyLjM3NSAtMS44NTkzNzUgMi4zNzUgLTEuNTc4MTI1IEMgMi4zNzUgLTAuNTc4MTI1IDMuMDQ2\nODc1IDAuMjE4NzUgNC4wNzgxMjUgMC4yMTg3NSBDIDYuMDkzNzUgMC4yMTg3NSA3LjEyNSAtMi43\nNjU2MjUgNy4xMjUgLTIuODU5Mzc1IFogTSA3LjEyNSAtMi44NTkzNzUgIi8+CjwvZz4KPGcgaWQ9\nImdseXBoLTItMC0xYmEyOGU2ZiI+CjxwYXRoIGQ9Ik0gNy42MDkzNzUgLTUuMTA5Mzc1IEMgNy42\nMDkzNzUgLTEuNjI1IDYuMzc1IDAuMjE4NzUgNC4xMjUgMC4yMTg3NSBDIDEuODQzNzUgMC4yMTg3\nNSAwLjY0MDYyNSAtMS42MjUgMC42NDA2MjUgLTUuMjAzMTI1IEMgMC42NDA2MjUgLTguNzgxMjUg\nMS44MjgxMjUgLTEwLjY0MDYyNSA0LjEyNSAtMTAuNjQwNjI1IEMgNi40Mzc1IC0xMC42NDA2MjUg\nNy42MDkzNzUgLTguODEyNSA3LjYwOTM3NSAtNS4xMDkzNzUgWiBNIDYuMjUgLTUuMjM0Mzc1IEMg\nNi4yNSAtOC4wNzgxMjUgNS41NDY4NzUgLTkuNDY4NzUgNC4xMjUgLTkuNDY4NzUgQyAyLjcwMzEy\nNSAtOS40Njg3NSAyIC04LjA5Mzc1IDIgLTUuMTg3NSBDIDIgLTIuMjgxMjUgMi43MDMxMjUgLTAu\nODc1IDQuMDkzNzUgLTAuODc1IEMgNS41NjI1IC0wLjg3NSA2LjI1IC0yLjIxODc1IDYuMjUgLTUu\nMjM0Mzc1IFogTSA2LjI1IC01LjIzNDM3NSAiLz4KPC9nPgo8ZyBpZD0iZ2x5cGgtMy0wLTFiYTI4\nZTZmIj4KPHBhdGggZD0iTSA3LjY4NzUgLTMuNTMxMjUgQyA3LjY4NzUgLTEuMjgxMjUgNi4xODc1\nIDAuMjE4NzUgNC4wNDY4NzUgMC4yMTg3NSBDIDIuMTU2MjUgMC4yMTg3NSAwLjk1MzEyNSAtMC42\nMDkzNzUgMC41MzEyNSAtMi43MzQzNzUgQyAwLjUzMTI1IC0yLjczNDM3NSAxLjg0Mzc1IC0yLjcz\nNDM3NSAxLjg0Mzc1IC0yLjczNDM3NSBDIDIuMTU2MjUgLTEuNTMxMjUgMi44NTkzNzUgLTAuOTM3\nNSA0LjAxNTYyNSAtMC45Mzc1IEMgNS40NTMxMjUgLTAuOTM3NSA2LjM0Mzc1IC0xLjgxMjUgNi4z\nNDM3NSAtMy4zNDM3NSBDIDYuMzQzNzUgLTQuOTIxODc1IDUuNDM3NSAtNS44MjgxMjUgNC4wMTU2\nMjUgLTUuODI4MTI1IEMgMy4xODc1IC01LjgyODEyNSAyLjY4NzUgLTUuNTc4MTI1IDIuMDYyNSAt\nNC44NDM3NSBDIDIuMDYyNSAtNC44NDM3NSAwLjg1OTM3NSAtNC44NDM3NSAwLjg1OTM3NSAtNC44\nNDM3NSBDIDAuODU5Mzc1IC00Ljg0Mzc1IDEuNjU2MjUgLTEwLjQwNjI1IDEuNjU2MjUgLTEwLjQw\nNjI1IEMgMS42NTYyNSAtMTAuNDA2MjUgNy4xNDA2MjUgLTEwLjQwNjI1IDcuMTQwNjI1IC0xMC40\nMDYyNSBDIDcuMTQwNjI1IC0xMC40MDYyNSA3LjE0MDYyNSAtOS4xMDkzNzUgNy4xNDA2MjUgLTku\nMTA5Mzc1IEMgNy4xNDA2MjUgLTkuMTA5Mzc1IDIuNzE4NzUgLTkuMTA5Mzc1IDIuNzE4NzUgLTku\nMTA5Mzc1IEMgMi43MTg3NSAtOS4xMDkzNzUgMi4yOTY4NzUgLTYuMzU5Mzc1IDIuMjk2ODc1IC02\nLjM1OTM3NSBDIDIuOTA2MjUgLTYuODEyNSAzLjUxNTYyNSAtNyA0LjI2NTYyNSAtNyBDIDYuMjk2\nODc1IC03IDcuNjg3NSAtNS42MjUgNy42ODc1IC0zLjUzMTI1IFogTSA3LjY4NzUgLTMuNTMxMjUg\nIi8+CjwvZz4KPGcgaWQ9ImdseXBoLTMtMS0xYmEyOGU2ZiI+CjxwYXRoIGQ9Ik0gNS4yMDMxMjUg\nMCBDIDUuMjAzMTI1IDAgMy44OTA2MjUgMCAzLjg5MDYyNSAwIEMgMy44OTA2MjUgMCAzLjg5MDYy\nNSAtNy41NzgxMjUgMy44OTA2MjUgLTcuNTc4MTI1IEMgMy44OTA2MjUgLTcuNTc4MTI1IDEuNTMx\nMjUgLTcuNTc4MTI1IDEuNTMxMjUgLTcuNTc4MTI1IEMgMS41MzEyNSAtNy41NzgxMjUgMS41MzEy\nNSAtOC41MTU2MjUgMS41MzEyNSAtOC41MTU2MjUgQyAzLjU2MjUgLTguNzgxMjUgMy44NzUgLTkg\nNC4zMjgxMjUgLTEwLjY0MDYyNSBDIDQuMzI4MTI1IC0xMC42NDA2MjUgNS4yMDMxMjUgLTEwLjY0\nMDYyNSA1LjIwMzEyNSAtMTAuNjQwNjI1IEMgNS4yMDMxMjUgLTEwLjY0MDYyNSA1LjIwMzEyNSAw\nIDUuMjAzMTI1IDAgWiBNIDUuMjAzMTI1IDAgIi8+CjwvZz4KPGcgaWQ9ImdseXBoLTMtMi0xYmEy\nOGU2ZiI+CjxwYXRoIGQ9Ik0gNy42MDkzNzUgLTUuMTA5Mzc1IEMgNy42MDkzNzUgLTEuNjI1IDYu\nMzc1IDAuMjE4NzUgNC4xMjUgMC4yMTg3NSBDIDEuODQzNzUgMC4yMTg3NSAwLjY0MDYyNSAtMS42\nMjUgMC42NDA2MjUgLTUuMjAzMTI1IEMgMC42NDA2MjUgLTguNzgxMjUgMS44MjgxMjUgLTEwLjY0\nMDYyNSA0LjEyNSAtMTAuNjQwNjI1IEMgNi40Mzc1IC0xMC42NDA2MjUgNy42MDkzNzUgLTguODEy\nNSA3LjYwOTM3NSAtNS4xMDkzNzUgWiBNIDYuMjUgLTUuMjM0Mzc1IEMgNi4yNSAtOC4wNzgxMjUg\nNS41NDY4NzUgLTkuNDY4NzUgNC4xMjUgLTkuNDY4NzUgQyAyLjcwMzEyNSAtOS40Njg3NSAyIC04\nLjA5Mzc1IDIgLTUuMTg3NSBDIDIgLTIuMjgxMjUgMi43MDMxMjUgLTAuODc1IDQuMDkzNzUgLTAu\nODc1IEMgNS41NjI1IC0wLjg3NSA2LjI1IC0yLjIxODc1IDYuMjUgLTUuMjM0Mzc1IFogTSA2LjI1\nIC01LjIzNDM3NSAiLz4KPC9nPgo8ZyBpZD0iZ2x5cGgtMy0zLTFiYTI4ZTZmIj4KPHBhdGggZD0i\nTSAyLjg1OTM3NSAwIEMgMi44NTkzNzUgMCAxLjMxMjUgMCAxLjMxMjUgMCBDIDEuMzEyNSAwIDEu\nMzEyNSAtMS41NjI1IDEuMzEyNSAtMS41NjI1IEMgMS4zMTI1IC0xLjU2MjUgMi44NTkzNzUgLTEu\nNTYyNSAyLjg1OTM3NSAtMS41NjI1IEMgMi44NTkzNzUgLTEuNTYyNSAyLjg1OTM3NSAwIDIuODU5\nMzc1IDAgWiBNIDIuODU5Mzc1IDAgIi8+CjwvZz4KPGcgaWQ9ImdseXBoLTMtNC0xYmEyOGU2ZiI+\nCjxwYXRoIGQ9Ik0gOC42ODc1IC05LjcwMzEyNSBDIDguNjg3NSAtOS43MDMxMjUgMi43NSAtOS43\nMDMxMjUgMi43NSAtOS43MDMxMjUgQyAyLjc1IC05LjcwMzEyNSAyLjc1IC02LjIwMzEyNSAyLjc1\nIC02LjIwMzEyNSBDIDIuNzUgLTYuMjAzMTI1IDcuOTY4NzUgLTYuMjAzMTI1IDcuOTY4NzUgLTYu\nMjAzMTI1IEMgNy45Njg3NSAtNi4yMDMxMjUgNy45Njg3NSAtNC45ODQzNzUgNy45Njg3NSAtNC45\nODQzNzUgQyA3Ljk2ODc1IC00Ljk4NDM3NSAyLjc1IC00Ljk4NDM3NSAyLjc1IC00Ljk4NDM3NSBD\nIDIuNzUgLTQuOTg0Mzc1IDIuNzUgMCAyLjc1IDAgQyAyLjc1IDAgMS4zNDM3NSAwIDEuMzQzNzUg\nMCBDIDEuMzQzNzUgMCAxLjM0Mzc1IC0xMC45Mzc1IDEuMzQzNzUgLTEwLjkzNzUgQyAxLjM0Mzc1\nIC0xMC45Mzc1IDguNjg3NSAtMTAuOTM3NSA4LjY4NzUgLTEwLjkzNzUgQyA4LjY4NzUgLTEwLjkz\nNzUgOC42ODc1IC05LjcwMzEyNSA4LjY4NzUgLTkuNzAzMTI1IFogTSA4LjY4NzUgLTkuNzAzMTI1\nICIvPgo8L2c+CjxnIGlkPSJnbHlwaC0zLTUtMWJhMjhlNmYiPgo8cGF0aCBkPSJNIDcuNjU2MjUg\nLTMuODc1IEMgNy42NTYyNSAtMS4yOTY4NzUgNi4yOTY4NzUgMC4yMTg3NSA0LjA5Mzc1IDAuMjE4\nNzUgQyAxLjg1OTM3NSAwLjIxODc1IDAuNTQ2ODc1IC0xLjI5Njg3NSAwLjU0Njg3NSAtMy45Mzc1\nIEMgMC41NDY4NzUgLTYuNTYyNSAxLjg3NSAtOC4wNzgxMjUgNC4wNzgxMjUgLTguMDc4MTI1IEMg\nNi4zNDM3NSAtOC4wNzgxMjUgNy42NTYyNSAtNi41NzgxMjUgNy42NTYyNSAtMy44NzUgWiBNIDYu\nMzQzNzUgLTMuODkwNjI1IEMgNi4zNDM3NSAtNS44MjgxMjUgNS41IC02LjkzNzUgNC4wOTM3NSAt\nNi45Mzc1IEMgMi43MDMxMjUgLTYuOTM3NSAxLjg0Mzc1IC01LjgxMjUgMS44NDM3NSAtMy45Mzc1\nIEMgMS44NDM3NSAtMi4wMzEyNSAyLjcwMzEyNSAtMC45Mzc1IDQuMDkzNzUgLTAuOTM3NSBDIDUu\nNDY4NzUgLTAuOTM3NSA2LjM0Mzc1IC0yLjA0Njg3NSA2LjM0Mzc1IC0zLjg5MDYyNSBaIE0gNi4z\nNDM3NSAtMy44OTA2MjUgIi8+CjwvZz4KPGcgaWQ9ImdseXBoLTMtNi0xYmEyOGU2ZiI+CjxwYXRo\nIGQ9Ik0gNy4xNTYyNSAtMi43MDMxMjUgQyA3IC0wLjkwNjI1IDUuODEyNSAwLjIxODc1IDMuOTM3\nNSAwLjIxODc1IEMgMS44MTI1IDAuMjE4NzUgMC40Njg3NSAtMS4zMTI1IDAuNDY4NzUgLTMuODU5\nMzc1IEMgMC40Njg3NSAtNi40Njg3NSAxLjg0Mzc1IC04LjA3ODEyNSAzLjk1MzEyNSAtOC4wNzgx\nMjUgQyA1LjcxODc1IC04LjA3ODEyNSA2LjkyMTg3NSAtNy4xNDA2MjUgNy4wNjI1IC01LjIxODc1\nIEMgNy4wNjI1IC01LjIxODc1IDUuODEyNSAtNS4yMTg3NSA1LjgxMjUgLTUuMjE4NzUgQyA1LjY1\nNjI1IC02LjMxMjUgNSAtNi45Mzc1IDMuOTM3NSAtNi45Mzc1IEMgMi41NzgxMjUgLTYuOTM3NSAx\nLjc2NTYyNSAtNS44MTI1IDEuNzY1NjI1IC0zLjg1OTM3NSBDIDEuNzY1NjI1IC0yIDIuNTkzNzUg\nLTAuOTM3NSAzLjk2ODc1IC0wLjkzNzUgQyA1LjA0Njg3NSAtMC45Mzc1IDUuNjg3NSAtMS40Mzc1\nIDUuODkwNjI1IC0yLjcwMzEyNSBDIDUuODkwNjI1IC0yLjcwMzEyNSA3LjE1NjI1IC0yLjcwMzEy\nNSA3LjE1NjI1IC0yLjcwMzEyNSBaIE0gNy4xNTYyNSAtMi43MDMxMjUgIi8+CjwvZz4KPGcgaWQ9\nImdseXBoLTMtNy0xYmEyOGU2ZiI+CjxwYXRoIGQ9Ik0gNy41MzEyNSAwIEMgNy41MzEyNSAwIDUu\nOTg0Mzc1IDAgNS45ODQzNzUgMCBDIDUuOTg0Mzc1IDAgMy4zMjgxMjUgLTQuMjY1NjI1IDMuMzI4\nMTI1IC00LjI2NTYyNSBDIDMuMzI4MTI1IC00LjI2NTYyNSAyLjEwOTM3NSAtMy4wNjI1IDIuMTA5\nMzc1IC0zLjA2MjUgQyAyLjEwOTM3NSAtMy4wNjI1IDIuMTA5Mzc1IDAgMi4xMDkzNzUgMCBDIDIu\nMTA5Mzc1IDAgMC44NzUgMCAwLjg3NSAwIEMgMC44NzUgMCAwLjg3NSAtMTAuOTM3NSAwLjg3NSAt\nMTAuOTM3NSBDIDAuODc1IC0xMC45Mzc1IDIuMTA5Mzc1IC0xMC45Mzc1IDIuMTA5Mzc1IC0xMC45\nMzc1IEMgMi4xMDkzNzUgLTEwLjkzNzUgMi4xMDkzNzUgLTQuNTMxMjUgMi4xMDkzNzUgLTQuNTMx\nMjUgQyAyLjEwOTM3NSAtNC41MzEyNSA1LjQzNzUgLTcuODU5Mzc1IDUuNDM3NSAtNy44NTkzNzUg\nQyA1LjQzNzUgLTcuODU5Mzc1IDcuMDQ2ODc1IC03Ljg1OTM3NSA3LjA0Njg3NSAtNy44NTkzNzUg\nQyA3LjA0Njg3NSAtNy44NTkzNzUgNC4zMTI1IC01LjE0MDYyNSA0LjMxMjUgLTUuMTQwNjI1IEMg\nNC4zMTI1IC01LjE0MDYyNSA3LjUzMTI1IDAgNy41MzEyNSAwIFogTSA3LjUzMTI1IDAgIi8+Cjwv\nZz4KPGcgaWQ9ImdseXBoLTQtMC0xYmEyOGU2ZiI+CjxwYXRoIGQ9Ik0gLTAuMzU5Mzc1IC0xNi43\nODEyNSBDIC0wLjYyNSAtMTYuNzgxMjUgLTAuNjI1IC0xNi42NDA2MjUgLTAuNjI1IC0xNi4yMzQz\nNzUgQyAtMC42MjUgLTE1LjA3ODEyNSAtMC43ODEyNSAtMTUuMDc4MTI1IC0wLjk1MzEyNSAtMTUu\nMDc4MTI1IEMgLTAuOTUzMTI1IC0xNS4wNzgxMjUgLTEuMTI1IC0xNS4wNzgxMjUgLTEuNDIxODc1\nIC0xNS4xNTYyNSBMIC0xMi4yMzQzNzUgLTE3Ljg1OTM3NSBDIC0xMi44NzUgLTE4LjAxNTYyNSAt\nMTMuMDQ2ODc1IC0xOC4xODc1IC0xMy4wNDY4NzUgLTE5LjQzNzUgQyAtMTMuMDQ2ODc1IC0xOS44\nNTkzNzUgLTEzLjA0Njg3NSAtMjAuMDQ2ODc1IC0xMy40MDYyNSAtMjAuMDQ2ODc1IEMgLTEzLjY1\nNjI1IC0yMC4wNDY4NzUgLTEzLjY1NjI1IC0xOS44NzUgLTEzLjY1NjI1IC0xOS41NDY4NzUgTCAt\nMTMuNjU2MjUgLTE2Ljk4NDM3NSBDIC0xMy42NTYyNSAtMTYuNTQ2ODc1IC0xMy42NTYyNSAtMTYu\nNDg0Mzc1IC0xMy4yOTY4NzUgLTE2LjI2NTYyNSBMIC0yIC05LjQ1MzEyNSBMIC0xMy4yMTg3NSAt\nOC4zNDM3NSBDIC0xMy42NTYyNSAtOC4yOTY4NzUgLTEzLjY1NjI1IC04LjI2NTYyNSAtMTMuNjU2\nMjUgLTcuNzgxMjUgTCAtMTMuNjU2MjUgLTUuMTI1IEMgLTEzLjY1NjI1IC00Ljc5Njg3NSAtMTMu\nNjU2MjUgLTQuNTc4MTI1IC0xMy4yODEyNSAtNC41NzgxMjUgQyAtMTMuMDQ2ODc1IC00LjU3ODEy\nNSAtMTMuMDQ2ODc1IC00LjczNDM3NSAtMTMuMDQ2ODc1IC01LjEyNSBDIC0xMy4wNDY4NzUgLTUu\nNzM0Mzc1IC0xMy4wNDY4NzUgLTYuMjgxMjUgLTEyLjcwMzEyNSAtNi4yODEyNSBDIC0xMi42NDA2\nMjUgLTYuMjgxMjUgLTEyLjU5Mzc1IC02LjI4MTI1IC0xMi4zMTI1IC02LjIwMzEyNSBMIC0yLjAx\nNTYyNSAtMy42NDA2MjUgQyAtMC45MDYyNSAtMy4zNTkzNzUgLTAuNjU2MjUgLTIuNTkzNzUgLTAu\nNjI1IC0xLjcwMzEyNSBDIC0wLjYyNSAtMS41NDY4NzUgLTAuNTkzNzUgLTEuMzEyNSAtMC4yMzQz\nNzUgLTEuMzEyNSBDIC0wLjA2MjUgLTEuMzEyNSAwIC0xLjQzNzUgMCAtMS41NzgxMjUgQyAwIC0y\nLjE4NzUgLTAuMDYyNSAtMi44NTkzNzUgLTAuMDYyNSAtMy40ODQzNzUgQyAtMC4wNjI1IC00LjEy\nNSAwIC00LjgxMjUgMCAtNS40Mzc1IEMgMCAtNS41NjI1IDAgLTUuNzk2ODc1IC0wLjM1OTM3NSAt\nNS43OTY4NzUgQyAtMC41OTM3NSAtNS43OTY4NzUgLTAuNjI1IC01LjY1NjI1IC0wLjYyNSAtNS40\nMjE4NzUgQyAtMC42NTYyNSAtNC4yODEyNSAtMS4xODc1IC00LjIzNDM3NSAtMS40ODQzNzUgLTQu\nMjM0Mzc1IEMgLTEuNTQ2ODc1IC00LjIzNDM3NSAtMS42NTYyNSAtNC4yMzQzNzUgLTEuOTg0Mzc1\nIC00LjMxMjUgTCAtMTIuNTkzNzUgLTYuOTg0Mzc1IEwgLTEyLjU5Mzc1IC03IEwgLTAuNDg0Mzc1\nIC04LjIxODc1IEMgLTAuMTQwNjI1IC04LjI2NTYyNSAwIC04LjI2NTYyNSAwIC04LjU2MjUgQyAw\nIC04LjgxMjUgLTAuMTQwNjI1IC04LjkyMTg3NSAtMC4zNTkzNzUgLTkuMDQ2ODc1IEwgLTEyLjc4\nMTI1IC0xNi41IEwgLTEyLjc4MTI1IC0xNi41MTU2MjUgTCAtMS40NTMxMjUgLTEzLjcwMzEyNSBD\nIC0wLjc4MTI1IC0xMy41NDY4NzUgLTAuNjI1IC0xMy40MjE4NzUgLTAuNjI1IC0xMi4wNjI1IEMg\nLTAuNjI1IC0xMS43MzQzNzUgLTAuNjI1IC0xMS41MTU2MjUgLTAuMjM0Mzc1IC0xMS41MTU2MjUg\nQyAwIC0xMS41MTU2MjUgMCAtMTEuNzM0Mzc1IDAgLTExLjc5Njg3NSBDIDAgLTEyLjU0Njg3NSAt\nMC4wNjI1IC0xMy4zMTI1IC0wLjA2MjUgLTE0LjA3ODEyNSBDIC0wLjA2MjUgLTE0Ljg0Mzc1IDAg\nLTE1LjY1NjI1IDAgLTE2LjQwNjI1IEMgMCAtMTYuNTQ2ODc1IDAgLTE2Ljc4MTI1IC0wLjM1OTM3\nNSAtMTYuNzgxMjUgWiBNIC0wLjM1OTM3NSAtMTYuNzgxMjUgIi8+CjwvZz4KPGcgaWQ9ImdseXBo\nLTUtMC0xYmEyOGU2ZiI+CjxwYXRoIGQ9Ik0gLTEuNzE4NzUgLTUuMjAzMTI1IEMgLTEuODQzNzUg\nLTUuMjAzMTI1IC0xLjg0Mzc1IC01LjA0Njg3NSAtMS44NDM3NSAtNS4wMTU2MjUgQyAtMS44NDM3\nNSAtNC44NzUgLTEuNzk2ODc1IC00Ljg1OTM3NSAtMS42NDA2MjUgLTQuODEyNSBDIC0xLjA0Njg3\nNSAtNC41OTM3NSAtMC42NDA2MjUgLTQuMDE1NjI1IC0wLjY0MDYyNSAtMy41IEMgLTAuNjQwNjI1\nIC0zLjI2NTYyNSAtMC43MTg3NSAtMy4wNzgxMjUgLTAuODI4MTI1IC0yLjgyODEyNSBDIC0wLjk4\nNDM3NSAtMi40Njg3NSAtMS4wMzEyNSAtMi4zMjgxMjUgLTEuMDMxMjUgLTIuMDkzNzUgQyAtMS4w\nMzEyNSAtMi4wMzEyNSAtMS4wMzEyNSAtMS45Mzc1IC0xLjAxNTYyNSAtMS44NzUgQyAtMS4xMDkz\nNzUgLTEuOTUzMTI1IC0xLjQyMTg3NSAtMi4yMDMxMjUgLTEuNzUgLTIuNTQ2ODc1IEwgLTMuNDY4\nNzUgLTQuMjgxMjUgQyAtNC4xNTYyNSAtNC45ODQzNzUgLTUuMDc4MTI1IC01LjU2MjUgLTUuMTg3\nNSAtNS41NjI1IEMgLTUuMjk2ODc1IC01LjU2MjUgLTUuMjk2ODc1IC01LjQ2ODc1IC01LjI5Njg3\nNSAtNS40MDYyNSBDIC01LjI5Njg3NSAtNS4yNSAtNS4yOTY4NzUgLTUuMjUgLTUuMTQwNjI1IC01\nLjE3MTg3NSBDIC00LjQ2ODc1IC00Ljc4MTI1IC00LjQwNjI1IC00LjYyNSAtNC40MDYyNSAtNC40\nMjE4NzUgQyAtNC40MDYyNSAtNC4yMTg3NSAtNC41MzEyNSAtNC4wOTM3NSAtNC44NDM3NSAtMy44\nNTkzNzUgQyAtNS4wMzEyNSAtMy43MTg3NSAtNS4yOTY4NzUgLTMuNTE1NjI1IC01LjI5Njg3NSAt\nMy4xMjUgQyAtNS4yOTY4NzUgLTIuMjUgLTQuMTcxODc1IC0xLjczNDM3NSAtMy45Mzc1IC0xLjcz\nNDM3NSBDIC0zLjgyODEyNSAtMS43MzQzNzUgLTMuNzk2ODc1IC0xLjgxMjUgLTMuNzk2ODc1IC0x\nLjkwNjI1IEMgLTMuNzk2ODc1IC0yLjA0Njg3NSAtMy44MjgxMjUgLTIuMDYyNSAtMy45Njg3NSAt\nMi4xMjUgQyAtNC4yMzQzNzUgLTIuMjE4NzUgLTQuNTMxMjUgLTIuNTYyNSAtNC41MzEyNSAtMy4w\nMTU2MjUgQyAtNC41MzEyNSAtMy4yNSAtNC40Mzc1IC0zLjQ2ODc1IC00LjMxMjUgLTMuNzM0Mzc1\nIEMgLTQuMTQwNjI1IC00LjEyNSAtNC4xNDA2MjUgLTQuMjY1NjI1IC00LjE0MDYyNSAtNC40Mzc1\nIEMgLTMuOTM3NSAtNC4yNjU2MjUgLTMuNzk2ODc1IC00LjE1NjI1IC0zLjYwOTM3NSAtMy45NTMx\nMjUgTCAtMS42NTYyNSAtMS45ODQzNzUgQyAtMSAtMS4zMTI1IC0wLjEwOTM3NSAtMC43NSAwLjAx\nNTYyNSAtMC43NSBDIDAuMTI1IC0wLjc1IDAuMTI1IC0wLjg1OTM3NSAwLjEyNSAtMC45MjE4NzUg\nQyAwLjEyNSAtMS4wNjI1IDAuMTA5Mzc1IC0xLjA2MjUgMC4wMzEyNSAtMS4xMDkzNzUgQyAtMC4y\nMzQzNzUgLTEuMjgxMjUgLTAuNzY1NjI1IC0xLjYwOTM3NSAtMC43NjU2MjUgLTIuMDYyNSBDIC0w\nLjc2NTYyNSAtMi4zMjgxMjUgLTAuNjQwNjI1IC0yLjQyMTg3NSAtMC4zNDM3NSAtMi42NDA2MjUg\nQyAtMC4wOTM3NSAtMi44MjgxMjUgMC4xMjUgLTMuMDE1NjI1IDAuMTI1IC0zLjM5MDYyNSBDIDAu\nMTI1IC00LjU0Njg3NSAtMS40MjE4NzUgLTUuMjAzMTI1IC0xLjcxODc1IC01LjIwMzEyNSBaIE0g\nLTEuNzE4NzUgLTUuMjAzMTI1ICIvPgo8L2c+CjxnIGlkPSJnbHlwaC02LTAtMWJhMjhlNmYiPgo8\ncGF0aCBkPSJNIDcuNzM0Mzc1IC0zLjIzNDM3NSBDIDcuNzM0Mzc1IC0zLjIzNDM3NSAxLjAxNTYy\nNSAtMy4yMzQzNzUgMS4wMTU2MjUgLTMuMjM0Mzc1IEMgMS4wMTU2MjUgLTMuMjM0Mzc1IDEuMDE1\nNjI1IC00LjI2NTYyNSAxLjAxNTYyNSAtNC4yNjU2MjUgQyAxLjAxNTYyNSAtNC4yNjU2MjUgNy43\nMzQzNzUgLTQuMjY1NjI1IDcuNzM0Mzc1IC00LjI2NTYyNSBDIDcuNzM0Mzc1IC00LjI2NTYyNSA3\nLjczNDM3NSAtMy4yMzQzNzUgNy43MzQzNzUgLTMuMjM0Mzc1IFogTSA3LjczNDM3NSAtMy4yMzQz\nNzUgIi8+CjwvZz4KPGcgaWQ9ImdseXBoLTYtMS0xYmEyOGU2ZiI+CjxwYXRoIGQ9Ik0gNy42MDkz\nNzUgLTUuMTA5Mzc1IEMgNy42MDkzNzUgLTEuNjI1IDYuMzc1IDAuMjE4NzUgNC4xMjUgMC4yMTg3\nNSBDIDEuODQzNzUgMC4yMTg3NSAwLjY0MDYyNSAtMS42MjUgMC42NDA2MjUgLTUuMjAzMTI1IEMg\nMC42NDA2MjUgLTguNzgxMjUgMS44MjgxMjUgLTEwLjY0MDYyNSA0LjEyNSAtMTAuNjQwNjI1IEMg\nNi40Mzc1IC0xMC42NDA2MjUgNy42MDkzNzUgLTguODEyNSA3LjYwOTM3NSAtNS4xMDkzNzUgWiBN\nIDYuMjUgLTUuMjM0Mzc1IEMgNi4yNSAtOC4wNzgxMjUgNS41NDY4NzUgLTkuNDY4NzUgNC4xMjUg\nLTkuNDY4NzUgQyAyLjcwMzEyNSAtOS40Njg3NSAyIC04LjA5Mzc1IDIgLTUuMTg3NSBDIDIgLTIu\nMjgxMjUgMi43MDMxMjUgLTAuODc1IDQuMDkzNzUgLTAuODc1IEMgNS41NjI1IC0wLjg3NSA2LjI1\nIC0yLjIxODc1IDYuMjUgLTUuMjM0Mzc1IFogTSA2LjI1IC01LjIzNDM3NSAiLz4KPC9nPgo8ZyBp\nZD0iZ2x5cGgtNi0yLTFiYTI4ZTZmIj4KPHBhdGggZD0iTSA3LjY4NzUgLTMgQyA3LjY4NzUgLTEu\nMDYyNSA2LjIxODc1IDAuMjE4NzUgNC4xMjUgMC4yMTg3NSBDIDIuMDMxMjUgMC4yMTg3NSAwLjU2\nMjUgLTEuMDYyNSAwLjU2MjUgLTMuMDE1NjI1IEMgMC41NjI1IC00LjE4NzUgMS4xNTYyNSAtNS4w\nMTU2MjUgMi4zNzUgLTUuNTkzNzUgQyAxLjI5Njg3NSAtNi4yNjU2MjUgMC45Mzc1IC02LjgxMjUg\nMC45Mzc1IC03Ljc5Njg3NSBDIDAuOTM3NSAtOS40Njg3NSAyLjI1IC0xMC42NDA2MjUgNC4xMjUg\nLTEwLjY0MDYyNSBDIDYuMDE1NjI1IC0xMC42NDA2MjUgNy4zMTI1IC05LjQ2ODc1IDcuMzEyNSAt\nNy43OTY4NzUgQyA3LjMxMjUgLTYuNzk2ODc1IDYuOTUzMTI1IC02LjI1IDUuODU5Mzc1IC01LjU5\nMzc1IEMgNy4wOTM3NSAtNS4wMTU2MjUgNy42ODc1IC00LjE4NzUgNy42ODc1IC0zIFogTSA1Ljk2\nODc1IC03Ljc2NTYyNSBDIDUuOTY4NzUgLTguODEyNSA1LjI1IC05LjQ2ODc1IDQuMTI1IC05LjQ2\nODc1IEMgMy4wMTU2MjUgLTkuNDY4NzUgMi4yODEyNSAtOC44MTI1IDIuMjgxMjUgLTcuNzgxMjUg\nQyAyLjI4MTI1IC02Ljc4MTI1IDMuMDE1NjI1IC02LjEyNSA0LjEyNSAtNi4xMjUgQyA1LjIzNDM3\nNSAtNi4xMjUgNS45Njg3NSAtNi43ODEyNSA1Ljk2ODc1IC03Ljc2NTYyNSBaIE0gNi4zNDM3NSAt\nMi45ODQzNzUgQyA2LjM0Mzc1IC00LjIzNDM3NSA1LjQzNzUgLTUuMDE1NjI1IDQuMTI1IC01LjAx\nNTYyNSBDIDIuODEyNSAtNS4wMTU2MjUgMS45MDYyNSAtNC4yMzQzNzUgMS45MDYyNSAtMi45ODQz\nNzUgQyAxLjkwNjI1IC0xLjczNDM3NSAyLjgxMjUgLTAuOTM3NSA0LjA5Mzc1IC0wLjkzNzUgQyA1\nLjQzNzUgLTAuOTM3NSA2LjM0Mzc1IC0xLjcxODc1IDYuMzQzNzUgLTIuOTg0Mzc1IFogTSA2LjM0\nMzc1IC0yLjk4NDM3NSAiLz4KPC9nPgo8ZyBpZD0iZ2x5cGgtNy0wLTFiYTI4ZTZmIj4KPHBhdGgg\nZD0iTSA3LjczNDM3NSAtMy4yMzQzNzUgQyA3LjczNDM3NSAtMy4yMzQzNzUgMS4wMTU2MjUgLTMu\nMjM0Mzc1IDEuMDE1NjI1IC0zLjIzNDM3NSBDIDEuMDE1NjI1IC0zLjIzNDM3NSAxLjAxNTYyNSAt\nNC4yNjU2MjUgMS4wMTU2MjUgLTQuMjY1NjI1IEMgMS4wMTU2MjUgLTQuMjY1NjI1IDcuNzM0Mzc1\nIC00LjI2NTYyNSA3LjczNDM3NSAtNC4yNjU2MjUgQyA3LjczNDM3NSAtNC4yNjU2MjUgNy43MzQz\nNzUgLTMuMjM0Mzc1IDcuNzM0Mzc1IC0zLjIzNDM3NSBaIE0gNy43MzQzNzUgLTMuMjM0Mzc1ICIv\nPgo8L2c+CjxnIGlkPSJnbHlwaC03LTEtMWJhMjhlNmYiPgo8cGF0aCBkPSJNIDcuNjQwNjI1IC01\nLjU2MjUgQyA3LjY0MDYyNSAtMS44OTA2MjUgNi4yOTY4NzUgMC4yMTg3NSAzLjgxMjUgMC4yMTg3\nNSBDIDIuMTg3NSAwLjIxODc1IDEuMDQ2ODc1IC0wLjgxMjUgMC43OTY4NzUgLTIuNTQ2ODc1IEMg\nMC43OTY4NzUgLTIuNTQ2ODc1IDIuMTA5Mzc1IC0yLjU0Njg3NSAyLjEwOTM3NSAtMi41NDY4NzUg\nQyAyLjMyODEyNSAtMS41MzEyNSAyLjk2ODc1IC0wLjkzNzUgMy45MDYyNSAtMC45Mzc1IEMgNS40\nMjE4NzUgLTAuOTM3NSA2LjI1IC0yLjM5MDYyNSA2LjI2NTYyNSAtNC45ODQzNzUgQyA1LjU3ODEy\nNSAtNC4xNTYyNSA0Ljg0Mzc1IC0zLjc5Njg3NSAzLjg0Mzc1IC0zLjc5Njg3NSBDIDEuOTIxODc1\nIC0zLjc5Njg3NSAwLjU2MjUgLTUuMTI1IDAuNTYyNSAtNy4xMDkzNzUgQyAwLjU2MjUgLTkuMTg3\nNSAyLjAzMTI1IC0xMC42NDA2MjUgNC4wNDY4NzUgLTEwLjY0MDYyNSBDIDYuNDg0Mzc1IC0xMC42\nNDA2MjUgNy42NDA2MjUgLTguODkwNjI1IDcuNjQwNjI1IC01LjU2MjUgWiBNIDYuMTg3NSAtNy4x\nNDA2MjUgQyA2LjE4NzUgLTguNTE1NjI1IDUuMjY1NjI1IC05LjQ4NDM3NSA0LjAzMTI1IC05LjQ4\nNDM3NSBDIDIuODEyNSAtOS40ODQzNzUgMS45MjE4NzUgLTguNTYyNSAxLjkyMTg3NSAtNy4yMTg3\nNSBDIDEuOTIxODc1IC01Ljc5Njg3NSAyLjcxODc1IC00Ljk2ODc1IDMuOTg0Mzc1IC00Ljk2ODc1\nIEMgNS4yODEyNSAtNC45Njg3NSA2LjE4NzUgLTUuODI4MTI1IDYuMTg3NSAtNy4xNDA2MjUgWiBN\nIDYuMTg3NSAtNy4xNDA2MjUgIi8+CjwvZz4KPGcgaWQ9ImdseXBoLTgtMC0xYmEyOGU2ZiI+Cjxw\nYXRoIGQ9Ik0gNy42MDkzNzUgLTUuMTA5Mzc1IEMgNy42MDkzNzUgLTEuNjI1IDYuMzc1IDAuMjE4\nNzUgNC4xMjUgMC4yMTg3NSBDIDEuODQzNzUgMC4yMTg3NSAwLjY0MDYyNSAtMS42MjUgMC42NDA2\nMjUgLTUuMjAzMTI1IEMgMC42NDA2MjUgLTguNzgxMjUgMS44MjgxMjUgLTEwLjY0MDYyNSA0LjEy\nNSAtMTAuNjQwNjI1IEMgNi40Mzc1IC0xMC42NDA2MjUgNy42MDkzNzUgLTguODEyNSA3LjYwOTM3\nNSAtNS4xMDkzNzUgWiBNIDYuMjUgLTUuMjM0Mzc1IEMgNi4yNSAtOC4wNzgxMjUgNS41NDY4NzUg\nLTkuNDY4NzUgNC4xMjUgLTkuNDY4NzUgQyAyLjcwMzEyNSAtOS40Njg3NSAyIC04LjA5Mzc1IDIg\nLTUuMTg3NSBDIDIgLTIuMjgxMjUgMi43MDMxMjUgLTAuODc1IDQuMDkzNzUgLTAuODc1IEMgNS41\nNjI1IC0wLjg3NSA2LjI1IC0yLjIxODc1IDYuMjUgLTUuMjM0Mzc1IFogTSA2LjI1IC01LjIzNDM3\nNSAiLz4KPC9nPgo8ZyBpZD0iZ2x5cGgtOC0xLTFiYTI4ZTZmIj4KPHBhdGggZD0iTSAyLjg1OTM3\nNSAwIEMgMi44NTkzNzUgMCAxLjMxMjUgMCAxLjMxMjUgMCBDIDEuMzEyNSAwIDEuMzEyNSAtMS41\nNjI1IDEuMzEyNSAtMS41NjI1IEMgMS4zMTI1IC0xLjU2MjUgMi44NTkzNzUgLTEuNTYyNSAyLjg1\nOTM3NSAtMS41NjI1IEMgMi44NTkzNzUgLTEuNTYyNSAyLjg1OTM3NSAwIDIuODU5Mzc1IDAgWiBN\nIDIuODU5Mzc1IDAgIi8+CjwvZz4KPGcgaWQ9ImdseXBoLTgtMi0xYmEyOGU2ZiI+CjxwYXRoIGQ9\nIk0gNy42NzE4NzUgLTcuNTE1NjI1IEMgNy42NzE4NzUgLTYuMjAzMTI1IDYuOTA2MjUgLTUuMDkz\nNzUgNS40MjE4NzUgLTQuMzEyNSBDIDUuNDIxODc1IC00LjMxMjUgMy45MjE4NzUgLTMuNSAzLjky\nMTg3NSAtMy41IEMgMi42MDkzNzUgLTIuNzM0Mzc1IDIuMTI1IC0yLjE3MTg3NSAyIC0xLjMxMjUg\nQyAyIC0xLjMxMjUgNy41OTM3NSAtMS4zMTI1IDcuNTkzNzUgLTEuMzEyNSBDIDcuNTkzNzUgLTEu\nMzEyNSA3LjU5Mzc1IDAgNy41OTM3NSAwIEMgNy41OTM3NSAwIDAuNTE1NjI1IDAgMC41MTU2MjUg\nMCBDIDAuNjI1IC0yLjM0Mzc1IDEuMjgxMjUgLTMuMzQzNzUgMy41IC00LjYwOTM3NSBDIDMuNSAt\nNC42MDkzNzUgNC44NzUgLTUuMzkwNjI1IDQuODc1IC01LjM5MDYyNSBDIDUuODEyNSAtNS45MjE4\nNzUgNi4zMTI1IC02LjY0MDYyNSA2LjMxMjUgLTcuNDg0Mzc1IEMgNi4zMTI1IC04LjYyNSA1LjQy\nMTg3NSAtOS40ODQzNzUgNC4yMTg3NSAtOS40ODQzNzUgQyAyLjkwNjI1IC05LjQ4NDM3NSAyLjE3\nMTg3NSAtOC43MzQzNzUgMi4wNjI1IC02LjkzNzUgQyAyLjA2MjUgLTYuOTM3NSAwLjc1IC02Ljkz\nNzUgMC43NSAtNi45Mzc1IEMgMC44MjgxMjUgLTkuNTMxMjUgMi4wNzgxMjUgLTEwLjY0MDYyNSA0\nLjI2NTYyNSAtMTAuNjQwNjI1IEMgNi4yNjU2MjUgLTEwLjY0MDYyNSA3LjY3MTg3NSAtOS4zMTI1\nIDcuNjcxODc1IC03LjUxNTYyNSBaIE0gNy42NzE4NzUgLTcuNTE1NjI1ICIvPgo8L2c+CjxnIGlk\nPSJnbHlwaC04LTMtMWJhMjhlNmYiPgo8cGF0aCBkPSJNIDcuNzk2ODc1IC0yLjU0Njg3NSBDIDcu\nNzk2ODc1IC0yLjU0Njg3NSA2LjIxODc1IC0yLjU0Njg3NSA2LjIxODc1IC0yLjU0Njg3NSBDIDYu\nMjE4NzUgLTIuNTQ2ODc1IDYuMjE4NzUgMCA2LjIxODc1IDAgQyA2LjIxODc1IDAgNC45MDYyNSAw\nIDQuOTA2MjUgMCBDIDQuOTA2MjUgMCA0LjkwNjI1IC0yLjU0Njg3NSA0LjkwNjI1IC0yLjU0Njg3\nNSBDIDQuOTA2MjUgLTIuNTQ2ODc1IDAuNDIxODc1IC0yLjU0Njg3NSAwLjQyMTg3NSAtMi41NDY4\nNzUgQyAwLjQyMTg3NSAtMi41NDY4NzUgMC40MjE4NzUgLTMuOTM3NSAwLjQyMTg3NSAtMy45Mzc1\nIEMgMC40MjE4NzUgLTMuOTM3NSA1LjI1IC0xMC42NDA2MjUgNS4yNSAtMTAuNjQwNjI1IEMgNS4y\nNSAtMTAuNjQwNjI1IDYuMjE4NzUgLTEwLjY0MDYyNSA2LjIxODc1IC0xMC42NDA2MjUgQyA2LjIx\nODc1IC0xMC42NDA2MjUgNi4yMTg3NSAtMy43MzQzNzUgNi4yMTg3NSAtMy43MzQzNzUgQyA2LjIx\nODc1IC0zLjczNDM3NSA3Ljc5Njg3NSAtMy43MzQzNzUgNy43OTY4NzUgLTMuNzM0Mzc1IEMgNy43\nOTY4NzUgLTMuNzM0Mzc1IDcuNzk2ODc1IC0yLjU0Njg3NSA3Ljc5Njg3NSAtMi41NDY4NzUgWiBN\nIDQuOTA2MjUgLTMuNzM0Mzc1IEMgNC45MDYyNSAtMy43MzQzNzUgNC45MDYyNSAtOC4zOTA2MjUg\nNC45MDYyNSAtOC4zOTA2MjUgQyA0LjkwNjI1IC04LjM5MDYyNSAxLjU3ODEyNSAtMy43MzQzNzUg\nMS41NzgxMjUgLTMuNzM0Mzc1IEMgMS41NzgxMjUgLTMuNzM0Mzc1IDQuOTA2MjUgLTMuNzM0Mzc1\nIDQuOTA2MjUgLTMuNzM0Mzc1IFogTSA0LjkwNjI1IC0zLjczNDM3NSAiLz4KPC9nPgo8ZyBpZD0i\nZ2x5cGgtOS0wLTFiYTI4ZTZmIj4KPHBhdGggZD0iTSAtMTQuNTc4MTI1IC0xMi45MDYyNSBDIC0x\nNC41NzgxMjUgLTEyLjkwNjI1IDAgLTcuODQzNzUgMCAtNy44NDM3NSBDIDAgLTcuODQzNzUgMCAt\nNS44NDM3NSAwIC01Ljg0Mzc1IEMgMCAtNS44NDM3NSAtMTQuNTc4MTI1IC0wLjU5Mzc1IC0xNC41\nNzgxMjUgLTAuNTkzNzUgQyAtMTQuNTc4MTI1IC0wLjU5Mzc1IC0xNC41NzgxMjUgLTIuNTkzNzUg\nLTE0LjU3ODEyNSAtMi41OTM3NSBDIC0xNC41NzgxMjUgLTIuNTkzNzUgLTIuMjM0Mzc1IC02Ljg3\nNSAtMi4yMzQzNzUgLTYuODc1IEMgLTIuMjM0Mzc1IC02Ljg3NSAtMTQuNTc4MTI1IC0xMC45MjE4\nNzUgLTE0LjU3ODEyNSAtMTAuOTIxODc1IEMgLTE0LjU3ODEyNSAtMTAuOTIxODc1IC0xNC41Nzgx\nMjUgLTEyLjkwNjI1IC0xNC41NzgxMjUgLTEyLjkwNjI1IFogTSAtMTQuNTc4MTI1IC0xMi45MDYy\nNSAiLz4KPC9nPgo8ZyBpZD0iZ2x5cGgtMTAtMC0xYmEyOGU2ZiI+CjxwYXRoIGQ9Ik0gLTAuMDQ2\nODc1IC0xMC43MDMxMjUgQyAwLjA5Mzc1IC0xMC4xNTYyNSAwLjE0MDYyNSAtOS45MDYyNSAwLjE0\nMDYyNSAtOS41NjI1IEMgMC4xNDA2MjUgLTguNzM0Mzc1IC0wLjQzNzUgLTguMDE1NjI1IC0xLjIz\nNDM3NSAtNy44NDM3NSBDIC0wLjI2NTYyNSAtNi45MjE4NzUgMC4yOTY4NzUgLTUuNjI1IDAuMjk2\nODc1IC00LjI4MTI1IEMgMC4yOTY4NzUgLTIuMTU2MjUgLTAuODEyNSAtMC44NDM3NSAtMi43MTg3\nNSAtMC44NDM3NSBDIC00IC0wLjg0Mzc1IC00LjkzNzUgLTEuNDUzMTI1IC01LjQzNzUgLTIuNjg3\nNSBDIC01LjcwMzEyNSAtMy4zMTI1IC01Ljc4MTI1IC0zLjY4NzUgLTYuMDc4MTI1IC02LjA0Njg3\nNSBDIC02LjIzNDM3NSAtNy4zNTkzNzUgLTYuNTQ2ODc1IC03Ljc4MTI1IC03LjIzNDM3NSAtNy43\nODEyNSBDIC03LjIzNDM3NSAtNy43ODEyNSAtNy42ODc1IC03Ljc4MTI1IC03LjY4NzUgLTcuNzgx\nMjUgQyAtOC42ODc1IC03Ljc4MTI1IC05LjIzNDM3NSAtNi45Mzc1IC05LjIzNDM3NSAtNS40Mzc1\nIEMgLTkuMjM0Mzc1IC0zLjg3NSAtOC42NTYyNSAtMy4xMjUgLTcuMzc1IC0yLjk4NDM3NSBDIC03\nLjM3NSAtMi45ODQzNzUgLTcuMzc1IC0xLjI5Njg3NSAtNy4zNzUgLTEuMjk2ODc1IEMgLTkuNzk2\nODc1IC0xLjQwNjI1IC0xMC43ODEyNSAtMi45NTMxMjUgLTEwLjc4MTI1IC01LjUgQyAtMTAuNzgx\nMjUgLTguMDc4MTI1IC05Ljc4MTI1IC05LjQzNzUgLTcuOTIxODc1IC05LjQzNzUgQyAtNy45MjE4\nNzUgLTkuNDM3NSAtMi4wNzgxMjUgLTkuNDM3NSAtMi4wNzgxMjUgLTkuNDM3NSBDIC0xLjU2MjUg\nLTkuNDM3NSAtMS4yNjU2MjUgLTkuNzY1NjI1IC0xLjI2NTYyNSAtMTAuMzQzNzUgQyAtMS4yNjU2\nMjUgLTEwLjQzNzUgLTEuMjY1NjI1IC0xMC41MTU2MjUgLTEuMjk2ODc1IC0xMC43MDMxMjUgQyAt\nMS4yOTY4NzUgLTEwLjcwMzEyNSAtMC4wNDY4NzUgLTEwLjcwMzEyNSAtMC4wNDY4NzUgLTEwLjcw\nMzEyNSBaIE0gLTMuNjI1IC03Ljc4MTI1IEMgLTMuNjI1IC03Ljc4MTI1IC01LjE4NzUgLTcuNzgx\nMjUgLTUuMTg3NSAtNy43ODEyNSBDIC00LjkyMTg3NSAtNy4yMTg3NSAtNC44NDM3NSAtNi44NTkz\nNzUgLTQuNTkzNzUgLTUuMDkzNzUgQyAtNC4zNDM3NSAtMy4zMTI1IC0zLjg1OTM3NSAtMi41Nzgx\nMjUgLTIuNzY1NjI1IC0yLjU3ODEyNSBDIC0xLjYyNSAtMi41NzgxMjUgLTEuMTU2MjUgLTMuMzQz\nNzUgLTEuMTU2MjUgLTQuNjQwNjI1IEMgLTEuMTU2MjUgLTYuMjY1NjI1IC0yLjEyNSAtNy43ODEy\nNSAtMy42MjUgLTcuNzgxMjUgWiBNIC0zLjYyNSAtNy43ODEyNSAiLz4KPC9nPgo8ZyBpZD0iZ2x5\ncGgtMTAtMS0xYmEyOGU2ZiI+CjxwYXRoIGQ9Ik0gLTQuNzY1NjI1IC0xMC4yNjU2MjUgQyAtNC43\nNjU2MjUgLTEwLjI2NTYyNSAtNC43NjU2MjUgLTIuNTQ2ODc1IC00Ljc2NTYyNSAtMi41NDY4NzUg\nQyAtMi4zNTkzNzUgLTIuNTc4MTI1IC0xLjIzNDM3NSAtMy44NzUgLTEuMjM0Mzc1IC01LjYyNSBD\nIC0xLjIzNDM3NSAtNi45NTMxMjUgLTEuNzk2ODc1IC03LjkwNjI1IC0zLjE4NzUgLTguMzU5Mzc1\nIEMgLTMuMTg3NSAtOC4zNTkzNzUgLTMuMTg3NSAtMTAuMDQ2ODc1IC0zLjE4NzUgLTEwLjA0Njg3\nNSBDIC0xLjA2MjUgLTkuNjI1IDAuMjk2ODc1IC03Ljk1MzEyNSAwLjI5Njg3NSAtNS41NjI1IEMg\nMC4yOTY4NzUgLTIuNjI1IC0xLjczNDM3NSAtMC43OTY4NzUgLTUuMTg3NSAtMC43OTY4NzUgQyAt\nOC42MjUgLTAuNzk2ODc1IC0xMC43ODEyNSAtMi42ODc1IC0xMC43ODEyNSAtNS41OTM3NSBDIC0x\nMC43ODEyNSAtNy41NjI1IC05LjczNDM3NSAtOS4xNTYyNSAtOC4wMTU2MjUgLTkuODQzNzUgQyAt\nNy4yMzQzNzUgLTEwLjE0MDYyNSAtNi4yODEyNSAtMTAuMjY1NjI1IC00Ljc2NTYyNSAtMTAuMjY1\nNjI1IFogTSAtNi4yMzQzNzUgLTguNDg0Mzc1IEMgLTcuODc1IC04LjQ4NDM3NSAtOS4yMzQzNzUg\nLTcuMjE4NzUgLTkuMjM0Mzc1IC01LjU3ODEyNSBDIC05LjIzNDM3NSAtMy45MDYyNSAtNy45ODQz\nNzUgLTIuNzE4NzUgLTYuMTI1IC0yLjU3ODEyNSBDIC02LjEyNSAtMi41NzgxMjUgLTYuMTI1IC04\nLjQ1MzEyNSAtNi4xMjUgLTguNDUzMTI1IEMgLTYuMTU2MjUgLTguNDg0Mzc1IC02LjIzNDM3NSAt\nOC40ODQzNzUgLTYuMjM0Mzc1IC04LjQ4NDM3NSBaIE0gLTYuMjM0Mzc1IC04LjQ4NDM3NSAiLz4K\nPC9nPgo8ZyBpZD0iZ2x5cGgtMTEtMC0xYmEyOGU2ZiI+CjxwYXRoIGQ9Ik0gMCAtMy4wMTU2MjUg\nQyAwIC0zLjAxNTYyNSAwIC0xLjM1OTM3NSAwIC0xLjM1OTM3NSBDIDAgLTEuMzU5Mzc1IC0xNC41\nNzgxMjUgLTEuMzU5Mzc1IC0xNC41NzgxMjUgLTEuMzU5Mzc1IEMgLTE0LjU3ODEyNSAtMS4zNTkz\nNzUgLTE0LjU3ODEyNSAtMy4wMTU2MjUgLTE0LjU3ODEyNSAtMy4wMTU2MjUgQyAtMTQuNTc4MTI1\nIC0zLjAxNTYyNSAwIC0zLjAxNTYyNSAwIC0zLjAxNTYyNSBaIE0gMCAtMy4wMTU2MjUgIi8+Cjwv\nZz4KPGcgaWQ9ImdseXBoLTExLTEtMWJhMjhlNmYiPgo8cGF0aCBkPSJNIDAgLTkuNjQwNjI1IEMg\nMCAtOS42NDA2MjUgMCAtOC4xNDA2MjUgMCAtOC4xNDA2MjUgQyAwIC04LjE0MDYyNSAtMS42MjUg\nLTguMTQwNjI1IC0xLjYyNSAtOC4xNDA2MjUgQyAtMC4yMzQzNzUgLTcuMTU2MjUgMC4yOTY4NzUg\nLTYuMTg3NSAwLjI5Njg3NSAtNC42NDA2MjUgQyAwLjI5Njg3NSAtMi41OTM3NSAtMC44MTI1IC0x\nLjI5Njg3NSAtMi41NjI1IC0xLjI5Njg3NSBDIC0yLjU2MjUgLTEuMjk2ODc1IC0xMC40ODQzNzUg\nLTEuMjk2ODc1IC0xMC40ODQzNzUgLTEuMjk2ODc1IEMgLTEwLjQ4NDM3NSAtMS4yOTY4NzUgLTEw\nLjQ4NDM3NSAtMi45NTMxMjUgLTEwLjQ4NDM3NSAtMi45NTMxMjUgQyAtMTAuNDg0Mzc1IC0yLjk1\nMzEyNSAtMy4yMTg3NSAtMi45NTMxMjUgLTMuMjE4NzUgLTIuOTUzMTI1IEMgLTEuOTUzMTI1IC0y\nLjk1MzEyNSAtMS4xNTYyNSAtMy43OTY4NzUgLTEuMTU2MjUgLTUuMTI1IEMgLTEuMTU2MjUgLTYu\nODU5Mzc1IC0yLjU2MjUgLTcuOTg0Mzc1IC00LjcwMzEyNSAtNy45ODQzNzUgQyAtNC43MDMxMjUg\nLTcuOTg0Mzc1IC0xMC40ODQzNzUgLTcuOTg0Mzc1IC0xMC40ODQzNzUgLTcuOTg0Mzc1IEMgLTEw\nLjQ4NDM3NSAtNy45ODQzNzUgLTEwLjQ4NDM3NSAtOS42NDA2MjUgLTEwLjQ4NDM3NSAtOS42NDA2\nMjUgQyAtMTAuNDg0Mzc1IC05LjY0MDYyNSAwIC05LjY0MDYyNSAwIC05LjY0MDYyNSBaIE0gMCAt\nOS42NDA2MjUgIi8+CjwvZz4KPGcgaWQ9ImdseXBoLTEyLTAtMWJhMjhlNmYiPgo8cGF0aCBkPSJN\nIDcuNjA5Mzc1IC01LjEwOTM3NSBDIDcuNjA5Mzc1IC0xLjYyNSA2LjM3NSAwLjIxODc1IDQuMTI1\nIDAuMjE4NzUgQyAxLjg0Mzc1IDAuMjE4NzUgMC42NDA2MjUgLTEuNjI1IDAuNjQwNjI1IC01LjIw\nMzEyNSBDIDAuNjQwNjI1IC04Ljc4MTI1IDEuODI4MTI1IC0xMC42NDA2MjUgNC4xMjUgLTEwLjY0\nMDYyNSBDIDYuNDM3NSAtMTAuNjQwNjI1IDcuNjA5Mzc1IC04LjgxMjUgNy42MDkzNzUgLTUuMTA5\nMzc1IFogTSA2LjI1IC01LjIzNDM3NSBDIDYuMjUgLTguMDc4MTI1IDUuNTQ2ODc1IC05LjQ2ODc1\nIDQuMTI1IC05LjQ2ODc1IEMgMi43MDMxMjUgLTkuNDY4NzUgMiAtOC4wOTM3NSAyIC01LjE4NzUg\nQyAyIC0yLjI4MTI1IDIuNzAzMTI1IC0wLjg3NSA0LjA5Mzc1IC0wLjg3NSBDIDUuNTYyNSAtMC44\nNzUgNi4yNSAtMi4yMTg3NSA2LjI1IC01LjIzNDM3NSBaIE0gNi4yNSAtNS4yMzQzNzUgIi8+Cjwv\nZz4KPGcgaWQ9ImdseXBoLTEzLTAtMWJhMjhlNmYiPgo8cGF0aCBkPSJNIDIuODU5Mzc1IDAgQyAy\nLjg1OTM3NSAwIDEuMzEyNSAwIDEuMzEyNSAwIEMgMS4zMTI1IDAgMS4zMTI1IC0xLjU2MjUgMS4z\nMTI1IC0xLjU2MjUgQyAxLjMxMjUgLTEuNTYyNSAyLjg1OTM3NSAtMS41NjI1IDIuODU5Mzc1IC0x\nLjU2MjUgQyAyLjg1OTM3NSAtMS41NjI1IDIuODU5Mzc1IDAgMi44NTkzNzUgMCBaIE0gMi44NTkz\nNzUgMCAiLz4KPC9nPgo8ZyBpZD0iZ2x5cGgtMTQtMC0xYmEyOGU2ZiI+CjxwYXRoIGQ9Ik0gNy42\nMDkzNzUgLTUuMTA5Mzc1IEMgNy42MDkzNzUgLTEuNjI1IDYuMzc1IDAuMjE4NzUgNC4xMjUgMC4y\nMTg3NSBDIDEuODQzNzUgMC4yMTg3NSAwLjY0MDYyNSAtMS42MjUgMC42NDA2MjUgLTUuMjAzMTI1\nIEMgMC42NDA2MjUgLTguNzgxMjUgMS44MjgxMjUgLTEwLjY0MDYyNSA0LjEyNSAtMTAuNjQwNjI1\nIEMgNi40Mzc1IC0xMC42NDA2MjUgNy42MDkzNzUgLTguODEyNSA3LjYwOTM3NSAtNS4xMDkzNzUg\nWiBNIDYuMjUgLTUuMjM0Mzc1IEMgNi4yNSAtOC4wNzgxMjUgNS41NDY4NzUgLTkuNDY4NzUgNC4x\nMjUgLTkuNDY4NzUgQyAyLjcwMzEyNSAtOS40Njg3NSAyIC04LjA5Mzc1IDIgLTUuMTg3NSBDIDIg\nLTIuMjgxMjUgMi43MDMxMjUgLTAuODc1IDQuMDkzNzUgLTAuODc1IEMgNS41NjI1IC0wLjg3NSA2\nLjI1IC0yLjIxODc1IDYuMjUgLTUuMjM0Mzc1IFogTSA2LjI1IC01LjIzNDM3NSAiLz4KPC9nPgo8\nZyBpZD0iZ2x5cGgtMTUtMC0xYmEyOGU2ZiI+CjxwYXRoIGQ9Ik0gMi44NTkzNzUgMCBDIDIuODU5\nMzc1IDAgMS4zMTI1IDAgMS4zMTI1IDAgQyAxLjMxMjUgMCAxLjMxMjUgLTEuNTYyNSAxLjMxMjUg\nLTEuNTYyNSBDIDEuMzEyNSAtMS41NjI1IDIuODU5Mzc1IC0xLjU2MjUgMi44NTkzNzUgLTEuNTYy\nNSBDIDIuODU5Mzc1IC0xLjU2MjUgMi44NTkzNzUgMCAyLjg1OTM3NSAwIFogTSAyLjg1OTM3NSAw\nICIvPgo8L2c+CjxnIGlkPSJnbHlwaC0xNi0wLTFiYTI4ZTZmIj4KPHBhdGggZD0iTSA4LjczNDM3\nNSAtMy44NzUgTCA4LjM1OTM3NSAtMy44NzUgQyA4LjE4NzUgLTIuMzQzNzUgNy45ODQzNzUgLTAu\nNDY4NzUgNS4zNDM3NSAtMC40Njg3NSBMIDQuMTA5Mzc1IC0wLjQ2ODc1IEMgMy40MDYyNSAtMC40\nNjg3NSAzLjM3NSAtMC41NjI1IDMuMzc1IC0xLjA2MjUgTCAzLjM3NSAtOS4wNjI1IEMgMy4zNzUg\nLTkuNTYyNSAzLjM3NSAtOS43ODEyNSA0Ljc5Njg3NSAtOS43ODEyNSBMIDUuMjk2ODc1IC05Ljc4\nMTI1IEwgNS4yOTY4NzUgLTEwLjI1IEMgNC43NSAtMTAuMjAzMTI1IDMuMzkwNjI1IC0xMC4yMDMx\nMjUgMi43ODEyNSAtMTAuMjAzMTI1IEMgMi4xODc1IC0xMC4yMDMxMjUgMS4wMTU2MjUgLTEwLjIw\nMzEyNSAwLjUgLTEwLjI1IEwgMC41IC05Ljc4MTI1IEwgMC44NTkzNzUgLTkuNzgxMjUgQyAyLjAx\nNTYyNSAtOS43ODEyNSAyLjA0Njg3NSAtOS42MDkzNzUgMi4wNDY4NzUgLTkuMDc4MTI1IEwgMi4w\nNDY4NzUgLTEuMTcxODc1IEMgMi4wNDY4NzUgLTAuNjI1IDIuMDE1NjI1IC0wLjQ2ODc1IDAuODU5\nMzc1IC0wLjQ2ODc1IEwgMC41IC0wLjQ2ODc1IEwgMC41IDAgTCA4LjMxMjUgMCBaIE0gOC43MzQz\nNzUgLTMuODc1ICIvPgo8L2c+CjxnIGlkPSJnbHlwaC0xNi0xLTFiYTI4ZTZmIj4KPHBhdGggZD0i\nTSAxMC45ODQzNzUgLTEuMzEyNSBDIDEwLjk4NDM3NSAtMS40MDYyNSAxMC45ODQzNzUgLTEuNTc4\nMTI1IDEwLjc4MTI1IC0xLjU3ODEyNSBDIDEwLjYyNSAtMS41NzgxMjUgMTAuNjI1IC0xLjQzNzUg\nMTAuNjA5Mzc1IC0xLjMyODEyNSBDIDEwLjUxNTYyNSAtMC4yNjU2MjUgOS45ODQzNzUgMCA5LjYw\nOTM3NSAwIEMgOC44NzUgMCA4Ljc2NTYyNSAtMC43NjU2MjUgOC41NDY4NzUgLTIuMTU2MjUgTCA4\nLjM1OTM3NSAtMy4zNTkzNzUgQyA4LjA3ODEyNSAtNC4zMTI1IDcuMzQzNzUgLTQuODEyNSA2LjUz\nMTI1IC01LjA5Mzc1IEMgNy45ODQzNzUgLTUuNDUzMTI1IDkuMTU2MjUgLTYuMzc1IDkuMTU2MjUg\nLTcuNTQ2ODc1IEMgOS4xNTYyNSAtOC45ODQzNzUgNy40Mzc1IC0xMC4yNSA1LjIzNDM3NSAtMTAu\nMjUgTCAwLjUzMTI1IC0xMC4yNSBMIDAuNTMxMjUgLTkuNzgxMjUgTCAwLjg5MDYyNSAtOS43ODEy\nNSBDIDIuMDQ2ODc1IC05Ljc4MTI1IDIuMDYyNSAtOS42MDkzNzUgMi4wNjI1IC05LjA3ODEyNSBM\nIDIuMDYyNSAtMS4xNzE4NzUgQyAyLjA2MjUgLTAuNjI1IDIuMDQ2ODc1IC0wLjQ2ODc1IDAuODkw\nNjI1IC0wLjQ2ODc1IEwgMC41MzEyNSAtMC40Njg3NSBMIDAuNTMxMjUgMCBDIDEuMDYyNSAtMC4w\nNDY4NzUgMi4xMjUgLTAuMDQ2ODc1IDIuNzE4NzUgLTAuMDQ2ODc1IEMgMy4yOTY4NzUgLTAuMDQ2\nODc1IDQuMzU5Mzc1IC0wLjA0Njg3NSA0LjkwNjI1IDAgTCA0LjkwNjI1IC0wLjQ2ODc1IEwgNC41\nNDY4NzUgLTAuNDY4NzUgQyAzLjM5MDYyNSAtMC40Njg3NSAzLjM1OTM3NSAtMC42MjUgMy4zNTkz\nNzUgLTEuMTcxODc1IEwgMy4zNTkzNzUgLTQuOTY4NzUgTCA1LjA3ODEyNSAtNC45Njg3NSBDIDUu\nMzI4MTI1IC00Ljk2ODc1IDUuOTUzMTI1IC00Ljk2ODc1IDYuNDg0Mzc1IC00LjQ1MzEyNSBDIDcu\nMDQ2ODc1IC0zLjkyMTg3NSA3LjA0Njg3NSAtMy40NTMxMjUgNy4wNDY4NzUgLTIuNDM3NSBDIDcu\nMDQ2ODc1IC0xLjQ2ODc1IDcuMDQ2ODc1IC0wLjg3NSA3LjY3MTg3NSAtMC4yOTY4NzUgQyA4LjI4\nMTI1IDAuMjM0Mzc1IDkuMTA5Mzc1IDAuMzI4MTI1IDkuNTYyNSAwLjMyODEyNSBDIDEwLjcxODc1\nIDAuMzI4MTI1IDEwLjk4NDM3NSAtMC45MDYyNSAxMC45ODQzNzUgLTEuMzEyNSBaIE0gNy42MDkz\nNzUgLTcuNTQ2ODc1IEMgNy42MDkzNzUgLTYuNTE1NjI1IDcuMjUgLTUuMjk2ODc1IDUuMDMxMjUg\nLTUuMjk2ODc1IEwgMy4zNTkzNzUgLTUuMjk2ODc1IEwgMy4zNTkzNzUgLTkuMTg3NSBDIDMuMzU5\nMzc1IC05LjUzMTI1IDMuMzU5Mzc1IC05LjcwMzEyNSAzLjY4NzUgLTkuNzUgQyAzLjg0Mzc1IC05\nLjc4MTI1IDQuMjgxMjUgLTkuNzgxMjUgNC41NzgxMjUgLTkuNzgxMjUgQyA1LjkyMTg3NSAtOS43\nODEyNSA3LjYwOTM3NSAtOS43MTg3NSA3LjYwOTM3NSAtNy41NDY4NzUgWiBNIDcuNjA5Mzc1IC03\nLjU0Njg3NSAiLz4KPC9nPgo8ZyBpZD0iZ2x5cGgtMTYtMi0xYmEyOGU2ZiI+CjwvZz4KPGcgaWQ9\nImdseXBoLTE2LTMtMWJhMjhlNmYiPgo8cGF0aCBkPSJNIDMuODQzNzUgMy40NTMxMjUgQyAzLjg0\nMzc1IDMuMjgxMjUgMy43MDMxMjUgMy4xNTYyNSAzLjU0Njg3NSAzLjE1NjI1IEwgMi4zMTI1IDMu\nMTU2MjUgTCAyLjMxMjUgLTEwLjY1NjI1IEwgMy41NDY4NzUgLTEwLjY1NjI1IEMgMy43MDMxMjUg\nLTEwLjY1NjI1IDMuODQzNzUgLTEwLjc4MTI1IDMuODQzNzUgLTEwLjk1MzEyNSBDIDMuODQzNzUg\nLTExLjEwOTM3NSAzLjcwMzEyNSAtMTEuMjUgMy41NDY4NzUgLTExLjI1IEwgMS43MDMxMjUgLTEx\nLjI1IEwgMS43MDMxMjUgMy43NSBMIDMuNTQ2ODc1IDMuNzUgQyAzLjcwMzEyNSAzLjc1IDMuODQz\nNzUgMy42MDkzNzUgMy44NDM3NSAzLjQ1MzEyNSBaIE0gMy44NDM3NSAzLjQ1MzEyNSAiLz4KPC9n\nPgo8ZyBpZD0iZ2x5cGgtMTYtNC0xYmEyOGU2ZiI+CjxwYXRoIGQ9Ik0gMTAuODI4MTI1IC01LjIw\nMzEyNSBDIDEwLjgyODEyNSAtNS4zNzUgMTAuNjg3NSAtNS41IDEwLjUzMTI1IC01LjUgTCAxLjE0\nMDYyNSAtNS41IEMgMC45Njg3NSAtNS41IDAuODQzNzUgLTUuMzc1IDAuODQzNzUgLTUuMjAzMTI1\nIEMgMC44NDM3NSAtNS4wNDY4NzUgMC45Njg3NSAtNC45MDYyNSAxLjE0MDYyNSAtNC45MDYyNSBM\nIDEwLjUzMTI1IC00LjkwNjI1IEMgMTAuNjg3NSAtNC45MDYyNSAxMC44MjgxMjUgLTUuMDQ2ODc1\nIDEwLjgyODEyNSAtNS4yMDMxMjUgWiBNIDEwLjgyODEyNSAtMi4yOTY4NzUgQyAxMC44MjgxMjUg\nLTIuNDUzMTI1IDEwLjY4NzUgLTIuNTkzNzUgMTAuNTMxMjUgLTIuNTkzNzUgTCAxLjE0MDYyNSAt\nMi41OTM3NSBDIDAuOTY4NzUgLTIuNTkzNzUgMC44NDM3NSAtMi40NTMxMjUgMC44NDM3NSAtMi4y\nOTY4NzUgQyAwLjg0Mzc1IC0yLjEyNSAwLjk2ODc1IC0yIDEuMTQwNjI1IC0yIEwgMTAuNTMxMjUg\nLTIgQyAxMC42ODc1IC0yIDEwLjgyODEyNSAtMi4xMjUgMTAuODI4MTI1IC0yLjI5Njg3NSBaIE0g\nMTAuODI4MTI1IC0yLjI5Njg3NSAiLz4KPC9nPgo8ZyBpZD0iZ2x5cGgtMTYtNS0xYmEyOGU2ZiI+\nCjxwYXRoIGQ9Ik0gNC45ODQzNzUgMy41NjI1IEMgNC45ODQzNzUgMy41MzEyNSA0Ljk1MzEyNSAz\nLjQ4NDM3NSA0LjkyMTg3NSAzLjQ1MzEyNSBDIDMuMzU5Mzc1IDIuMjgxMjUgMi4zMjgxMjUgLTAu\nNzE4NzUgMi4zMjgxMjUgLTMuMTI1IEwgMi4zMjgxMjUgLTQuMzc1IEMgMi4zMjgxMjUgLTYuNzgx\nMjUgMy4zNTkzNzUgLTkuNzgxMjUgNC45MjE4NzUgLTEwLjk1MzEyNSBDIDQuOTUzMTI1IC0xMC45\nODQzNzUgNC45ODQzNzUgLTExLjAzMTI1IDQuOTg0Mzc1IC0xMS4wNjI1IEMgNC45ODQzNzUgLTEx\nLjE0MDYyNSA0LjkwNjI1IC0xMS4yMTg3NSA0LjgyODEyNSAtMTEuMjE4NzUgQyA0Ljc5Njg3NSAt\nMTEuMjE4NzUgNC43NjU2MjUgLTExLjIwMzEyNSA0LjczNDM3NSAtMTEuMTg3NSBDIDMuMDkzNzUg\nLTkuOTM3NSAxLjUxNTYyNSAtNi45Mzc1IDEuNTE1NjI1IC00LjM3NSBMIDEuNTE1NjI1IC0zLjEy\nNSBDIDEuNTE1NjI1IC0wLjU2MjUgMy4wOTM3NSAyLjQzNzUgNC43MzQzNzUgMy42ODc1IEMgNC43\nNjU2MjUgMy43MDMxMjUgNC43OTY4NzUgMy43MTg3NSA0LjgyODEyNSAzLjcxODc1IEMgNC45MDYy\nNSAzLjcxODc1IDQuOTg0Mzc1IDMuNjQwNjI1IDQuOTg0Mzc1IDMuNTYyNSBaIE0gNC45ODQzNzUg\nMy41NjI1ICIvPgo8L2c+CjxnIGlkPSJnbHlwaC0xNi02LTFiYTI4ZTZmIj4KPHBhdGggZD0iTSA0\nLjMxMjUgLTMuMTI1IEwgNC4zMTI1IC00LjM3NSBDIDQuMzEyNSAtNi45Mzc1IDIuNzUgLTkuOTM3\nNSAxLjA5Mzc1IC0xMS4xODc1IEMgMS4wNjI1IC0xMS4yMDMxMjUgMS4wMzEyNSAtMTEuMjE4NzUg\nMSAtMTEuMjE4NzUgQyAwLjkzNzUgLTExLjIxODc1IDAuODU5Mzc1IC0xMS4xNDA2MjUgMC44NTkz\nNzUgLTExLjA2MjUgQyAwLjg1OTM3NSAtMTEuMDMxMjUgMC44OTA2MjUgLTEwLjk4NDM3NSAwLjky\nMTg3NSAtMTAuOTUzMTI1IEMgMi40Njg3NSAtOS43ODEyNSAzLjUxNTYyNSAtNi43ODEyNSAzLjUx\nNTYyNSAtNC4zNzUgTCAzLjUxNTYyNSAtMy4xMjUgQyAzLjUxNTYyNSAtMC43MTg3NSAyLjQ2ODc1\nIDIuMjgxMjUgMC45MjE4NzUgMy40NTMxMjUgQyAwLjg5MDYyNSAzLjQ4NDM3NSAwLjg1OTM3NSAz\nLjUzMTI1IDAuODU5Mzc1IDMuNTYyNSBDIDAuODU5Mzc1IDMuNjQwNjI1IDAuOTM3NSAzLjcxODc1\nIDEgMy43MTg3NSBDIDEuMDMxMjUgMy43MTg3NSAxLjA2MjUgMy43MDMxMjUgMS4wOTM3NSAzLjY4\nNzUgQyAyLjc1IDIuNDM3NSA0LjMxMjUgLTAuNTYyNSA0LjMxMjUgLTMuMTI1IFogTSA0LjMxMjUg\nLTMuMTI1ICIvPgo8L2c+CjxnIGlkPSJnbHlwaC0xNi03LTFiYTI4ZTZmIj4KPHBhdGggZD0iTSAy\nLjQ1MzEyNSAzLjc1IEwgMi40NTMxMjUgLTExLjI1IEwgMC42MjUgLTExLjI1IEMgMC40Njg3NSAt\nMTEuMjUgMC4zMjgxMjUgLTExLjEwOTM3NSAwLjMyODEyNSAtMTAuOTUzMTI1IEMgMC4zMjgxMjUg\nLTEwLjc4MTI1IDAuNDY4NzUgLTEwLjY1NjI1IDAuNjI1IC0xMC42NTYyNSBMIDEuODU5Mzc1IC0x\nMC42NTYyNSBMIDEuODU5Mzc1IDMuMTU2MjUgTCAwLjYyNSAzLjE1NjI1IEMgMC40Njg3NSAzLjE1\nNjI1IDAuMzI4MTI1IDMuMjgxMjUgMC4zMjgxMjUgMy40NTMxMjUgQyAwLjMyODEyNSAzLjYwOTM3\nNSAwLjQ2ODc1IDMuNzUgMC42MjUgMy43NSBaIE0gMi40NTMxMjUgMy43NSAiLz4KPC9nPgo8ZyBp\nZD0iZ2x5cGgtMTYtOC0xYmEyOGU2ZiI+CjxwYXRoIGQ9Ik0gNi4yODEyNSAwIEwgNi4yODEyNSAt\nMC40Njg3NSBMIDUuODEyNSAtMC40Njg3NSBDIDQuNDUzMTI1IC0wLjQ2ODc1IDQuNDA2MjUgLTAu\nNjI1IDQuNDA2MjUgLTEuMTg3NSBMIDQuNDA2MjUgLTkuNTkzNzUgQyA0LjQwNjI1IC05Ljk1MzEy\nNSA0LjQwNjI1IC05Ljk4NDM3NSA0LjA2MjUgLTkuOTg0Mzc1IEMgMy4xNDA2MjUgLTkuMDMxMjUg\nMS44MTI1IC05LjAzMTI1IDEuMzI4MTI1IC05LjAzMTI1IEwgMS4zMjgxMjUgLTguNTYyNSBDIDEu\nNjQwNjI1IC04LjU2MjUgMi41MTU2MjUgLTguNTYyNSAzLjI5Njg3NSAtOC45NTMxMjUgTCAzLjI5\nNjg3NSAtMS4xODc1IEMgMy4yOTY4NzUgLTAuNjQwNjI1IDMuMjUgLTAuNDY4NzUgMS45MDYyNSAt\nMC40Njg3NSBMIDEuNDIxODc1IC0wLjQ2ODc1IEwgMS40MjE4NzUgMCBDIDEuOTUzMTI1IC0wLjA0\nNjg3NSAzLjI1IC0wLjA0Njg3NSAzLjg1OTM3NSAtMC4wNDY4NzUgQyA0LjQ1MzEyNSAtMC4wNDY4\nNzUgNS43NjU2MjUgLTAuMDQ2ODc1IDYuMjgxMjUgMCBaIE0gNi4yODEyNSAwICIvPgo8L2c+Cjxn\nIGlkPSJnbHlwaC0xNi05LTFiYTI4ZTZmIj4KPHBhdGggZD0iTSAxMC44MjgxMjUgLTMuNzUgQyAx\nMC44MjgxMjUgLTMuOTIxODc1IDEwLjY4NzUgLTQuMDQ2ODc1IDEwLjUzMTI1IC00LjA0Njg3NSBM\nIDEuMTQwNjI1IC00LjA0Njg3NSBDIDAuOTY4NzUgLTQuMDQ2ODc1IDAuODQzNzUgLTMuOTIxODc1\nIDAuODQzNzUgLTMuNzUgQyAwLjg0Mzc1IC0zLjU3ODEyNSAwLjk2ODc1IC0zLjQ1MzEyNSAxLjE0\nMDYyNSAtMy40NTMxMjUgTCAxMC41MzEyNSAtMy40NTMxMjUgQyAxMC42ODc1IC0zLjQ1MzEyNSAx\nMC44MjgxMjUgLTMuNTc4MTI1IDEwLjgyODEyNSAtMy43NSBaIE0gMTAuODI4MTI1IC0zLjc1ICIv\nPgo8L2c+CjxnIGlkPSJnbHlwaC0xNi0xMC0xYmEyOGU2ZiI+CjxwYXRoIGQ9Ik0gMTAuMjgxMjUg\nLTYuNzgxMjUgTCA5Ljk4NDM3NSAtMTAuMTU2MjUgTCAwLjgyODEyNSAtMTAuMTU2MjUgTCAwLjU0\nNjg3NSAtNi43ODEyNSBMIDAuOTIxODc1IC02Ljc4MTI1IEMgMS4xMjUgLTkuMTg3NSAxLjM0Mzc1\nIC05LjY4NzUgMy42MDkzNzUgLTkuNjg3NSBDIDMuODkwNjI1IC05LjY4NzUgNC4yODEyNSAtOS42\nODc1IDQuNDIxODc1IC05LjY1NjI1IEMgNC43MzQzNzUgLTkuNTkzNzUgNC43MzQzNzUgLTkuNDM3\nNSA0LjczNDM3NSAtOS4wOTM3NSBMIDQuNzM0Mzc1IC0xLjE4NzUgQyA0LjczNDM3NSAtMC42NzE4\nNzUgNC43MzQzNzUgLTAuNDY4NzUgMy4xNzE4NzUgLTAuNDY4NzUgTCAyLjU2MjUgLTAuNDY4NzUg\nTCAyLjU2MjUgMCBDIDMuMTg3NSAtMC4wNDY4NzUgNC43MDMxMjUgLTAuMDQ2ODc1IDUuNDA2MjUg\nLTAuMDQ2ODc1IEMgNi4wOTM3NSAtMC4wNDY4NzUgNy42NDA2MjUgLTAuMDQ2ODc1IDguMjUgMCBM\nIDguMjUgLTAuNDY4NzUgTCA3LjY1NjI1IC0wLjQ2ODc1IEMgNi4wNzgxMjUgLTAuNDY4NzUgNi4w\nNzgxMjUgLTAuNjcxODc1IDYuMDc4MTI1IC0xLjE4NzUgTCA2LjA3ODEyNSAtOS4wOTM3NSBDIDYu\nMDc4MTI1IC05LjM5MDYyNSA2LjA3ODEyNSAtOS41OTM3NSA2LjM0Mzc1IC05LjY1NjI1IEMgNi41\nMTU2MjUgLTkuNjg3NSA2LjkyMTg3NSAtOS42ODc1IDcuMjAzMTI1IC05LjY4NzUgQyA5LjQ2ODc1\nIC05LjY4NzUgOS42ODc1IC05LjE4NzUgOS45MDYyNSAtNi43ODEyNSBaIE0gMTAuMjgxMjUgLTYu\nNzgxMjUgIi8+CjwvZz4KPGcgaWQ9ImdseXBoLTE2LTExLTFiYTI4ZTZmIj4KPHBhdGggZD0iTSA1\nLjQ1MzEyNSAtNS43MTg3NSBDIDUuNDUzMTI1IC02LjE4NzUgNSAtNi42MjUgNC4zNDM3NSAtNi42\nMjUgQyAzLjI1IC02LjYyNSAyLjcxODc1IC01LjYyNSAyLjUgLTQuOTg0Mzc1IEwgMi41IC02LjYy\nNSBMIDAuNDIxODc1IC02LjQ2ODc1IEwgMC40MjE4NzUgLTYgQyAxLjQ2ODc1IC02IDEuNTkzNzUg\nLTUuODkwNjI1IDEuNTkzNzUgLTUuMTU2MjUgTCAxLjU5Mzc1IC0xLjE0MDYyNSBDIDEuNTkzNzUg\nLTAuNDY4NzUgMS40MjE4NzUgLTAuNDY4NzUgMC40MjE4NzUgLTAuNDY4NzUgTCAwLjQyMTg3NSAw\nIEwgMi4xMjUgLTAuMDQ2ODc1IEMgMi43MzQzNzUgLTAuMDQ2ODc1IDMuNDM3NSAtMC4wNDY4NzUg\nNC4wMzEyNSAwIEwgNC4wMzEyNSAtMC40Njg3NSBMIDMuNzE4NzUgLTAuNDY4NzUgQyAyLjYwOTM3\nNSAtMC40Njg3NSAyLjU3ODEyNSAtMC42MjUgMi41NzgxMjUgLTEuMTcxODc1IEwgMi41NzgxMjUg\nLTMuNDg0Mzc1IEMgMi41NzgxMjUgLTQuOTY4NzUgMy4yMDMxMjUgLTYuMjk2ODc1IDQuMzQzNzUg\nLTYuMjk2ODc1IEMgNC40NTMxMjUgLTYuMjk2ODc1IDQuNDg0Mzc1IC02LjI5Njg3NSA0LjUxNTYy\nNSAtNi4yODEyNSBDIDQuNDY4NzUgLTYuMjY1NjI1IDQuMTcxODc1IC02LjA5Mzc1IDQuMTcxODc1\nIC01LjcwMzEyNSBDIDQuMTcxODc1IC01LjI4MTI1IDQuNDg0Mzc1IC01LjA2MjUgNC44MTI1IC01\nLjA2MjUgQyA1LjA3ODEyNSAtNS4wNjI1IDUuNDUzMTI1IC01LjIzNDM3NSA1LjQ1MzEyNSAtNS43\nMTg3NSBaIE0gNS40NTMxMjUgLTUuNzE4NzUgIi8+CjwvZz4KPGcgaWQ9ImdseXBoLTE2LTEyLTFi\nYTI4ZTZmIj4KPHBhdGggZD0iTSA3LjUzMTI1IC00LjE4NzUgQyA3LjUzMTI1IC01Ljc4MTI1IDYu\nNTQ2ODc1IC02LjYyNSA1LjQzNzUgLTYuNjI1IEMgMy45ODQzNzUgLTYuNjI1IDIuNDIxODc1IC01\nLjEyNSAxLjk2ODc1IC0zLjI5Njg3NSBMIDAuNSAyLjU5Mzc1IEMgMC40NTMxMjUgMi43ODEyNSAw\nLjQ1MzEyNSAyLjgyODEyNSAwLjQ1MzEyNSAyLjgyODEyNSBDIDAuNDUzMTI1IDMuMDYyNSAwLjYw\nOTM3NSAzLjIzNDM3NSAwLjg3NSAzLjIzNDM3NSBDIDEuMTg3NSAzLjIzNDM3NSAxLjM1OTM3NSAy\nLjk2ODc1IDEuMzkwNjI1IDIuOTIxODc1IEMgMS40Njg3NSAyLjc5Njg3NSAxLjk1MzEyNSAwLjc4\nMTI1IDIuMzU5Mzc1IC0wLjg0Mzc1IEMgMi42NTYyNSAtMC4yMzQzNzUgMy4xNDA2MjUgMC4xNzE4\nNzUgMy44NDM3NSAwLjE3MTg3NSBDIDUuNTkzNzUgMC4xNzE4NzUgNy41MzEyNSAtMS45NTMxMjUg\nNy41MzEyNSAtNC4xODc1IFogTSA2LjQ1MzEyNSAtNC44MjgxMjUgQyA2LjQ1MzEyNSAtNCA2LjAx\nNTYyNSAtMi4zMjgxMjUgNS42MDkzNzUgLTEuNTkzNzUgQyA1LjEwOTM3NSAtMC42NDA2MjUgNC4z\nOTA2MjUgLTAuMTcxODc1IDMuODI4MTI1IC0wLjE3MTg3NSBDIDIuNzgxMjUgLTAuMTcxODc1IDIu\nNTMxMjUgLTEuMzU5Mzc1IDIuNTMxMjUgLTEuNSBDIDIuNTMxMjUgLTEuNTYyNSAyLjYwOTM3NSAt\nMS44NTkzNzUgMi42NTYyNSAtMi4wNjI1IEMgMy4wNzgxMjUgLTMuNzM0Mzc1IDMuMjE4NzUgLTQu\nMjgxMjUgMy41NjI1IC00Ljg3NSBDIDQuMjAzMTI1IC01Ljk2ODc1IDQuOTUzMTI1IC02LjI5Njg3\nNSA1LjQyMTg3NSAtNi4yOTY4NzUgQyA1Ljk2ODc1IC02LjI5Njg3NSA2LjQ1MzEyNSAtNS44NTkz\nNzUgNi40NTMxMjUgLTQuODI4MTI1IFogTSA2LjQ1MzEyNSAtNC44MjgxMjUgIi8+CjwvZz4KPGcg\naWQ9ImdseXBoLTE3LTAtMWJhMjhlNmYiPgo8cGF0aCBkPSJNIDEyLjU3ODEyNSAtMC4yNjU2MjUg\nQyAxMi41NzgxMjUgLTAuNDY4NzUgMTIuNDg0Mzc1IC0wLjQ2ODc1IDEyLjE4NzUgLTAuNDY4NzUg\nQyAxMS4zMTI1IC0wLjQ2ODc1IDExLjMxMjUgLTAuNTc4MTI1IDExLjMxMjUgLTAuNzE4NzUgQyAx\nMS4zMTI1IC0wLjcxODc1IDExLjMxMjUgLTAuODQzNzUgMTEuMzc1IC0xLjA2MjUgTCAxMy4zOTA2\nMjUgLTkuMTg3NSBDIDEzLjUxNTYyNSAtOS42NTYyNSAxMy42NDA2MjUgLTkuNzgxMjUgMTQuNTc4\nMTI1IC05Ljc4MTI1IEMgMTQuODkwNjI1IC05Ljc4MTI1IDE1LjAzMTI1IC05Ljc4MTI1IDE1LjAz\nMTI1IC0xMC4wNDY4NzUgQyAxNS4wMzEyNSAtMTAuMjUgMTQuOTA2MjUgLTEwLjI1IDE0LjY1NjI1\nIC0xMC4yNSBMIDEyLjczNDM3NSAtMTAuMjUgQyAxMi40MDYyNSAtMTAuMjUgMTIuMzU5Mzc1IC0x\nMC4yNSAxMi4xODc1IC05Ljk2ODc1IEwgNy4wOTM3NSAtMS41IEwgNi4yNSAtOS45MjE4NzUgQyA2\nLjIxODc1IC0xMC4yNSA2LjE4NzUgLTEwLjI1IDUuODI4MTI1IC0xMC4yNSBMIDMuODQzNzUgLTEw\nLjI1IEMgMy41OTM3NSAtMTAuMjUgMy40Mzc1IC0xMC4yNSAzLjQzNzUgLTkuOTUzMTI1IEMgMy40\nMzc1IC05Ljc4MTI1IDMuNTYyNSAtOS43ODEyNSAzLjg0Mzc1IC05Ljc4MTI1IEMgNC4zMTI1IC05\nLjc4MTI1IDQuNzAzMTI1IC05Ljc4MTI1IDQuNzAzMTI1IC05LjUzMTI1IEMgNC43MDMxMjUgLTku\nNDg0Mzc1IDQuNzAzMTI1IC05LjQ1MzEyNSA0LjY1NjI1IC05LjIzNDM3NSBMIDIuNzM0Mzc1IC0x\nLjUxNTYyNSBDIDIuNTE1NjI1IC0wLjY3MTg3NSAxLjk1MzEyNSAtMC41IDEuMjgxMjUgLTAuNDY4\nNzUgQyAxLjE1NjI1IC0wLjQ2ODc1IDAuOTg0Mzc1IC0wLjQ1MzEyNSAwLjk4NDM3NSAtMC4xODc1\nIEMgMC45ODQzNzUgLTAuMDQ2ODc1IDEuMDc4MTI1IDAgMS4xODc1IDAgQyAxLjY0MDYyNSAwIDIu\nMTQwNjI1IC0wLjA0Njg3NSAyLjYwOTM3NSAtMC4wNDY4NzUgQyAzLjA5Mzc1IC0wLjA0Njg3NSAz\nLjYwOTM3NSAwIDQuMDc4MTI1IDAgQyA0LjE3MTg3NSAwIDQuMzQzNzUgMCA0LjM0Mzc1IC0wLjI2\nNTYyNSBDIDQuMzQzNzUgLTAuNDUzMTI1IDQuMjUgLTAuNDY4NzUgNC4wNjI1IC0wLjQ2ODc1IEMg\nMy4yMDMxMjUgLTAuNSAzLjE4NzUgLTAuODkwNjI1IDMuMTg3NSAtMS4xMDkzNzUgQyAzLjE4NzUg\nLTEuMTU2MjUgMy4xODc1IC0xLjI1IDMuMjM0Mzc1IC0xLjQ4NDM3NSBMIDUuMjM0Mzc1IC05LjQ1\nMzEyNSBMIDUuMjUgLTkuNDUzMTI1IEwgNi4xNzE4NzUgLTAuMzU5Mzc1IEMgNi4xODc1IC0wLjEw\nOTM3NSA2LjE4NzUgMCA2LjQyMTg3NSAwIEMgNi42MDkzNzUgMCA2LjY4NzUgLTAuMTA5Mzc1IDYu\nNzgxMjUgLTAuMjY1NjI1IEwgMTIuMzc1IC05LjU3ODEyNSBMIDEyLjM5MDYyNSAtOS41NzgxMjUg\nTCAxMC4yODEyNSAtMS4wOTM3NSBDIDEwLjE1NjI1IC0wLjU3ODEyNSAxMC4wNjI1IC0wLjQ2ODc1\nIDkuMDQ2ODc1IC0wLjQ2ODc1IEMgOC44MTI1IC0wLjQ2ODc1IDguNjQwNjI1IC0wLjQ2ODc1IDgu\nNjQwNjI1IC0wLjE4NzUgQyA4LjY0MDYyNSAwIDguODEyNSAwIDguODQzNzUgMCBDIDkuNDA2MjUg\nMCA5Ljk4NDM3NSAtMC4wNDY4NzUgMTAuNTYyNSAtMC4wNDY4NzUgQyAxMS4xMjUgLTAuMDQ2ODc1\nIDExLjc1IDAgMTIuMjk2ODc1IDAgQyAxMi40MDYyNSAwIDEyLjU3ODEyNSAwIDEyLjU3ODEyNSAt\nMC4yNjU2MjUgWiBNIDEyLjU3ODEyNSAtMC4yNjU2MjUgIi8+CjwvZz4KPGcgaWQ9ImdseXBoLTE3\nLTEtMWJhMjhlNmYiPgo8cGF0aCBkPSJNIDUuMzQzNzUgLTIuMTQwNjI1IEMgNS4zNDM3NSAtMi4y\nOTY4NzUgNS4yMTg3NSAtMi4yOTY4NzUgNS4xMDkzNzUgLTIuMjk2ODc1IEMgNC45Mzc1IC0yLjI5\nNjg3NSA0LjkzNzUgLTIuMjgxMjUgNC44MTI1IC0yLjAxNTYyNSBDIDQuNTQ2ODc1IC0xLjI5Njg3\nNSAzLjkzNzUgLTAuMTcxODc1IDMuMDkzNzUgLTAuMTcxODc1IEMgMi42ODc1IC0wLjE3MTg3NSAy\nLjY4NzUgLTAuNTQ2ODc1IDIuNjg3NSAtMC43ODEyNSBDIDIuNjg3NSAtMC44OTA2MjUgMi42ODc1\nIC0xLjEyNSAyLjc5Njg3NSAtMS41NDY4NzUgTCAzLjkwNjI1IC02IEwgNS4xNzE4NzUgLTYgQyA1\nLjQzNzUgLTYgNS41OTM3NSAtNiA1LjU5Mzc1IC02LjI4MTI1IEMgNS41OTM3NSAtNi40Njg3NSA1\nLjQ1MzEyNSAtNi40Njg3NSA1LjIxODc1IC02LjQ2ODc1IEwgNC4wMTU2MjUgLTYuNDY4NzUgTCA0\nLjU3ODEyNSAtOC42ODc1IEMgNC42NDA2MjUgLTguODkwNjI1IDQuNjQwNjI1IC04LjkyMTg3NSA0\nLjY0MDYyNSAtOSBDIDQuNjQwNjI1IC05LjMxMjUgNC4zNzUgLTkuMzkwNjI1IDQuMjM0Mzc1IC05\nLjM5MDYyNSBDIDMuODU5Mzc1IC05LjM5MDYyNSAzLjcwMzEyNSAtOS4wNzgxMjUgMy42NDA2MjUg\nLTguODQzNzUgTCAzLjA2MjUgLTYuNDY4NzUgTCAxLjc4MTI1IC02LjQ2ODc1IEMgMS41MzEyNSAt\nNi40Njg3NSAxLjM1OTM3NSAtNi40Njg3NSAxLjM1OTM3NSAtNi4xODc1IEMgMS4zNTkzNzUgLTYg\nMS41IC02IDEuNzM0Mzc1IC02IEwgMi45Mzc1IC02IEwgMS44NTkzNzUgLTEuNjg3NSBDIDEuODQz\nNzUgLTEuNjQwNjI1IDEuNzgxMjUgLTEuMzkwNjI1IDEuNzgxMjUgLTEuMTg3NSBDIDEuNzgxMjUg\nLTAuNDM3NSAyLjI4MTI1IDAuMTcxODc1IDMuMDYyNSAwLjE3MTg3NSBDIDQuNTc4MTI1IDAuMTcx\nODc1IDUuMzQzNzUgLTIuMDYyNSA1LjM0Mzc1IC0yLjE0MDYyNSBaIE0gNS4zNDM3NSAtMi4xNDA2\nMjUgIi8+CjwvZz4KPGcgaWQ9ImdseXBoLTE3LTItMWJhMjhlNmYiPgo8cGF0aCBkPSJNIDEwLjk1\nMzEyNSAtOC4wMzEyNSBDIDEwLjk1MzEyNSAtOS4yODEyNSA5LjkzNzUgLTEwLjI1IDguMjk2ODc1\nIC0xMC4yNSBMIDMuNzk2ODc1IC0xMC4yNSBDIDMuNTYyNSAtMTAuMjUgMy4zOTA2MjUgLTEwLjI1\nIDMuMzkwNjI1IC05Ljk1MzEyNSBDIDMuMzkwNjI1IC05Ljc4MTI1IDMuNTE1NjI1IC05Ljc4MTI1\nIDMuNzk2ODc1IC05Ljc4MTI1IEMgNC4yNjU2MjUgLTkuNzgxMjUgNC42NzE4NzUgLTkuNzgxMjUg\nNC42NzE4NzUgLTkuNTMxMjUgQyA0LjY3MTg3NSAtOS40ODQzNzUgNC42NzE4NzUgLTkuNDUzMTI1\nIDQuNjA5Mzc1IC05LjIzNDM3NSBMIDIuNTc4MTI1IC0xLjA5Mzc1IEMgMi40NTMxMjUgLTAuNTc4\nMTI1IDIuMzc1IC0wLjQ2ODc1IDEuMzQzNzUgLTAuNDY4NzUgQyAxLjEwOTM3NSAtMC40Njg3NSAw\nLjkzNzUgLTAuNDY4NzUgMC45Mzc1IC0wLjE4NzUgQyAwLjkzNzUgMCAxLjEwOTM3NSAwIDEuMTU2\nMjUgMCBDIDEuNzE4NzUgMCAyLjM0Mzc1IC0wLjA0Njg3NSAyLjkyMTg3NSAtMC4wNDY4NzUgQyAz\nLjUzMTI1IC0wLjA0Njg3NSA0LjE0MDYyNSAwIDQuNzE4NzUgMCBDIDQuODI4MTI1IDAgNS4wMTU2\nMjUgMCA1LjAxNTYyNSAtMC4yNjU2MjUgQyA1LjAxNTYyNSAtMC40Njg3NSA0LjkwNjI1IC0wLjQ2\nODc1IDQuNjA5Mzc1IC0wLjQ2ODc1IEMgMy43MzQzNzUgLTAuNDY4NzUgMy43MzQzNzUgLTAuNTc4\nMTI1IDMuNzM0Mzc1IC0wLjcxODc1IEMgMy43MzQzNzUgLTAuNzgxMjUgMy43MzQzNzUgLTAuODEy\nNSAzLjc5Njg3NSAtMS4wMTU2MjUgTCA0LjcwMzEyNSAtNC43MzQzNzUgTCA3LjAzMTI1IC00Ljcz\nNDM3NSBDIDguOTIxODc1IC00LjczNDM3NSAxMC45NTMxMjUgLTYuMjY1NjI1IDEwLjk1MzEyNSAt\nOC4wMzEyNSBaIE0gOS42MjUgLTguNDM3NSBDIDkuNjI1IC04LjEyNSA5LjQwNjI1IC02LjY1NjI1\nIDguODI4MTI1IC02IEMgOC4zMTI1IC01LjQyMTg3NSA3LjU2MjUgLTUuMTI1IDYuNjU2MjUgLTUu\nMTI1IEwgNC43NjU2MjUgLTUuMTI1IEwgNS43OTY4NzUgLTkuMjM0Mzc1IEMgNS45MjE4NzUgLTku\nNzgxMjUgNi4wMzEyNSAtOS43ODEyNSA2LjUzMTI1IC05Ljc4MTI1IEwgNy44MTI1IC05Ljc4MTI1\nIEMgOC44NTkzNzUgLTkuNzgxMjUgOS42MjUgLTkuMzkwNjI1IDkuNjI1IC04LjQzNzUgWiBNIDku\nNjI1IC04LjQzNzUgIi8+CjwvZz4KPGcgaWQ9ImdseXBoLTE3LTMtMWJhMjhlNmYiPgo8cGF0aCBk\nPSJNIDguMDYyNSAtMy41NjI1IEMgOC4wNjI1IC00IDcuOTY4NzUgLTQuNjI1IDcuNTc4MTI1IC01\nLjA5Mzc1IEMgNy4yMDMxMjUgLTUuNTYyNSA3LjAxNTYyNSAtNS42MDkzNzUgNS41OTM3NSAtNi4w\nMzEyNSBDIDUuMzEyNSAtNi4xMDkzNzUgNC44NDM3NSAtNi4yMzQzNzUgNC43NjU2MjUgLTYuMjY1\nNjI1IEMgNC4yNjU2MjUgLTYuNSA0IC02Ljk2ODc1IDQgLTcuNTkzNzUgQyA0IC04LjgxMjUgNS4x\nNTYyNSAtMTAuMTU2MjUgNi40Mzc1IC0xMC4xNTYyNSBDIDcuODQzNzUgLTEwLjE1NjI1IDguMjY1\nNjI1IC05LjE0MDYyNSA4LjI2NTYyNSAtOC4wMzEyNSBDIDguMjY1NjI1IC03LjY0MDYyNSA4LjI1\nIC03LjUzMTI1IDguMTg3NSAtNy4yMDMxMjUgTCA4LjE3MTg3NSAtNi45ODQzNzUgQyA4LjE3MTg3\nNSAtNi44NDM3NSA4LjMyODEyNSAtNi44NDM3NSA4LjQwNjI1IC02Ljg0Mzc1IEMgOC41NjI1IC02\nLjg0Mzc1IDguNjA5Mzc1IC02Ljg1OTM3NSA4LjY3MTg3NSAtNy4xMDkzNzUgTCA5LjQ1MzEyNSAt\nMTAuMjE4NzUgQyA5LjQ2ODc1IC0xMC4yODEyNSA5LjQ4NDM3NSAtMTAuMzU5Mzc1IDkuNDg0Mzc1\nIC0xMC40MjE4NzUgQyA5LjQ4NDM3NSAtMTAuNDIxODc1IDkuNDY4NzUgLTEwLjU3ODEyNSA5LjMx\nMjUgLTEwLjU3ODEyNSBDIDkuMjM0Mzc1IC0xMC41NzgxMjUgOS4yMTg3NSAtMTAuNTYyNSA5LjA5\nMzc1IC0xMC4zOTA2MjUgTCA4LjQyMTg3NSAtOS41NjI1IEMgNy44MjgxMjUgLTEwLjU2MjUgNi43\nNjU2MjUgLTEwLjU3ODEyNSA2LjQ2ODc1IC0xMC41NzgxMjUgQyA0LjYyNSAtMTAuNTc4MTI1IDIu\nOTg0Mzc1IC04LjczNDM3NSAyLjk4NDM3NSAtNyBDIDIuOTg0Mzc1IC02LjIxODc1IDMuMzEyNSAt\nNS40Mzc1IDQuMTg3NSAtNS4wMzEyNSBDIDQuMjgxMjUgLTQuOTg0Mzc1IDQuNjA5Mzc1IC00Ljg5\nMDYyNSA0LjgyODEyNSAtNC44MjgxMjUgTCA1LjU2MjUgLTQuNjI1IEMgNi4zNDM3NSAtNC4zOTA2\nMjUgNi40Njg3NSAtNC4zNDM3NSA2LjcxODc1IC00LjA3ODEyNSBDIDYuODkwNjI1IC0zLjg3NSA3\nLjA0Njg3NSAtMy41NDY4NzUgNy4wNDY4NzUgLTMgQyA3LjA0Njg3NSAtMS42NDA2MjUgNS44NzUg\nLTAuMTQwNjI1IDQuNTQ2ODc1IC0wLjE0MDYyNSBDIDMuNDIxODc1IC0wLjE0MDYyNSAyLjI5Njg3\nNSAtMC42NzE4NzUgMi4yOTY4NzUgLTIuMjM0Mzc1IEMgMi4yOTY4NzUgLTIuNTc4MTI1IDIuMzc1\nIC0yLjk4NDM3NSAyLjQyMTg3NSAtMy4xNTYyNSBMIDIuNDM3NSAtMy4yMzQzNzUgQyAyLjQzNzUg\nLTMuNDA2MjUgMi4yOTY4NzUgLTMuNDA2MjUgMi4yMDMxMjUgLTMuNDA2MjUgQyAyLjAzMTI1IC0z\nLjQwNjI1IDIgLTMuMzc1IDEuOTM3NSAtMy4xNTYyNSBMIDEuMTU2MjUgLTAuMDE1NjI1IEMgMS4x\nMjUgMC4wOTM3NSAxLjEwOTM3NSAwLjE0MDYyNSAxLjEwOTM3NSAwLjE4NzUgQyAxLjEwOTM3NSAw\nLjI2NTYyNSAxLjE4NzUgMC4zMjgxMjUgMS4yODEyNSAwLjMyODEyNSBDIDEuMzc1IDAuMzI4MTI1\nIDEuMzkwNjI1IDAuMjk2ODc1IDEuNTE1NjI1IDAuMTU2MjUgQyAxLjY4NzUgLTAuMDMxMjUgMi4w\nNjI1IC0wLjUxNTYyNSAyLjIxODc1IC0wLjcwMzEyNSBDIDIuNzgxMjUgMC4xMDkzNzUgMy43MzQz\nNzUgMC4zMjgxMjUgNC41MTU2MjUgMC4zMjgxMjUgQyA2LjQwNjI1IDAuMzI4MTI1IDguMDYyNSAt\nMS42ODc1IDguMDYyNSAtMy41NjI1IFogTSA4LjA2MjUgLTMuNTYyNSAiLz4KPC9nPgo8ZyBpZD0i\nZ2x5cGgtMTgtMC0xYmEyOGU2ZiI+CjxwYXRoIGQ9Ik0gOC4wNjI1IC0zLjU2MjUgQyA4LjA2MjUg\nLTQgNy45Njg3NSAtNC42MjUgNy41NzgxMjUgLTUuMDkzNzUgQyA3LjIwMzEyNSAtNS41NjI1IDcu\nMDE1NjI1IC01LjYwOTM3NSA1LjU5Mzc1IC02LjAzMTI1IEMgNS4zMTI1IC02LjEwOTM3NSA0Ljg0\nMzc1IC02LjIzNDM3NSA0Ljc2NTYyNSAtNi4yNjU2MjUgQyA0LjI2NTYyNSAtNi41IDQgLTYuOTY4\nNzUgNCAtNy41OTM3NSBDIDQgLTguODEyNSA1LjE1NjI1IC0xMC4xNTYyNSA2LjQzNzUgLTEwLjE1\nNjI1IEMgNy44NDM3NSAtMTAuMTU2MjUgOC4yNjU2MjUgLTkuMTQwNjI1IDguMjY1NjI1IC04LjAz\nMTI1IEMgOC4yNjU2MjUgLTcuNjQwNjI1IDguMjUgLTcuNTMxMjUgOC4xODc1IC03LjIwMzEyNSBM\nIDguMTcxODc1IC02Ljk4NDM3NSBDIDguMTcxODc1IC02Ljg0Mzc1IDguMzI4MTI1IC02Ljg0Mzc1\nIDguNDA2MjUgLTYuODQzNzUgQyA4LjU2MjUgLTYuODQzNzUgOC42MDkzNzUgLTYuODU5Mzc1IDgu\nNjcxODc1IC03LjEwOTM3NSBMIDkuNDUzMTI1IC0xMC4yMTg3NSBDIDkuNDY4NzUgLTEwLjI4MTI1\nIDkuNDg0Mzc1IC0xMC4zNTkzNzUgOS40ODQzNzUgLTEwLjQyMTg3NSBDIDkuNDg0Mzc1IC0xMC40\nMjE4NzUgOS40Njg3NSAtMTAuNTc4MTI1IDkuMzEyNSAtMTAuNTc4MTI1IEMgOS4yMzQzNzUgLTEw\nLjU3ODEyNSA5LjIxODc1IC0xMC41NjI1IDkuMDkzNzUgLTEwLjM5MDYyNSBMIDguNDIxODc1IC05\nLjU2MjUgQyA3LjgyODEyNSAtMTAuNTYyNSA2Ljc2NTYyNSAtMTAuNTc4MTI1IDYuNDY4NzUgLTEw\nLjU3ODEyNSBDIDQuNjI1IC0xMC41NzgxMjUgMi45ODQzNzUgLTguNzM0Mzc1IDIuOTg0Mzc1IC03\nIEMgMi45ODQzNzUgLTYuMjE4NzUgMy4zMTI1IC01LjQzNzUgNC4xODc1IC01LjAzMTI1IEMgNC4y\nODEyNSAtNC45ODQzNzUgNC42MDkzNzUgLTQuODkwNjI1IDQuODI4MTI1IC00LjgyODEyNSBMIDUu\nNTYyNSAtNC42MjUgQyA2LjM0Mzc1IC00LjM5MDYyNSA2LjQ2ODc1IC00LjM0Mzc1IDYuNzE4NzUg\nLTQuMDc4MTI1IEMgNi44OTA2MjUgLTMuODc1IDcuMDQ2ODc1IC0zLjU0Njg3NSA3LjA0Njg3NSAt\nMyBDIDcuMDQ2ODc1IC0xLjY0MDYyNSA1Ljg3NSAtMC4xNDA2MjUgNC41NDY4NzUgLTAuMTQwNjI1\nIEMgMy40MjE4NzUgLTAuMTQwNjI1IDIuMjk2ODc1IC0wLjY3MTg3NSAyLjI5Njg3NSAtMi4yMzQz\nNzUgQyAyLjI5Njg3NSAtMi41NzgxMjUgMi4zNzUgLTIuOTg0Mzc1IDIuNDIxODc1IC0zLjE1NjI1\nIEwgMi40Mzc1IC0zLjIzNDM3NSBDIDIuNDM3NSAtMy40MDYyNSAyLjI5Njg3NSAtMy40MDYyNSAy\nLjIwMzEyNSAtMy40MDYyNSBDIDIuMDMxMjUgLTMuNDA2MjUgMiAtMy4zNzUgMS45Mzc1IC0zLjE1\nNjI1IEwgMS4xNTYyNSAtMC4wMTU2MjUgQyAxLjEyNSAwLjA5Mzc1IDEuMTA5Mzc1IDAuMTQwNjI1\nIDEuMTA5Mzc1IDAuMTg3NSBDIDEuMTA5Mzc1IDAuMjY1NjI1IDEuMTg3NSAwLjMyODEyNSAxLjI4\nMTI1IDAuMzI4MTI1IEMgMS4zNzUgMC4zMjgxMjUgMS4zOTA2MjUgMC4yOTY4NzUgMS41MTU2MjUg\nMC4xNTYyNSBDIDEuNjg3NSAtMC4wMzEyNSAyLjA2MjUgLTAuNTE1NjI1IDIuMjE4NzUgLTAuNzAz\nMTI1IEMgMi43ODEyNSAwLjEwOTM3NSAzLjczNDM3NSAwLjMyODEyNSA0LjUxNTYyNSAwLjMyODEy\nNSBDIDYuNDA2MjUgMC4zMjgxMjUgOC4wNjI1IC0xLjY4NzUgOC4wNjI1IC0zLjU2MjUgWiBNIDgu\nMDYyNSAtMy41NjI1ICIvPgo8L2c+CjxnIGlkPSJnbHlwaC0xOS0wLTFiYTI4ZTZmIj4KPHBhdGgg\nZD0iTSAzLjIzNDM3NSAtMS4xNTYyNSBDIDMuMjM0Mzc1IC0xLjYyNSAyLjk2ODc1IC0xLjkwNjI1\nIDIuODU5Mzc1IC0yIEMgMi41NjI1IC0yLjI5Njg3NSAyLjIxODc1IC0yLjM1OTM3NSAxLjg0Mzc1\nIC0yLjQzNzUgQyAxLjMyODEyNSAtMi41MzEyNSAwLjczNDM3NSAtMi42NTYyNSAwLjczNDM3NSAt\nMy4xNzE4NzUgQyAwLjczNDM3NSAtMy40ODQzNzUgMC45Njg3NSAtMy44NTkzNzUgMS43MzQzNzUg\nLTMuODU5Mzc1IEMgMi43MzQzNzUgLTMuODU5Mzc1IDIuNzY1NjI1IC0zLjA0Njg3NSAyLjc5Njg3\nNSAtMi43NjU2MjUgQyAyLjc5Njg3NSAtMi42ODc1IDIuODkwNjI1IC0yLjY4NzUgMi44OTA2MjUg\nLTIuNjg3NSBDIDMuMDE1NjI1IC0yLjY4NzUgMy4wMTU2MjUgLTIuNzM0Mzc1IDMuMDE1NjI1IC0y\nLjkwNjI1IEwgMy4wMTU2MjUgLTMuODEyNSBDIDMuMDE1NjI1IC0zLjk2ODc1IDMuMDE1NjI1IC00\nLjAzMTI1IDIuOTIxODc1IC00LjAzMTI1IEMgMi44NzUgLTQuMDMxMjUgMi44NTkzNzUgLTQuMDMx\nMjUgMi43MzQzNzUgLTMuOTIxODc1IEMgMi43MDMxMjUgLTMuODkwNjI1IDIuNjI1IC0zLjgxMjUg\nMi41NzgxMjUgLTMuNzgxMjUgQyAyLjIzNDM3NSAtNC4wMzEyNSAxLjg3NSAtNC4wMzEyNSAxLjcz\nNDM3NSAtNC4wMzEyNSBDIDAuNjQwNjI1IC00LjAzMTI1IDAuMjk2ODc1IC0zLjQyMTg3NSAwLjI5\nNjg3NSAtMi45MjE4NzUgQyAwLjI5Njg3NSAtMi42MDkzNzUgMC40Mzc1IC0yLjM1OTM3NSAwLjY4\nNzUgLTIuMTU2MjUgQyAwLjk2ODc1IC0xLjkyMTg3NSAxLjIxODc1IC0xLjg3NSAxLjg3NSAtMS43\nNSBDIDIuMDYyNSAtMS43MDMxMjUgMi44MTI1IC0xLjU2MjUgMi44MTI1IC0wLjkyMTg3NSBDIDIu\nODEyNSAtMC40NTMxMjUgMi41IC0wLjA5Mzc1IDEuNzk2ODc1IC0wLjA5Mzc1IEMgMS4wMzEyNSAt\nMC4wOTM3NSAwLjcxODc1IC0wLjYwOTM3NSAwLjU0Njg3NSAtMS4zNzUgQyAwLjUxNTYyNSAtMS41\nIDAuNSAtMS41MzEyNSAwLjQwNjI1IC0xLjUzMTI1IEMgMC4yOTY4NzUgLTEuNTMxMjUgMC4yOTY4\nNzUgLTEuNDY4NzUgMC4yOTY4NzUgLTEuMzEyNSBMIDAuMjk2ODc1IC0wLjEwOTM3NSBDIDAuMjk2\nODc1IDAuMDMxMjUgMC4yOTY4NzUgMC4wOTM3NSAwLjM5MDYyNSAwLjA5Mzc1IEMgMC40Mzc1IDAu\nMDkzNzUgMC40NTMxMjUgMC4wOTM3NSAwLjYyNSAtMC4wNzgxMjUgQyAwLjY0MDYyNSAtMC4wOTM3\nNSAwLjY0MDYyNSAtMC4xMDkzNzUgMC43OTY4NzUgLTAuMjgxMjUgQyAxLjIwMzEyNSAwLjA5Mzc1\nIDEuNjA5Mzc1IDAuMDkzNzUgMS43OTY4NzUgMC4wOTM3NSBDIDIuODI4MTI1IDAuMDkzNzUgMy4y\nMzQzNzUgLTAuNSAzLjIzNDM3NSAtMS4xNTYyNSBaIE0gMy4yMzQzNzUgLTEuMTU2MjUgIi8+Cjwv\nZz4KPGcgaWQ9ImdseXBoLTIwLTAtMWJhMjhlNmYiPgo8cGF0aCBkPSJNIDIuOTg0Mzc1IC0xLjEw\nOTM3NSBMIDIuOTg0Mzc1IC0xLjYyNSBMIDIuNzY1NjI1IC0xLjYyNSBMIDIuNzY1NjI1IC0xLjE0\nMDYyNSBDIDIuNzY1NjI1IC0wLjQ2ODc1IDIuNSAtMC4xMjUgMi4xNTYyNSAtMC4xMjUgQyAxLjU2\nMjUgLTAuMTI1IDEuNTYyNSAtMC45Mzc1IDEuNTYyNSAtMS4wOTM3NSBMIDEuNTYyNSAtMy41OTM3\nNSBMIDIuODQzNzUgLTMuNTkzNzUgTCAyLjg0Mzc1IC0zLjg3NSBMIDEuNTYyNSAtMy44NzUgTCAx\nLjU2MjUgLTUuNTMxMjUgTCAxLjMyODEyNSAtNS41MzEyNSBDIDEuMzI4MTI1IC00Ljc5Njg3NSAx\nLjA0Njg3NSAtMy44MjgxMjUgMC4xNzE4NzUgLTMuNzk2ODc1IEwgMC4xNzE4NzUgLTMuNTkzNzUg\nTCAwLjkzNzUgLTMuNTkzNzUgTCAwLjkzNzUgLTEuMTA5Mzc1IEMgMC45Mzc1IC0wLjAxNTYyNSAx\nLjc2NTYyNSAwLjA5Mzc1IDIuMDkzNzUgMC4wOTM3NSBDIDIuNzM0Mzc1IDAuMDkzNzUgMi45ODQz\nNzUgLTAuNTQ2ODc1IDIuOTg0Mzc1IC0xLjEwOTM3NSBaIE0gMi45ODQzNzUgLTEuMTA5Mzc1ICIv\nPgo8L2c+CjxnIGlkPSJnbHlwaC0yMC0xLTFiYTI4ZTZmIj4KPHBhdGggZD0iTSAzLjI4MTI1IC0z\nLjQyMTg3NSBDIDMuMjgxMjUgLTMuNzE4NzUgMyAtMy45ODQzNzUgMi42MDkzNzUgLTMuOTg0Mzc1\nIEMgMS45NTMxMjUgLTMuOTg0Mzc1IDEuNjI1IC0zLjM3NSAxLjUgLTIuOTg0Mzc1IEwgMS41IC0z\nLjk4NDM3NSBMIDAuMjUgLTMuODc1IEwgMC4yNSAtMy41OTM3NSBDIDAuODc1IC0zLjU5Mzc1IDAu\nOTUzMTI1IC0zLjUzMTI1IDAuOTUzMTI1IC0zLjA5Mzc1IEwgMC45NTMxMjUgLTAuNjg3NSBDIDAu\nOTUzMTI1IC0wLjI4MTI1IDAuODU5Mzc1IC0wLjI4MTI1IDAuMjUgLTAuMjgxMjUgTCAwLjI1IDAg\nTCAxLjI4MTI1IC0wLjAzMTI1IEMgMS42NDA2MjUgLTAuMDMxMjUgMi4wNjI1IC0wLjAzMTI1IDIu\nNDIxODc1IDAgTCAyLjQyMTg3NSAtMC4yODEyNSBMIDIuMjM0Mzc1IC0wLjI4MTI1IEMgMS41NjI1\nIC0wLjI4MTI1IDEuNTQ2ODc1IC0wLjM3NSAxLjU0Njg3NSAtMC43MDMxMjUgTCAxLjU0Njg3NSAt\nMi4wOTM3NSBDIDEuNTQ2ODc1IC0yLjk4NDM3NSAxLjkyMTg3NSAtMy43ODEyNSAyLjYwOTM3NSAt\nMy43ODEyNSBDIDIuNjcxODc1IC0zLjc4MTI1IDIuNjg3NSAtMy43ODEyNSAyLjcwMzEyNSAtMy43\nNjU2MjUgQyAyLjY4NzUgLTMuNzY1NjI1IDIuNSAtMy42NTYyNSAyLjUgLTMuNDIxODc1IEMgMi41\nIC0zLjE3MTg3NSAyLjY4NzUgLTMuMDMxMjUgMi44OTA2MjUgLTMuMDMxMjUgQyAzLjA0Njg3NSAt\nMy4wMzEyNSAzLjI4MTI1IC0zLjE0MDYyNSAzLjI4MTI1IC0zLjQyMTg3NSBaIE0gMy4yODEyNSAt\nMy40MjE4NzUgIi8+CjwvZz4KPGcgaWQ9ImdseXBoLTIwLTItMWJhMjhlNmYiPgo8cGF0aCBkPSJN\nIDQuODEyNSAwIEwgNC44MTI1IC0wLjI4MTI1IEMgNC4xODc1IC0wLjI4MTI1IDQuMTA5Mzc1IC0w\nLjM0Mzc1IDQuMTA5Mzc1IC0wLjc4MTI1IEwgNC4xMDkzNzUgLTMuOTg0Mzc1IEwgMi43OTY4NzUg\nLTMuODc1IEwgMi43OTY4NzUgLTMuNTkzNzUgQyAzLjQyMTg3NSAtMy41OTM3NSAzLjQ4NDM3NSAt\nMy41MzEyNSAzLjQ4NDM3NSAtMy4wOTM3NSBMIDMuNDg0Mzc1IC0xLjUgQyAzLjQ4NDM3NSAtMC43\nMTg3NSAzLjA2MjUgLTAuMDkzNzUgMi40MDYyNSAtMC4wOTM3NSBDIDEuNjQwNjI1IC0wLjA5Mzc1\nIDEuNjA5Mzc1IC0wLjUxNTYyNSAxLjYwOTM3NSAtMC45ODQzNzUgTCAxLjYwOTM3NSAtMy45ODQz\nNzUgTCAwLjI4MTI1IC0zLjg3NSBMIDAuMjgxMjUgLTMuNTkzNzUgQyAwLjk4NDM3NSAtMy41OTM3\nNSAwLjk4NDM3NSAtMy41NzgxMjUgMC45ODQzNzUgLTIuNzY1NjI1IEwgMC45ODQzNzUgLTEuNDIx\nODc1IEMgMC45ODQzNzUgLTAuNzE4NzUgMC45ODQzNzUgMC4wOTM3NSAyLjM1OTM3NSAwLjA5Mzc1\nIEMgMi44NTkzNzUgMC4wOTM3NSAzLjI2NTYyNSAtMC4xNTYyNSAzLjUxNTYyNSAtMC43MTg3NSBM\nIDMuNTE1NjI1IDAuMDkzNzUgWiBNIDQuODEyNSAwICIvPgo8L2c+CjxnIGlkPSJnbHlwaC0yMC0z\nLTFiYTI4ZTZmIj4KPHBhdGggZD0iTSAzLjczNDM3NSAtMS4wNzgxMjUgQyAzLjczNDM3NSAtMS4x\nNTYyNSAzLjY1NjI1IC0xLjE3MTg3NSAzLjYyNSAtMS4xNzE4NzUgQyAzLjUzMTI1IC0xLjE3MTg3\nNSAzLjUxNTYyNSAtMS4xMjUgMy41IC0xLjA0Njg3NSBDIDMuMTg3NSAtMC4xMjUgMi4zNzUgLTAu\nMTI1IDIuMjgxMjUgLTAuMTI1IEMgMS44NDM3NSAtMC4xMjUgMS40Njg3NSAtMC4zOTA2MjUgMS4y\nNjU2MjUgLTAuNzM0Mzc1IEMgMSAtMS4xNTYyNSAxIC0xLjc1IDEgLTIuMDc4MTI1IEwgMy41MTU2\nMjUgLTIuMDc4MTI1IEMgMy43MDMxMjUgLTIuMDc4MTI1IDMuNzM0Mzc1IC0yLjA3ODEyNSAzLjcz\nNDM3NSAtMi4yNjU2MjUgQyAzLjczNDM3NSAtMy4xNTYyNSAzLjI1IC00LjAzMTI1IDIuMTI1IC00\nLjAzMTI1IEMgMS4wNzgxMjUgLTQuMDMxMjUgMC4yNSAtMy4xMDkzNzUgMC4yNSAtMS45ODQzNzUg\nQyAwLjI1IC0wLjc4MTI1IDEuMjAzMTI1IDAuMDkzNzUgMi4yMzQzNzUgMC4wOTM3NSBDIDMuMzI4\nMTI1IDAuMDkzNzUgMy43MzQzNzUgLTAuOTA2MjUgMy43MzQzNzUgLTEuMDc4MTI1IFogTSAzLjE0\nMDYyNSAtMi4yNjU2MjUgTCAxLjAxNTYyNSAtMi4yNjU2MjUgQyAxLjA2MjUgLTMuNjA5Mzc1IDEu\nODEyNSAtMy44MjgxMjUgMi4xMjUgLTMuODI4MTI1IEMgMy4wNDY4NzUgLTMuODI4MTI1IDMuMTQw\nNjI1IC0yLjYyNSAzLjE0MDYyNSAtMi4yNjU2MjUgWiBNIDMuMTQwNjI1IC0yLjI2NTYyNSAiLz4K\nPC9nPgo8L2c+CjxjbGlwUGF0aCBpZD0iY2xpcC0wLTFiYTI4ZTZmIj4KPHBhdGggY2xpcC1ydWxl\nPSJub256ZXJvIiBkPSJNIDUyMSAxNDQgTCA4ODQgMTQ0IEwgODg0IDE0NyBMIDUyMSAxNDcgWiBN\nIDUyMSAxNDQgIi8+CjwvY2xpcFBhdGg+CjwvZGVmcz4KPHJlY3QgeD0iLTkwIiB5PSItNDAiIHdp\nZHRoPSIxMDgwIiBoZWlnaHQ9IjQ4MCIgZmlsbD0icmdiKDEwMCUsIDEwMCUsIDEwMCUpIiBmaWxs\nLW9wYWNpdHk9IjEiLz4KPHBhdGggZmlsbC1ydWxlPSJub256ZXJvIiBmaWxsPSJyZ2IoMTAwJSwg\nMTAwJSwgMTAwJSkiIGZpbGwtb3BhY2l0eT0iMSIgZD0iTSA4MiAzMzYgTCA0NDUgMzM2IEwgNDQ1\nIDE2IEwgODIgMTYgWiBNIDgyIDMzNiAiLz4KPHBhdGggZmlsbC1ydWxlPSJub256ZXJvIiBmaWxs\nPSJyZ2IoMTAwJSwgMTAwJSwgMTAwJSkiIGZpbGwtb3BhY2l0eT0iMSIgZD0iTSA1MjEgMzM2IEwg\nODg0IDMzNiBMIDg4NCAxNiBMIDUyMSAxNiBaIE0gNTIxIDMzNiAiLz4KPHBhdGggZmlsbD0ibm9u\nZSIgc3Ryb2tlLXdpZHRoPSIxIiBzdHJva2UtbGluZWNhcD0iYnV0dCIgc3Ryb2tlLWxpbmVqb2lu\nPSJtaXRlciIgc3Ryb2tlPSJyZ2IoMCUsIDAlLCAwJSkiIHN0cm9rZS1vcGFjaXR5PSIwLjEyIiBz\ndHJva2UtbWl0ZXJsaW1pdD0iMS4xNTQ3MDEiIGQ9Ik0gOTguNSAzMzYgTCA5OC41IDE2ICIvPgo8\ncGF0aCBmaWxsPSJub25lIiBzdHJva2Utd2lkdGg9IjEiIHN0cm9rZS1saW5lY2FwPSJidXR0IiBz\ndHJva2UtbGluZWpvaW49Im1pdGVyIiBzdHJva2U9InJnYigwJSwgMCUsIDAlKSIgc3Ryb2tlLW9w\nYWNpdHk9IjAuMTIiIHN0cm9rZS1taXRlcmxpbWl0PSIxLjE1NDcwMSIgZD0iTSAyNjMuNSAzMzYg\nTCAyNjMuNSAxNiAiLz4KPHBhdGggZmlsbD0ibm9uZSIgc3Ryb2tlLXdpZHRoPSIxIiBzdHJva2Ut\nbGluZWNhcD0iYnV0dCIgc3Ryb2tlLWxpbmVqb2luPSJtaXRlciIgc3Ryb2tlPSJyZ2IoMCUsIDAl\nLCAwJSkiIHN0cm9rZS1vcGFjaXR5PSIwLjEyIiBzdHJva2UtbWl0ZXJsaW1pdD0iMS4xNTQ3MDEi\nIGQ9Ik0gNDI4LjUgMzM2IEwgNDI4LjUgMTYgIi8+CjxwYXRoIGZpbGw9Im5vbmUiIHN0cm9rZS13\naWR0aD0iMSIgc3Ryb2tlLWxpbmVjYXA9ImJ1dHQiIHN0cm9rZS1saW5lam9pbj0ibWl0ZXIiIHN0\ncm9rZT0icmdiKDAlLCAwJSwgMCUpIiBzdHJva2Utb3BhY2l0eT0iMC4xMiIgc3Ryb2tlLW1pdGVy\nbGltaXQ9IjEuMTU0NzAxIiBkPSJNIDgyIDMyMS40NTMxMjUgTCA0NDUgMzIxLjQ1MzEyNSAiLz4K\nPHBhdGggZmlsbD0ibm9uZSIgc3Ryb2tlLXdpZHRoPSIxIiBzdHJva2UtbGluZWNhcD0iYnV0dCIg\nc3Ryb2tlLWxpbmVqb2luPSJtaXRlciIgc3Ryb2tlPSJyZ2IoMCUsIDAlLCAwJSkiIHN0cm9rZS1v\ncGFjaXR5PSIwLjEyIiBzdHJva2UtbWl0ZXJsaW1pdD0iMS4xNTQ3MDEiIGQ9Ik0gODIgMjAwLjgw\nNDY4OCBMIDQ0NSAyMDAuODA0Njg4ICIvPgo8cGF0aCBmaWxsPSJub25lIiBzdHJva2Utd2lkdGg9\nIjEiIHN0cm9rZS1saW5lY2FwPSJidXR0IiBzdHJva2UtbGluZWpvaW49Im1pdGVyIiBzdHJva2U9\nInJnYigwJSwgMCUsIDAlKSIgc3Ryb2tlLW9wYWNpdHk9IjAuMTIiIHN0cm9rZS1taXRlcmxpbWl0\nPSIxLjE1NDcwMSIgZD0iTSA4MiA4MC4xNTYyNSBMIDQ0NSA4MC4xNTYyNSAiLz4KPHBhdGggZmls\nbD0ibm9uZSIgc3Ryb2tlLXdpZHRoPSIxIiBzdHJva2UtbGluZWNhcD0iYnV0dCIgc3Ryb2tlLWxp\nbmVqb2luPSJtaXRlciIgc3Ryb2tlPSJyZ2IoMCUsIDAlLCAwJSkiIHN0cm9rZS1vcGFjaXR5PSIw\nLjEyIiBzdHJva2UtbWl0ZXJsaW1pdD0iMS4xNTQ3MDEiIGQ9Ik0gNTM3LjUgMzM2IEwgNTM3LjUg\nMTYgIi8+CjxwYXRoIGZpbGw9Im5vbmUiIHN0cm9rZS13aWR0aD0iMSIgc3Ryb2tlLWxpbmVjYXA9\nImJ1dHQiIHN0cm9rZS1saW5lam9pbj0ibWl0ZXIiIHN0cm9rZT0icmdiKDAlLCAwJSwgMCUpIiBz\ndHJva2Utb3BhY2l0eT0iMC4xMiIgc3Ryb2tlLW1pdGVybGltaXQ9IjEuMTU0NzAxIiBkPSJNIDcw\nMi41IDMzNiBMIDcwMi41IDE2ICIvPgo8cGF0aCBmaWxsPSJub25lIiBzdHJva2Utd2lkdGg9IjEi\nIHN0cm9rZS1saW5lY2FwPSJidXR0IiBzdHJva2UtbGluZWpvaW49Im1pdGVyIiBzdHJva2U9InJn\nYigwJSwgMCUsIDAlKSIgc3Ryb2tlLW9wYWNpdHk9IjAuMTIiIHN0cm9rZS1taXRlcmxpbWl0PSIx\nLjE1NDcwMSIgZD0iTSA4NjcuNSAzMzYgTCA4NjcuNSAxNiAiLz4KPHBhdGggZmlsbD0ibm9uZSIg\nc3Ryb2tlLXdpZHRoPSIxIiBzdHJva2UtbGluZWNhcD0iYnV0dCIgc3Ryb2tlLWxpbmVqb2luPSJt\naXRlciIgc3Ryb2tlPSJyZ2IoMCUsIDAlLCAwJSkiIHN0cm9rZS1vcGFjaXR5PSIwLjEyIiBzdHJv\na2UtbWl0ZXJsaW1pdD0iMS4xNTQ3MDEiIGQ9Ik0gNTIxIDMyMS40NTMxMjUgTCA4ODQgMzIxLjQ1\nMzEyNSAiLz4KPHBhdGggZmlsbD0ibm9uZSIgc3Ryb2tlLXdpZHRoPSIxIiBzdHJva2UtbGluZWNh\ncD0iYnV0dCIgc3Ryb2tlLWxpbmVqb2luPSJtaXRlciIgc3Ryb2tlPSJyZ2IoMCUsIDAlLCAwJSki\nIHN0cm9rZS1vcGFjaXR5PSIwLjEyIiBzdHJva2UtbWl0ZXJsaW1pdD0iMS4xNTQ3MDEiIGQ9Ik0g\nNTIxIDIwMS4yMjY1NjIgTCA4ODQgMjAxLjIyNjU2MiAiLz4KPHBhdGggZmlsbD0ibm9uZSIgc3Ry\nb2tlLXdpZHRoPSIxIiBzdHJva2UtbGluZWNhcD0iYnV0dCIgc3Ryb2tlLWxpbmVqb2luPSJtaXRl\nciIgc3Ryb2tlPSJyZ2IoMCUsIDAlLCAwJSkiIHN0cm9rZS1vcGFjaXR5PSIwLjEyIiBzdHJva2Ut\nbWl0ZXJsaW1pdD0iMS4xNTQ3MDEiIGQ9Ik0gNTIxIDgxIEwgODg0IDgxICIvPgo8ZyBmaWxsPSJy\nZ2IoMCUsIDAlLCAwJSkiIGZpbGwtb3BhY2l0eT0iMSI+Cjx1c2UgeGxpbms6aHJlZj0iI2dseXBo\nLTAtMC0xYmEyOGU2ZiIgeD0iMjU1IiB5PSIzODAuNTk0OTk3Ii8+CjwvZz4KPGcgZmlsbD0icmdi\nKDAlLCAwJSwgMCUpIiBmaWxsLW9wYWNpdHk9IjEiPgo8dXNlIHhsaW5rOmhyZWY9IiNnbHlwaC0x\nLTAtMWJhMjhlNmYiIHg9IjI2NS4zNjAwMDEiIHk9IjM4MC41OTQ5OTciLz4KPC9nPgo8ZyBmaWxs\nPSJyZ2IoMCUsIDAlLCAwJSkiIGZpbGwtb3BhY2l0eT0iMSI+Cjx1c2UgeGxpbms6aHJlZj0iI2ds\neXBoLTItMC0xYmEyOGU2ZiIgeD0iOTQuMzMiIHk9IjM1OC4yMDUiLz4KPC9nPgo8ZyBmaWxsPSJy\nZ2IoMCUsIDAlLCAwJSkiIGZpbGwtb3BhY2l0eT0iMSI+Cjx1c2UgeGxpbms6aHJlZj0iI2dseXBo\nLTMtMC0xYmEyOGU2ZiIgeD0iMjU5LjMzIiB5PSIzNTguMjA1Ii8+CjwvZz4KPGcgZmlsbD0icmdi\nKDAlLCAwJSwgMCUpIiBmaWxsLW9wYWNpdHk9IjEiPgo8dXNlIHhsaW5rOmhyZWY9IiNnbHlwaC0z\nLTEtMWJhMjhlNmYiIHg9IjQyMC4xNiIgeT0iMzU4LjIwNSIvPgo8L2c+CjxnIGZpbGw9InJnYigw\nJSwgMCUsIDAlKSIgZmlsbC1vcGFjaXR5PSIxIj4KPHVzZSB4bGluazpocmVmPSIjZ2x5cGgtMy0y\nLTFiYTI4ZTZmIiB4PSI0MjguNSIgeT0iMzU4LjIwNSIvPgo8L2c+CjxnIGZpbGw9InJnYigwJSwg\nMCUsIDAlKSIgZmlsbC1vcGFjaXR5PSIxIj4KPHVzZSB4bGluazpocmVmPSIjZ2x5cGgtNC0wLTFi\nYTI4ZTZmIiB4PSIzMS4wNjE5OTkiIHk9IjE4Ny42NzIiLz4KPC9nPgo8ZyBmaWxsPSJyZ2IoMCUs\nIDAlLCAwJSkiIGZpbGwtb3BhY2l0eT0iMSI+Cjx1c2UgeGxpbms6aHJlZj0iI2dseXBoLTUtMC0x\nYmEyOGU2ZiIgeD0iMzUuMDYyIiB5PSIxNjkuMjM2MDAxIi8+CjwvZz4KPGcgZmlsbD0icmdiKDAl\nLCAwJSwgMCUpIiBmaWxsLW9wYWNpdHk9IjEiPgo8dXNlIHhsaW5rOmhyZWY9IiNnbHlwaC02LTAt\nMWJhMjhlNmYiIHg9IjQyLjM4OTk5OSIgeT0iMzI2LjkyMjA0NCIvPgo8L2c+CjxnIGZpbGw9InJn\nYigwJSwgMCUsIDAlKSIgZmlsbC1vcGFjaXR5PSIxIj4KPHVzZSB4bGluazpocmVmPSIjZ2x5cGgt\nMy0xLTFiYTI4ZTZmIiB4PSI1MS4xNSIgeT0iMzI2LjkyMjA0NCIvPgo8L2c+CjxnIGZpbGw9InJn\nYigwJSwgMCUsIDAlKSIgZmlsbC1vcGFjaXR5PSIxIj4KPHVzZSB4bGluazpocmVmPSIjZ2x5cGgt\nMy0zLTFiYTI4ZTZmIiB4PSI1OS40OSIgeT0iMzI2LjkyMjA0NCIvPgo8L2c+CjxnIGZpbGw9InJn\nYigwJSwgMCUsIDAlKSIgZmlsbC1vcGFjaXR5PSIxIj4KPHVzZSB4bGluazpocmVmPSIjZ2x5cGgt\nNi0xLTFiYTI4ZTZmIiB4PSI2My42NiIgeT0iMzI2LjkyMjA0NCIvPgo8L2c+CjxnIGZpbGw9InJn\nYigwJSwgMCUsIDAlKSIgZmlsbC1vcGFjaXR5PSIxIj4KPHVzZSB4bGluazpocmVmPSIjZ2x5cGgt\nNy0wLTFiYTI4ZTZmIiB4PSI0Mi4zODk5OTkiIHk9IjIwNi4yNzI1MDgiLz4KPC9nPgo8ZyBmaWxs\nPSJyZ2IoMCUsIDAlLCAwJSkiIGZpbGwtb3BhY2l0eT0iMSI+Cjx1c2UgeGxpbms6aHJlZj0iI2ds\neXBoLTgtMC0xYmEyOGU2ZiIgeD0iNTEuMTUiIHk9IjIwNi4yNzI1MDgiLz4KPC9nPgo8ZyBmaWxs\nPSJyZ2IoMCUsIDAlLCAwJSkiIGZpbGwtb3BhY2l0eT0iMSI+Cjx1c2UgeGxpbms6aHJlZj0iI2ds\neXBoLTgtMS0xYmEyOGU2ZiIgeD0iNTkuNDkiIHk9IjIwNi4yNzI1MDgiLz4KPC9nPgo8ZyBmaWxs\nPSJyZ2IoMCUsIDAlLCAwJSkiIGZpbGwtb3BhY2l0eT0iMSI+Cjx1c2UgeGxpbms6aHJlZj0iI2ds\neXBoLTctMS0xYmEyOGU2ZiIgeD0iNjMuNjYiIHk9IjIwNi4yNzI1MDgiLz4KPC9nPgo8ZyBmaWxs\nPSJyZ2IoMCUsIDAlLCAwJSkiIGZpbGwtb3BhY2l0eT0iMSI+Cjx1c2UgeGxpbms6aHJlZj0iI2ds\neXBoLTYtMC0xYmEyOGU2ZiIgeD0iNDIuMzg5OTk5IiB5PSI4NS42MjI5NTYiLz4KPC9nPgo8ZyBm\naWxsPSJyZ2IoMCUsIDAlLCAwJSkiIGZpbGwtb3BhY2l0eT0iMSI+Cjx1c2UgeGxpbms6aHJlZj0i\nI2dseXBoLTMtMi0xYmEyOGU2ZiIgeD0iNTEuMTUiIHk9Ijg1LjYyMjk1NiIvPgo8L2c+CjxnIGZp\nbGw9InJnYigwJSwgMCUsIDAlKSIgZmlsbC1vcGFjaXR5PSIxIj4KPHVzZSB4bGluazpocmVmPSIj\nZ2x5cGgtMy0zLTFiYTI4ZTZmIiB4PSI1OS40OSIgeT0iODUuNjIyOTU2Ii8+CjwvZz4KPGcgZmls\nbD0icmdiKDAlLCAwJSwgMCUpIiBmaWxsLW9wYWNpdHk9IjEiPgo8dXNlIHhsaW5rOmhyZWY9IiNn\nbHlwaC02LTItMWJhMjhlNmYiIHg9IjYzLjY2IiB5PSI4NS42MjI5NTYiLz4KPC9nPgo8cGF0aCBm\naWxsPSJub25lIiBzdHJva2Utd2lkdGg9IjIiIHN0cm9rZS1saW5lY2FwPSJidXR0IiBzdHJva2Ut\nbGluZWpvaW49Im1pdGVyIiBzdHJva2U9InJnYigwJSwgNDQuNzA1ODgzJSwgNjkuODAzOTIzJSki\nIHN0cm9rZS1vcGFjaXR5PSIxIiBzdHJva2UtbWl0ZXJsaW1pdD0iMiIgZD0iTSA5OC41IDMyMS40\nNTMxMjUgTCAxMDEuODMyMDMxIDMxOS4wMzkwNjIgTCAxMDUuMTY3OTY5IDMxNC4zMTI1IEwgMTA4\nLjUgMzA4LjM3ODkwNiBMIDExMS44MzIwMzEgMzAwLjE4NzUgTCAxMTUuMTY3OTY5IDI5MS4zMjQy\nMTkgTCAxMTguNSAyODIuNDI5Njg4IEwgMTIxLjgzMjAzMSAyNzIuMTM2NzE5IEwgMTI1LjE2Nzk2\nOSAyNjEuMDExNzE5IEwgMTI4LjUgMjQ5Ljg4NjcxOSBMIDEzMS44MzIwMzEgMjM4LjE2Nzk2OSBM\nIDEzNS4xNjc5NjkgMjI2LjM2NzE4OCBMIDEzOC41IDIxNS4zMjAzMTIgTCAxNDEuODMyMDMxIDIw\nNC40MDIzNDQgTCAxNDUuMTY3OTY5IDE5My41NDI5NjkgTCAxNDguNSAxODMuMjU3ODEyIEwgMTUx\nLjgzMjAzMSAxNzMuMTI1IEwgMTU1LjE2Nzk2OSAxNjMuMTA1NDY5IEwgMTU4LjUgMTUzLjY4MzU5\nNCBMIDE2MS44MzIwMzEgMTQ0Ljc1MzkwNiBMIDE2NS4xNjc5NjkgMTM2LjE4MzU5NCBMIDE2OC41\nIDEyOC4yMzgyODEgTCAxNzEuODMyMDMxIDEyMC43ODEyNSBMIDE3NS4xNjc5NjkgMTEzLjYwOTM3\nNSBMIDE3OC41IDEwNi44ODY3MTkgTCAxODEuODMyMDMxIDEwMC42MDE1NjIgTCAxODUuMTY3OTY5\nIDk0LjYzNjcxOSBMIDE4OC41IDg5LjExMzI4MSBMIDE5MS44MzIwMzEgODQuMDQ2ODc1IEwgMTk1\nLjE2Nzk2OSA3OS4zMDQ2ODggTCAxOTguNSA3NC44OTg0MzggTCAyMDEuODMyMDMxIDcwLjg1NTQ2\nOSBMIDIwNS4xNjc5NjkgNjcuMDY2NDA2IEwgMjA4LjUgNjMuNTU4NTk0IEwgMjExLjgzMjAzMSA2\nMC4zNzUgTCAyMTUuMTY3OTY5IDU3LjQ0MTQwNiBMIDIxOC41IDU0Ljc0MjE4OCBMIDIyMS44MzIw\nMzEgNTIuMzEyNSBMIDIyNS4xNjc5NjkgNTAuMDg5ODQ0IEwgMjI4LjUgNDguMDUwNzgxIEwgMjMx\nLjgzMjAzMSA0Ni4yMTQ4NDQgTCAyMzUuMTY3OTY5IDQ0LjUzMTI1IEwgMjM4LjUgNDMgTCAyNDEu\nODMyMDMxIDQxLjYzMjgxMiBMIDI0NS4xNjc5NjkgNDAuNDEwMTU2IEwgMjQ4LjUgMzkuMzA4NTk0\nIEwgMjUxLjgzMjAzMSAzOC4zMjQyMTkgTCAyNTUuMTY3OTY5IDM3LjQ0OTIxOSBMIDI1OC41IDM2\nLjY2NDA2MiBMIDI2MS44MzIwMzEgMzUuOTcyNjU2IEwgMjY1LjE2Nzk2OSAzNS4zNjMyODEgTCAy\nNjguNSAzNC44MjQyMTkgTCAyNzEuODMyMDMxIDM0LjM1OTM3NSBMIDI3NS4xNjc5NjkgMzMuOTUz\nMTI1IEwgMjc4LjUgMzMuNTk3NjU2IEwgMjgxLjgzMjAzMSAzMy4yODkwNjIgTCAyODUuMTY3OTY5\nIDMzLjAyNzM0NCBMIDI4OC41IDMyLjgwNDY4OCBMIDI5MS44MzIwMzEgMzIuNjE3MTg4IEwgMjk1\nLjE2Nzk2OSAzMi40NjA5MzggTCAyOTguNSAzMi4zMzU5MzggTCAzMDEuODMyMDMxIDMyLjIzMDQ2\nOSBMIDMwNS4xNjc5NjkgMzIuMTQ4NDM4IEwgMzA4LjUgMzIuMDg1OTM4IEwgMzExLjgzMjAzMSAz\nMi4wMzkwNjIgTCAzMTUuMTY3OTY5IDMyLjAwNzgxMiBMIDMxOC41IDMxLjk4ODI4MSBMIDMyMS44\nMzIwMzEgMzEuOTgwNDY5IEwgMzI1LjE2Nzk2OSAzMS45ODA0NjkgTCAzMzEuODMyMDMxIDMyLjAw\nMzkwNiBMIDMzNS4xNjc5NjkgMzIuMDI3MzQ0IEwgMzM4LjUgMzIuMDUwNzgxIEwgMzQxLjgzMjAz\nMSAzMi4wODIwMzEgTCAzNDUuMTY3OTY5IDMyLjExMzI4MSBMIDM0OC41IDMyLjE0NDUzMSBMIDM1\nMS44MzIwMzEgMzIuMTgzNTk0IEwgMzU1LjE2Nzk2OSAzMi4yMTg3NSBMIDM1OC41IDMyLjI1Mzkw\nNiBMIDM2MS44MzIwMzEgMzIuMjkyOTY5IEwgMzY1LjE2Nzk2OSAzMi4zMjgxMjUgTCAzNjguNSAz\nMi4zNjcxODggTCAzNzEuODMyMDMxIDMyLjQwMjM0NCBMIDM3NS4xNjc5NjkgMzIuNDM3NSBMIDM4\nMS44MzIwMzEgMzIuNTA3ODEyIEwgMzg1LjE2Nzk2OSAzMi41MzkwNjIgTCAzOTEuODMyMDMxIDMy\nLjYwMTU2MiBMIDM5NS4xNjc5NjkgMzIuNjI4OTA2IEwgMzk4LjUgMzIuNjU2MjUgTCA0MDEuODMy\nMDMxIDMyLjY3OTY4OCBMIDQwNS4xNjc5NjkgMzIuNzA3MDMxIEwgNDA4LjUgMzIuNzMwNDY5IEwg\nNDExLjgzMjAzMSAzMi43NSBMIDQxNS4xNjc5NjkgMzIuNzY5NTMxIEwgNDIxLjgzMjAzMSAzMi44\nMDg1OTQgTCA0MjUuMTY3OTY5IDMyLjgyNDIxOSBMIDQyOC41IDMyLjgzOTg0NCAiLz4KPHBhdGgg\nZmlsbD0ibm9uZSIgc3Ryb2tlLXdpZHRoPSIyIiBzdHJva2UtbGluZWNhcD0iYnV0dCIgc3Ryb2tl\nLWxpbmVqb2luPSJtaXRlciIgc3Ryb2tlPSJyZ2IoOTAuMTk2MDc5JSwgNjIuMzUyOTQzJSwgMCUp\nIiBzdHJva2Utb3BhY2l0eT0iMSIgc3Ryb2tlLWRhc2hhcnJheT0iNiA2IiBzdHJva2UtbWl0ZXJs\naW1pdD0iMiIgZD0iTSA5OC41IDMyMS40NTMxMjUgTCAxMDEuODMyMDMxIDMxOS4wMzkwNjIgTCAx\nMDUuMTY3OTY5IDMxNC4zMDg1OTQgTCAxMDguNSAzMDguMzc1IEwgMTExLjgzMjAzMSAzMDAuMTcx\nODc1IEwgMTE1LjE2Nzk2OSAyOTEuMjc3MzQ0IEwgMTE4LjUgMjgyLjMyODEyNSBMIDEyMS44MzIw\nMzEgMjcxLjk0MTQwNiBMIDEyNS4xNjc5NjkgMjYwLjc2OTUzMSBMIDEyOC41IDI0OS42NTIzNDQg\nTCAxMzEuODMyMDMxIDIzNy45MTQwNjIgTCAxMzUuMTY3OTY5IDIyNi4wNzgxMjUgTCAxMzguNSAy\nMTQuOTU3MDMxIEwgMTQxLjgzMjAzMSAyMDMuOTg0Mzc1IEwgMTQ1LjE2Nzk2OSAxOTMuMTA1NDY5\nIEwgMTQ4LjUgMTgyLjc4OTA2MiBMIDE1MS44MzIwMzEgMTcyLjY0NDUzMSBMIDE1NS4xNjc5Njkg\nMTYyLjYwMTU2MiBMIDE1OC41IDE1My4xNTIzNDQgTCAxNjEuODMyMDMxIDE0NC4xODM1OTQgTCAx\nNjUuMTY3OTY5IDEzNS41NjI1IEwgMTY4LjUgMTI3LjU1NDY4OCBMIDE3MS44MzIwMzEgMTIwLjAz\nOTA2MiBMIDE3NS4xNjc5NjkgMTEyLjgwMDc4MSBMIDE3OC41IDEwNi4wMTE3MTkgTCAxODEuODMy\nMDMxIDk5LjY2Nzk2OSBMIDE4NS4xNjc5NjkgOTMuNjQ4NDM4IEwgMTg4LjUgODguMDc0MjE5IEwg\nMTkxLjgzMjAzMSA4Mi45NjA5MzggTCAxOTUuMTY3OTY5IDc4LjE3MTg3NSBMIDE5OC41IDczLjcz\nNDM3NSBMIDIwMS44MzIwMzEgNjkuNjU2MjUgTCAyMDUuMTY3OTY5IDY1LjgzOTg0NCBMIDIwOC41\nIDYyLjMwODU5NCBMIDIxMS44MzIwMzEgNTkuMDk3NjU2IEwgMjE1LjE2Nzk2OSA1Ni4xNDA2MjUg\nTCAyMTguNSA1My40MzM1OTQgTCAyMjEuODMyMDMxIDUwLjk4ODI4MSBMIDIyNS4xNjc5NjkgNDgu\nNzQ2MDk0IEwgMjI4LjUgNDYuNjkxNDA2IEwgMjMxLjgzMjAzMSA0NC44MzIwMzEgTCAyMzUuMTY3\nOTY5IDQzLjE0NDUzMSBMIDIzOC41IDQxLjYxMzI4MSBMIDI0MS44MzIwMzEgNDAuMjQyMTg4IEwg\nMjQ1LjE2Nzk2OSAzOS4wMTU2MjUgTCAyNDguNSAzNy45MDYyNSBMIDI1MS44MzIwMzEgMzYuOTIx\nODc1IEwgMjU1LjE2Nzk2OSAzNi4wMzkwNjIgTCAyNTguNSAzNS4yNSBMIDI2MS44MzIwMzEgMzQu\nNTUwNzgxIEwgMjY1LjE2Nzk2OSAzMy45Mzc1IEwgMjY4LjUgMzMuMzk4NDM4IEwgMjcxLjgzMjAz\nMSAzMi45MjU3ODEgTCAyNzUuMTY3OTY5IDMyLjUxNTYyNSBMIDI3OC41IDMyLjE1NjI1IEwgMjgx\nLjgzMjAzMSAzMS44NDc2NTYgTCAyODUuMTY3OTY5IDMxLjU4NTkzOCBMIDI4OC41IDMxLjM1OTM3\nNSBMIDI5MS44MzIwMzEgMzEuMTcxODc1IEwgMjk1LjE2Nzk2OSAzMS4wMTU2MjUgTCAyOTguNSAz\nMC44OTA2MjUgTCAzMDEuODMyMDMxIDMwLjc4NTE1NiBMIDMwNS4xNjc5NjkgMzAuNzA3MDMxIEwg\nMzA4LjUgMzAuNjQ0NTMxIEwgMzExLjgzMjAzMSAzMC41OTc2NTYgTCAzMTUuMTY3OTY5IDMwLjU3\nMDMxMiBMIDMxOC41IDMwLjU1MDc4MSBMIDMyMS44MzIwMzEgMzAuNTQ2ODc1IEwgMzI1LjE2Nzk2\nOSAzMC41NTA3ODEgTCAzMjguNSAzMC41NjI1IEwgMzMxLjgzMjAzMSAzMC41NzgxMjUgTCAzMzUu\nMTY3OTY5IDMwLjYwMTU2MiBMIDM0MS44MzIwMzEgMzAuNjY0MDYyIEwgMzQ1LjE2Nzk2OSAzMC42\nOTkyMTkgTCAzNDguNSAzMC43MzQzNzUgTCAzNTEuODMyMDMxIDMwLjc3MzQzOCBMIDM1NS4xNjc5\nNjkgMzAuODEyNSBMIDM1OC41IDMwLjg1MTU2MiBMIDM2MS44MzIwMzEgMzAuODk0NTMxIEwgMzY1\nLjE2Nzk2OSAzMC45MzM1OTQgTCAzNzEuODMyMDMxIDMxLjAxMTcxOSBMIDM3NS4xNjc5NjkgMzEu\nMDUwNzgxIEwgMzgxLjgzMjAzMSAzMS4xMjEwOTQgTCAzODUuMTY3OTY5IDMxLjE1NjI1IEwgMzg4\nLjUgMzEuMTkxNDA2IEwgMzkxLjgzMjAzMSAzMS4yMjI2NTYgTCAzOTUuMTY3OTY5IDMxLjI1Mzkw\nNiBMIDQwMS44MzIwMzEgMzEuMzA4NTk0IEwgNDA1LjE2Nzk2OSAzMS4zMzU5MzggTCA0MTEuODMy\nMDMxIDMxLjM4MjgxMiBMIDQxNS4xNjc5NjkgMzEuNDA2MjUgTCA0MjEuODMyMDMxIDMxLjQ0NTMx\nMiBMIDQyNS4xNjc5NjkgMzEuNDYwOTM4IEwgNDI4LjUgMzEuNDgwNDY5ICIvPgo8ZyBmaWxsPSJy\nZ2IoMCUsIDAlLCAwJSkiIGZpbGwtb3BhY2l0eT0iMSI+Cjx1c2UgeGxpbms6aHJlZj0iI2dseXBo\nLTAtMC0xYmEyOGU2ZiIgeD0iNjk0IiB5PSIzODAuNTk0OTk3Ii8+CjwvZz4KPGcgZmlsbD0icmdi\nKDAlLCAwJSwgMCUpIiBmaWxsLW9wYWNpdHk9IjEiPgo8dXNlIHhsaW5rOmhyZWY9IiNnbHlwaC0x\nLTAtMWJhMjhlNmYiIHg9IjcwNC4zNjAwMDEiIHk9IjM4MC41OTQ5OTciLz4KPC9nPgo8ZyBmaWxs\nPSJyZ2IoMCUsIDAlLCAwJSkiIGZpbGwtb3BhY2l0eT0iMSI+Cjx1c2UgeGxpbms6aHJlZj0iI2ds\neXBoLTMtMi0xYmEyOGU2ZiIgeD0iNTMzLjMzIiB5PSIzNTguMjA1Ii8+CjwvZz4KPGcgZmlsbD0i\ncmdiKDAlLCAwJSwgMCUpIiBmaWxsLW9wYWNpdHk9IjEiPgo8dXNlIHhsaW5rOmhyZWY9IiNnbHlw\naC0zLTAtMWJhMjhlNmYiIHg9IjY5OC4zMyIgeT0iMzU4LjIwNSIvPgo8L2c+CjxnIGZpbGw9InJn\nYigwJSwgMCUsIDAlKSIgZmlsbC1vcGFjaXR5PSIxIj4KPHVzZSB4bGluazpocmVmPSIjZ2x5cGgt\nMy0xLTFiYTI4ZTZmIiB4PSI4NTkuMTYiIHk9IjM1OC4yMDUiLz4KPC9nPgo8ZyBmaWxsPSJyZ2Io\nMCUsIDAlLCAwJSkiIGZpbGwtb3BhY2l0eT0iMSI+Cjx1c2UgeGxpbms6aHJlZj0iI2dseXBoLTMt\nMi0xYmEyOGU2ZiIgeD0iODY3LjUiIHk9IjM1OC4yMDUiLz4KPC9nPgo8ZyBmaWxsPSJyZ2IoMCUs\nIDAlLCAwJSkiIGZpbGwtb3BhY2l0eT0iMSI+Cjx1c2UgeGxpbms6aHJlZj0iI2dseXBoLTktMC0x\nYmEyOGU2ZiIgeD0iNDgwLjc4OTk5MyIgeT0iMjAxLjU2OTk5OCIvPgo8L2c+CjxnIGZpbGw9InJn\nYigwJSwgMCUsIDAlKSIgZmlsbC1vcGFjaXR5PSIxIj4KPHVzZSB4bGluazpocmVmPSIjZ2x5cGgt\nMTAtMC0xYmEyOGU2ZiIgeD0iNDgwLjc4OTk5NCIgeT0iMTg4LjIyOTk5OSIvPgo8L2c+CjxnIGZp\nbGw9InJnYigwJSwgMCUsIDAlKSIgZmlsbC1vcGFjaXR5PSIxIj4KPHVzZSB4bGluazpocmVmPSIj\nZ2x5cGgtMTEtMC0xYmEyOGU2ZiIgeD0iNDgwLjc4OTk5NSIgeT0iMTc3LjExIi8+CjwvZz4KPGcg\nZmlsbD0icmdiKDAlLCAwJSwgMCUpIiBmaWxsLW9wYWNpdHk9IjEiPgo8dXNlIHhsaW5rOmhyZWY9\nIiNnbHlwaC0xMS0xLTFiYTI4ZTZmIiB4PSI0ODAuNzg5OTk1IiB5PSIxNzIuNjciLz4KPC9nPgo8\nZyBmaWxsPSJyZ2IoMCUsIDAlLCAwJSkiIGZpbGwtb3BhY2l0eT0iMSI+Cjx1c2UgeGxpbms6aHJl\nZj0iI2dseXBoLTEwLTEtMWJhMjhlNmYiIHg9IjQ4MC43ODk5OTYiIHk9IjE2MS41NSIvPgo8L2c+\nCjxnIGZpbGw9InJnYigwJSwgMCUsIDAlKSIgZmlsbC1vcGFjaXR5PSIxIj4KPHVzZSB4bGluazpo\ncmVmPSIjZ2x5cGgtMTItMC0xYmEyOGU2ZiIgeD0iNDkwLjE1IiB5PSIzMjYuOTIyMDQ0Ii8+Cjwv\nZz4KPGcgZmlsbD0icmdiKDAlLCAwJSwgMCUpIiBmaWxsLW9wYWNpdHk9IjEiPgo8dXNlIHhsaW5r\nOmhyZWY9IiNnbHlwaC0xMy0wLTFiYTI4ZTZmIiB4PSI0OTguNDkiIHk9IjMyNi45MjIwNDQiLz4K\nPC9nPgo8ZyBmaWxsPSJyZ2IoMCUsIDAlLCAwJSkiIGZpbGwtb3BhY2l0eT0iMSI+Cjx1c2UgeGxp\nbms6aHJlZj0iI2dseXBoLTMtMi0xYmEyOGU2ZiIgeD0iNTAyLjY2IiB5PSIzMjYuOTIyMDQ0Ii8+\nCjwvZz4KPGcgZmlsbD0icmdiKDAlLCAwJSwgMCUpIiBmaWxsLW9wYWNpdHk9IjEiPgo8dXNlIHhs\naW5rOmhyZWY9IiNnbHlwaC0xNC0wLTFiYTI4ZTZmIiB4PSI0OTAuMTUiIHk9IjIwNi42OTM4NDki\nLz4KPC9nPgo8ZyBmaWxsPSJyZ2IoMCUsIDAlLCAwJSkiIGZpbGwtb3BhY2l0eT0iMSI+Cjx1c2Ug\neGxpbms6aHJlZj0iI2dseXBoLTE1LTAtMWJhMjhlNmYiIHg9IjQ5OC40OSIgeT0iMjA2LjY5Mzg0\nOSIvPgo8L2c+CjxnIGZpbGw9InJnYigwJSwgMCUsIDAlKSIgZmlsbC1vcGFjaXR5PSIxIj4KPHVz\nZSB4bGluazpocmVmPSIjZ2x5cGgtOC0yLTFiYTI4ZTZmIiB4PSI1MDIuNjYiIHk9IjIwNi42OTM4\nNDkiLz4KPC9nPgo8ZyBmaWxsPSJyZ2IoMCUsIDAlLCAwJSkiIGZpbGwtb3BhY2l0eT0iMSI+Cjx1\nc2UgeGxpbms6aHJlZj0iI2dseXBoLTE0LTAtMWJhMjhlNmYiIHg9IjQ5MC4xNSIgeT0iODYuNDY1\nNjM4Ii8+CjwvZz4KPGcgZmlsbD0icmdiKDAlLCAwJSwgMCUpIiBmaWxsLW9wYWNpdHk9IjEiPgo8\ndXNlIHhsaW5rOmhyZWY9IiNnbHlwaC0xNS0wLTFiYTI4ZTZmIiB4PSI0OTguNDkiIHk9Ijg2LjQ2\nNTYzOCIvPgo8L2c+CjxnIGZpbGw9InJnYigwJSwgMCUsIDAlKSIgZmlsbC1vcGFjaXR5PSIxIj4K\nPHVzZSB4bGluazpocmVmPSIjZ2x5cGgtOC0zLTFiYTI4ZTZmIiB4PSI1MDIuNjYiIHk9Ijg2LjQ2\nNTYzOCIvPgo8L2c+CjxwYXRoIGZpbGw9Im5vbmUiIHN0cm9rZS13aWR0aD0iMiIgc3Ryb2tlLWxp\nbmVjYXA9ImJ1dHQiIHN0cm9rZS1saW5lam9pbj0ibWl0ZXIiIHN0cm9rZT0icmdiKDAlLCA0NC43\nMDU4ODMlLCA2OS44MDM5MjMlKSIgc3Ryb2tlLW9wYWNpdHk9IjEiIHN0cm9rZS1taXRlcmxpbWl0\nPSIyIiBkPSJNIDUzNy41IDMyMS40NTMxMjUgTCA1NDAuODMyMDMxIDMyMS4yMDcwMzEgTCA1NDQu\nMTY3OTY5IDMxOS45NDUzMTIgTCA1NDcuNSAzMTcuNDkyMTg4IEwgNTUwLjgzMjAzMSAzMTMuNTg1\nOTM4IEwgNTU0LjE2Nzk2OSAzMDguMTA5Mzc1IEwgNTU3LjUgMzAxLjQxMDE1NiBMIDU2MC44MzIw\nMzEgMjkzLjYwMTU2MiBMIDU2NC4xNjc5NjkgMjg0LjY0NDUzMSBMIDU2Ny41IDI3NC43OTI5Njkg\nTCA1NzAuODMyMDMxIDI2NC4yNTc4MTIgTCA1NzQuMTY3OTY5IDI1My4xNTIzNDQgTCA1NzcuNSAy\nNDEuNzkyOTY5IEwgNTgwLjgzMjAzMSAyMzAuNDQxNDA2IEwgNTg0LjE2Nzk2OSAyMTkuMTYwMTU2\nIEwgNTg3LjUgMjA4LjA5NzY1NiBMIDU5MC44MzIwMzEgMTk3LjM0Mzc1IEwgNTk0LjE2Nzk2OSAx\nODYuODc4OTA2IEwgNTk3LjUgMTc2Ljc1NzgxMiBMIDYwMC44MzIwMzEgMTY3LjA2MjUgTCA2MDQu\nMTY3OTY5IDE1Ny43OTI5NjkgTCA2MDcuNSAxNDguOTgwNDY5IEwgNjEwLjgzMjAzMSAxNDAuNjU2\nMjUgTCA2MTQuMTY3OTY5IDEzMi43OTI5NjkgTCA2MTcuNSAxMjUuMzYzMjgxIEwgNjIwLjgzMjAz\nMSAxMTguMzYzMjgxIEwgNjI0LjE2Nzk2OSAxMTEuNzczNDM4IEwgNjI3LjUgMTA1LjU3ODEyNSBM\nIDYzMC44MzIwMzEgOTkuNzczNDM4IEwgNjM0LjE2Nzk2OSA5NC4zNTE1NjIgTCA2MzcuNSA4OS4y\nODUxNTYgTCA2NDAuODMyMDMxIDg0LjU1ODU5NCBMIDY0NC4xNjc5NjkgODAuMTUyMzQ0IEwgNjQ3\nLjUgNzYuMDM5MDYyIEwgNjUwLjgzMjAzMSA3Mi4yMTA5MzggTCA2NTQuMTY3OTY5IDY4LjY1NjI1\nIEwgNjU3LjUgNjUuMzUxNTYyIEwgNjYwLjgzMjAzMSA2Mi4yODkwNjIgTCA2NjQuMTY3OTY5IDU5\nLjQ2MDkzOCBMIDY2Ny41IDU2LjgzOTg0NCBMIDY3MC44MzIwMzEgNTQuNDIxODc1IEwgNjc0LjE2\nNzk2OSA1Mi4xOTE0MDYgTCA2NzcuNSA1MC4xMjg5MDYgTCA2ODAuODMyMDMxIDQ4LjIzNDM3NSBM\nIDY4NC4xNjc5NjkgNDYuNDkyMTg4IEwgNjg3LjUgNDQuODk0NTMxIEwgNjkwLjgzMjAzMSA0My40\nMjk2ODggTCA2OTQuMTY3OTY5IDQyLjA5Mzc1IEwgNjk3LjUgNDAuODcxMDk0IEwgNzAwLjgzMjAz\nMSAzOS43NTc4MTIgTCA3MDQuMTY3OTY5IDM4Ljc0MjE4OCBMIDcwNy41IDM3LjgyMDMxMiBMIDcx\nMC44MzIwMzEgMzYuOTg0Mzc1IEwgNzE0LjE2Nzk2OSAzNi4yMzA0NjkgTCA3MTcuNSAzNS41NDY4\nNzUgTCA3MjAuODMyMDMxIDM0LjkzMzU5NCBMIDcyNC4xNjc5NjkgMzQuMzgyODEyIEwgNzI3LjUg\nMzMuODg2NzE5IEwgNzMwLjgzMjAzMSAzMy40NDE0MDYgTCA3MzQuMTY3OTY5IDMzLjA0Njg3NSBM\nIDczNy41IDMyLjY5NTMxMiBMIDc0MC44MzIwMzEgMzIuMzgyODEyIEwgNzQ0LjE2Nzk2OSAzMi4x\nMDkzNzUgTCA3NDcuNSAzMS44NjcxODggTCA3NTAuODMyMDMxIDMxLjY1MjM0NCBMIDc1NC4xNjc5\nNjkgMzEuNDY4NzUgTCA3NTcuNSAzMS4zMDQ2ODggTCA3NjAuODMyMDMxIDMxLjE2NDA2MiBMIDc2\nNC4xNjc5NjkgMzEuMDQ2ODc1IEwgNzY3LjUgMzAuOTQxNDA2IEwgNzcwLjgzMjAzMSAzMC44NTU0\nNjkgTCA3NzQuMTY3OTY5IDMwLjc4NTE1NiBMIDc3Ny41IDMwLjcyMjY1NiBMIDc4MC44MzIwMzEg\nMzAuNjc1NzgxIEwgNzg0LjE2Nzk2OSAzMC42MzI4MTIgTCA3ODcuNSAzMC42MDU0NjkgTCA3OTAu\nODMyMDMxIDMwLjU4MjAzMSBMIDc5NC4xNjc5NjkgMzAuNTYyNSBMIDgwMC44MzIwMzEgMzAuNTQ2\nODc1IEwgODA3LjUgMzAuNTQ2ODc1IEwgODEwLjgzMjAzMSAzMC41NTA3ODEgTCA4MTQuMTY3OTY5\nIDMwLjU1ODU5NCBMIDgyMC44MzIwMzEgMzAuNTgyMDMxIEwgODI0LjE2Nzk2OSAzMC41OTM3NSBM\nIDgyNy41IDMwLjYwNTQ2OSBMIDgzMC44MzIwMzEgMzAuNjIxMDk0IEwgODM0LjE2Nzk2OSAzMC42\nMzY3MTkgTCA4NDAuODMyMDMxIDMwLjY2Nzk2OSBMIDg0NC4xNjc5NjkgMzAuNjgzNTk0IEwgODUw\nLjgzMjAzMSAzMC43MTQ4NDQgTCA4NTQuMTY3OTY5IDMwLjczMDQ2OSBMIDg1Ny41IDMwLjc0NjA5\nNCBMIDg2MC44MzIwMzEgMzAuNzU3ODEyIEwgODY0LjE2Nzk2OSAzMC43NzM0MzggTCA4NjcuNSAz\nMC43ODUxNTYgIi8+CjxwYXRoIGZpbGw9Im5vbmUiIHN0cm9rZS13aWR0aD0iMiIgc3Ryb2tlLWxp\nbmVjYXA9ImJ1dHQiIHN0cm9rZS1saW5lam9pbj0ibWl0ZXIiIHN0cm9rZT0icmdiKDEwMCUsIDY0\nLjcwNTg4NCUsIDAlKSIgc3Ryb2tlLW9wYWNpdHk9IjEiIHN0cm9rZS1kYXNoYXJyYXk9IjYgNiIg\nc3Ryb2tlLW1pdGVybGltaXQ9IjIiIGQ9Ik0gNTM3LjUgMzIxLjQ1MzEyNSBMIDg2Ny41IDMyMS40\nNTMxMjUgIi8+CjxwYXRoIGZpbGw9Im5vbmUiIHN0cm9rZS13aWR0aD0iMiIgc3Ryb2tlLWxpbmVj\nYXA9ImJ1dHQiIHN0cm9rZS1saW5lam9pbj0ibWl0ZXIiIHN0cm9rZT0icmdiKDAlLCAwJSwgMTAw\nJSkiIHN0cm9rZS1vcGFjaXR5PSIxIiBzdHJva2UtbWl0ZXJsaW1pdD0iMiIgZD0iTSA1MzcuNSAz\nMjEuNDUzMTI1IEwgNTQwLjgzMjAzMSAzMjEuMTMyODEyIEwgNTQ0LjE2Nzk2OSAzMTkuODIwMzEy\nIEwgNTQ3LjUgMzE3LjY5NTMxMiBMIDU1MC44MzIwMzEgMzE0LjcxNDg0NCBMIDU1NC4xNjc5Njkg\nMzEwLjkxNzk2OSBMIDU1Ny41IDMwNi43MDcwMzEgTCA1NjAuODMyMDMxIDMwMi4xNjAxNTYgTCA1\nNjQuMTY3OTY5IDI5Ny4wODIwMzEgTCA1NjcuNSAyOTEuNjI1IEwgNTcwLjgzMjAzMSAyODUuOTI5\nNjg4IEwgNTc0LjE2Nzk2OSAyODAuMDI3MzQ0IEwgNTc3LjUgMjc0LjA1MDc4MSBMIDU4MC44MzIw\nMzEgMjY4LjE1NjI1IEwgNTg0LjE2Nzk2OSAyNjIuMjY5NTMxIEwgNTg3LjUgMjU2LjUwNzgxMiBM\nIDU5MC44MzIwMzEgMjUwLjg1NTQ2OSBMIDU5NC4xNjc5NjkgMjQ1LjI4OTA2MiBMIDU5Ny41IDIz\nOS44MzIwMzEgTCA2MDAuODMyMDMxIDIzNC41MzUxNTYgTCA2MDQuMTY3OTY5IDIyOS40MDIzNDQg\nTCA2MDcuNSAyMjQuNDU3MDMxIEwgNjEwLjgzMjAzMSAyMTkuNzA3MDMxIEwgNjE0LjE2Nzk2OSAy\nMTUuMTcxODc1IEwgNjE3LjUgMjEwLjgyODEyNSBMIDYyMC44MzIwMzEgMjA2LjY3NTc4MSBMIDYy\nNC4xNjc5NjkgMjAyLjY5NTMxMiBMIDYyNy41IDE5OC45MTQwNjIgTCA2MzAuODMyMDMxIDE5NS4z\nMjQyMTkgTCA2MzQuMTY3OTY5IDE5MS45Mjk2ODggTCA2MzcuNSAxODguNzA3MDMxIEwgNjQwLjgz\nMjAzMSAxODUuNjc5Njg4IEwgNjQ0LjE2Nzk2OSAxODIuODEyNSBMIDY0Ny41IDE4MC4xMTMyODEg\nTCA2NTAuODMyMDMxIDE3Ny41ODU5MzggTCA2NTQuMTY3OTY5IDE3NS4yMDMxMjUgTCA2NTcuNSAx\nNzIuOTYwOTM4IEwgNjYwLjgzMjAzMSAxNzAuODc4OTA2IEwgNjY0LjE2Nzk2OSAxNjguOTQ5MjE5\nIEwgNjY3LjUgMTY3LjE1MjM0NCBMIDY3MC44MzIwMzEgMTY1LjQ4NDM3NSBMIDY3NC4xNjc5Njkg\nMTYzLjkxMDE1NiBMIDY3Ny41IDE2Mi40NDUzMTIgTCA2ODAuODMyMDMxIDE2MS4wOTc2NTYgTCA2\nODQuMTY3OTY5IDE1OS44NTU0NjkgTCA2ODcuNSAxNTguNzE0ODQ0IEwgNjkwLjgzMjAzMSAxNTcu\nNjYwMTU2IEwgNjk0LjE2Nzk2OSAxNTYuNjk5MjE5IEwgNjk3LjUgMTU1LjgxMjUgTCA3MDAuODMy\nMDMxIDE1NSBMIDcwNC4xNjc5NjkgMTU0LjI2MTcxOSBMIDcwNy41IDE1My41ODU5MzggTCA3MTAu\nODMyMDMxIDE1Mi45Njg3NSBMIDcxNC4xNjc5NjkgMTUyLjQxMDE1NiBMIDcxNy41IDE1MS45MDIz\nNDQgTCA3MjAuODMyMDMxIDE1MS40NDE0MDYgTCA3MjQuMTY3OTY5IDE1MS4wMjM0MzggTCA3Mjcu\nNSAxNTAuNjQ4NDM4IEwgNzMwLjgzMjAzMSAxNTAuMzEyNSBMIDczNC4xNjc5NjkgMTUwLjAwNzgx\nMiBMIDczNy41IDE0OS43MzQzNzUgTCA3NDAuODMyMDMxIDE0OS40OTIxODggTCA3NDQuMTY3OTY5\nIDE0OS4yNzM0MzggTCA3NDcuNSAxNDkuMDgyMDMxIEwgNzUwLjgzMjAzMSAxNDguOTEwMTU2IEwg\nNzU0LjE2Nzk2OSAxNDguNzU3ODEyIEwgNzU3LjUgMTQ4LjYyNSBMIDc2MC44MzIwMzEgMTQ4LjUw\nNzgxMiBMIDc2NC4xNjc5NjkgMTQ4LjQwNjI1IEwgNzY3LjUgMTQ4LjMxNjQwNiBMIDc3MC44MzIw\nMzEgMTQ4LjIzODI4MSBMIDc3NC4xNjc5NjkgMTQ4LjE3NTc4MSBMIDc3Ny41IDE0OC4xMTcxODgg\nTCA3ODAuODMyMDMxIDE0OC4wNzAzMTIgTCA3ODQuMTY3OTY5IDE0OC4wMzEyNSBMIDc4Ny41IDE0\nNy45OTYwOTQgTCA3OTAuODMyMDMxIDE0Ny45Njg3NSBMIDc5NC4xNjc5NjkgMTQ3Ljk0OTIxOSBM\nIDc5Ny41IDE0Ny45Mjk2ODggTCA4MDAuODMyMDMxIDE0Ny45MTc5NjkgTCA4MDQuMTY3OTY5IDE0\nNy45MTAxNTYgTCA4MDcuNSAxNDcuOTAyMzQ0IEwgODEwLjgzMjAzMSAxNDcuODk4NDM4IEwgODE3\nLjUgMTQ3Ljg5ODQzOCBMIDgyMC44MzIwMzEgMTQ3LjkwMjM0NCBMIDgyNC4xNjc5NjkgMTQ3Ljkw\nNjI1IEwgODI3LjUgMTQ3LjkxMDE1NiBMIDgzMC44MzIwMzEgMTQ3LjkxNzk2OSBMIDgzNC4xNjc5\nNjkgMTQ3LjkyMTg3NSBMIDg0MC44MzIwMzEgMTQ3LjkzNzUgTCA4NDQuMTY3OTY5IDE0Ny45NDUz\nMTIgTCA4NDcuNSAxNDcuOTUzMTI1IEwgODUwLjgzMjAzMSAxNDcuOTY0ODQ0IEwgODU0LjE2Nzk2\nOSAxNDcuOTcyNjU2IEwgODYwLjgzMjAzMSAxNDcuOTg4MjgxIEwgODY0LjE2Nzk2OSAxNDcuOTk2\nMDk0IEwgODY3LjUgMTQ4LjAwMzkwNiAiLz4KPGcgY2xpcC1wYXRoPSJ1cmwoI2NsaXAtMC0xYmEy\nOGU2ZikiPgo8cGF0aCBmaWxsPSJub25lIiBzdHJva2Utd2lkdGg9IjIiIHN0cm9rZS1saW5lY2Fw\nPSJidXR0IiBzdHJva2UtbGluZWpvaW49Im1pdGVyIiBzdHJva2U9InJnYigwJSwgMCUsIDEwMCUp\nIiBzdHJva2Utb3BhY2l0eT0iMSIgc3Ryb2tlLWRhc2hhcnJheT0iNiA2IiBzdHJva2UtbWl0ZXJs\naW1pdD0iMS4xNTQ3MDEiIGQ9Ik0gNTIxIDE0NS4xNzE4NzUgTCA4ODQgMTQ1LjE3MTg3NSAiLz4K\nPC9nPgo8cGF0aCBmaWxsLXJ1bGU9Im5vbnplcm8iIGZpbGw9InJnYigxMDAlLCAxMDAlLCAxMDAl\nKSIgZmlsbC1vcGFjaXR5PSIxIiBzdHJva2Utd2lkdGg9IjEiIHN0cm9rZS1saW5lY2FwPSJidXR0\nIiBzdHJva2UtbGluZWpvaW49Im1pdGVyIiBzdHJva2U9InJnYigwJSwgMCUsIDAlKSIgc3Ryb2tl\nLW9wYWNpdHk9IjEiIHN0cm9rZS1taXRlcmxpbWl0PSIyIiBkPSJNIDMwNyAzMzAgTCA0MzkgMzMw\nIEwgNDM5IDI3NSBMIDMwNyAyNzUgWiBNIDMwNyAzMzAgIi8+CjxwYXRoIGZpbGwtcnVsZT0ibm9u\nemVybyIgZmlsbD0icmdiKDEwMCUsIDEwMCUsIDEwMCUpIiBmaWxsLW9wYWNpdHk9IjEiIHN0cm9r\nZS13aWR0aD0iMSIgc3Ryb2tlLWxpbmVjYXA9ImJ1dHQiIHN0cm9rZS1saW5lam9pbj0ibWl0ZXIi\nIHN0cm9rZT0icmdiKDAlLCAwJSwgMCUpIiBzdHJva2Utb3BhY2l0eT0iMSIgc3Ryb2tlLW1pdGVy\nbGltaXQ9IjIiIGQ9Ik0gNzgwIDMzMCBMIDg3OCAzMzAgTCA4NzggMjI5IEwgNzgwIDIyOSBaIE0g\nNzgwIDMzMCAiLz4KPHBhdGggZmlsbD0ibm9uZSIgc3Ryb2tlLXdpZHRoPSIxIiBzdHJva2UtbGlu\nZWNhcD0iYnV0dCIgc3Ryb2tlLWxpbmVqb2luPSJtaXRlciIgc3Ryb2tlPSJyZ2IoMCUsIDAlLCAw\nJSkiIHN0cm9rZS1vcGFjaXR5PSIxIiBzdHJva2UtbWl0ZXJsaW1pdD0iMS4xNTQ3MDEiIGQ9Ik0g\nOTguNSAzMzYuNSBMIDk4LjUgMzQxLjUgIi8+CjxwYXRoIGZpbGw9Im5vbmUiIHN0cm9rZS13aWR0\naD0iMSIgc3Ryb2tlLWxpbmVjYXA9ImJ1dHQiIHN0cm9rZS1saW5lam9pbj0ibWl0ZXIiIHN0cm9r\nZT0icmdiKDAlLCAwJSwgMCUpIiBzdHJva2Utb3BhY2l0eT0iMSIgc3Ryb2tlLW1pdGVybGltaXQ9\nIjEuMTU0NzAxIiBkPSJNIDI2My41IDMzNi41IEwgMjYzLjUgMzQxLjUgIi8+CjxwYXRoIGZpbGw9\nIm5vbmUiIHN0cm9rZS13aWR0aD0iMSIgc3Ryb2tlLWxpbmVjYXA9ImJ1dHQiIHN0cm9rZS1saW5l\nam9pbj0ibWl0ZXIiIHN0cm9rZT0icmdiKDAlLCAwJSwgMCUpIiBzdHJva2Utb3BhY2l0eT0iMSIg\nc3Ryb2tlLW1pdGVybGltaXQ9IjEuMTU0NzAxIiBkPSJNIDQyOC41IDMzNi41IEwgNDI4LjUgMzQx\nLjUgIi8+CjxwYXRoIGZpbGw9Im5vbmUiIHN0cm9rZS13aWR0aD0iMSIgc3Ryb2tlLWxpbmVjYXA9\nImJ1dHQiIHN0cm9rZS1saW5lam9pbj0ibWl0ZXIiIHN0cm9rZT0icmdiKDAlLCAwJSwgMCUpIiBz\ndHJva2Utb3BhY2l0eT0iMSIgc3Ryb2tlLW1pdGVybGltaXQ9IjEuMTU0NzAxIiBkPSJNIDgxLjUg\nMzIxLjQ1MzEyNSBMIDc2LjUgMzIxLjQ1MzEyNSAiLz4KPHBhdGggZmlsbD0ibm9uZSIgc3Ryb2tl\nLXdpZHRoPSIxIiBzdHJva2UtbGluZWNhcD0iYnV0dCIgc3Ryb2tlLWxpbmVqb2luPSJtaXRlciIg\nc3Ryb2tlPSJyZ2IoMCUsIDAlLCAwJSkiIHN0cm9rZS1vcGFjaXR5PSIxIiBzdHJva2UtbWl0ZXJs\naW1pdD0iMS4xNTQ3MDEiIGQ9Ik0gODEuNSAyMDAuODA0Njg4IEwgNzYuNSAyMDAuODA0Njg4ICIv\nPgo8cGF0aCBmaWxsPSJub25lIiBzdHJva2Utd2lkdGg9IjEiIHN0cm9rZS1saW5lY2FwPSJidXR0\nIiBzdHJva2UtbGluZWpvaW49Im1pdGVyIiBzdHJva2U9InJnYigwJSwgMCUsIDAlKSIgc3Ryb2tl\nLW9wYWNpdHk9IjEiIHN0cm9rZS1taXRlcmxpbWl0PSIxLjE1NDcwMSIgZD0iTSA4MS41IDgwLjE1\nNjI1IEwgNzYuNSA4MC4xNTYyNSAiLz4KPHBhdGggZmlsbD0ibm9uZSIgc3Ryb2tlLXdpZHRoPSIy\nIiBzdHJva2UtbGluZWNhcD0iYnV0dCIgc3Ryb2tlLWxpbmVqb2luPSJtaXRlciIgc3Ryb2tlPSJy\nZ2IoMCUsIDQ0LjcwNTg4MyUsIDY5LjgwMzkyMyUpIiBzdHJva2Utb3BhY2l0eT0iMSIgc3Ryb2tl\nLW1pdGVybGltaXQ9IjIiIGQ9Ik0gMzEzLjAxNTYyNSAyOTEgTCAzMzMuMDE1NjI1IDI5MSAiLz4K\nPHBhdGggZmlsbD0ibm9uZSIgc3Ryb2tlLXdpZHRoPSIyIiBzdHJva2UtbGluZWNhcD0iYnV0dCIg\nc3Ryb2tlLWxpbmVqb2luPSJtaXRlciIgc3Ryb2tlPSJyZ2IoOTAuMTk2MDc5JSwgNjIuMzUyOTQz\nJSwgMCUpIiBzdHJva2Utb3BhY2l0eT0iMSIgc3Ryb2tlLWRhc2hhcnJheT0iNiA2IiBzdHJva2Ut\nbWl0ZXJsaW1pdD0iMiIgZD0iTSAzMTMuMDE1NjI1IDMxNCBMIDMzMy4wMTU2MjUgMzE0ICIvPgo8\nZyBmaWxsPSJyZ2IoMCUsIDAlLCAwJSkiIGZpbGwtb3BhY2l0eT0iMSI+Cjx1c2UgeGxpbms6aHJl\nZj0iI2dseXBoLTE2LTAtMWJhMjhlNmYiIHg9IjMzOC4wMTc1MDIiIHk9IjI5NS4xNyIvPgo8L2c+\nCjxnIGZpbGw9InJnYigwJSwgMCUsIDAlKSIgZmlsbC1vcGFjaXR5PSIxIj4KPHVzZSB4bGluazpo\ncmVmPSIjZ2x5cGgtMTYtMS0xYmEyOGU2ZiIgeD0iMzQ3LjM5MjUwMiIgeT0iMjk1LjE3Ii8+Cjwv\nZz4KPGcgZmlsbD0icmdiKDAlLCAwJSwgMCUpIiBmaWxsLW9wYWNpdHk9IjEiPgo8dXNlIHhsaW5r\nOmhyZWY9IiNnbHlwaC0xNi0yLTFiYTI4ZTZmIiB4PSIzNTguNDMyNTAzIiB5PSIyOTUuMTciLz4K\nPC9nPgo8ZyBmaWxsPSJyZ2IoMCUsIDAlLCAwJSkiIGZpbGwtb3BhY2l0eT0iMSI+Cjx1c2UgeGxp\nbms6aHJlZj0iI2dseXBoLTE2LTMtMWJhMjhlNmYiIHg9IjM2My40MTI1IiB5PSIyOTUuMTciLz4K\nPC9nPgo8ZyBmaWxsPSJyZ2IoMCUsIDAlLCAwJSkiIGZpbGwtb3BhY2l0eT0iMSI+Cjx1c2UgeGxp\nbms6aHJlZj0iI2dseXBoLTE3LTAtMWJhMjhlNmYiIHg9IjM2Ny41ODI1IiB5PSIyOTUuMTciLz4K\nPC9nPgo8ZyBmaWxsPSJyZ2IoMCUsIDAlLCAwJSkiIGZpbGwtb3BhY2l0eT0iMSI+Cjx1c2UgeGxp\nbms6aHJlZj0iI2dseXBoLTE2LTQtMWJhMjhlNmYiIHg9IjM4NC4wMzc0OTgiIHk9IjI5NS4xNyIv\nPgo8L2c+CjxnIGZpbGw9InJnYigwJSwgMCUsIDAlKSIgZmlsbC1vcGFjaXR5PSIxIj4KPHVzZSB4\nbGluazpocmVmPSIjZ2x5cGgtMTctMC0xYmEyOGU2ZiIgeD0iMzk4LjcwNzUiIHk9IjI5NS4xNyIv\nPgo8L2c+CjxnIGZpbGw9InJnYigwJSwgMCUsIDAlKSIgZmlsbC1vcGFjaXR5PSIxIj4KPHVzZSB4\nbGluazpocmVmPSIjZ2x5cGgtMTYtNS0xYmEyOGU2ZiIgeD0iNDEyLjE2MjQ5OCIgeT0iMjk1LjE3\nIi8+CjwvZz4KPGcgZmlsbD0icmdiKDAlLCAwJSwgMCUpIiBmaWxsLW9wYWNpdHk9IjEiPgo8dXNl\nIHhsaW5rOmhyZWY9IiNnbHlwaC0xNy0xLTFiYTI4ZTZmIiB4PSI0MTcuOTk3NDk4IiB5PSIyOTUu\nMTciLz4KPC9nPgo8ZyBmaWxsPSJyZ2IoMCUsIDAlLCAwJSkiIGZpbGwtb3BhY2l0eT0iMSI+Cjx1\nc2UgeGxpbms6aHJlZj0iI2dseXBoLTE2LTYtMWJhMjhlNmYiIHg9IjQyMi45Nzc1MDEiIHk9IjI5\nNS4xNyIvPgo8L2c+CjxnIGZpbGw9InJnYigwJSwgMCUsIDAlKSIgZmlsbC1vcGFjaXR5PSIxIj4K\nPHVzZSB4bGluazpocmVmPSIjZ2x5cGgtMTYtNy0xYmEyOGU2ZiIgeD0iNDI4LjgxMjUiIHk9IjI5\nNS4xNyIvPgo8L2c+CjxnIGZpbGw9InJnYigwJSwgMCUsIDAlKSIgZmlsbC1vcGFjaXR5PSIxIj4K\nPHVzZSB4bGluazpocmVmPSIjZ2x5cGgtMy00LTFiYTI4ZTZmIiB4PSIzMzguMDE3NTE5IiB5PSIz\nMTkuNDY3NSIvPgo8L2c+CjxnIGZpbGw9InJnYigwJSwgMCUsIDAlKSIgZmlsbC1vcGFjaXR5PSIx\nIj4KPHVzZSB4bGluazpocmVmPSIjZ2x5cGgtMy01LTFiYTI4ZTZmIiB4PSIzNDcuMTgyNTE5IiB5\nPSIzMTkuNDY3NSIvPgo8L2c+CjxnIGZpbGw9InJnYigwJSwgMCUsIDAlKSIgZmlsbC1vcGFjaXR5\nPSIxIj4KPHVzZSB4bGluazpocmVmPSIjZ2x5cGgtMy02LTFiYTI4ZTZmIiB4PSIzNTUuNTIyNTIi\nIHk9IjMxOS40Njc1Ii8+CjwvZz4KPGcgZmlsbD0icmdiKDAlLCAwJSwgMCUpIiBmaWxsLW9wYWNp\ndHk9IjEiPgo8dXNlIHhsaW5rOmhyZWY9IiNnbHlwaC0zLTctMWJhMjhlNmYiIHg9IjM2My4wMjI1\nMiIgeT0iMzE5LjQ2NzUiLz4KPC9nPgo8cGF0aCBmaWxsPSJub25lIiBzdHJva2Utd2lkdGg9IjEi\nIHN0cm9rZS1saW5lY2FwPSJidXR0IiBzdHJva2UtbGluZWpvaW49Im1pdGVyIiBzdHJva2U9InJn\nYigwJSwgMCUsIDAlKSIgc3Ryb2tlLW9wYWNpdHk9IjEiIHN0cm9rZS1taXRlcmxpbWl0PSIxLjE1\nNDcwMSIgZD0iTSA1MzcuNSAzMzYuNSBMIDUzNy41IDM0MS41ICIvPgo8cGF0aCBmaWxsPSJub25l\nIiBzdHJva2Utd2lkdGg9IjEiIHN0cm9rZS1saW5lY2FwPSJidXR0IiBzdHJva2UtbGluZWpvaW49\nIm1pdGVyIiBzdHJva2U9InJnYigwJSwgMCUsIDAlKSIgc3Ryb2tlLW9wYWNpdHk9IjEiIHN0cm9r\nZS1taXRlcmxpbWl0PSIxLjE1NDcwMSIgZD0iTSA3MDIuNSAzMzYuNSBMIDcwMi41IDM0MS41ICIv\nPgo8cGF0aCBmaWxsPSJub25lIiBzdHJva2Utd2lkdGg9IjEiIHN0cm9rZS1saW5lY2FwPSJidXR0\nIiBzdHJva2UtbGluZWpvaW49Im1pdGVyIiBzdHJva2U9InJnYigwJSwgMCUsIDAlKSIgc3Ryb2tl\nLW9wYWNpdHk9IjEiIHN0cm9rZS1taXRlcmxpbWl0PSIxLjE1NDcwMSIgZD0iTSA4NjcuNSAzMzYu\nNSBMIDg2Ny41IDM0MS41ICIvPgo8cGF0aCBmaWxsPSJub25lIiBzdHJva2Utd2lkdGg9IjEiIHN0\ncm9rZS1saW5lY2FwPSJidXR0IiBzdHJva2UtbGluZWpvaW49Im1pdGVyIiBzdHJva2U9InJnYigw\nJSwgMCUsIDAlKSIgc3Ryb2tlLW9wYWNpdHk9IjEiIHN0cm9rZS1taXRlcmxpbWl0PSIxLjE1NDcw\nMSIgZD0iTSA1MjAuNSAzMjEuNDUzMTI1IEwgNTE1LjUgMzIxLjQ1MzEyNSAiLz4KPHBhdGggZmls\nbD0ibm9uZSIgc3Ryb2tlLXdpZHRoPSIxIiBzdHJva2UtbGluZWNhcD0iYnV0dCIgc3Ryb2tlLWxp\nbmVqb2luPSJtaXRlciIgc3Ryb2tlPSJyZ2IoMCUsIDAlLCAwJSkiIHN0cm9rZS1vcGFjaXR5PSIx\nIiBzdHJva2UtbWl0ZXJsaW1pdD0iMS4xNTQ3MDEiIGQ9Ik0gNTIwLjUgMjAxLjIyNjU2MiBMIDUx\nNS41IDIwMS4yMjY1NjIgIi8+CjxwYXRoIGZpbGw9Im5vbmUiIHN0cm9rZS13aWR0aD0iMSIgc3Ry\nb2tlLWxpbmVjYXA9ImJ1dHQiIHN0cm9rZS1saW5lam9pbj0ibWl0ZXIiIHN0cm9rZT0icmdiKDAl\nLCAwJSwgMCUpIiBzdHJva2Utb3BhY2l0eT0iMSIgc3Ryb2tlLW1pdGVybGltaXQ9IjEuMTU0NzAx\nIiBkPSJNIDUyMC41IDgxIEwgNTE1LjUgODEgIi8+CjxwYXRoIGZpbGw9Im5vbmUiIHN0cm9rZS13\naWR0aD0iMiIgc3Ryb2tlLWxpbmVjYXA9ImJ1dHQiIHN0cm9rZS1saW5lam9pbj0ibWl0ZXIiIHN0\ncm9rZT0icmdiKDAlLCA0NC43MDU4ODMlLCA2OS44MDM5MjMlKSIgc3Ryb2tlLW9wYWNpdHk9IjEi\nIHN0cm9rZS1taXRlcmxpbWl0PSIyIiBkPSJNIDc4NS44NDc2NTYgMjQ1IEwgODA1Ljg0NzY1NiAy\nNDUgIi8+CjxwYXRoIGZpbGw9Im5vbmUiIHN0cm9rZS13aWR0aD0iMiIgc3Ryb2tlLWxpbmVjYXA9\nImJ1dHQiIHN0cm9rZS1saW5lam9pbj0ibWl0ZXIiIHN0cm9rZT0icmdiKDEwMCUsIDY0LjcwNTg4\nNCUsIDAlKSIgc3Ryb2tlLW9wYWNpdHk9IjEiIHN0cm9rZS1kYXNoYXJyYXk9IjYgNiIgc3Ryb2tl\nLW1pdGVybGltaXQ9IjIiIGQ9Ik0gNzg1Ljg0NzY1NiAyNjggTCA4MDUuODQ3NjU2IDI2OCAiLz4K\nPHBhdGggZmlsbD0ibm9uZSIgc3Ryb2tlLXdpZHRoPSIyIiBzdHJva2UtbGluZWNhcD0iYnV0dCIg\nc3Ryb2tlLWxpbmVqb2luPSJtaXRlciIgc3Ryb2tlPSJyZ2IoMCUsIDAlLCAxMDAlKSIgc3Ryb2tl\nLW9wYWNpdHk9IjEiIHN0cm9rZS1taXRlcmxpbWl0PSIyIiBkPSJNIDc4NS44NDc2NTYgMjkxIEwg\nODA1Ljg0NzY1NiAyOTEgIi8+CjxwYXRoIGZpbGw9Im5vbmUiIHN0cm9rZS13aWR0aD0iMiIgc3Ry\nb2tlLWxpbmVjYXA9ImJ1dHQiIHN0cm9rZS1saW5lam9pbj0ibWl0ZXIiIHN0cm9rZT0icmdiKDAl\nLCAwJSwgMTAwJSkiIHN0cm9rZS1vcGFjaXR5PSIxIiBzdHJva2UtZGFzaGFycmF5PSI2IDYiIHN0\ncm9rZS1taXRlcmxpbWl0PSIyIiBkPSJNIDc4NS44NDc2NTYgMzE0IEwgODA1Ljg0NzY1NiAzMTQg\nIi8+CjxnIGZpbGw9InJnYigwJSwgMCUsIDAlKSIgZmlsbC1vcGFjaXR5PSIxIj4KPHVzZSB4bGlu\nazpocmVmPSIjZ2x5cGgtMTYtOC0xYmEyOGU2ZiIgeD0iODEwLjg0NzQ1NiIgeT0iMjQ5LjU5Ii8+\nCjwvZz4KPGcgZmlsbD0icmdiKDAlLCAwJSwgMCUpIiBmaWxsLW9wYWNpdHk9IjEiPgo8dXNlIHhs\naW5rOmhyZWY9IiNnbHlwaC0xNi05LTFiYTI4ZTZmIiB4PSI4MjEuMzQ3NDU2IiB5PSIyNDkuNTki\nLz4KPC9nPgo8ZyBmaWxsPSJyZ2IoMCUsIDAlLCAwJSkiIGZpbGwtb3BhY2l0eT0iMSI+Cjx1c2Ug\neGxpbms6aHJlZj0iI2dseXBoLTE3LTItMWJhMjhlNmYiIHg9IjgzNi4wMTc0NTYiIHk9IjI0OS41\nOSIvPgo8L2c+CjxnIGZpbGw9InJnYigwJSwgMCUsIDAlKSIgZmlsbC1vcGFjaXR5PSIxIj4KPHVz\nZSB4bGluazpocmVmPSIjZ2x5cGgtMTYtOC0xYmEyOGU2ZiIgeD0iODEwLjg0NzUiIHk9IjI3Mi4x\nODUiLz4KPC9nPgo8ZyBmaWxsPSJyZ2IoMCUsIDAlLCAwJSkiIGZpbGwtb3BhY2l0eT0iMSI+Cjx1\nc2UgeGxpbms6aHJlZj0iI2dseXBoLTE2LTktMWJhMjhlNmYiIHg9IjgyMS4zNDc1IiB5PSIyNzIu\nMTg1Ii8+CjwvZz4KPGcgZmlsbD0icmdiKDAlLCAwJSwgMCUpIiBmaWxsLW9wYWNpdHk9IjEiPgo8\ndXNlIHhsaW5rOmhyZWY9IiNnbHlwaC0xNi0xMC0xYmEyOGU2ZiIgeD0iODM2LjAxNzUiIHk9IjI3\nMi4xODUiLz4KPC9nPgo8ZyBmaWxsPSJyZ2IoMCUsIDAlLCAwJSkiIGZpbGwtb3BhY2l0eT0iMSI+\nCjx1c2UgeGxpbms6aHJlZj0iI2dseXBoLTE2LTExLTFiYTI4ZTZmIiB4PSI4NDYuODQ3NSIgeT0i\nMjcyLjE4NSIvPgo8L2c+CjxnIGZpbGw9InJnYigwJSwgMCUsIDAlKSIgZmlsbC1vcGFjaXR5PSIx\nIj4KPHVzZSB4bGluazpocmVmPSIjZ2x5cGgtMTYtNS0xYmEyOGU2ZiIgeD0iODUyLjcyNzUwMSIg\neT0iMjcyLjE4NSIvPgo8L2c+CjxnIGZpbGw9InJnYigwJSwgMCUsIDAlKSIgZmlsbC1vcGFjaXR5\nPSIxIj4KPHVzZSB4bGluazpocmVmPSIjZ2x5cGgtMTYtMTItMWJhMjhlNmYiIHg9Ijg1OC41NjI1\nIiB5PSIyNzIuMTg1Ii8+CjwvZz4KPGcgZmlsbD0icmdiKDAlLCAwJSwgMCUpIiBmaWxsLW9wYWNp\ndHk9IjEiPgo8dXNlIHhsaW5rOmhyZWY9IiNnbHlwaC0xNi02LTFiYTI4ZTZmIiB4PSI4NjYuMzE3\nNTAxIiB5PSIyNzIuMTg1Ii8+CjwvZz4KPGcgZmlsbD0icmdiKDAlLCAwJSwgMCUpIiBmaWxsLW9w\nYWNpdHk9IjEiPgo8dXNlIHhsaW5rOmhyZWY9IiNnbHlwaC0xNy0zLTFiYTI4ZTZmIiB4PSI4MTAu\nODQ3NSIgeT0iMjk1LjU5Ii8+CjwvZz4KPGcgZmlsbD0icmdiKDAlLCAwJSwgMCUpIiBmaWxsLW9w\nYWNpdHk9IjEiPgo8dXNlIHhsaW5rOmhyZWY9IiNnbHlwaC0xOC0wLTFiYTI4ZTZmIiB4PSI4MTAu\nODQ3NDc1IiB5PSIzMTguNDg2NSIvPgo8L2c+CjxnIGZpbGw9InJnYigwJSwgMCUsIDAlKSIgZmls\nbC1vcGFjaXR5PSIxIj4KPHVzZSB4bGluazpocmVmPSIjZ2x5cGgtMTktMC0xYmEyOGU2ZiIgeD0i\nODE5LjQ3NTQ3NCIgeT0iMzIxLjQ4NjUiLz4KPC9nPgo8ZyBmaWxsPSJyZ2IoMCUsIDAlLCAwJSki\nIGZpbGwtb3BhY2l0eT0iMSI+Cjx1c2UgeGxpbms6aHJlZj0iI2dseXBoLTE5LTAtMWJhMjhlNmYi\nIHg9IjgyMy4wMjE0NzUiIHk9IjMyMS40ODY1Ii8+CjwvZz4KPGcgZmlsbD0icmdiKDAlLCAwJSwg\nMCUpIiBmaWxsLW9wYWNpdHk9IjEiPgo8dXNlIHhsaW5rOmhyZWY9IiNnbHlwaC0yMC0wLTFiYTI4\nZTZmIiB4PSI4MjEuODI3NTA1IiB5PSIzMTIuMDIxNSIvPgo8L2c+CjxnIGZpbGw9InJnYigwJSwg\nMCUsIDAlKSIgZmlsbC1vcGFjaXR5PSIxIj4KPHVzZSB4bGluazpocmVmPSIjZ2x5cGgtMjAtMS0x\nYmEyOGU2ZiIgeD0iODI1LjMyODUwNiIgeT0iMzEyLjAyMTUiLz4KPC9nPgo8ZyBmaWxsPSJyZ2Io\nMCUsIDAlLCAwJSkiIGZpbGwtb3BhY2l0eT0iMSI+Cjx1c2UgeGxpbms6aHJlZj0iI2dseXBoLTIw\nLTItMWJhMjhlNmYiIHg9IjgyOC44NTY1MDYiIHk9IjMxMi4wMjE1Ii8+CjwvZz4KPGcgZmlsbD0i\ncmdiKDAlLCAwJSwgMCUpIiBmaWxsLW9wYWNpdHk9IjEiPgo8dXNlIHhsaW5rOmhyZWY9IiNnbHlw\naC0yMC0zLTFiYTI4ZTZmIiB4PSI4MzMuODYwNTA0IiB5PSIzMTIuMDIxNSIvPgo8L2c+CjxwYXRo\nIGZpbGw9Im5vbmUiIHN0cm9rZS13aWR0aD0iMSIgc3Ryb2tlLWxpbmVjYXA9ImJ1dHQiIHN0cm9r\nZS1saW5lam9pbj0ibWl0ZXIiIHN0cm9rZT0icmdiKDAlLCAwJSwgMCUpIiBzdHJva2Utb3BhY2l0\neT0iMSIgc3Ryb2tlLW1pdGVybGltaXQ9IjEuMTU0NzAxIiBkPSJNIDgxLjUgMzM2IEwgNDQ1LjUg\nMzM2ICIvPgo8cGF0aCBmaWxsPSJub25lIiBzdHJva2Utd2lkdGg9IjEiIHN0cm9rZS1saW5lY2Fw\nPSJidXR0IiBzdHJva2UtbGluZWpvaW49Im1pdGVyIiBzdHJva2U9InJnYigwJSwgMCUsIDAlKSIg\nc3Ryb2tlLW9wYWNpdHk9IjEiIHN0cm9rZS1taXRlcmxpbWl0PSIxLjE1NDcwMSIgZD0iTSA4MiAz\nMzYuNSBMIDgyIDE1LjUgIi8+CjxwYXRoIGZpbGw9Im5vbmUiIHN0cm9rZS13aWR0aD0iMSIgc3Ry\nb2tlLWxpbmVjYXA9ImJ1dHQiIHN0cm9rZS1saW5lam9pbj0ibWl0ZXIiIHN0cm9rZT0icmdiKDAl\nLCAwJSwgMCUpIiBzdHJva2Utb3BhY2l0eT0iMSIgc3Ryb2tlLW1pdGVybGltaXQ9IjEuMTU0NzAx\nIiBkPSJNIDgxLjUgMTYgTCA0NDUuNSAxNiAiLz4KPHBhdGggZmlsbD0ibm9uZSIgc3Ryb2tlLXdp\nZHRoPSIxIiBzdHJva2UtbGluZWNhcD0iYnV0dCIgc3Ryb2tlLWxpbmVqb2luPSJtaXRlciIgc3Ry\nb2tlPSJyZ2IoMCUsIDAlLCAwJSkiIHN0cm9rZS1vcGFjaXR5PSIxIiBzdHJva2UtbWl0ZXJsaW1p\ndD0iMS4xNTQ3MDEiIGQ9Ik0gNDQ1IDMzNi41IEwgNDQ1IDE1LjUgIi8+CjxwYXRoIGZpbGw9Im5v\nbmUiIHN0cm9rZS13aWR0aD0iMSIgc3Ryb2tlLWxpbmVjYXA9ImJ1dHQiIHN0cm9rZS1saW5lam9p\nbj0ibWl0ZXIiIHN0cm9rZT0icmdiKDAlLCAwJSwgMCUpIiBzdHJva2Utb3BhY2l0eT0iMSIgc3Ry\nb2tlLW1pdGVybGltaXQ9IjEuMTU0NzAxIiBkPSJNIDUyMC41IDMzNiBMIDg4NC41IDMzNiAiLz4K\nPHBhdGggZmlsbD0ibm9uZSIgc3Ryb2tlLXdpZHRoPSIxIiBzdHJva2UtbGluZWNhcD0iYnV0dCIg\nc3Ryb2tlLWxpbmVqb2luPSJtaXRlciIgc3Ryb2tlPSJyZ2IoMCUsIDAlLCAwJSkiIHN0cm9rZS1v\ncGFjaXR5PSIxIiBzdHJva2UtbWl0ZXJsaW1pdD0iMS4xNTQ3MDEiIGQ9Ik0gNTIxIDMzNi41IEwg\nNTIxIDE1LjUgIi8+CjxwYXRoIGZpbGw9Im5vbmUiIHN0cm9rZS13aWR0aD0iMSIgc3Ryb2tlLWxp\nbmVjYXA9ImJ1dHQiIHN0cm9rZS1saW5lam9pbj0ibWl0ZXIiIHN0cm9rZT0icmdiKDAlLCAwJSwg\nMCUpIiBzdHJva2Utb3BhY2l0eT0iMSIgc3Ryb2tlLW1pdGVybGltaXQ9IjEuMTU0NzAxIiBkPSJN\nIDUyMC41IDE2IEwgODg0LjUgMTYgIi8+CjxwYXRoIGZpbGw9Im5vbmUiIHN0cm9rZS13aWR0aD0i\nMSIgc3Ryb2tlLWxpbmVjYXA9ImJ1dHQiIHN0cm9rZS1saW5lam9pbj0ibWl0ZXIiIHN0cm9rZT0i\ncmdiKDAlLCAwJSwgMCUpIiBzdHJva2Utb3BhY2l0eT0iMSIgc3Ryb2tlLW1pdGVybGltaXQ9IjEu\nMTU0NzAxIiBkPSJNIDg4NCAzMzYuNSBMIDg4NCAxNS41ICIvPgo8L3N2Zz4K\n"
          }
        }
      ],
      "source": [
        "m_me = real(sol_me.expect[3, :]) / Nx / Ny\n",
        "m_lr = real(sol_lr.expect[3, :]) / Nx / Ny\n",
        "\n",
        "fig = Figure(size = (900, 400), fontsize = 15)\n",
        "ax = Axis(fig[1, 1], xlabel = L\"\\gamma t\", ylabel = L\"M_{z}\", xlabelsize = 20, ylabelsize = 20)\n",
        "lines!(ax, tl, m_lr, label = L\"LR $[M=M(t)]$\", linewidth = 2)\n",
        "lines!(ax, tl, m_me, label = \"Fock\", linewidth = 2, linestyle = :dash)\n",
        "axislegend(ax, position = :rb)\n",
        "\n",
        "ax2 = Axis(fig[1, 2], xlabel = L\"\\gamma t\", ylabel = \"Value\", xlabelsize = 20, ylabelsize = 20)\n",
        "lines!(ax2, tl, 1 .- real(sol_lr.fexpect[1, :]), label = L\"$1-P$\", linewidth = 2)\n",
        "lines!(\n",
        "    ax2,\n",
        "    tl,\n",
        "    1 .- real(sol_lr.fexpect[3, :]),\n",
        "    label = L\"$1-\\mathrm{Tr}(\\rho)$\",\n",
        "    linewidth = 2,\n",
        "    linestyle = :dash,\n",
        "    color = :orange,\n",
        ")\n",
        "lines!(ax2, tl, real(sol_lr.fexpect[2, :]) / Nx / Ny, color = :blue, label = L\"S\", linewidth = 2)\n",
        "hlines!(ax2, [Strue], color = :blue, linestyle = :dash, linewidth = 2, label = L\"S^{\\,\\mathrm{true}}_{\\mathrm{ss}}\")\n",
        "axislegend(ax2, position = :rb)\n",
        "\n",
        "fig"
      ],
      "id": "24"
    },
    {
      "cell_type": "markdown",
      "metadata": {},
      "source": [
        "## Version Information"
      ],
      "id": "736e0688-c731-4a42-ab58-97ae092f6334"
    },
    {
      "cell_type": "code",
      "execution_count": 1,
      "metadata": {},
      "outputs": [
        {
          "output_type": "stream",
          "name": "stdout",
          "text": [
            "\n",
            " QuantumToolbox.jl: Quantum Toolbox in Julia\n",
            "≡≡≡≡≡≡≡≡≡≡≡≡≡≡≡≡≡≡≡≡≡≡≡≡≡≡≡≡≡≡≡≡≡≡≡≡≡≡≡≡≡≡≡≡≡\n",
            "Copyright © QuTiP team 2022 and later.\n",
            "Current admin team:\n",
            "    Alberto Mercurio and Yi-Te Huang\n",
            "\n",
            "Package information:\n",
            "====================================\n",
            "Julia              Ver. 1.11.6\n",
            "QuantumToolbox     Ver. 0.31.1\n",
            "SciMLOperators     Ver. 0.3.13\n",
            "LinearSolve        Ver. 3.19.2\n",
            "OrdinaryDiffEqCore Ver. 1.26.2\n",
            "\n",
            "System information:\n",
            "====================================\n",
            "OS       : Linux (x86_64-linux-gnu)\n",
            "CPU      : 4 × AMD EPYC 7763 64-Core Processor\n",
            "Memory   : 15.621 GB\n",
            "WORD_SIZE: 64\n",
            "LIBM     : libopenlibm\n",
            "LLVM     : libLLVM-16.0.6 (ORCJIT, znver3)\n",
            "BLAS     : libopenblas64_.so (ilp64)\n",
            "Threads  : 4 (on 4 virtual cores)\n"
          ]
        }
      ],
      "source": [
        "QuantumToolbox.versioninfo()"
      ],
      "id": "26"
    },
    {
      "cell_type": "markdown",
      "metadata": {},
      "source": [
        "Gravina, Luca, and Vincenzo Savona. 2024. “<span class=\"nocase\">Adaptive\n",
        "variational low-rank dynamics for open quantum systems</span>.” *Phys.\n",
        "Rev. Res.* 6 (April): 023072.\n",
        "<https://doi.org/10.1103/PhysRevResearch.6.023072>."
      ],
      "id": "832d0936-e466-49dc-8740-f87c0303b667"
    }
  ],
  "nbformat": 4,
  "nbformat_minor": 5,
  "metadata": {
    "kernel_info": {
      "name": "julia"
    },
    "kernelspec": {
      "name": "julia",
      "display_name": "Julia",
      "language": "julia"
    },
    "language_info": {
      "name": "julia",
      "codemirror_mode": "julia",
      "version": "1.11.6"
    }
  }
}