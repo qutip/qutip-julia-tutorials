{
  "cells": [
    {
      "cell_type": "markdown",
      "metadata": {},
      "source": [
        "# Tutorials for `HierarchicalEOM.jl`\n",
        "\n",
        "The following tutorials demonstrate and introduce specific functionality\n",
        "of `HierarchicalEOM.jl`.\n",
        "\n",
        "### Examples"
      ],
      "id": "16d4f6ce-c7d6-4cab-8b9c-83db701efe43"
    }
  ],
  "nbformat": 4,
  "nbformat_minor": 5,
  "metadata": {
    "kernelspec": {
      "display_name": "Python 3",
      "language": "python",
      "name": "python3"
    }
  }
}