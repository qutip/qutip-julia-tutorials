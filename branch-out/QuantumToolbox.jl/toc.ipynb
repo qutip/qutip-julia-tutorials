{
  "cells": [
    {
      "cell_type": "markdown",
      "metadata": {},
      "source": [
        "# Tutorials for `QuantumToolbox.jl`\n",
        "\n",
        "The following tutorials demonstrate and introduce specific functionality\n",
        "of `QuantumToolbox.jl`.\n",
        "\n",
        "### Time Evolution"
      ],
      "id": "42c4e6b1-5a3e-4814-8384-0405d682e732"
    }
  ],
  "nbformat": 4,
  "nbformat_minor": 5,
  "metadata": {
    "kernelspec": {
      "display_name": "Python 3",
      "language": "python",
      "name": "python3"
    }
  }
}