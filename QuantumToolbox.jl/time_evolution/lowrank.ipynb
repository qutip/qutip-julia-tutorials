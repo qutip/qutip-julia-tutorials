{
  "cells": [
    {
      "cell_type": "markdown",
      "metadata": {},
      "source": [
        "# Low rank master equation\n",
        "\n",
        "Luca Gravina  \n",
        "2025-08-26\n",
        "\n",
        "## Introduction\n",
        "\n",
        "In this tutorial we will demonstrate how to solve the master equation\n",
        "without the quadratic overhead associated with the full manipulation of\n",
        "the density matrix. For a detailed explanation of the method, we\n",
        "recommend to read the Ref. (Gravina and Savona 2024).\n",
        "\n",
        "The proposed approach is based on the realization that many quantum\n",
        "systems, particularly those with low entropy, can be effectively\n",
        "represented by a density matrix of significantly lower rank than what\n",
        "the whole Hilbert space would require. This reduction is achieved by\n",
        "focusing on a subset of states that capture the essential structure of\n",
        "the statistical ensemble characterizing the mixed quantum state, thereby\n",
        "reducing computational complexity while maintaining the exactness of the\n",
        "method.\n",
        "\n",
        "### Low-rank master equations\n",
        "\n",
        "We consider a decomposition of the density matrix of the form $$\n",
        "    \\hat\\rho(t) = \\sum_{i,j=1}^{M(t)} B_{i,j}(t) | \\varphi_i(t) \\rangle \\langle \\varphi_j(t) |.\n",
        "$$ The states $\\{|\\varphi_k(t)\\rangle\\,;\\,k=1,\\ldots,M(t)\\}$ spanning\n",
        "the low-rank manifold, can in turn be decomposed as $$\n",
        "    |\\varphi_k(t)\\rangle = \\sum_{\\alpha=1}^{N} z_{\\alpha,k}(t) |e_\\alpha\\rangle,\n",
        "$$ where $\\{|e_\\alpha\\rangle\\,;\\,\\alpha=1,\\ldots,N\\}$ is a fixed basis\n",
        "of the Hilbert space, and $z_{\\alpha,k}(t)$ are the time-dependent\n",
        "coefficients.\n",
        "\n",
        "The coefficients $B_{i,j}(t)$ are collected in the matrix $B(t)$, and\n",
        "the coefficients $z_{\\alpha,k}(t)$ are collected in the matrix $z(t)$.\n",
        "\n",
        "In (Gravina and Savona 2024) all coefficients $B_{i,j}(t)$ and\n",
        "$z_{\\alpha,k}(t)$ are taken to be variational parameters. The evolution\n",
        "equation for the density matrix is consequently mapped onto a set of\n",
        "differential equations for such parameters via the time-dependent\n",
        "variational principle (TDVP).\n",
        "\n",
        "The TDVP ensures a dynamical adjustment of the variational states,\n",
        "guaranteeing the optimal set of states is selected at all times to best\n",
        "approximate the dissipative evolution. This allows for a significant\n",
        "reduction in computational complexity as the number of states $M(t)$\n",
        "necessary to accurately capture the dynamics of the system is as small\n",
        "as can be, hopefully much smaller than the full Hilbert space dimension\n",
        "$N$.\n",
        "\n",
        "## Low-rank dynamics of the transverse field Heisenberg model\n",
        "\n",
        "In this example we consider the dynamics of the transverse field Ising\n",
        "model (TFIM) on a 2x3 lattice. We start by importing the packages"
      ],
      "id": "da35b788-d638-46a9-85d5-6494a4f2bdff"
    },
    {
      "cell_type": "code",
      "execution_count": 1,
      "metadata": {},
      "outputs": [],
      "source": [
        "using QuantumToolbox\n",
        "using LinearAlgebra\n",
        "using CairoMakie\n",
        "\n",
        "CairoMakie.activate!(type = \"svg\")"
      ],
      "id": "2"
    },
    {
      "cell_type": "markdown",
      "metadata": {},
      "source": [
        "We define the lattice with dimensions `Nx = 2` and `Ny = 3` and use the\n",
        "`Lattice` class to generate the lattice."
      ],
      "id": "0d0395ca-ca9a-4682-9178-207787bb1cac"
    },
    {
      "cell_type": "code",
      "execution_count": 1,
      "metadata": {},
      "outputs": [
        {
          "output_type": "display_data",
          "metadata": {},
          "data": {
            "text/plain": [
              "Lattice{Int64, LinearIndices{2, Tuple{Base.OneTo{Int64}, Base.OneTo{Int64}}}, CartesianIndices{2, Tuple{Base.OneTo{Int64}, Base.OneTo{Int64}}}}(2, 3, 6, [1 3 5; 2 4 6], CartesianIndices((2, 3)))"
            ]
          }
        }
      ],
      "source": [
        "Nx, Ny = 2, 3\n",
        "latt = Lattice(Nx = Nx, Ny = Ny)"
      ],
      "id": "4"
    },
    {
      "cell_type": "markdown",
      "metadata": {},
      "source": [
        "The Hamiltonian of the TFIM reads $$\n",
        "H = J_x \\sum_{\\langle i,j \\rangle} \\sigma_i^x \\sigma_j^x + J_y \\sum_{\\langle i,j \\rangle} \\sigma_i^y \\sigma_j^y + J_z \\sum_{\\langle i,j \\rangle} \\sigma_i^z \\sigma_j^z + h_x \\sum_i \\sigma_i^x,\n",
        "$$ where \\$ \\_i^{x,y,z} \\$ are the Pauli matrices acting on site \\$ i \\$\n",
        "and \\$ i,j \\$ denotes nearest neighbors. The collapse operators are\n",
        "given by $$\n",
        "c_i = \\sqrt{\\gamma} \\sigma_i^-,\n",
        "$$ where \\$ \\_i^- \\$ is the lowering operator acting on site \\$ i\\$. The\n",
        "many-body operators are constructed using"
      ],
      "id": "e5f8fa60-0494-4f86-b6af-164f9fac7d09"
    },
    {
      "cell_type": "code",
      "execution_count": 1,
      "metadata": {},
      "outputs": [],
      "source": [
        "Jx = 0.9\n",
        "Jy = 1.04\n",
        "Jz = 1.0\n",
        "hx = 0.0\n",
        "γ = 1\n",
        "\n",
        "Sx = mapreduce(i->multisite_operator(latt, i => sigmax()), +, 1:latt.N)\n",
        "Sy = mapreduce(i->multisite_operator(latt, i => sigmay()), +, 1:latt.N)\n",
        "Sz = mapreduce(i->multisite_operator(latt, i => sigmaz()), +, 1:latt.N)\n",
        "\n",
        "SFxx = sum([multisite_operator(latt, i => sigmax()) * multisite_operator(latt, j => sigmax()) for i in 1:latt.N for j in 1:latt.N])\n",
        "\n",
        "H, c_ops = DissipativeIsing(Jx, Jy, Jz, hx, 0., 0., γ, latt; boundary_condition=:periodic_bc, order=1)\n",
        "e_ops = (Sx, Sy, Sz, SFxx)\n",
        "\n",
        "tl = LinRange(0, 10, 100);"
      ],
      "id": "6"
    },
    {
      "cell_type": "markdown",
      "metadata": {},
      "source": [
        "### Constructing the low-rank basis\n",
        "\n",
        "We proceed by constructing the low-rank basis. `N_cut` is the dimension\n",
        "of the Hilbert space of each mode, and `N_modes` is the number of modes\n",
        "(or spins). We consider an initial low-rank basis with `M = Nx * Ny + 1`\n",
        "states.\n",
        "\n",
        "We first define the lr-space dimensions"
      ],
      "id": "4fc56f4e-a528-4621-b1ec-adbb3c0b0098"
    },
    {
      "cell_type": "code",
      "execution_count": 1,
      "metadata": {},
      "outputs": [],
      "source": [
        "N_cut = 2 # Number of states of each mode\n",
        "N_modes = latt.N  # Number of modes\n",
        "N = N_cut^N_modes # Total number of states\n",
        "\n",
        "M = latt.N + 1; # Number of states in the LR basis"
      ],
      "id": "8"
    },
    {
      "cell_type": "markdown",
      "metadata": {},
      "source": [
        "Since we will take as initial state for our dynamics the pure state with\n",
        "all spins pointing up, the initial low-rank basis must include at least\n",
        "this state."
      ],
      "id": "144e8853-6684-4d00-949a-634738a69771"
    },
    {
      "cell_type": "code",
      "execution_count": 1,
      "metadata": {},
      "outputs": [
        {
          "output_type": "display_data",
          "metadata": {},
          "data": {
            "text/plain": [
              "\n",
              "Quantum Object:   type=Ket()   dims=[2, 2, 2, 2, 2, 2]   size=(64,)\n",
              "64-element Vector{ComplexF64}:\n",
              " 0.0 + 0.0im\n",
              " 0.0 + 0.0im\n",
              " 0.0 + 0.0im\n",
              " 0.0 + 0.0im\n",
              " 0.0 + 0.0im\n",
              " 0.0 + 0.0im\n",
              " 0.0 + 0.0im\n",
              " 0.0 + 0.0im\n",
              " 0.0 + 0.0im\n",
              " 0.0 + 0.0im\n",
              "     ⋮\n",
              " 0.0 + 0.0im\n",
              " 0.0 + 0.0im\n",
              " 0.0 + 0.0im\n",
              " 0.0 + 0.0im\n",
              " 0.0 + 0.0im\n",
              " 0.0 + 0.0im\n",
              " 0.0 + 0.0im\n",
              " 0.0 + 0.0im\n",
              " 1.0 + 0.0im"
            ]
          }
        }
      ],
      "source": [
        "ϕ = Vector{QuantumObject{Ket,Dimensions{M - 1,NTuple{M - 1,Space}},Vector{ComplexF64}}}(undef, M)\n",
        "ϕ[1] = kron(fill(basis(2, 1), N_modes)...)"
      ],
      "id": "10"
    },
    {
      "cell_type": "markdown",
      "metadata": {},
      "source": [
        "The remaining `M-1` states are taken as those with minimal Hamming\n",
        "distance from the latter state, that is those we obtain by flipping the\n",
        "spin of a single site with respect to the completely polarized state."
      ],
      "id": "16942b3c-3a7e-45ce-aa92-106629ce423b"
    },
    {
      "cell_type": "code",
      "execution_count": 1,
      "metadata": {},
      "outputs": [],
      "source": [
        "i = 1\n",
        "for j in 1:N_modes\n",
        "    global i += 1\n",
        "    i <= M && (ϕ[i] = multisite_operator(latt, j=>sigmap()) * ϕ[1])\n",
        "end\n",
        "\n",
        "for k in 1:N_modes-1\n",
        "    for l in k+1:N_modes\n",
        "        global i += 1\n",
        "        i <= M && (ϕ[i] = multisite_operator(latt, k=>sigmap(), l=>sigmap()) * ϕ[1])\n",
        "    end\n",
        "end"
      ],
      "id": "12"
    },
    {
      "cell_type": "markdown",
      "metadata": {},
      "source": [
        "At this point the vector of states `ϕ` contains the full representation\n",
        "of our low-rank states. These coefficients comprise matrix `z`.\n",
        "\n",
        "The matrix `B`, on the other hand, contains the populations and\n",
        "coherences with which each of the low-rank states contributes to the\n",
        "density matrix. We initialize it so that only the first state is\n",
        "populated, and all other states are unpopulated.\n",
        "\n",
        "We also compute the full density matrix `ρ` from the low-rank\n",
        "representation. Of course this defeats the purpose of the low-rank\n",
        "representation. We use it here for illustrative purposes to show that\n",
        "the low-rank predictions match the exact dynamics."
      ],
      "id": "f4e15086-1576-4b25-962a-5083068e9b6c"
    },
    {
      "cell_type": "code",
      "execution_count": 1,
      "metadata": {},
      "outputs": [],
      "source": [
        "z = hcat(get_data.(ϕ)...)\n",
        "B = Matrix(Diagonal([1 + 0im; zeros(M - 1)]))\n",
        "S = z' * z # Overlap matrix\n",
        "B = B / tr(S * B) # Normalize B\n",
        "\n",
        "ρ = QuantumObject(z * B * z', dims = ntuple(i->N_cut, Val(N_modes))); # Full density matrix"
      ],
      "id": "14"
    },
    {
      "cell_type": "markdown",
      "metadata": {},
      "source": [
        "### Full evolution\n",
        "\n",
        "We now compare the results of the low-rank evolution with the full\n",
        "evolution. We first evolve the system using the `mesolve` function"
      ],
      "id": "f7358287-8149-437d-8f6d-23ab64d7a36e"
    },
    {
      "cell_type": "code",
      "execution_count": 1,
      "metadata": {},
      "outputs": [
        {
          "output_type": "stream",
          "name": "stdout",
          "text": [
            "Progress: [==============================] 100.0% --- Elapsed Time: 0h 00m 00s (ETA: 0h 00m 00s)"
          ]
        }
      ],
      "source": [
        "sol_me = mesolve(H, ρ, tl, c_ops; e_ops = [e_ops...])\n",
        "Strue = entropy_vn(sol_me.states[end], base=2) / latt.N;"
      ],
      "id": "16"
    },
    {
      "cell_type": "markdown",
      "metadata": {},
      "source": [
        "### Low Rank evolution\n",
        "\n",
        "The `lr_mesolve` function allows to conveniently keep track of\n",
        "non-linear functionals of the density matrix during the evolution\n",
        "without ever computing the full density matrix and without the need to\n",
        "store `z` and `B` at each time step. To do so we define the functionals\n",
        "of the density matrix that we want to keep track of and that will be\n",
        "evaluated at each time step.\n",
        "\n",
        "We compute the purity $$\n",
        "P = \\mathrm{Tr}(\\rho^2),\n",
        "$$ the von Neumann entropy $$\n",
        "S = -\\mathrm{Tr}(\\rho \\log_2(\\rho)),\n",
        "$$ and the trace $$\n",
        "\\mathrm{Tr}(\\rho).\n",
        "$$\n",
        "\n",
        "To maximize efficiency and minimize memory allocations we make use of\n",
        "preallocated variables stores in the `parameters` constructor of the\n",
        "solver."
      ],
      "id": "b9e8331a-baff-4d0d-aa64-cd40fa6f51de"
    },
    {
      "cell_type": "code",
      "execution_count": 1,
      "metadata": {},
      "outputs": [],
      "source": [
        "function f_purity(p, z, B)\n",
        "    N = p.N\n",
        "    M = p.M\n",
        "    S = p.S\n",
        "    T = p.temp_MM\n",
        "\n",
        "    mul!(T, S, B)\n",
        "    return tr(T^2)\n",
        "end\n",
        "\n",
        "function f_trace(p, z, B)\n",
        "    N = p.N\n",
        "    M = p.M\n",
        "    S = p.S\n",
        "    T = p.temp_MM\n",
        "\n",
        "    mul!(T, S, B)\n",
        "    return tr(T)\n",
        "end\n",
        "\n",
        "function f_entropy(p, z, B)\n",
        "    C = p.A0\n",
        "    σ = p.Bi\n",
        "\n",
        "    mul!(C, z, sqrt(B))\n",
        "    mul!(σ, C', C)\n",
        "    return entropy_vn(Qobj(Hermitian(σ), type=Operator()), base=2)\n",
        "end;"
      ],
      "id": "18"
    },
    {
      "cell_type": "markdown",
      "metadata": {},
      "source": [
        "A critical aspect of the LR truncation is the possibility to dynamically\n",
        "adjust the dimension of the basis throughout the system’s evolution\n",
        "$M=M(t)$. This adaptability is essential for accommodating changes in\n",
        "the system’s entropy over time.\n",
        "\n",
        "To adapt the dimension of the low-rank basis, we look at a control\n",
        "parameter $\\chi$ that is positively correlated with the entropy of the\n",
        "system and provides a measure of the quality of the low-rank\n",
        "approximation. When $\\chi$ exceeds a certain threshold, the dimension of\n",
        "the low-rank basis is increased by one.\n",
        "\n",
        "The options below specify how the dimension of the low-rank basis is\n",
        "adjusted during the evolution."
      ],
      "id": "0a4097dc-0333-429f-b319-1d2ea73e5336"
    },
    {
      "cell_type": "code",
      "execution_count": 1,
      "metadata": {},
      "outputs": [],
      "source": [
        "opt = (err_max = 1e-3, p0 = 0.0, atol_inv = 1e-6, adj_condition = \"variational\", Δt = 0.0);"
      ],
      "id": "20"
    },
    {
      "cell_type": "markdown",
      "metadata": {},
      "source": [
        "`err_max` is the maximum error allowed in the time evolution of the\n",
        "density matrix.\n",
        "\n",
        "`p0` is the initial population with which the new state is added to the\n",
        "basis after crossing the threshold.\n",
        "\n",
        "`adj_condition = \"variational\"` selects one of three possible\n",
        "definitions for the control quantity `chi`. Specifically, the selected\n",
        "option consists in the leakage from the variational manifold and is\n",
        "defined as $$\n",
        "\\chi = \\operatorname{Tr}(S^{-1} L).\n",
        "$$\n",
        "\n",
        "Finally, `Δt` specifies the checkpointing interval by which the\n",
        "simulation is rewinded upon the basis expansion.\n",
        "\n",
        "Not directly related to the basis expansion, but still important for the\n",
        "stability of the algorithm, are the options `atol_inv` (the tolerance\n",
        "for the inverse of the overlap matrix) and `alg` (the ODE solver).\n",
        "\n",
        "We now launch the evolution using the `lr_mesolve` function"
      ],
      "id": "8d318ef0-868f-4a74-9b81-179f58192469"
    },
    {
      "cell_type": "code",
      "execution_count": 1,
      "metadata": {},
      "outputs": [
        {
          "output_type": "stream",
          "name": "stdout",
          "text": [
            "Progress: 2%Progress: 3%Progress: 4%Progress: 5%Progress: 6%Progress: 7%Progress: 8%Progress: 9%Progress: 10%Progress: 11%Progress: 12%Progress: 13%Progress: 14%Progress: 15%Progress: 16%Progress: 17%Progress: 18%Progress: 19%Progress: 20%Progress: 21%Progress: 22%Progress: 23%Progress: 24%Progress: 25%Progress: 26%Progress: 27%Progress: 28%Progress: 29%Progress: 30%Progress: 31%Progress: 32%Progress: 33%Progress: 34%Progress: 35%Progress: 36%Progress: 37%Progress: 38%Progress: 39%Progress: 40%Progress: 41%Progress: 42%Progress: 43%Progress: 44%Progress: 45%Progress: 46%Progress: 47%Progress: 48%Progress: 49%Progress: 50%Progress: 51%Progress: 52%Progress: 53%Progress: 54%Progress: 55%Progress: 56%Progress: 57%Progress: 58%Progress: 59%Progress: 60%Progress: 61%Progress: 62%Progress: 63%Progress: 64%Progress: 65%Progress: 66%Progress: 67%Progress: 68%Progress: 69%Progress: 70%Progress: 71%Progress: 72%Progress: 73%Progress: 74%Progress: 75%Progress: 76%Progress: 77%Progress: 78%Progress: 79%Progress: 80%Progress: 81%Progress: 82%Progress: 83%Progress: 84%Progress: 85%Progress: 86%Progress: 87%Progress: 88%Progress: 89%Progress: 90%Progress: 91%Progress: 92%Progress: 93%Progress: 94%Progress: 95%Progress: 96%Progress: 97%Progress: 98%Progress: 99%Progress: 100%"
          ]
        }
      ],
      "source": [
        "sol_lr = lr_mesolve(H, z, B, tl, c_ops; e_ops = e_ops, f_ops = (f_purity, f_entropy, f_trace), opt = opt);"
      ],
      "id": "22"
    },
    {
      "cell_type": "markdown",
      "metadata": {},
      "source": [
        "We can now compare the results of the low-rank evolution with the full\n",
        "evolution."
      ],
      "id": "47e6cfa5-1409-4805-8d3d-cca863e53775"
    },
    {
      "cell_type": "code",
      "execution_count": 1,
      "metadata": {},
      "outputs": [
        {
          "output_type": "display_data",
          "metadata": {},
          "data": {
            "image/svg+xml": "PD94bWwgdmVyc2lvbj0iMS4wIiBlbmNvZGluZz0iVVRGLTgiPz4KPHN2ZyB4bWxucz0iaHR0cDov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\nNCAxNS41ICIvPgo8L3N2Zz4K\n"
          }
        }
      ],
      "source": [
        "m_me = real(sol_me.expect[3, :]) / Nx / Ny\n",
        "m_lr = real(sol_lr.expect[3, :]) / Nx / Ny\n",
        "\n",
        "fig = Figure(size = (900, 400), fontsize = 15)\n",
        "ax = Axis(fig[1, 1], xlabel = L\"\\gamma t\", ylabel = L\"M_{z}\", xlabelsize = 20, ylabelsize = 20)\n",
        "lines!(ax, tl, m_lr, label = L\"LR $[M=M(t)]$\", linewidth = 2)\n",
        "lines!(ax, tl, m_me, label = \"Fock\", linewidth = 2, linestyle = :dash)\n",
        "axislegend(ax, position = :rb)\n",
        "\n",
        "ax2 = Axis(fig[1, 2], xlabel = L\"\\gamma t\", ylabel = \"Value\", xlabelsize = 20, ylabelsize = 20)\n",
        "lines!(ax2, tl, 1 .- real(sol_lr.fexpect[1, :]), label = L\"$1-P$\", linewidth = 2)\n",
        "lines!(\n",
        "    ax2,\n",
        "    tl,\n",
        "    1 .- real(sol_lr.fexpect[3, :]),\n",
        "    label = L\"$1-\\mathrm{Tr}(\\rho)$\",\n",
        "    linewidth = 2,\n",
        "    linestyle = :dash,\n",
        "    color = :orange,\n",
        ")\n",
        "lines!(ax2, tl, real(sol_lr.fexpect[2, :]) / Nx / Ny, color = :blue, label = L\"S\", linewidth = 2)\n",
        "hlines!(ax2, [Strue], color = :blue, linestyle = :dash, linewidth = 2, label = L\"S^{\\,\\mathrm{true}}_{\\mathrm{ss}}\")\n",
        "axislegend(ax2, position = :rb)\n",
        "\n",
        "fig"
      ],
      "id": "24"
    },
    {
      "cell_type": "markdown",
      "metadata": {},
      "source": [
        "## Version Information"
      ],
      "id": "ac0a350e-158d-40a2-b4a6-201d743ccf66"
    },
    {
      "cell_type": "code",
      "execution_count": 1,
      "metadata": {},
      "outputs": [
        {
          "output_type": "stream",
          "name": "stdout",
          "text": [
            "\n",
            " QuantumToolbox.jl: Quantum Toolbox in Julia\n",
            "≡≡≡≡≡≡≡≡≡≡≡≡≡≡≡≡≡≡≡≡≡≡≡≡≡≡≡≡≡≡≡≡≡≡≡≡≡≡≡≡≡≡≡≡≡\n",
            "Copyright © QuTiP team 2022 and later.\n",
            "Current admin team:\n",
            "    Alberto Mercurio and Yi-Te Huang\n",
            "\n",
            "Package information:\n",
            "====================================\n",
            "Julia              Ver. 1.11.6\n",
            "QuantumToolbox     Ver. 0.34.1\n",
            "SciMLOperators     Ver. 1.7.1\n",
            "LinearSolve        Ver. 3.28.0\n",
            "OrdinaryDiffEqCore Ver. 1.33.0\n",
            "\n",
            "System information:\n",
            "====================================\n",
            "OS       : Linux (x86_64-linux-gnu)\n",
            "CPU      : 4 × AMD EPYC 7763 64-Core Processor\n",
            "Memory   : 15.621 GB\n",
            "WORD_SIZE: 64\n",
            "LIBM     : libopenlibm\n",
            "LLVM     : libLLVM-16.0.6 (ORCJIT, znver3)\n",
            "BLAS     : libopenblas64_.so (ilp64)\n",
            "Threads  : 4 (on 4 virtual cores)\n"
          ]
        }
      ],
      "source": [
        "QuantumToolbox.versioninfo()"
      ],
      "id": "26"
    },
    {
      "cell_type": "markdown",
      "metadata": {},
      "source": [
        "Gravina, Luca, and Vincenzo Savona. 2024. “<span class=\"nocase\">Adaptive\n",
        "variational low-rank dynamics for open quantum systems</span>.” *Phys.\n",
        "Rev. Res.* 6 (April): 023072.\n",
        "<https://doi.org/10.1103/PhysRevResearch.6.023072>."
      ],
      "id": "0a0d0537-ee1c-4f75-938a-df9d89cff3a5"
    }
  ],
  "nbformat": 4,
  "nbformat_minor": 5,
  "metadata": {
    "kernel_info": {
      "name": "julia"
    },
    "kernelspec": {
      "name": "julia",
      "display_name": "Julia",
      "language": "julia"
    },
    "language_info": {
      "name": "julia",
      "codemirror_mode": "julia",
      "version": "1.11.6"
    }
  }
}