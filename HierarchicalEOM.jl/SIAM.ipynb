{
  "cells": [
    {
      "cell_type": "markdown",
      "metadata": {},
      "source": [
        "# Single-impurity Anderson model\n",
        "\n",
        "Yi-Te Huang  \n",
        "2025-09-08\n",
        "\n",
        "## Introduction\n",
        "\n",
        "The investigation of the Kondo effect in single-impurity Anderson model\n",
        "is crucial as it serves both as a valuable testing ground for the\n",
        "theories of the Kondo effect and has the potential to lead to a better\n",
        "understanding of this intrinsic many-body phenomena. For further\n",
        "detailed discussions of this model (under different parameters) using\n",
        "[`HierarchicalEOM.jl`](https://github.com/qutip/HierarchicalEOM.jl), we\n",
        "recommend to read the article (Huang et al. 2023).\n",
        "\n",
        "## Hamiltonian\n",
        "\n",
        "We consider a single-level electronic system \\[which can be populated by\n",
        "a spin-up ($\\uparrow$) or spin-down ($\\downarrow$) electron\\] coupled to\n",
        "a fermionic reservoir ($\\textrm{f}$). The total Hamiltonian is given by\n",
        "$H_{\\textrm{T}}=H_\\textrm{s}+H_\\textrm{f}+H_\\textrm{sf}$, where each\n",
        "terms takes the form\n",
        "\n",
        "$$\n",
        "\\begin{aligned}\n",
        "H_{\\textrm{s}}  &= \\epsilon \\left(d^\\dagger_\\uparrow d_\\uparrow + d^\\dagger_\\downarrow d_\\downarrow \\right) + U\\left(d^\\dagger_\\uparrow d_\\uparrow d^\\dagger_\\downarrow d_\\downarrow\\right),\\\\\n",
        "H_{\\textrm{f}}  &=\\sum_{\\sigma=\\uparrow,\\downarrow}\\sum_{k}\\epsilon_{\\sigma,k}c_{\\sigma,k}^{\\dagger}c_{\\sigma,k},\\\\\n",
        "H_{\\textrm{sf}} &=\\sum_{\\sigma=\\uparrow,\\downarrow}\\sum_{k}g_{k}c_{\\sigma,k}^{\\dagger}d_{\\sigma} + g_{k}^*d_{\\sigma}^{\\dagger}c_{\\sigma,k}.\n",
        "\\end{aligned}\n",
        "$$\n",
        "\n",
        "Here, $d_\\uparrow$ $(d_\\downarrow)$ annihilates a spin-up (spin-down)\n",
        "electron in the system, $\\epsilon$ is the energy of the electron, and\n",
        "$U$ is the Coulomb repulsion energy for double occupation. Furthermore,\n",
        "$c_{\\sigma,k}$ $(c_{\\sigma,k}^{\\dagger})$ annihilates (creates) an\n",
        "electron in the state $k$ (with energy $\\epsilon_{\\sigma,k}$) of the\n",
        "reservoir.\n",
        "\n",
        "Now, we need to build the system Hamiltonian and initial state with the\n",
        "package\n",
        "[`QuantumToolbox.jl`](https://github.com/qutip/QuantumToolbox.jl) to\n",
        "construct the operators."
      ],
      "id": "052315a8-6453-494a-934a-6be951ca523f"
    },
    {
      "cell_type": "code",
      "execution_count": 1,
      "metadata": {},
      "outputs": [],
      "source": [
        "using HierarchicalEOM  # this automatically loads `QuantumToolbox`\n",
        "using CairoMakie       # for plotting results\n",
        "\n",
        "CairoMakie.activate!(type = \"svg\")"
      ],
      "id": "2"
    },
    {
      "cell_type": "code",
      "execution_count": 1,
      "metadata": {},
      "outputs": [
        {
          "output_type": "display_data",
          "metadata": {},
          "data": {
            "text/plain": [
              "\n",
              "Quantum Object:   type=Operator()   dims=[2, 2]   size=(4, 4)   ishermitian=true\n",
              "4×4 SparseArrays.SparseMatrixCSC{ComplexF64, Int64} with 2 stored entries:\n",
              "     ⋅           ⋅           ⋅          ⋅    \n",
              "     ⋅      -5.0+0.0im       ⋅          ⋅    \n",
              "     ⋅           ⋅      -5.0+0.0im      ⋅    \n",
              "     ⋅           ⋅           ⋅          ⋅    "
            ]
          }
        }
      ],
      "source": [
        "ϵ = -5\n",
        "U = 10\n",
        "σm = sigmam() # σ-\n",
        "σz = sigmaz() # σz\n",
        "II = qeye(2)  # identity matrix\n",
        "\n",
        "# construct the annihilation operator for both spin-up and spin-down\n",
        "# (utilize Jordan–Wigner transformation)\n",
        "d_up = tensor(σm, II)\n",
        "d_dn = tensor(-1 * σz, σm)\n",
        "Hsys = ϵ * (d_up' * d_up + d_dn' * d_dn) + U * (d_up' * d_up * d_dn' * d_dn)"
      ],
      "id": "4"
    },
    {
      "cell_type": "markdown",
      "metadata": {},
      "source": [
        "## Construct bath objects\n",
        "\n",
        "We assume the fermionic reservoir to have a [Lorentzian-shaped spectral\n",
        "density](https://qutip.org/HierarchicalEOM.jl/stable/bath_fermion/Fermion_Lorentz/#doc-Fermion-Lorentz),\n",
        "and we utilize the Padé decomposition. Furthermore, the spectral\n",
        "densities depend on the following physical parameters:\n",
        "\n",
        "-   the coupling strength $\\Gamma$ between system and reservoirs\n",
        "-   the band-width $W$\n",
        "-   the product of the Boltzmann constant $k$ and the absolute\n",
        "    temperature $T$ : $kT$\n",
        "-   the chemical potential $\\mu$\n",
        "-   the total number of exponentials for the reservoir $2(N + 1)$"
      ],
      "id": "7d92baf2-62eb-42ed-b21e-09f371f52526"
    },
    {
      "cell_type": "code",
      "execution_count": 1,
      "metadata": {},
      "outputs": [
        {
          "output_type": "display_data",
          "metadata": {},
          "data": {
            "text/plain": [
              "2-element Vector{FermionBath}:\n",
              " HierarchicalEOM.FermionBath object with 12 terms.\n",
              "\n",
              " HierarchicalEOM.FermionBath object with 12 terms."
            ]
          }
        }
      ],
      "source": [
        "Γ = 2\n",
        "μ = 0\n",
        "W = 10\n",
        "kT = 0.5\n",
        "N = 5\n",
        "bath_up = Fermion_Lorentz_Pade(d_up, Γ, μ, W, kT, N)\n",
        "bath_dn = Fermion_Lorentz_Pade(d_dn, Γ, μ, W, kT, N)\n",
        "bath_list = [bath_up, bath_dn]"
      ],
      "id": "6"
    },
    {
      "cell_type": "markdown",
      "metadata": {},
      "source": [
        "## Construct HEOMLS matrix"
      ],
      "id": "5f5a95b3-3600-433a-a630-2a0294e12f09"
    },
    {
      "cell_type": "code",
      "execution_count": 1,
      "metadata": {},
      "outputs": [
        {
          "output_type": "stream",
          "name": "stdout",
          "text": [
            "Preparing block matrices for HEOM Liouvillian superoperator (using 4 threads)...\n",
            "Progress: [                              ]   0.0% --- Elapsed Time: 0h 00m 01s (ETA: 0h 38m 44s)Progress: [==============================] 100.0% --- Elapsed Time: 0h 00m 01s (ETA: 0h 00m 00s)\n",
            "Constructing matrix...[DONE]\n",
            "Preparing block matrices for HEOM Liouvillian superoperator (using 4 threads)...\n",
            "Progress: [==============================] 100.0% --- Elapsed Time: 0h 00m 00s (ETA: 0h 00m 00s)\n",
            "Constructing matrix...[DONE]"
          ]
        },
        {
          "output_type": "display_data",
          "metadata": {},
          "data": {
            "text/plain": [
              "Fermion type HEOMLS matrix acting on odd-parity ADOs\n",
              "system dims = [2, 2]\n",
              "number of ADOs N = 2325\n",
              "data =\n",
              "MatrixOperator(37200 × 37200)"
            ]
          }
        }
      ],
      "source": [
        "tier = 3\n",
        "M_even = M_Fermion(Hsys, tier, bath_list)\n",
        "M_odd = M_Fermion(Hsys, tier, bath_list, ODD)"
      ],
      "id": "8"
    },
    {
      "cell_type": "markdown",
      "metadata": {},
      "source": [
        "## Solve stationary state of ADOs"
      ],
      "id": "d0ab3e3e-dba9-4dd6-beb3-0fc426e34890"
    },
    {
      "cell_type": "code",
      "execution_count": 1,
      "metadata": {},
      "outputs": [
        {
          "output_type": "stream",
          "name": "stdout",
          "text": [
            "Solving steady state for ADOs by linear-solve method...\n",
            "Calculating left preconditioner with ilu...[DONE]\n",
            "Solving linear problem...[DONE]"
          ]
        },
        {
          "output_type": "display_data",
          "metadata": {},
          "data": {
            "text/plain": [
              "2325 Auxiliary Density Operators with even-parity and (system) dims = [2, 2]"
            ]
          }
        }
      ],
      "source": [
        "ados_s = steadystate(M_even)"
      ],
      "id": "10"
    },
    {
      "cell_type": "markdown",
      "metadata": {},
      "source": [
        "## Calculate density of states (DOS)"
      ],
      "id": "27a24369-cd21-4e47-a650-030a80362b8e"
    },
    {
      "cell_type": "code",
      "execution_count": 1,
      "metadata": {},
      "outputs": [
        {
          "output_type": "stream",
          "name": "stdout",
          "text": [
            "Calculating density of states in frequency domain...\n",
            "Progress: [====                          ]  14.3% --- Elapsed Time: 0h 00m 01s (ETA: 0h 00m 06s)Progress: [=======                       ]  23.8% --- Elapsed Time: 0h 00m 02s (ETA: 0h 00m 06s)Progress: [==========                    ]  33.3% --- Elapsed Time: 0h 00m 03s (ETA: 0h 00m 06s)Progress: [============                  ]  42.9% --- Elapsed Time: 0h 00m 05s (ETA: 0h 00m 06s)Progress: [===============               ]  52.4% --- Elapsed Time: 0h 00m 06s (ETA: 0h 00m 05s)Progress: [==================            ]  61.9% --- Elapsed Time: 0h 00m 08s (ETA: 0h 00m 04s)Progress: [=====================         ]  71.4% --- Elapsed Time: 0h 00m 09s (ETA: 0h 00m 03s)Progress: [========================      ]  81.0% --- Elapsed Time: 0h 00m 10s (ETA: 0h 00m 02s)Progress: [============================  ]  95.2% --- Elapsed Time: 0h 00m 12s (ETA: 0h 00m 00s)Progress: [==============================] 100.0% --- Elapsed Time: 0h 00m 12s (ETA: 0h 00m 00s)\n",
            "[DONE]"
          ]
        },
        {
          "output_type": "display_data",
          "metadata": {},
          "data": {
            "text/plain": [
              "21-element Vector{Float64}:\n",
              " 0.024341620652868896\n",
              " 0.04465552042382183\n",
              " 0.09077144051563171\n",
              " 0.19298880556746045\n",
              " 0.2935153689446986\n",
              " 0.23367107985908286\n",
              " 0.15864674406914223\n",
              " 0.12379877950510308\n",
              " 0.11772111509216472\n",
              " 0.14524303704728267\n",
              " ⋮\n",
              " 0.11772111509217123\n",
              " 0.1237987795051095\n",
              " 0.15864674406915033\n",
              " 0.23367107985909363\n",
              " 0.29351536894471303\n",
              " 0.19298880556746967\n",
              " 0.09077144051563617\n",
              " 0.044655520423830634\n",
              " 0.024341620652870252"
            ]
          }
        }
      ],
      "source": [
        "ωlist = -10:1:10\n",
        "dos = DensityOfStates(M_odd, ados_s, d_up, ωlist)"
      ],
      "id": "12"
    },
    {
      "cell_type": "markdown",
      "metadata": {},
      "source": [
        "plot the results"
      ],
      "id": "7da6d665-55f6-4758-9155-b248d46d7109"
    },
    {
      "cell_type": "code",
      "execution_count": 1,
      "metadata": {},
      "outputs": [
        {
          "output_type": "display_data",
          "metadata": {},
          "data": {
            "image/svg+xml": "PD94bWwgdmVyc2lvbj0iMS4wIiBlbmNvZGluZz0iVVRGLTgiPz4KPHN2ZyB4bWxucz0iaHR0cDov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\nMDAgMzI4LjUgTCA4MDAgMTUuNSAiLz4KPC9zdmc+Cg==\n"
          }
        }
      ],
      "source": [
        "fig = Figure()\n",
        "ax = Axis(fig[1, 1], xlabel = L\"\\omega\")\n",
        "lines!(ax, ωlist, dos)\n",
        "\n",
        "fig"
      ],
      "id": "14"
    },
    {
      "cell_type": "markdown",
      "metadata": {},
      "source": [
        "## Version Information"
      ],
      "id": "231dca86-fd45-4ed1-b88e-5dbcfb74dc9c"
    },
    {
      "cell_type": "code",
      "execution_count": 1,
      "metadata": {},
      "outputs": [],
      "source": [
        "HierarchicalEOM.versioninfo()"
      ],
      "id": "16"
    },
    {
      "cell_type": "markdown",
      "metadata": {},
      "source": [
        "Huang, Yi-Te, Po-Chen Kuo, Neill Lambert, Mauro Cirio, Simon Cross,\n",
        "Shen-Liang Yang, Franco Nori, and Yueh-Nan Chen. 2023. “An Efficient\n",
        "Julia Framework for Hierarchical Equations of Motion in Open Quantum\n",
        "Systems.” *Communications Physics* 6 (1): 313.\n",
        "<https://doi.org/10.1038/s42005-023-01427-2>."
      ],
      "id": "0d69756e-a870-44e9-8607-dcf13ed0f577"
    }
  ],
  "nbformat": 4,
  "nbformat_minor": 5,
  "metadata": {
    "kernel_info": {
      "name": "julia"
    },
    "kernelspec": {
      "name": "julia",
      "display_name": "Julia",
      "language": "julia"
    },
    "language_info": {
      "name": "julia",
      "codemirror_mode": "julia",
      "version": "1.11.7"
    }
  }
}