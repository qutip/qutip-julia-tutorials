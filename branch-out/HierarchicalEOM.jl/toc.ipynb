{
  "cells": [
    {
      "cell_type": "markdown",
      "metadata": {},
      "source": [
        "# Tutorials for `HierarchicalEOM.jl`\n",
        "\n",
        "The following tutorials demonstrate and introduce specific functionality\n",
        "of `HierarchicalEOM.jl`.\n",
        "\n",
        "### Examples"
      ],
      "id": "3572b228-fc29-4705-843f-35e739eb9279"
    }
  ],
  "nbformat": 4,
  "nbformat_minor": 5,
  "metadata": {
    "kernelspec": {
      "display_name": "Python 3",
      "language": "python",
      "name": "python3"
    }
  }
}